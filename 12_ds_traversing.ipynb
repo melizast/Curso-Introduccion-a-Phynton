{
 "cells": [
  {
   "cell_type": "markdown",
   "metadata": {},
   "source": [
    "# Recorriendo las estructuras de datos.\n",
    "\n",
    "**Objetivo.**\n",
    "Describir las cuatro estructuras de datos básicas que existen en Python.\n",
    "\n",
    " <p xmlns:cc=\"http://creativecommons.org/ns#\" xmlns:dct=\"http://purl.org/dc/terms/\"><a property=\"dct:title\" rel=\"cc:attributionURL\" href=\"https://github.com/repomacti/macti/tree/main/notebooks/Algebra_Lineal_01\">MACTI-Algebra_Lineal_01</a> by <a rel=\"cc:attributionURL dct:creator\" property=\"cc:attributionName\" href=\"https://www.macti.unam.mx\">Luis M. de la Cruz</a> is licensed under <a href=\"http://creativecommons.org/licenses/by-sa/4.0/?ref=chooser-v1\" target=\"_blank\" rel=\"license noopener noreferrer\" style=\"display:inline-block;\">Attribution-ShareAlike 4.0 International<img style=\"height:22px!important;margin-left:3px;vertical-align:text-bottom;\" src=\"https://mirrors.creativecommons.org/presskit/icons/cc.svg?ref=chooser-v1\"><img style=\"height:22px!important;margin-left:3px;vertical-align:text-bottom;\" src=\"https://mirrors.creativecommons.org/presskit/icons/by.svg?ref=chooser-v1\"><img style=\"height:22px!important;margin-left:3px;vertical-align:text-bottom;\" src=\"https://mirrors.creativecommons.org/presskit/icons/sa.svg?ref=chooser-v1\"></a></p> "
   ]
  },
  {
   "cell_type": "markdown",
   "metadata": {},
   "source": [
    "# Iterables\n",
    "\n",
    "- En Python existen objetos que contienen secuencias de otros objetos.\n",
    "- Estas secuencias pueden ser cadenas, listas, tuplas, diccionarios, conjuntos, archivos, entre otros.\n",
    "- Estos objetos se pueden recorrer usando ciclos <font color=#009500>**for ... in ...**</font> . <br>\n",
    "- A estos objetos se les conoce también como **iterables** (objetos iterables, secuencias iterables, contenedores iterables, conjunto iterable)."
   ]
  },
  {
   "cell_type": "markdown",
   "metadata": {},
   "source": [
    "<div class=\"alert alert-info\">\n",
    "\n",
    "## **Ejemplo 1.**\n",
    "\n",
    "<font color=\"Black\">\n",
    "    \n",
    "* Crear una cadena, una lista, una tupla, un diccionario, un conjunto y leer un archivo.\n",
    "* Posteriormente recorrer cada uno de estos iterables usando un ciclo `for`:\n",
    "\n",
    "</font>\n",
    "\n",
    "</div>"
   ]
  },
  {
   "cell_type": "code",
   "execution_count": 29,
   "metadata": {},
   "outputs": [],
   "source": [
    "# Creamos los iterables\n",
    "mi_cadena = \"str: pythonico\"\n",
    "mi_lista = ['list:', 'p','y','t','h','o','n','i','c','o']\n",
    "mi_tupla = ('tuple:', 'p','y','t','h','o','n','i','c','o')\n",
    "mi_dict = {'p':1,'y':2,'t':3,'h':4,'o':5,'n':6,'i':7,'c':8,'o':9}\n",
    "mi_conj = {'p','y','t','h','o','n','i','c','o'}\n",
    "mi_archivo = open(\"mi_archivo.txt\")"
   ]
  },
  {
   "cell_type": "code",
   "execution_count": 30,
   "metadata": {},
   "outputs": [
    {
     "name": "stdout",
     "output_type": "stream",
     "text": [
      "s t r :   p y t h o n i c o "
     ]
    }
   ],
   "source": [
    "# Recorremos la cadena e imprimimos cada elemento \n",
    "for char in mi_cadena:\n",
    "    print(char, end=' ')"
   ]
  },
  {
   "cell_type": "code",
   "execution_count": 31,
   "metadata": {},
   "outputs": [
    {
     "name": "stdout",
     "output_type": "stream",
     "text": [
      "list: p y t h o n i c o "
     ]
    }
   ],
   "source": [
    "# Recorremos la lista e imprimimos cada elemento \n",
    "for element in mi_lista:\n",
    "    print(element, end=' ')"
   ]
  },
  {
   "cell_type": "code",
   "execution_count": 32,
   "metadata": {},
   "outputs": [
    {
     "name": "stdout",
     "output_type": "stream",
     "text": [
      "tuple: p y t h o n i c o "
     ]
    }
   ],
   "source": [
    "# Recorremos la tupla e imprimimos cada elemento \n",
    "for element in mi_tupla:\n",
    "    print(element, end=' ')"
   ]
  },
  {
   "cell_type": "code",
   "execution_count": 33,
   "metadata": {},
   "outputs": [
    {
     "name": "stdout",
     "output_type": "stream",
     "text": [
      "\n",
      "Diccionario (claves): p y t h o n i c "
     ]
    }
   ],
   "source": [
    "print(\"\\nDiccionario (claves): \", end='') \n",
    "# Recorremos el diccionario e imprimimos cada clave \n",
    "for key in mi_dict.keys():\n",
    "    print(key, end=' ')"
   ]
  },
  {
   "cell_type": "code",
   "execution_count": 34,
   "metadata": {},
   "outputs": [
    {
     "name": "stdout",
     "output_type": "stream",
     "text": [
      "\n",
      "Diccionario (valores): 1 2 3 4 9 6 7 8 "
     ]
    }
   ],
   "source": [
    "print(\"\\nDiccionario (valores): \", end='') \n",
    "# Recorremos el diccionario e imprimimos cada valor \n",
    "for key in mi_dict.values():\n",
    "    print(key, end=' ')"
   ]
  },
  {
   "cell_type": "code",
   "execution_count": 35,
   "metadata": {},
   "outputs": [
    {
     "name": "stdout",
     "output_type": "stream",
     "text": [
      "\n",
      "Conjunto: p n y c i o h t "
     ]
    }
   ],
   "source": [
    "print(\"\\nConjunto: \", end='') \n",
    "# Recorremos el conjunt e imprimimos cada elemento \n",
    "for s in mi_conj:\n",
    "    print(s, end = ' ')"
   ]
  },
  {
   "cell_type": "code",
   "execution_count": 36,
   "metadata": {},
   "outputs": [
    {
     "name": "stdout",
     "output_type": "stream",
     "text": [
      "\n",
      "Archivo: \n",
      "Hola mundo\n",
      "Pythonico\n",
      "Primermundista\n"
     ]
    }
   ],
   "source": [
    "print(\"\\nArchivo: \") \n",
    "# Recorremos el archivo e imprimimos cada elemento \n",
    "for line in mi_archivo:\n",
    "    print(line, end = '')"
   ]
  },
  {
   "cell_type": "markdown",
   "metadata": {},
   "source": [
    "Observa el caso del diccionario y del conjunto:\n",
    "* Diccionario: cuando hay claves repetidas, se sustituye el último valor que toma la clave (`'o':9`).\n",
    "* Conjunto: los elementos se ordenan, y no se admiten elementos repetidos."
   ]
  },
  {
   "cell_type": "markdown",
   "metadata": {},
   "source": [
    "# Función `zip`\n",
    "\n",
    "La función `zip(s1, s2, ...)` permite combinar dos o más secuencias en una sola, genera tuplas con los elementos de las secuencias."
   ]
  },
  {
   "cell_type": "code",
   "execution_count": 40,
   "metadata": {},
   "outputs": [
    {
     "name": "stdout",
     "output_type": "stream",
     "text": [
      "['Persa', 'Sphynx', 'Ragdoll', 'Siamés']\n",
      "['Irán', 'Toronto', 'California', 'Tailandia']\n",
      "\n",
      "(Raza, Origen)\n",
      "--------------------\n",
      "('Persa', 'Irán')\n",
      "('Sphynx', 'Toronto')\n",
      "('Ragdoll', 'California')\n",
      "('Siamés', 'Tailandia')\n"
     ]
    }
   ],
   "source": [
    "# Dos listas de la misma longitud\n",
    "gatos = ['Persa', 'Sphynx', 'Ragdoll','Siamés']\n",
    "origen = ['Irán', 'Toronto', 'California', 'Tailandia']\n",
    "print(gatos)\n",
    "print(origen)\n",
    "\n",
    "# Combinamos las listas en una sola secuencia\n",
    "print('\\n(Raza, Origen)\\n'+'-'*20)\n",
    "for t in zip(gatos, origen):\n",
    "    print(t)"
   ]
  },
  {
   "cell_type": "code",
   "execution_count": 41,
   "metadata": {},
   "outputs": [
    {
     "name": "stdout",
     "output_type": "stream",
     "text": [
      "La raza Persa proviene de Irán\n",
      "La raza Sphynx proviene de Toronto\n",
      "La raza Ragdoll proviene de California\n",
      "La raza Siamés proviene de Tailandia\n"
     ]
    }
   ],
   "source": [
    "# Se puede extraer la información de cada secuencia:\n",
    "for g, o in zip(gatos, origen):\n",
    "    print('La raza {} proviene de {}'.format(g, o))"
   ]
  },
  {
   "cell_type": "markdown",
   "metadata": {},
   "source": [
    "## Conversión de `zip` a `list`, `tuple`, `set`, `dict`\n",
    "\n",
    "Estrictamente `zip` es una clase que define un tipo dentro de Python, por lo que es posible convertir del tipo `zip` a alguna otra secuencia básica de datos de Python."
   ]
  },
  {
   "cell_type": "code",
   "execution_count": 42,
   "metadata": {},
   "outputs": [
    {
     "name": "stdout",
     "output_type": "stream",
     "text": [
      "<zip object at 0x7f83e07e1ac0> <class 'zip'>\n"
     ]
    }
   ],
   "source": [
    "z = zip(gatos, origen)\n",
    "\n",
    "# Verificar el tipo de zip\n",
    "print(z, type(z))"
   ]
  },
  {
   "cell_type": "code",
   "execution_count": 43,
   "metadata": {},
   "outputs": [
    {
     "name": "stdout",
     "output_type": "stream",
     "text": [
      "[('Persa', 'Irán'), ('Sphynx', 'Toronto'), ('Ragdoll', 'California'), ('Siamés', 'Tailandia')]\n",
      "(('Persa', 'Irán'), ('Sphynx', 'Toronto'), ('Ragdoll', 'California'), ('Siamés', 'Tailandia'))\n",
      "{('Persa', 'Irán'), ('Ragdoll', 'California'), ('Siamés', 'Tailandia'), ('Sphynx', 'Toronto')}\n",
      "{'Persa': 'Irán', 'Sphynx': 'Toronto', 'Ragdoll': 'California', 'Siamés': 'Tailandia'}\n"
     ]
    }
   ],
   "source": [
    "lista = list(zip(gatos, origen))\n",
    "tupla = tuple(zip(gatos, origen))\n",
    "conj = set(zip(gatos, origen))\n",
    "dicc = dict(zip(gatos, origen)) # Solo funciona con dos secuencias\n",
    "\n",
    "print(lista)\n",
    "print(tupla)\n",
    "print(conj)\n",
    "print(dicc)"
   ]
  },
  {
   "cell_type": "markdown",
   "metadata": {},
   "source": [
    "## Función `enumerate`\n",
    "\n",
    "Permite enumerar los elementos de una secuencia. Genera tuplas con el número del elemento y el elemento de la secuencia.\n",
    "\n",
    "Por ejemplo:"
   ]
  },
  {
   "cell_type": "code",
   "execution_count": 45,
   "metadata": {},
   "outputs": [
    {
     "name": "stdout",
     "output_type": "stream",
     "text": [
      "['Persa', 'Sphynx', 'Ragdoll', 'Siamés']\n",
      "\n",
      "(Numero, Raza)\n",
      "--------------------\n",
      "(0, 'Persa')\n",
      "(1, 'Sphynx')\n",
      "(2, 'Ragdoll')\n",
      "(3, 'Siamés')\n"
     ]
    }
   ],
   "source": [
    "print(gatos)\n",
    "\n",
    "# Enumeramos la secuencia\n",
    "print('\\n(Numero, Raza)\\n'+'-'*20)\n",
    "for t in enumerate(gatos):\n",
    "    print(t)"
   ]
  },
  {
   "cell_type": "code",
   "execution_count": 46,
   "metadata": {},
   "outputs": [
    {
     "name": "stdout",
     "output_type": "stream",
     "text": [
      "0 Persa\n",
      "1 Sphynx\n",
      "2 Ragdoll\n",
      "3 Siamés\n"
     ]
    }
   ],
   "source": [
    "for i, g in enumerate(gatos):\n",
    "    print(i, g)"
   ]
  },
  {
   "cell_type": "markdown",
   "metadata": {},
   "source": [
    "Lo anterior permite usar el indexado para acceder a los elementos de una secuencia:"
   ]
  },
  {
   "cell_type": "code",
   "execution_count": 47,
   "metadata": {},
   "outputs": [
    {
     "name": "stdout",
     "output_type": "stream",
     "text": [
      "0 Persa\n",
      "1 Sphynx\n",
      "2 Ragdoll\n",
      "3 Siamés\n"
     ]
    }
   ],
   "source": [
    "for i, g in enumerate(gatos):\n",
    "    print(i, gatos[i])"
   ]
  },
  {
   "cell_type": "markdown",
   "metadata": {},
   "source": [
    "## Conversión de `enumerate` a `list`, `tuple`, `set`, `dict`\n",
    "Estrictamente `enumerate` es una clase que define un tipo dentro de Python, por lo que es posible convertir del tipo `enumerate` a alguna otra secuencia básica de datos de Python:"
   ]
  },
  {
   "cell_type": "code",
   "execution_count": 48,
   "metadata": {},
   "outputs": [
    {
     "name": "stdout",
     "output_type": "stream",
     "text": [
      "<enumerate object at 0x7f83e06f1210> <class 'enumerate'>\n"
     ]
    }
   ],
   "source": [
    "e = enumerate(gatos)\n",
    "\n",
    "# Verificar el tipo de enumerate\n",
    "print(e, type(e))"
   ]
  },
  {
   "cell_type": "code",
   "execution_count": 49,
   "metadata": {},
   "outputs": [
    {
     "name": "stdout",
     "output_type": "stream",
     "text": [
      "[(0, 'Persa'), (1, 'Sphynx'), (2, 'Ragdoll'), (3, 'Siamés')]\n",
      "((0, 'Persa'), (1, 'Sphynx'), (2, 'Ragdoll'), (3, 'Siamés'))\n",
      "{(2, 'Ragdoll'), (1, 'Sphynx'), (0, 'Persa'), (3, 'Siamés')}\n",
      "{0: 'Persa', 1: 'Sphynx', 2: 'Ragdoll', 3: 'Siamés'}\n"
     ]
    }
   ],
   "source": [
    "lista = list(enumerate(gatos))\n",
    "tupla = tuple(enumerate(gatos))\n",
    "conj = set(enumerate(gatos))\n",
    "dicc = dict(enumerate(gatos))\n",
    "\n",
    "print(lista)\n",
    "print(tupla)\n",
    "print(conj)\n",
    "print(dicc)"
   ]
  },
  {
   "cell_type": "code",
   "execution_count": 50,
   "metadata": {},
   "outputs": [
    {
     "name": "stdout",
     "output_type": "stream",
     "text": [
      "0 Persa\n",
      "1 Sphynx\n",
      "2 Ragdoll\n",
      "3 Siamés\n"
     ]
    }
   ],
   "source": [
    "N = len(gatos) # Longitud de la lista gatos\n",
    "\n",
    "for i in range(0, N):\n",
    "    print(i, gatos[i])"
   ]
  },
  {
   "cell_type": "markdown",
   "metadata": {},
   "source": [
    "## Conversión de `range` a `list`, `tuple`, `set`\n",
    "Estrictamente `range` es una clase que define un tipo dentro de Python, por lo que es posible convertir del tipo `range` a alguna otra secuencia básica de datos de Python:"
   ]
  },
  {
   "cell_type": "code",
   "execution_count": 51,
   "metadata": {},
   "outputs": [
    {
     "name": "stdout",
     "output_type": "stream",
     "text": [
      "range(0, 4) <class 'range'>\n"
     ]
    }
   ],
   "source": [
    "N = len(gatos) # Longitud de la lista gatos\n",
    "r = range(0,N)\n",
    "\n",
    "# Verificar el tipo de range\n",
    "print(r, type(r))"
   ]
  },
  {
   "cell_type": "code",
   "execution_count": 52,
   "metadata": {},
   "outputs": [
    {
     "name": "stdout",
     "output_type": "stream",
     "text": [
      "[0, 1, 2, 3]\n",
      "(0, 1, 2, 3)\n",
      "{0, 1, 2, 3}\n"
     ]
    }
   ],
   "source": [
    "lista = list(range(0,N))\n",
    "tupla = tuple(range(0,N))\n",
    "conj = set(range(0,N))\n",
    "\n",
    "print(lista)\n",
    "print(tupla)\n",
    "print(conj)"
   ]
  },
  {
   "cell_type": "code",
   "execution_count": 54,
   "metadata": {},
   "outputs": [
    {
     "name": "stdout",
     "output_type": "stream",
     "text": [
      "Palabra:  Hola\n",
      "\t letra:  H\n",
      "\t letra:  o\n",
      "Palabra:  mundo\n",
      "\t letra:  m\n",
      "\t letra:  u\n",
      "\t letra:  n\n",
      "\t letra:  d\n",
      "\t letra:  o\n",
      "Palabra:  Pythonico\n",
      "\t letra:  P\n",
      "\t letra:  y\n",
      "\t letra:  t\n",
      "\t letra:  h\n",
      "\t letra:  o\n"
     ]
    }
   ],
   "source": [
    "# Se itera por una lista de palabras, cuando se encuentra\n",
    "# la letra 'h' se termina el ciclo interno y se continua con\n",
    "# la siguiente palabra.\n",
    "for palabra in [\"Hola\", \"mundo\", \"Pythonico\"]:\n",
    "    print('Palabra: ', palabra)\n",
    "    for letra in palabra:\n",
    "        print('\\t letra: ', letra)\n",
    "        if letra == \"o\":\n",
    "            break"
   ]
  },
  {
   "cell_type": "code",
   "execution_count": 58,
   "metadata": {},
   "outputs": [
    {
     "name": "stdout",
     "output_type": "stream",
     "text": [
      "Palabra:  Hola\n",
      "\t letra:  H\n",
      "\t letra:  o\n",
      "\t letra:  l\n",
      "\t letra:  a\n",
      "No encontré la letra \"h\"\n",
      "Palabra:  mundo\n",
      "\t letra:  m\n",
      "\t letra:  u\n",
      "\t letra:  n\n",
      "\t letra:  d\n",
      "\t letra:  o\n",
      "No encontré la letra \"h\"\n",
      "Palabra:  Pythonico\n",
      "\t letra:  P\n",
      "\t letra:  y\n",
      "\t letra:  t\n",
      "\t letra:  h\n"
     ]
    }
   ],
   "source": [
    "# Se itera por una lista de palabras, cuando se encuentra\n",
    "# la letra 'h' se termina el ciclo interno y se continua con\n",
    "# la siguiente palabra. La cláusula 'else' se ejecuta si no\n",
    "# se encuentra la letra.\n",
    "for palabra in [\"Hola\", \"mundo\", \"Pythonico\"]:\n",
    "    print('Palabra: ', palabra)\n",
    "    for letra in palabra:\n",
    "        print('\\t letra: ', letra)\n",
    "        if letra == \"h\":\n",
    "            break\n",
    "    else:\n",
    "        print('No encontré la letra \"h\"')"
   ]
  },
  {
   "cell_type": "code",
   "execution_count": null,
   "metadata": {},
   "outputs": [],
   "source": []
  }
 ],
 "metadata": {
  "kernelspec": {
   "display_name": "Python 3 (ipykernel)",
   "language": "python",
   "name": "python3"
  },
  "language_info": {
   "codemirror_mode": {
    "name": "ipython",
    "version": 3
   },
   "file_extension": ".py",
   "mimetype": "text/x-python",
   "name": "python",
   "nbconvert_exporter": "python",
   "pygments_lexer": "ipython3",
   "version": "3.11.6"
  }
 },
 "nbformat": 4,
 "nbformat_minor": 4
}
