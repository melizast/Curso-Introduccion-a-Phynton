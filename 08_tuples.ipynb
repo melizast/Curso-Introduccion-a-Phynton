{
 "cells": [
  {
   "cell_type": "markdown",
   "metadata": {},
   "source": [
    "# Estructura de datos: tuplas\n",
    "\n",
    "**Objetivo.**\n",
    "Describir la estructura de datos `tuple `.\n",
    "\n",
    " <p xmlns:cc=\"http://creativecommons.org/ns#\" xmlns:dct=\"http://purl.org/dc/terms/\"><a property=\"dct:title\" rel=\"cc:attributionURL\" href=\"https://github.com/repomacti/introduccion_python\">Introducción a Python</a> by <a rel=\"cc:attributionURL dct:creator\" property=\"cc:attributionName\" href=\"https://gmc.geofisica.unam.mx/luiggi\">Luis Miguel de la Cruz Salas</a> is licensed under <a href=\"https://creativecommons.org/licenses/by-sa/4.0/?ref=chooser-v1\" target=\"_blank\" rel=\"license noopener noreferrer\" style=\"display:inline-block;\">CC BY-SA 4.0<img style=\"height:22px!important;margin-left:3px;vertical-align:text-bottom;\" src=\"https://mirrors.creativecommons.org/presskit/icons/cc.svg?ref=chooser-v1\" alt=\"\"><img style=\"height:22px!important;margin-left:3px;vertical-align:text-bottom;\" src=\"https://mirrors.creativecommons.org/presskit/icons/by.svg?ref=chooser-v1\" alt=\"\"><img style=\"height:22px!important;margin-left:3px;vertical-align:text-bottom;\" src=\"https://mirrors.creativecommons.org/presskit/icons/sa.svg?ref=chooser-v1\" alt=\"\"></a></p> "
   ]
  },
  {
   "cell_type": "markdown",
   "metadata": {},
   "source": [
    "# Introducción\n",
    "\n",
    "La siguiente tabla resume los cuatro tipos de *colecciones* que se tienen en Python:\n",
    "\n",
    "|Tipo|Ordenada|Inmutable|Indexable|Duplicidad|\n",
    "|-:|:-:|:-:|:-:|:-:|\n",
    "|List |SI|NO|SI|SI|\n",
    "|Tuple|SI|SI|SI|SI|\n",
    "|Sets |NO|NO|NO|NO|\n",
    "|Dict |NO|NO|SI|NO|\n"
   ]
  },
  {
   "cell_type": "markdown",
   "metadata": {},
   "source": [
    "# Tuplas\n",
    "\n",
    "* Consisten en una secuencia **ordenada** e **inmutable** de elementos. \n",
    "    - **Ordenadas** significa que cada elemento dentro de la tupla está indexado y mantiene su orden definido en su creación.\n",
    "    - **Inmutable** significa que los elementos de la tupla **NO se pueden modificar**, tampoco que se pueden agregar o eliminar elementos.\n",
    "* Las tuplas pueden tener elementos **duplicados**, es decir, **elementos del mismo tipo y con el mismo contenido**.\n",
    "* Las tuplas se definen usando paréntesis `()` y `,` para separar sus elementos.\n"
   ]
  },
  {
   "cell_type": "markdown",
   "metadata": {},
   "source": [
    "<div class=\"alert alert-info\">\n",
    "\n",
    "## Ejemplo 1.\n",
    "\n",
    "<font color=\"Black\">\n",
    "    \n",
    "Construiremos las siguientes tuplas:\n",
    "\n",
    "```python\n",
    "t1 = ('a', 'b', 'c', 'b', 'd', 'e', 'f', 'z')\n",
    "t2 = (1, 2, 3, 4, 5, 6, 7, 8)\n",
    "t3 = (['Persa', 'Sphynx'], [2.3, 3,5])\n",
    "```\n",
    "</font>\n",
    "</div>"
   ]
  },
  {
   "cell_type": "code",
   "execution_count": 38,
   "metadata": {
    "tags": []
   },
   "outputs": [],
   "source": [
    "t1 = ('a', 'b', 'c', 'b', 'd', 'e', 'f', 'z')\n",
    "t2 = (1, 2, 3, 4, 5, 6, 7, 8)\n",
    "t3 = ('gatos', ['Persa', 'Sphynx'], (2.3, 3.5))"
   ]
  },
  {
   "cell_type": "code",
   "execution_count": 39,
   "metadata": {},
   "outputs": [
    {
     "name": "stdout",
     "output_type": "stream",
     "text": [
      "('a', 'b', 'c', 'b', 'd', 'e', 'f', 'z') <class 'tuple'>\n",
      "(1, 2, 3, 4, 5, 6, 7, 8) <class 'tuple'>\n",
      "('gatos', ['Persa', 'Sphynx'], (2.3, 3.5)) <class 'tuple'>\n"
     ]
    }
   ],
   "source": [
    "print(t1, type(t1))\n",
    "print(t2, type(t2))\n",
    "print(t3, type(t3))     "
   ]
  },
  {
   "cell_type": "markdown",
   "metadata": {},
   "source": [
    "* Observa que la tupla `t1` y `t1` contienen elementos del mismo tipo (`str` e `int`).\n",
    "* Las tuplas pueden tener elementos repetidos como en `t2`.\n",
    "* La tupla `t3` contiene tres elementos, cada uno de distinto tipo: `str`, `list` y `tuple`."
   ]
  },
  {
   "cell_type": "markdown",
   "metadata": {},
   "source": [
    "Si deseamos una tupla de un solo elemento debemos realizar lo siguiente:"
   ]
  },
  {
   "cell_type": "code",
   "execution_count": 40,
   "metadata": {
    "tags": []
   },
   "outputs": [
    {
     "name": "stdout",
     "output_type": "stream",
     "text": [
      "(1,) <class 'tuple'>\n"
     ]
    }
   ],
   "source": [
    "tupla_un_elemento = (1,)\n",
    "print(tupla_un_elemento, type(tupla_un_elemento))"
   ]
  },
  {
   "cell_type": "markdown",
   "metadata": {
    "tags": []
   },
   "source": [
    "La siguiente expresión no construye una tupla, si no un entero:"
   ]
  },
  {
   "cell_type": "code",
   "execution_count": 41,
   "metadata": {
    "tags": []
   },
   "outputs": [
    {
     "name": "stdout",
     "output_type": "stream",
     "text": [
      "1 <class 'int'>\n"
     ]
    }
   ],
   "source": [
    "tupla_un_elemento = (1)\n",
    "print(tupla_un_elemento, type(tupla_un_elemento))"
   ]
  },
  {
   "cell_type": "markdown",
   "metadata": {},
   "source": [
    "## Indexado.\n",
    "\n",
    "El indexado de las tuplas es similar al de las listas. Por ejemplo, suando la tupla `t1`:"
   ]
  },
  {
   "cell_type": "code",
   "execution_count": 42,
   "metadata": {
    "tags": []
   },
   "outputs": [
    {
     "name": "stdout",
     "output_type": "stream",
     "text": [
      "('a', 'b', 'c', 'b', 'd', 'e', 'f', 'z')\n"
     ]
    }
   ],
   "source": [
    "print(t1)"
   ]
  },
  {
   "cell_type": "code",
   "execution_count": 43,
   "metadata": {
    "tags": []
   },
   "outputs": [
    {
     "data": {
      "text/plain": [
       "'a'"
      ]
     },
     "execution_count": 43,
     "metadata": {},
     "output_type": "execute_result"
    }
   ],
   "source": [
    "t1[0]  # Primer elemento"
   ]
  },
  {
   "cell_type": "code",
   "execution_count": 44,
   "metadata": {
    "tags": []
   },
   "outputs": [
    {
     "data": {
      "text/plain": [
       "'z'"
      ]
     },
     "execution_count": 44,
     "metadata": {},
     "output_type": "execute_result"
    }
   ],
   "source": [
    "t1[-1] # Último elemento"
   ]
  },
  {
   "cell_type": "code",
   "execution_count": 48,
   "metadata": {
    "tags": []
   },
   "outputs": [
    {
     "data": {
      "text/plain": [
       "('c', 'b', 'd')"
      ]
     },
     "execution_count": 48,
     "metadata": {},
     "output_type": "execute_result"
    }
   ],
   "source": [
    "t1[2:5] # Todos los elementos, desde el 2 hasta el 4"
   ]
  },
  {
   "cell_type": "code",
   "execution_count": 49,
   "metadata": {
    "tags": []
   },
   "outputs": [
    {
     "data": {
      "text/plain": [
       "('z', 'f', 'e', 'd', 'b', 'c', 'b', 'a')"
      ]
     },
     "execution_count": 49,
     "metadata": {},
     "output_type": "execute_result"
    }
   ],
   "source": [
    "t1[::-1] # Todos los elementos en reversa"
   ]
  },
  {
   "cell_type": "markdown",
   "metadata": {},
   "source": [
    "Usando el indexado, podemos ver el contenido y tipo de los elementos, por ejemplo:"
   ]
  },
  {
   "cell_type": "code",
   "execution_count": 47,
   "metadata": {},
   "outputs": [
    {
     "name": "stdout",
     "output_type": "stream",
     "text": [
      "gatos <class 'str'>\n",
      "['Persa', 'Sphynx'] <class 'list'>\n",
      "(2.3, 3.5) <class 'tuple'>\n"
     ]
    }
   ],
   "source": [
    "print(t3[0], type(t3[0])) # Elemento 1\n",
    "print(t3[1], type(t3[1])) # Elemento 2\n",
    "print(t3[2], type(t3[2])) # Elemento 3"
   ]
  },
  {
   "cell_type": "markdown",
   "metadata": {},
   "source": [
    "Observa que los elementos 2 y 3 son una lista y una tupla respectivamente. La primera de ellas contiene cadenas, mientras que la segunda contiene flotantes.\n",
    "\n",
    "Podemos acceder a los elementos individuales de esa lista y esa tupla:"
   ]
  },
  {
   "cell_type": "code",
   "execution_count": 52,
   "metadata": {},
   "outputs": [
    {
     "name": "stdout",
     "output_type": "stream",
     "text": [
      "Persa <class 'str'>\n",
      "3.5 <class 'float'>\n"
     ]
    }
   ],
   "source": [
    "# Primer elemento de la lista t3[1]\n",
    "print(t3[1][0], type(t3[1][0]))\n",
    "\n",
    "# Segundo elemento de la tupla t3[2]\n",
    "print(t3[2][1], type(t3[2][1]))"
   ]
  },
  {
   "cell_type": "markdown",
   "metadata": {},
   "source": [
    "Las tuplas son usadas, entre otras cosas, para regresar valores o enviar argumentos a funciones. "
   ]
  },
  {
   "cell_type": "markdown",
   "metadata": {},
   "source": [
    "## Inmutabilidad\n",
    "\n",
    "Los elementos de las tuplas no se pueden modificar. Por ejemplo, si intentamos modificar el elemento tres de la tupla `t1` obtendremos un error:"
   ]
  },
  {
   "cell_type": "code",
   "execution_count": 56,
   "metadata": {
    "tags": []
   },
   "outputs": [
    {
     "ename": "TypeError",
     "evalue": "'tuple' object does not support item assignment",
     "output_type": "error",
     "traceback": [
      "\u001b[0;31m---------------------------------------------------------------------------\u001b[0m",
      "\u001b[0;31mTypeError\u001b[0m                                 Traceback (most recent call last)",
      "Cell \u001b[0;32mIn[56], line 1\u001b[0m\n\u001b[0;32m----> 1\u001b[0m \u001b[43mt1\u001b[49m\u001b[43m[\u001b[49m\u001b[38;5;241;43m2\u001b[39;49m\u001b[43m]\u001b[49m \u001b[38;5;241m=\u001b[39m \u001b[38;5;124m'\u001b[39m\u001b[38;5;124mh\u001b[39m\u001b[38;5;124m'\u001b[39m\n",
      "\u001b[0;31mTypeError\u001b[0m: 'tuple' object does not support item assignment"
     ]
    }
   ],
   "source": [
    "t1[2] = 'h'"
   ]
  },
  {
   "cell_type": "markdown",
   "metadata": {},
   "source": [
    "## Funciones incorporadas que operan sobre las tuplas.\n",
    "\n",
    "Práctiamente todas las funciones incorporadas que se aplican a las listas, se pueden aplicar a las tuplas, por ejemplo:"
   ]
  },
  {
   "cell_type": "code",
   "execution_count": 68,
   "metadata": {},
   "outputs": [
    {
     "name": "stdout",
     "output_type": "stream",
     "text": [
      "8\n",
      "z\n",
      "a\n",
      "True\n",
      "True\n",
      "['a', 'b', 'b', 'c', 'd', 'e', 'f', 'z']\n",
      "36\n"
     ]
    }
   ],
   "source": [
    "print(len(t1))\n",
    "print(max(t1))\n",
    "print(min(t1))\n",
    "print(all(t2))\n",
    "print(any(t2))\n",
    "print(sorted(t1))\n",
    "print(sum(t2))"
   ]
  },
  {
   "cell_type": "code",
   "execution_count": 75,
   "metadata": {},
   "outputs": [
    {
     "data": {
      "text/plain": [
       "[(0, 'a'),\n",
       " (1, 'b'),\n",
       " (2, 'c'),\n",
       " (3, 'b'),\n",
       " (4, 'd'),\n",
       " (5, 'e'),\n",
       " (6, 'f'),\n",
       " (7, 'z')]"
      ]
     },
     "execution_count": 75,
     "metadata": {},
     "output_type": "execute_result"
    }
   ],
   "source": [
    "# Enumera los elementos de una tupla regresando tuplas (i, elemento)\n",
    "list(enumerate(t1)) "
   ]
  },
  {
   "cell_type": "code",
   "execution_count": 73,
   "metadata": {},
   "outputs": [
    {
     "data": {
      "text/plain": [
       "(('a', 1),\n",
       " ('b', 2),\n",
       " ('c', 3),\n",
       " ('b', 4),\n",
       " ('d', 5),\n",
       " ('e', 6),\n",
       " ('f', 7),\n",
       " ('z', 8))"
      ]
     },
     "execution_count": 73,
     "metadata": {},
     "output_type": "execute_result"
    }
   ],
   "source": [
    "# Agrupa los elementos de dos tuplas regresando tuplas: (t1[i], t2[i])\n",
    "tuple(zip(t1, t2)) "
   ]
  },
  {
   "cell_type": "markdown",
   "metadata": {},
   "source": [
    "Observa que para el caso de `enumerate` y  `zip` el resultado se debe convertir a un tipo que se pueda desplegar. Podemos elegir convertir a una lista o a una tupla para desplegar el resultado.\n",
    "\n",
    "Se pueden agrupar dos tuplas con `zip` aunque sean de distinto tamaño:"
   ]
  },
  {
   "cell_type": "code",
   "execution_count": 79,
   "metadata": {},
   "outputs": [
    {
     "data": {
      "text/plain": [
       "[('gatos', 1), (['Persa', 'Sphynx'], 2), ((2.3, 3.5), 3)]"
      ]
     },
     "execution_count": 79,
     "metadata": {},
     "output_type": "execute_result"
    }
   ],
   "source": [
    "list(zip(t3, t2))"
   ]
  },
  {
   "cell_type": "markdown",
   "metadata": {},
   "source": [
    "Se puede agrupar una tupla y una lista:"
   ]
  },
  {
   "cell_type": "code",
   "execution_count": 96,
   "metadata": {},
   "outputs": [
    {
     "data": {
      "text/plain": [
       "[(1, 'a'), (2, 'b'), (3, 'c'), (4, 'd'), (5, 'e')]"
      ]
     },
     "execution_count": 96,
     "metadata": {},
     "output_type": "execute_result"
    }
   ],
   "source": [
    "list(zip((1,2,3,4,5),['a','b','c','d','e']))"
   ]
  },
  {
   "cell_type": "markdown",
   "metadata": {},
   "source": [
    "## Operadores sobre tuplas\n",
    "\n",
    "Se pueden usar los operadores `+`, `*` e `in` sobre las tuplas."
   ]
  },
  {
   "cell_type": "code",
   "execution_count": 84,
   "metadata": {},
   "outputs": [
    {
     "data": {
      "text/plain": [
       "('a', 'b', 'c', 'b', 'd', 'e', 'f', 'z', 1, 2, 3, 4, 5, 6, 7, 8)"
      ]
     },
     "execution_count": 84,
     "metadata": {},
     "output_type": "execute_result"
    }
   ],
   "source": [
    "t1 + t2"
   ]
  },
  {
   "cell_type": "code",
   "execution_count": 86,
   "metadata": {},
   "outputs": [
    {
     "data": {
      "text/plain": [
       "('gatos',\n",
       " ['Persa', 'Sphynx'],\n",
       " (2.3, 3.5),\n",
       " 'gatos',\n",
       " ['Persa', 'Sphynx'],\n",
       " (2.3, 3.5))"
      ]
     },
     "execution_count": 86,
     "metadata": {},
     "output_type": "execute_result"
    }
   ],
   "source": [
    "t3 * 2"
   ]
  },
  {
   "cell_type": "code",
   "execution_count": 87,
   "metadata": {},
   "outputs": [
    {
     "data": {
      "text/plain": [
       "False"
      ]
     },
     "execution_count": 87,
     "metadata": {},
     "output_type": "execute_result"
    }
   ],
   "source": [
    "'Persa' in t3"
   ]
  },
  {
   "cell_type": "code",
   "execution_count": 88,
   "metadata": {},
   "outputs": [
    {
     "data": {
      "text/plain": [
       "True"
      ]
     },
     "execution_count": 88,
     "metadata": {},
     "output_type": "execute_result"
    }
   ],
   "source": [
    "'Persa' in t3[1]"
   ]
  },
  {
   "cell_type": "markdown",
   "metadata": {},
   "source": [
    "## Métodos de las listas (comportamiento)\n",
    "\n",
    "La clase `<class 'tuple'>` define dos métodos que se pueden aplicar sobre los objetos del tipo `tuple`:\n",
    "\n",
    "* `tuple.index(o)`: regresa el índice donde está el objeto `o` dentro de la tupla\n",
    "* `tuple.count(o)`: cuenta las veces que aparece el objeto `o` en la tupla.\n",
    "\n",
    "Por ejemplo:"
   ]
  },
  {
   "cell_type": "code",
   "execution_count": 92,
   "metadata": {
    "tags": []
   },
   "outputs": [
    {
     "data": {
      "text/plain": [
       "7"
      ]
     },
     "execution_count": 92,
     "metadata": {},
     "output_type": "execute_result"
    }
   ],
   "source": [
    "t1.index('z')"
   ]
  },
  {
   "cell_type": "code",
   "execution_count": 93,
   "metadata": {
    "tags": []
   },
   "outputs": [
    {
     "data": {
      "text/plain": [
       "2"
      ]
     },
     "execution_count": 93,
     "metadata": {},
     "output_type": "execute_result"
    }
   ],
   "source": [
    "t1.count('b')"
   ]
  },
  {
   "cell_type": "markdown",
   "metadata": {},
   "source": [
    "## ¿Copiando tuplas?\n",
    "\n",
    "No es posible crear una copia de una tupla en otra. Lo que se recomienda es transformar la tupla en otra estructura de datos compatible (por ejemplo `list` o `set`).\n",
    "\n",
    "Si intentamos realizar una copia obtendremos el mismo objeto:"
   ]
  },
  {
   "cell_type": "code",
   "execution_count": 7,
   "metadata": {},
   "outputs": [],
   "source": [
    "# nueva tupla\n",
    "t1 =(1,3) \n",
    "\n",
    "# copiando todos los elementos de t1 en t2\n",
    "t2 = t1[:] \n",
    "\n",
    "# copiando usando el módulo copy\n",
    "import copy\n",
    "t3 = copy.copy(t1)"
   ]
  },
  {
   "cell_type": "code",
   "execution_count": 8,
   "metadata": {},
   "outputs": [
    {
     "name": "stdout",
     "output_type": "stream",
     "text": [
      "(1, 3) <class 'tuple'> 140282478820544\n",
      "(1, 3) <class 'tuple'> 140282478820544\n",
      "(1, 3) <class 'tuple'> 140282478820544\n"
     ]
    }
   ],
   "source": [
    "print(t1, type(t1), id(t1))\n",
    "print(t2, type(t2), id(t2))\n",
    "print(t3, type(t3), id(t3))"
   ]
  },
  {
   "cell_type": "markdown",
   "metadata": {},
   "source": [
    "Observa que las tres tuplas tienen el mismo identificador en memoria."
   ]
  },
  {
   "cell_type": "code",
   "execution_count": null,
   "metadata": {},
   "outputs": [],
   "source": []
  }
 ],
 "metadata": {
  "kernelspec": {
   "display_name": "Python 3 (ipykernel)",
   "language": "python",
   "name": "python3"
  },
  "language_info": {
   "codemirror_mode": {
    "name": "ipython",
    "version": 3
   },
   "file_extension": ".py",
   "mimetype": "text/x-python",
   "name": "python",
   "nbconvert_exporter": "python",
   "pygments_lexer": "ipython3",
   "version": "3.11.6"
  }
 },
 "nbformat": 4,
 "nbformat_minor": 4
}
