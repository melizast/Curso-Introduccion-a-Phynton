{
 "cells": [
  {
   "cell_type": "markdown",
   "metadata": {},
   "source": [
    "# Operadores.\n",
    "\n",
    "**Objetivo.**\n",
    "Explicar los operadores aritméticos, relacionales y lógicos.\n",
    "\n",
    " <p xmlns:cc=\"http://creativecommons.org/ns#\" xmlns:dct=\"http://purl.org/dc/terms/\"><a property=\"dct:title\" rel=\"cc:attributionURL\" href=\"https://github.com/repomacti/introduccion_python\">Introducción a Python</a> by <a rel=\"cc:attributionURL dct:creator\" property=\"cc:attributionName\" href=\"https://gmc.geofisica.unam.mx/luiggi\">Luis Miguel de la Cruz Salas</a> is licensed under <a href=\"https://creativecommons.org/licenses/by-sa/4.0/?ref=chooser-v1\" target=\"_blank\" rel=\"license noopener noreferrer\" style=\"display:inline-block;\">CC BY-SA 4.0<img style=\"height:22px!important;margin-left:3px;vertical-align:text-bottom;\" src=\"https://mirrors.creativecommons.org/presskit/icons/cc.svg?ref=chooser-v1\" alt=\"\"><img style=\"height:22px!important;margin-left:3px;vertical-align:text-bottom;\" src=\"https://mirrors.creativecommons.org/presskit/icons/by.svg?ref=chooser-v1\" alt=\"\"><img style=\"height:22px!important;margin-left:3px;vertical-align:text-bottom;\" src=\"https://mirrors.creativecommons.org/presskit/icons/sa.svg?ref=chooser-v1\" alt=\"\"></a></p> "
   ]
  },
  {
   "cell_type": "markdown",
   "metadata": {},
   "source": [
    "## Operadores aritméticos \n",
    "\n",
    "Para los tipos numéricos básicos, existen operaciones aritméticas que se pueden aplicar sobre ellos. Estas operaciones están organizadas como se muestra en la siguiente tabla:\n",
    "\n",
    "| Categoría | Operadores |\n",
    "|---|---|\n",
    "| Exponenciación | `**` | \n",
    "| Multiplicación | `*`,`/`,`//`,`%` | \n",
    "| Adición | `+`,`-` |\n",
    "\n",
    "Veamos algunos ejemplos:"
   ]
  },
  {
   "cell_type": "code",
   "execution_count": null,
   "metadata": {},
   "outputs": [],
   "source": [
    "# Suma\n",
    "suma = 1 + 2\n",
    "\n",
    "# Imprimimos el resultado y el tipo\n",
    "print(suma, type(suma))"
   ]
  },
  {
   "cell_type": "code",
   "execution_count": null,
   "metadata": {},
   "outputs": [],
   "source": [
    "# Resta\n",
    "resta = 5 - 32\n",
    "\n",
    "# Imprimimos el resultado y el tipo\n",
    "print(resta, type(resta))"
   ]
  },
  {
   "cell_type": "code",
   "execution_count": null,
   "metadata": {},
   "outputs": [],
   "source": [
    "# Multiplicación\n",
    "multiplicacion = 3 * 3\n",
    "\n",
    "# Imprimimos el resultado y el tipo\n",
    "print(multiplicacion, type(multiplicacion))"
   ]
  },
  {
   "cell_type": "code",
   "execution_count": null,
   "metadata": {},
   "outputs": [],
   "source": [
    "# División\n",
    "division = 3 / 2\n",
    "\n",
    "# Imprimimos el resultado y el tipo\n",
    "print(division, type(division))"
   ]
  },
  {
   "cell_type": "code",
   "execution_count": null,
   "metadata": {},
   "outputs": [],
   "source": [
    "# División entera\n",
    "# Divide los números y elimina la parte decimal\n",
    "div_entera = 50 // 3\n",
    "\n",
    "# Imprimimos el resultado y el tipo\n",
    "print(div_entera, type(div_entera))"
   ]
  },
  {
   "cell_type": "code",
   "execution_count": null,
   "metadata": {},
   "outputs": [],
   "source": [
    "# Módulo\n",
    "# Divide los números y regresa el residuo.\n",
    "modulo = 50 % 3\n",
    "\n",
    "# Imprimimos el resultado y el tipo\n",
    "print(modulo, type(modulo))"
   ]
  },
  {
   "cell_type": "code",
   "execution_count": null,
   "metadata": {},
   "outputs": [],
   "source": [
    "# Potencia\n",
    "potencia = 9**(2) # 9 al cuadrado\n",
    "\n",
    "# Imprimimos el resultado y el tipo\n",
    "print(potencia, type(potencia))"
   ]
  },
  {
   "cell_type": "code",
   "execution_count": null,
   "metadata": {},
   "outputs": [],
   "source": [
    "# Potencia\n",
    "potencia = 81**(0.5) # raíz cuadrada de 81\n",
    "\n",
    "# Imprimimos el resultado y el tipo\n",
    "print(potencia, type(potencia))"
   ]
  },
  {
   "cell_type": "code",
   "execution_count": null,
   "metadata": {},
   "outputs": [],
   "source": [
    "# Potencia\n",
    "potencia = 2**(0.35) # 2 elevado a la potencia 0.35\n",
    "\n",
    "# Imprimimos el resultado y el tipo\n",
    "print(potencia, type(potencia))"
   ]
  },
  {
   "cell_type": "markdown",
   "metadata": {},
   "source": [
    "<a name=\"precedencia\">\n",
    "    \n",
    "## Precedencia.\n",
    "</a>\n",
    "La aplicación de los operadores tiene cierta precedencia que está definida en cada implementación del lenguaje de programación. La siguiente tabla muestra el orden en que se aplicarán los operadores. \n",
    "\n",
    "| Nivel | Categoría | Operadores|\n",
    "|---|---|---|\n",
    "| 7 | exponenciación | `**` |\n",
    "| 6 | multiplicación | `*`,`/`,`//`,`%` |\n",
    "| 5 | adición | `+`,`-`|\n",
    "| 4 | relacional | `==`,`!=`,`<=`,`>=`,`>`,`<`|\n",
    "| 3 | lógicos | `not` |\n",
    "| 2 | lógicos | `and` |\n",
    "| 1 | lógicos | `or` |\n",
    "\n",
    "Como se puede ver, siempre se aplican primero los operadores aritméticos (niveles 7,6, y 5), luego los relacionales (nivel 4) y finalmente los lógicos (3, 2 y 1).\n",
    "\n",
    "Más acerca de este tema se puede ver aquí: <a href=\"https://docs.python.org/3/reference/expressions.html#operator-summary\">Operator precedence</a>.\n",
    "\n",
    "A continuación se muestran ejemplos de operaciones aritméticas en donde se resalta esta precedencia:"
   ]
  },
  {
   "cell_type": "code",
   "execution_count": null,
   "metadata": {},
   "outputs": [],
   "source": [
    "# Precedencia de operaciones: primero se realiza la multiplicación\n",
    "1 + 2 * 3 + 4"
   ]
  },
  {
   "cell_type": "code",
   "execution_count": null,
   "metadata": {},
   "outputs": [],
   "source": [
    "# Es posible usar paréntesis para modificar la precedencia: primero la suma\n",
    "(1 + 2) * (3 + 4)"
   ]
  },
  {
   "cell_type": "code",
   "execution_count": null,
   "metadata": {},
   "outputs": [],
   "source": [
    "# Primero se realiza la exponenciación\n",
    "3**2/2"
   ]
  },
  {
   "cell_type": "markdown",
   "metadata": {},
   "source": [
    "## Operaciones entre tipos diferentes\n",
    "\n",
    "Es posible combinar operaciones entre tipos de números diferentes. Lo que Python hará es promover cada número al tipo más sofisticado, siendo el orden de sofisticación, de menos a más, como sigue: `int`, `float`, `complex`."
   ]
  },
  {
   "cell_type": "code",
   "execution_count": null,
   "metadata": {},
   "outputs": [],
   "source": [
    "# Operación entre enteros\n",
    "a = 2 * 3\n",
    "print(a, type(a))"
   ]
  },
  {
   "cell_type": "code",
   "execution_count": null,
   "metadata": {},
   "outputs": [],
   "source": [
    "# Operación entre entero y flotante\n",
    "a = 2 * 3.0\n",
    "print(a, type(a))"
   ]
  },
  {
   "cell_type": "code",
   "execution_count": null,
   "metadata": {},
   "outputs": [],
   "source": [
    "# Operación entre entero y complejo\n",
    "a = 2 * (1 + 3j)\n",
    "print(a, type(a))"
   ]
  },
  {
   "cell_type": "code",
   "execution_count": null,
   "metadata": {},
   "outputs": [],
   "source": [
    "# Operación entre flotante y complejo\n",
    "a = 2.0 * (1 + 3j)\n",
    "print(a, type(a))"
   ]
  },
  {
   "cell_type": "code",
   "execution_count": null,
   "metadata": {},
   "outputs": [],
   "source": [
    "# División entre enteros que da como resultado un flotante\n",
    "a = 2/3\n",
    "print(a, type(a))"
   ]
  },
  {
   "cell_type": "markdown",
   "metadata": {},
   "source": [
    "## Operadores de asignación\n",
    "\n",
    "Existen varios operadores para realizar asignaciones:\n",
    "\n",
    "| Operador | Operación | Equivalencia|\n",
    "|---|---|---|\n",
    "| `+=` | `suma += valor` | `suma = suma + valor` |\n",
    "| `-=` | `resta -= valor` | `resta = resta - valor` |\n",
    "| `*=` | `mult *= valor` | `mult = mult * valor` |\n",
    "| `/=` | `div /= valor` | `div = div / valor` |\n",
    "| `//=` | `div_int //= valor` | `div_int = div_int // valor` |\n",
    "| `%=` | `modulo %= valor` | `modulo = modulo % valor` |\n",
    "| `**=` | `pot **= valor` | `pot = pot ** valor` |\n",
    "\n",
    "La forma de uso de estos operadores se muestra en los siguientes ejemplos:"
   ]
  },
  {
   "cell_type": "code",
   "execution_count": null,
   "metadata": {},
   "outputs": [],
   "source": [
    "valor = 1.0 \n",
    "suma = 1.0\n",
    "suma += valor  # Equivalente a : suma = suma + valor\n",
    "print(suma)"
   ]
  },
  {
   "cell_type": "code",
   "execution_count": null,
   "metadata": {},
   "outputs": [],
   "source": [
    "valor =  4\n",
    "resta = 16\n",
    "resta -= valor # Equivalente a : resta = resta - valor\n",
    "print(resta)"
   ]
  },
  {
   "cell_type": "code",
   "execution_count": null,
   "metadata": {},
   "outputs": [],
   "source": [
    "valor = 2\n",
    "mult = 12\n",
    "mult *= valor  # Equivalente a : mult = mult * valor\n",
    "print(mult)"
   ]
  },
  {
   "cell_type": "code",
   "execution_count": null,
   "metadata": {},
   "outputs": [],
   "source": [
    "valor = 3\n",
    "div = 50\n",
    "div /= valor  # Equivalente a : div = div / valor\n",
    "print(div)"
   ]
  },
  {
   "cell_type": "code",
   "execution_count": null,
   "metadata": {},
   "outputs": [],
   "source": [
    "valor = 3\n",
    "div_int = 50\n",
    "div_int //= valor  # Equivalente a : div_int = div_int / valor\n",
    "print(div_int)"
   ]
  },
  {
   "cell_type": "code",
   "execution_count": null,
   "metadata": {},
   "outputs": [],
   "source": [
    "valor = 3\n",
    "modulo = 50\n",
    "modulo %= valor # Equivalente a : modulo = modulo % valor\n",
    "print(modulo)"
   ]
  },
  {
   "cell_type": "code",
   "execution_count": null,
   "metadata": {},
   "outputs": [],
   "source": [
    "valor = 2\n",
    "pot = 3\n",
    "pot **= valor # Equivalente a : pot = pot ** valor\n",
    "print(pot)"
   ]
  },
  {
   "cell_type": "markdown",
   "metadata": {},
   "source": [
    "## Operadores relacionales\n",
    "\n",
    "Cuando se aplica un operador relacional a dos expresiones, se realiza una comparación entre dichas expresiones y se obtiene como resultado un tipo lógico (`bool`): `True` o `False`.\n",
    "\n",
    "Los operadores relacionales que se pueden usar son: \n",
    "\n",
    "| Operador | Operación | Significado|\n",
    "|---|---|---|\n",
    "| `==` | `A == B` | ¿Es A igual a B? |\n",
    "| `!=` | `A != B` | ¿Es A diferente de B? |\n",
    "| `>` | `A > B` | ¿Es A mayor que B? |\n",
    "| `>=` | `A >= B` | ¿Es A mayor o igual a B? |\n",
    "| `>` | `A < B` | ¿Es A menor que B? |\n",
    "| `<=` | `A >= B` | ¿Es A menor o igual a B? |\n",
    "\n",
    "A continuación se muestran algunos ejemplos:"
   ]
  },
  {
   "cell_type": "code",
   "execution_count": null,
   "metadata": {},
   "outputs": [],
   "source": [
    "# ¿Es 35 mayor que 562?\n",
    "35 > 562 "
   ]
  },
  {
   "cell_type": "code",
   "execution_count": null,
   "metadata": {},
   "outputs": [],
   "source": [
    "# ¿Es 32 mayor o igual que 21?\n",
    "32 >= 21 "
   ]
  },
  {
   "cell_type": "code",
   "execution_count": null,
   "metadata": {},
   "outputs": [],
   "source": [
    "# ¿Es 12 menor que 34?\n",
    "12 < 34 "
   ]
  },
  {
   "cell_type": "code",
   "execution_count": null,
   "metadata": {},
   "outputs": [],
   "source": [
    "# ¿Es 12 menor o igual que 25?\n",
    "12 <= 25 "
   ]
  },
  {
   "cell_type": "code",
   "execution_count": null,
   "metadata": {},
   "outputs": [],
   "source": [
    "# ¿Es 1 igual a 2?\n",
    "1 == 2 "
   ]
  },
  {
   "cell_type": "code",
   "execution_count": null,
   "metadata": {},
   "outputs": [],
   "source": [
    "# ¿Es 1 diferente de 2?\n",
    "1 != 2"
   ]
  },
  {
   "cell_type": "code",
   "execution_count": null,
   "metadata": {},
   "outputs": [],
   "source": [
    "# Se pueden comparar otros tipos de datos\n",
    "'aaa' == 'aaaA' "
   ]
  },
  {
   "cell_type": "code",
   "execution_count": null,
   "metadata": {},
   "outputs": [],
   "source": [
    "# La comparación se puede hacer con el resultado de expresiones\n",
    "5 > len('5')"
   ]
  },
  {
   "cell_type": "markdown",
   "metadata": {},
   "source": [
    "## Operaciones lógicas.\n",
    "\n",
    "Los operadores lógicos que se pueden usar son: \n",
    "\n",
    "| Operador | Uso | Resultado |\n",
    "|---|---|---|\n",
    "| `not` | `not A` | Invierte el resultado de `A`|\n",
    "| `and` | `A and B` | `True` si `A` y `B` son `True`; `False` en otro caso |\n",
    "| `or` | `A or B`| `False` si `A` y `B` son `False`; `True` en otro caso |\n",
    "\n",
    "Veamos algunos ejemplos"
   ]
  },
  {
   "cell_type": "code",
   "execution_count": null,
   "metadata": {},
   "outputs": [],
   "source": [
    "# Para que el resultado sea verdadero, se deben cumplir las dos expresiones\n",
    "# que se encuentran a la derecha e izquierda del and. Si una de ellas no se\n",
    "# cumple, el resultado será falso.\n",
    "(5 < 32) and (63 > 32) "
   ]
  },
  {
   "cell_type": "markdown",
   "metadata": {},
   "source": [
    "Debido a la precedencia de operadores (véase [Precedencia](#precedencia)), no son necesarios los paréntesis en la operaciones relacionales de la expresión anterior, por lo que es posible escribir: "
   ]
  },
  {
   "cell_type": "code",
   "execution_count": null,
   "metadata": {},
   "outputs": [],
   "source": [
    "5 < 32 and 63 > 32"
   ]
  },
  {
   "cell_type": "markdown",
   "metadata": {},
   "source": [
    "Aunque a veces el uso de paréntesis hace la lectura del código más clara: "
   ]
  },
  {
   "cell_type": "code",
   "execution_count": null,
   "metadata": {},
   "outputs": [],
   "source": [
    "(2.32 < 21) and (23 > 63)"
   ]
  },
  {
   "cell_type": "code",
   "execution_count": null,
   "metadata": {},
   "outputs": [],
   "source": [
    "# Para que el resultado sea verdadero, se deben cumplir una de las dos expresiones\n",
    "# que se encuentran a la derecha e izquierda del or. Si una de ellas se cumple, \n",
    "# el resultado será verdadero.\n",
    "(32 == 21) or (5 < 31)"
   ]
  },
  {
   "cell_type": "code",
   "execution_count": null,
   "metadata": {},
   "outputs": [],
   "source": [
    "# Para que el resultado sea falso, ambas expresiones deben ser falsas.\n",
    "(32 == 21) or (31 < 5) "
   ]
  },
  {
   "cell_type": "code",
   "execution_count": null,
   "metadata": {},
   "outputs": [],
   "source": [
    "# Invierte el resultado de la expresión\n",
    "not True"
   ]
  },
  {
   "cell_type": "code",
   "execution_count": null,
   "metadata": {},
   "outputs": [],
   "source": [
    "not (32 != 32)"
   ]
  },
  {
   "cell_type": "markdown",
   "metadata": {},
   "source": [
    "## Comparación entre números flotantes.\n",
    "La comparación entre números de tipo flotante debe realizarse con cuidado, veamos el siguiente ejemplo:"
   ]
  },
  {
   "cell_type": "code",
   "execution_count": null,
   "metadata": {},
   "outputs": [],
   "source": [
    "(0.4 - 0.3) == 0.1"
   ]
  },
  {
   "cell_type": "markdown",
   "metadata": {},
   "source": [
    "El cálculo a mano de `(0.4 - 0.3)` da como resultado `0.1`; pero en una computadora este cálculo es aproximado y depende de las características del hardware (exponente, mantisa, base, etcétera). En Python el resultado de la operación `(0.4 - 0.3)` es diferente de `0.1`, veamos:"
   ]
  },
  {
   "cell_type": "code",
   "execution_count": null,
   "metadata": {},
   "outputs": [],
   "source": [
    "print(0.4 - 0.3)"
   ]
  },
  {
   "cell_type": "markdown",
   "metadata": {},
   "source": [
    "Python ofrece herramientas que permiten realizar una mejor comparación entre números de tipo flotante. Por ejemplo la biblioteca `math` contiene la función `isclose(a, b)` en donde se puede definir una tolerancia mínima para que las dos expresiones, `a` y `b` se consideren iguales (*cercanas*), por ejemplo:"
   ]
  },
  {
   "cell_type": "code",
   "execution_count": null,
   "metadata": {},
   "outputs": [],
   "source": [
    "# Importamos el módulo math\n",
    "import math\n",
    "\n",
    "# Utilizamos la función `isclose()` de math para comparar dos números flotantes\n",
    "math.isclose((0.4 - 0.3), 0.1)"
   ]
  },
  {
   "cell_type": "markdown",
   "metadata": {},
   "source": [
    "Se recomienda revisar el manual de [`math.isclose()`](https://docs.python.org/3/library/math.html) y el de [`numpy.isclose()`](https://numpy.org/doc/stable/reference/generated/numpy.isclose.html)para comparación de arreglos con elementos de tipo flotante."
   ]
  },
  {
   "cell_type": "markdown",
   "metadata": {},
   "source": [
    "## Fuertemente tipado.\n",
    "\n",
    "Python es fuertemente tipado, lo que significa que el tipo de un objeto no puede cambiar repentinamente; se debe realizar una conversión explícita si se desea cambiar el tipo de un objeto.\n",
    "\n",
    "Esta característica también impide que se realizen operaciones entre tipos no compatibles. \n",
    "\n",
    "Veamos unos ejemplos:"
   ]
  },
  {
   "cell_type": "code",
   "execution_count": null,
   "metadata": {},
   "outputs": [],
   "source": [
    "real   = 220.0  \n",
    "entero = 284\n",
    "complejo = 1+1j"
   ]
  },
  {
   "cell_type": "code",
   "execution_count": null,
   "metadata": {},
   "outputs": [],
   "source": [
    "entero + real # Los tipos son compatibles"
   ]
  },
  {
   "cell_type": "code",
   "execution_count": null,
   "metadata": {},
   "outputs": [],
   "source": [
    "real + complejo # Los tipos son compatibles"
   ]
  },
  {
   "cell_type": "code",
   "execution_count": null,
   "metadata": {},
   "outputs": [],
   "source": [
    "entero + complejo # Los tipos son compatibles"
   ]
  },
  {
   "cell_type": "markdown",
   "metadata": {},
   "source": [
    "Un tipo lógico se puede comportar como un entero, un flotante o un complejo, los tipos con compatibles. Para que un valor numérico sea considerado verdadero, debe ser equivalente al valor 1. Veamos los siguientes ejemplos:"
   ]
  },
  {
   "cell_type": "code",
   "execution_count": null,
   "metadata": {},
   "outputs": [],
   "source": [
    "lógico = True \n",
    "print(lógico == 1)\n",
    "print(lógico == 1.0)\n",
    "print(lógico == 1.0 + 0.0j)"
   ]
  },
  {
   "cell_type": "code",
   "execution_count": null,
   "metadata": {},
   "outputs": [],
   "source": [
    "print(lógico == 5)\n",
    "print(lógico == 1.1)\n",
    "print(lógico == 1.0 + 0.1j)"
   ]
  },
  {
   "cell_type": "markdown",
   "metadata": {},
   "source": [
    "Entonces podemos realizar operaciones aritméticas entre lógicos, enteros, flotantes y complejos:"
   ]
  },
  {
   "cell_type": "code",
   "execution_count": null,
   "metadata": {},
   "outputs": [],
   "source": [
    "lógico + entero # Los tipos son compatibles"
   ]
  },
  {
   "cell_type": "code",
   "execution_count": null,
   "metadata": {},
   "outputs": [],
   "source": [
    "lógico + real # Los tipos son compatibles"
   ]
  },
  {
   "cell_type": "code",
   "execution_count": null,
   "metadata": {},
   "outputs": [],
   "source": [
    "lógico + complejo # Los tipos son compatibles"
   ]
  },
  {
   "cell_type": "markdown",
   "metadata": {},
   "source": [
    "Pero hay tipos que no son compatibles, por ejemplo:"
   ]
  },
  {
   "cell_type": "code",
   "execution_count": null,
   "metadata": {},
   "outputs": [],
   "source": [
    "cadena = 'El resultado es igual a '\n",
    "cadena + real  # Los tipos no son compatibles"
   ]
  },
  {
   "cell_type": "markdown",
   "metadata": {},
   "source": [
    "Sin embargo es posible hacer una conversión explícita, por ejemplo:"
   ]
  },
  {
   "cell_type": "code",
   "execution_count": null,
   "metadata": {},
   "outputs": [],
   "source": [
    "cadena + str(real)"
   ]
  },
  {
   "cell_type": "markdown",
   "metadata": {},
   "source": [
    "## Ejercicios."
   ]
  },
  {
   "cell_type": "markdown",
   "metadata": {},
   "source": [
    "<div class=\"alert alert-block alert-success\">\n",
    "\n",
    "### Ejercicio 1.\n",
    "\n",
    "<font color=\"Black\">\n",
    "\n",
    "Implementa la siguiente operación: $p = 6/2*(2+1)$. Almacena el tipo numérico del resultado como sigue: `tipo_p = type(p)`.\n",
    "</font>\n",
    "</div>"
   ]
  },
  {
   "cell_type": "code",
   "execution_count": null,
   "metadata": {},
   "outputs": [],
   "source": [
    "# p = ...\n",
    "# tipo_p = ...\n",
    "### BEGIN SOLUTION\n",
    "p = 6/2*(2+1) \n",
    "tipo_p = type(p)\n",
    "### END SOLUTION\n",
    "\n",
    "print(p, tipo_p)"
   ]
  },
  {
   "cell_type": "markdown",
   "metadata": {},
   "source": [
    "<div class=\"alert alert-block alert-success\">\n",
    "\n",
    "### Ejercicio 2.\n",
    "\n",
    "<font color=\"Black\">\n",
    "\n",
    "Define $𝜋100 = 314$ y $r = 6378$. Implementa la fórmula $a = 𝜋100 \\times r^2$. Almacena el tipo numérico del resultado como sigue: `tipo_a = type(a)`.\n",
    "</font>\n",
    "</div>"
   ]
  },
  {
   "cell_type": "code",
   "execution_count": null,
   "metadata": {},
   "outputs": [],
   "source": [
    "# r = ...\n",
    "# 𝜋100 = ...\n",
    "# a = ...\n",
    "# tipo_a = ...\n",
    "### BEGIN SOLUTION\n",
    "r = 5\n",
    "𝜋100 = 314\n",
    "a = 𝜋100 * r ** 2\n",
    "tipo_a = type(a)\n",
    "### END SOLUTION\n",
    "\n",
    "print(a, tipo_a)"
   ]
  },
  {
   "cell_type": "markdown",
   "metadata": {},
   "source": [
    "<div class=\"alert alert-block alert-success\">\n",
    "\n",
    "### Ejercicio 3.\n",
    "\n",
    "<font color=\"Black\">\n",
    "\n",
    "Implementa las siguientes fórmulas\n",
    "$$\n",
    "\\begin{eqnarray}\n",
    "n & = & na*m \\\\\n",
    "M & = & C (1 + \\dfrac{j}{m})^n\n",
    "\\end{eqnarray}\n",
    "$$\n",
    "y realiza una evaluación para $na = 2$, $m = 12$, $C = 250000$ y $j = 0.18. Almacena los siguientes tipos: `tipo_n = type(n)` y `tipo_M = type(M)`.\n",
    "</font>\n",
    "</div>"
   ]
  },
  {
   "cell_type": "code",
   "execution_count": null,
   "metadata": {},
   "outputs": [],
   "source": [
    "# na = ...\n",
    "# ...\n",
    "### BEGIN SOLUTION\n",
    "na = 2\n",
    "m = 12\n",
    "C = 250000\n",
    "j = 0.18\n",
    "\n",
    "n = na * m\n",
    "M = C * (1 + j/m)**n\n",
    "\n",
    "tipo_n = type(n)\n",
    "tipo_M = type(M)\n",
    "### END SOLUTION\n",
    "\n",
    "print(n, tipo_n)\n",
    "print(M, tipo_M)"
   ]
  },
  {
   "cell_type": "markdown",
   "metadata": {},
   "source": [
    "<div class=\"alert alert-block alert-success\">\n",
    "\n",
    "### Ejercicio 4.\n",
    "\n",
    "<font color=\"Black\">\n",
    "\n",
    "Realiza la siguiente operación $suma = 1 + 2 + 3 + 4 + 5$ usando el operador `+=`. **Hint**. Inicializa `suma = 1`, posteriormente ve agregando el número correspondiente a `suma` usando `+=` hasta obtener el resultado correcto.\n",
    "</font>\n",
    "</div>"
   ]
  },
  {
   "cell_type": "code",
   "execution_count": null,
   "metadata": {},
   "outputs": [],
   "source": [
    "# suma = ...\n",
    "# suma += ...\n",
    "### BEGIN SOLUTION\n",
    "suma = 1\n",
    "suma += 2\n",
    "suma += 3\n",
    "suma += 4\n",
    "suma += 5\n",
    "### END SOLUTION\n",
    "\n",
    "print(suma)"
   ]
  },
  {
   "cell_type": "markdown",
   "metadata": {},
   "source": [
    "<div class=\"alert alert-block alert-success\">\n",
    "\n",
    "### Ejercicio 5.\n",
    "\n",
    "<font color=\"Black\">\n",
    "\n",
    "Calcula el promedio de la siguiente lista de números: $3.4$, $5.6$, $2.9$, $3.8$, $4.5$. Primero suma todos los números y almacena el resultado en la variable `promedio`, posteriormente divide el resultado entre el total de números usando el operador `/=`.\n",
    "</font>\n",
    "</div>"
   ]
  },
  {
   "cell_type": "code",
   "execution_count": null,
   "metadata": {},
   "outputs": [],
   "source": [
    "# promedio = ...\n",
    "# promedio /= ...\n",
    "### BEGIN SOLUTION\n",
    "promedio = 3.4 + 5.6 + 2.9 + 3.8 + 4.5\n",
    "promedio /= 5\n",
    "### END SOLUTION\n",
    "\n",
    "print(promedio)"
   ]
  },
  {
   "cell_type": "markdown",
   "metadata": {},
   "source": [
    "<div class=\"alert alert-block alert-success\">\n",
    "\n",
    "### Ejercicio 6.\n",
    "\n",
    "<font color=\"Black\">\n",
    "\n",
    "Un ejemplo de serie geométrica es el siguiente:\n",
    "   $$\n",
    "   \\text{serie} = \\dfrac{1}{2} + \\dfrac{1}{4} + \\dfrac{1}{8} + \\dfrac{1}{16} + \\dfrac{1}{32} + \\dots\n",
    "   $$\n",
    "   Observa que cada término sucesivo se obtiene al multiplicar el término anterior por $\\dfrac{1}{2}$. Por ejemplo: $\\dfrac{1}{8} = \\dfrac{1}{4} \\times \\dfrac{1}{2}$.\n",
    "   Implementa los primeros cinco términos de esta serie geométrica usando `*=` y `+=`.\n",
    "   \n",
    "   **Hint**. Define las variablee `geom = 1/2` y `serie = geom`, posteriormente construye cada elemento de la serie geométrica usando `geom` y `*=` y luego agrégalo a `serie` usando `+=`.\n",
    "\n",
    "</font>\n",
    "</div>"
   ]
  },
  {
   "cell_type": "code",
   "execution_count": null,
   "metadata": {},
   "outputs": [],
   "source": [
    "geom = 1/2 + 1/4 + 1/8 + 1/16\n",
    "print(geom)"
   ]
  },
  {
   "cell_type": "code",
   "execution_count": null,
   "metadata": {},
   "outputs": [],
   "source": [
    "# geom = 1/2\n",
    "# serie = geom\n",
    "# geom *= ...\n",
    "# serie += ...\n",
    "# ...\n",
    "### BEGIN SOLUTION\n",
    "geom = 1/2\n",
    "serie = geom\n",
    "geom *= 1/2\n",
    "serie += geom\n",
    "geom *= 1/2\n",
    "serie += geom\n",
    "geom *= 1/2\n",
    "serie += geom\n",
    "### END SOLUTION\n",
    "\n",
    "print(geom)\n",
    "print(serie)"
   ]
  },
  {
   "cell_type": "markdown",
   "metadata": {},
   "source": [
    "<div class=\"alert alert-block alert-success\">\n",
    "\n",
    "### Ejercicio 7.\n",
    "\n",
    "<font color=\"Black\">\n",
    "\n",
    "El movimiento del aire aumenta la velocidad de enfriamiento de los objetos calientes, de tal manera que en un clima frío el aire se siente más frío de lo que realmente es. A esto se le conoce como sensación térmica. \n",
    "\n",
    "* En norte América suele usarse la siguiente fórmula para cálcular la temperatura de sensación térmica en grados Celsius (también conocido como *wind chill index*):\n",
    "$$\n",
    "WCI = 13.12 + 0.6215 \\times T_a - 11.37 \\times V^{0.16} + 0.3965 \\times T_a \\times V^{0.16}\n",
    "$$\n",
    "donde $T_a$ es la temperatura del aire en grados Celsius y $V$ la velocidad del viento en kilómetros por hora. Esta fórmula sólo es válida para $T_a \\leq 10 ^o$C y $V > 4.8$ **km/h**.\n",
    "\n",
    "* Por otro lado, para calcular la temperatura aparente en situaciones de calor (también conocido como *índice de calor*), suele utilizarse la fórmula:\n",
    "$$\n",
    "IC = 33 + (T_a - 33) \\times (0.474 + 0.454 \\times V^{0.5}-0.0454 \\times V)\n",
    "$$\n",
    "donde $V$ está dada en metros por segundo.\n",
    "\n",
    "Calcula el $WCI$ o el $IC$ dependiendo de la temperatura para las siguientes ciudades:\n",
    "\n",
    "1. Fairbanks, AK, Estados Unidos: $T_a = 7 \\; ^o$C y $V = 8$ **km/h**. Almacena el resultado en la variable `ciudad_1`.\n",
    "2. Yukon Crossing, Yukón, Canadá: $T_a = 10 \\; ^o$C y $V = 4$ **km/h**. Almacena el resultado en la variable `ciudad_2`.\n",
    "3. Orlando, FL, Estados Unidos: $T_a = 26 \\; ^o$C y $V = 21$ **km/h**. Almacena el resultado en la variable `ciudad_3`.\n",
    "4. Cancún, Quintana Roo, México: $T_a = 32 \\; ^o$C y $V = 20$ **km/h**. Almacena el resultado en la variable `ciudad_4`.\n",
    "\n",
    "**Notas**.\n",
    "* Recuerda que para la fórmula del $IC$ la velocidad debe estar dada en **m/s**.\n",
    "* Para convertir de **km/h** a **m/s**, debes multiplicar por $1000$ y dividir por $3600$, por ejemplo:\n",
    "    *  $10$ **km/h** $= 10 \\times 1000 / 3600$ **m/s** $= 2.77$ **m/s**.\n",
    "</font>\n",
    "</div>"
   ]
  },
  {
   "cell_type": "code",
   "execution_count": null,
   "metadata": {},
   "outputs": [],
   "source": [
    "# 1. Fairbanks, AK, EEUU\n",
    "V = 8  # km/h\n",
    "Ta = 7 # Celsius\n",
    "\n",
    "# Podemos checar: Ta <= 10 y V > 4.8:\n",
    "print(Ta <= 10 and V > 4.8)\n",
    "\n",
    "# ciudad_1 = ...\n",
    "### BEGIN SOLUTION\n",
    "# Como Ta es menor que 10, entonces usamos WCI\n",
    "ciudad_1 = 13.12 + 0.6215 * Ta - 11.37 * V**(0.16) + 0.3965 * Ta * V**(0.16)\n",
    "### END SOLUTION\n",
    "\n",
    "print(ciudad_1)"
   ]
  },
  {
   "cell_type": "code",
   "execution_count": null,
   "metadata": {},
   "outputs": [],
   "source": [
    "# 2. Yukon Crossing, Yukón, Canadá\n",
    "V = 5   # km/h\n",
    "Ta = 4 # Celsius\n",
    "\n",
    "# Podemos checar: Ta <= 10 y V > 4.8:\n",
    "print(Ta <= 10 and V > 4.8)\n",
    "\n",
    "# ciudad_2 = ...\n",
    "### BEGIN SOLUTION\n",
    "# Como Ta es menor que 10, entonces usamos WCI\n",
    "ciudad_2 = 13.12 + 0.6215 * Ta - 11.37 * V**(0.16) + 0.3965 * Ta * V**(0.16)\n",
    "### END SOLUTION\n",
    "\n",
    "print(ciudad_2)"
   ]
  },
  {
   "cell_type": "code",
   "execution_count": null,
   "metadata": {},
   "outputs": [],
   "source": [
    "# 3. Orlando, FL, Estados Unidos\n",
    "V = 21  # km/h\n",
    "Ta = 26 # Celsius\n",
    "\n",
    "# Podemos checar: Ta <= 10 y V > 4.8:\n",
    "print(Ta <= 10 and V > 4.8)\n",
    "\n",
    "# ciudad_3 = ...\n",
    "### BEGIN SOLUTION\n",
    "# Como Ta es mayor que 10, entonces usamos IC\n",
    "V = V * 1000/3600 # Convertimos a m/s\n",
    "ciudad_3 = 33 + (Ta - 33) * (0.474 + 0.454 * V**(1/2) - 0.0454 * V)\n",
    "### END SOLUTION\n",
    "\n",
    "print(ciudad_3)"
   ]
  },
  {
   "cell_type": "code",
   "execution_count": null,
   "metadata": {},
   "outputs": [],
   "source": [
    "# 4. Cancún, Quintana Roo\n",
    "V = 20  # km/h\n",
    "Ta = 32 # Celsius\n",
    "\n",
    "# Podemos checar: Ta <= 10 y V > 4.8:\n",
    "print(Ta <= 10 and V > 4.8)\n",
    "\n",
    "# ciudad_4 = ...\n",
    "### BEGIN SOLUTION\n",
    "# Como Ta es mayor que 10, entonces usamos IC\n",
    "V = V * 1000/3600 # Convertimos a m/s\n",
    "ciudad_4 = 33 + (Ta - 33) * (0.474 + 0.454 * V**(1/2)-0.0454 * V)\n",
    "### END SOLUTION\n",
    "\n",
    "print(ciudad_4)"
   ]
  },
  {
   "cell_type": "code",
   "execution_count": null,
   "metadata": {},
   "outputs": [],
   "source": []
  }
 ],
 "metadata": {
  "kernelspec": {
   "display_name": "Python 3 (ipykernel)",
   "language": "python",
   "name": "python3"
  },
  "language_info": {
   "codemirror_mode": {
    "name": "ipython",
    "version": 3
   },
   "file_extension": ".py",
   "mimetype": "text/x-python",
   "name": "python",
   "nbconvert_exporter": "python",
   "pygments_lexer": "ipython3",
   "version": "3.11.6"
  }
 },
 "nbformat": 4,
 "nbformat_minor": 4
}
