{
 "cells": [
  {
   "cell_type": "markdown",
   "id": "bfa60669-3d49-4f82-98b1-c2914f50e11f",
   "metadata": {},
   "source": [
    "# Proyecto.\n",
    "\n",
    "<p xmlns:cc=\"http://creativecommons.org/ns#\" xmlns:dct=\"http://purl.org/dc/terms/\"><a property=\"dct:title\" rel=\"cc:attributionURL\" href=\"https://github.com/repomacti/introduccion_python\">Introducción a Python</a> by <a rel=\"cc:attributionURL dct:creator\" property=\"cc:attributionName\" href=\"https://gmc.geofisica.unam.mx/luiggi\">Luis Miguel de la Cruz Salas</a> is licensed under <a href=\"https://creativecommons.org/licenses/by-sa/4.0/?ref=chooser-v1\" target=\"_blank\" rel=\"license noopener noreferrer\" style=\"display:inline-block;\">CC BY-SA 4.0<img style=\"height:22px!important;margin-left:3px;vertical-align:text-bottom;\" src=\"https://mirrors.creativecommons.org/presskit/icons/cc.svg?ref=chooser-v1\" alt=\"\"><img style=\"height:22px!important;margin-left:3px;vertical-align:text-bottom;\" src=\"https://mirrors.creativecommons.org/presskit/icons/by.svg?ref=chooser-v1\" alt=\"\"><img style=\"height:22px!important;margin-left:3px;vertical-align:text-bottom;\" src=\"https://mirrors.creativecommons.org/presskit/icons/sa.svg?ref=chooser-v1\" alt=\"\"></a></p> "
   ]
  },
  {
   "cell_type": "markdown",
   "id": "a231fc78-c2ca-4266-9202-39c5fa4d6753",
   "metadata": {},
   "source": [
    "<div class=\"alert alert-block alert-success\">\n",
    "\n",
    "## Versión 2.\n",
    "\n",
    "<font color=\"Black\">\n",
    "\n",
    "La siguiente fórmula cálcula la temperatura de sensación térmica en grados Celsius (también conocido como *wind chill index*):\n",
    "$$\n",
    "WCI = 13.12 + 0.6215 \\times T_a - 11.37 \\times V^{0.16} + 0.3965 \\times T_a \\times V^{0.16}\n",
    "$$\n",
    "donde $T_a$ es la temperatura del aire en grados Celsius y $V$ la velocidad del viento en kilómetros por hora. \n",
    "\n",
    "Implementa un código que solicite al usuario el nombre de la ciudad, la temperatura del aire $T_a$ y la velocidad $V$, y con esos datos que calcule el $WCI$. El código deberá generar una salida como la siguiente:\n",
    "\n",
    "```\n",
    "Escribe el nombre de la ciudad: Fairbanks\n",
    "Escribe la temperatura del aire: 7\n",
    "Escribe la velocidad del aire: 8\n",
    "En la ciudad de Fairbanks se tiene un WCI = 7.0,  para Ta = 8.0 [C] y V =  5.48 [km/h]\n",
    "```\n",
    "Realiza los ejercicios para las siguientes ciudades:\n",
    "1. Fairbanks, AK, Estados Unidos: $T_a = 7 \\; ^o$C y $V = 8$ **km/h**. \n",
    "2. Yukon Crossing, Yukón, Canadá: $T_a = 10 \\; ^o$C y $V = 4$ **km/h**.\n",
    "\n",
    "</font>\n",
    "</div>"
   ]
  },
  {
   "cell_type": "code",
   "execution_count": 126,
   "id": "9d8ca9c1-216b-4e49-aea1-ba7e5d5b06b3",
   "metadata": {},
   "outputs": [
    {
     "name": "stdin",
     "output_type": "stream",
     "text": [
      "Escribe el nombre de la ciudad: rt\n",
      "Escribe la temperatura del aire: 7\n",
      "Escribe la velocidad del aire: 8\n"
     ]
    },
    {
     "name": "stdout",
     "output_type": "stream",
     "text": [
      "En la ciudad de rt se tiene un WCI = 7.0,  para Ta = 8.0 [C] y V =  5.48 [km/h]\n"
     ]
    }
   ],
   "source": [
    "ciudad = input(\"Escribe el nombre de la ciudad:\")\n",
    "Ta = float(input(\"Escribe la temperatura del aire:\"))\n",
    "V = float(input(\"Escribe la velocidad del aire:\"))\n",
    "WCI = 13.12 + 0.6215 * Ta - 11.37 * V**(0.16) + 0.3965 * Ta * V**(0.16)\n",
    "print(\"En la ciudad de {} se tiene un WCI = {},  para Ta = {} [C] y V = {:5.3f} [km/h]\".format(ciudad, Ta, V, WCI))"
   ]
  }
 ],
 "metadata": {
  "kernelspec": {
   "display_name": "Python 3 (ipykernel)",
   "language": "python",
   "name": "python3"
  },
  "language_info": {
   "codemirror_mode": {
    "name": "ipython",
    "version": 3
   },
   "file_extension": ".py",
   "mimetype": "text/x-python",
   "name": "python",
   "nbconvert_exporter": "python",
   "pygments_lexer": "ipython3",
   "version": "3.11.6"
  }
 },
 "nbformat": 4,
 "nbformat_minor": 5
}
