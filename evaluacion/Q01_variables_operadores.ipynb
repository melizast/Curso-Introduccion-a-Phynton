{
 "cells": [
  {
   "cell_type": "markdown",
   "metadata": {},
   "source": [
    "# Quiz. Variables y operadores\n",
    "\n",
    " <p xmlns:cc=\"http://creativecommons.org/ns#\" xmlns:dct=\"http://purl.org/dc/terms/\"><a property=\"dct:title\" rel=\"cc:attributionURL\" href=\"https://github.com/repomacti/introduccion_python\">Introducción a Python</a> by <a rel=\"cc:attributionURL dct:creator\" property=\"cc:attributionName\" href=\"https://gmc.geofisica.unam.mx/luiggi\">Luis Miguel de la Cruz Salas</a> is licensed under <a href=\"https://creativecommons.org/licenses/by-sa/4.0/?ref=chooser-v1\" target=\"_blank\" rel=\"license noopener noreferrer\" style=\"display:inline-block;\">CC BY-SA 4.0<img style=\"height:22px!important;margin-left:3px;vertical-align:text-bottom;\" src=\"https://mirrors.creativecommons.org/presskit/icons/cc.svg?ref=chooser-v1\" alt=\"\"><img style=\"height:22px!important;margin-left:3px;vertical-align:text-bottom;\" src=\"https://mirrors.creativecommons.org/presskit/icons/by.svg?ref=chooser-v1\" alt=\"\"><img style=\"height:22px!important;margin-left:3px;vertical-align:text-bottom;\" src=\"https://mirrors.creativecommons.org/presskit/icons/sa.svg?ref=chooser-v1\" alt=\"\"></a></p> "
   ]
  },
  {
   "cell_type": "markdown",
   "metadata": {},
   "source": [
    "<div class=\"alert alert-block alert-success\">\n",
    "\n",
    "## Ejercicio 1.\n",
    "\n",
    "<font color=\"black\">\n",
    "    \n",
    "1. ¿Cuáles de los siguientes nombres **SI** son correctos y cuáles **NO** para definir nombres de variables?\n",
    "    1. `𝜋 = 3 + 1/7`\n",
    "    2.  `r = 25`\n",
    "    3.  `await = \"espera un momento\"`\n",
    "    4.  `peña_de_bernal = \"formación rocosa\"`\n",
    "    5.  `area_del_círculo = 𝜋 * r**2`\n",
    "    6.  `contacto@mail.com = \"mi correo electrónico\"`\n",
    "    7.  `numero80 = 80.5`\n",
    "    8.  `23_flotante = 10`\n",
    "    9.  `complejo = 5 + 8k`\n",
    "    10.  `CoMpLeJ0 = 5 + 8j`\n",
    "<br><br>\n",
    "\n",
    "Para cada ejemplo, escribe tus respuestas usando las cadenas `\"correcto\"` o \"`incorrecto`\" dependiendo del caso y asígnalas a una variable con el nombre de la pregunta por ejemplo:\n",
    "   ```python\n",
    "    A = \"correcto\"\n",
    "    B = \"incorrecto\"\n",
    "   ...\n",
    "   ```\n",
    "\n",
    "</font>\n",
    "</div>"
   ]
  },
  {
   "cell_type": "code",
   "execution_count": null,
   "metadata": {},
   "outputs": [],
   "source": [
    "# Respuestas pregunta 1.\n",
    "# A = ...\n",
    "# ...\n",
    "### BEGIN SOLUTION\n",
    "𝜋 = 3 + 1/7\n",
    "r = 25\n",
    "#await = \"espera un momento\"\n",
    "peña_de_bernal = \"formación rocosa\"\n",
    "area_del_círculo = 𝜋 * r**2\n",
    "#contacto@mail.com = \"mi correo electrónico\"\n",
    "numero80 = 80.5\n",
    "#23_flotante = 10\n",
    "#complejo = 5 + 8k\n",
    "CoMpLeJ0 = 5 + 8j\n",
    "\n",
    "A = \"correcto\"\n",
    "B = \"correcto\"\n",
    "C = \"incorrecto\"\n",
    "D = \"correcto\"\n",
    "E = \"correcto\"\n",
    "F = \"incorrecto\"\n",
    "G = \"correcto\"\n",
    "H = \"incorrecto\"\n",
    "I = \"incorrecto\"\n",
    "J = \"correcto\"\n",
    "### END SOLUTION"
   ]
  },
  {
   "cell_type": "markdown",
   "metadata": {},
   "source": [
    "<div class=\"alert alert-block alert-success\">\n",
    "\n",
    "## Ejercicio 2.\n",
    "\n",
    "<font color=\"black\">\n",
    "\n",
    "¿Cuántos objetos se crean en la siguiente declaración?\n",
    "```python\n",
    "a = b = c = d = 100\n",
    "```\n",
    "<br>\n",
    "\n",
    "Escribe tu respuesta en la variable `R2` usando un valor entero:\n",
    "```python\n",
    "R2 = ...\n",
    "```\n",
    "</font>\n",
    "</div>"
   ]
  },
  {
   "cell_type": "code",
   "execution_count": null,
   "metadata": {},
   "outputs": [],
   "source": [
    "# Respuesta pregunta 2.\n",
    "# R2 = ...\n",
    "### BEGIN SOLUTION\n",
    "R2 = 1\n",
    "### END SOLUTION"
   ]
  },
  {
   "cell_type": "markdown",
   "metadata": {},
   "source": [
    "<div class=\"alert alert-block alert-success\">\n",
    "\n",
    "## Ejercicio 3.\n",
    "\n",
    "<font color=\"black\">\n",
    "\n",
    "¿Cuántos objetos se crean en la siguiente declaración?\n",
    "   \n",
    "```python\n",
    "a, b, c, d = 5, 6, 7, 8\n",
    "```\n",
    "<br>\n",
    "\n",
    "Escribe tu respuesta en la variable `R3` usando un valor entero:\n",
    "```python\n",
    "R3 = ...\n",
    "```\n",
    "</font>\n",
    "</div>"
   ]
  },
  {
   "cell_type": "code",
   "execution_count": null,
   "metadata": {},
   "outputs": [],
   "source": [
    "# Respuesta pregunta 3.\n",
    "# R3 = ...\n",
    "### BEGIN SOLUTION\n",
    "R3 = 4\n",
    "### END SOLUTION"
   ]
  },
  {
   "cell_type": "markdown",
   "metadata": {},
   "source": [
    "<div class=\"alert alert-block alert-success\">\n",
    "\n",
    "## Ejercicio 4.\n",
    "\n",
    "<font color=\"black\">\n",
    "\n",
    "¿De qué tipo son los objetos creados en la siguiente declaración?\n",
    "```python\n",
    "u, v, w, x  = 3+4j, 5, \"Viva\", False\n",
    "```\n",
    "<br>\n",
    "\n",
    "Escribe tus respuestas en las variables `tipo_u`, `tipo_v`, `tipo_w` y `tipo_x` usando la cadena correspondiente del tipo (`\"int\"`, `\"float\"`, `\"complex\"`, `\"str\"`, `\"bool\"`):\n",
    "```python\n",
    "tipo_u = ...\n",
    "tipo_v = ...\n",
    "tipo_w = ...\n",
    "tipo_x = ...\n",
    "```\n",
    "</font>\n",
    "</div>"
   ]
  },
  {
   "cell_type": "code",
   "execution_count": null,
   "metadata": {},
   "outputs": [],
   "source": [
    "# Respuestas pregunta 4.\n",
    "# tipo_u = ...\n",
    "# ...\n",
    "### BEGIN SOLUTION\n",
    "tipo_u = \"complex\" \n",
    "tipo_v = \"int\"\n",
    "tipo_w = \"str\"\n",
    "tipo_x = \"bool\"\n",
    "### END SOLUTION"
   ]
  },
  {
   "cell_type": "markdown",
   "metadata": {},
   "source": [
    "<div class=\"alert alert-block alert-success\">\n",
    "\n",
    "## Ejercicio 5.\n",
    "\n",
    "<font color=\"Black\">\n",
    "    \n",
    "Define la variable `𝜋 = 3.141592` y luego calcula el área de un círculo de radio $53\\times10^{-12}$. Define la variable `r` para almacenar el radio y la variable `area` para almacenar el cálculo del área.\n",
    "\n",
    "**Hint**. En Python el número $53\\times10^{-12}$ se escribe como: `53e-12`. \n",
    "</font>\n",
    "</div>"
   ]
  },
  {
   "cell_type": "code",
   "execution_count": 6,
   "metadata": {},
   "outputs": [
    {
     "name": "stdout",
     "output_type": "stream",
     "text": [
      "Área del círculo de radio  5.3e-11  es  8.824731928e-21\n"
     ]
    }
   ],
   "source": [
    "# Define las variables 𝜋 y r, y la fórmula del área\n",
    "### BEGIN SOLUTION\n",
    "𝜋 = 3.141592\n",
    "r = 53e-12\n",
    "area = 𝜋 * r ** 2\n",
    "### END SOLUTION\n",
    "print(\"Área del círculo de radio \", r, \" es \", area)"
   ]
  },
  {
   "cell_type": "markdown",
   "metadata": {},
   "source": [
    "<div class=\"alert alert-block alert-success\">\n",
    "\n",
    "## Ejercicio 6.\n",
    "\n",
    "<font color=\"Black\">\n",
    "\n",
    "\n",
    "El teorema de Pitágoras establece que, en todo triángulo rectángulo, la longitud de la hipotenusa es igual a la raíz cuadrada de la suma del cuadrado de los catetos. Si $a$ y $b$ son los catetos y $c$ la hipotenusa, entonces:\n",
    "\n",
    "$$c = \\sqrt{a^2 + b^2}$$\n",
    "\n",
    "Calcula la hipotenusa de un triángulo rectángulo cuyos catetos miden $a = 13$ y $b = 8$.\n",
    "\n",
    "Almacena el tipo numérico de `c` como sigue: `tipo_c = type(c)`.\n",
    "</font>\n",
    "</div>"
   ]
  },
  {
   "cell_type": "code",
   "execution_count": 16,
   "metadata": {},
   "outputs": [
    {
     "name": "stdout",
     "output_type": "stream",
     "text": [
      "13 <class 'int'>\n",
      "8 <class 'int'>\n",
      "15.264337522473747 <class 'float'>\n"
     ]
    }
   ],
   "source": [
    "# a = ...\n",
    "# b = ...\n",
    "# c = ...\n",
    "# tipo_c = ...\n",
    "### BEGIN SOLUTION\n",
    "a = 13\n",
    "b = 8\n",
    "c = (a**2 + b**2) ** (0.5)\n",
    "tipo_c = type(c)\n",
    "### END SOLUTION\n",
    "\n",
    "print(a, type(a))\n",
    "print(b, type(b))\n",
    "print(c, tipo_c)"
   ]
  },
  {
   "cell_type": "markdown",
   "metadata": {},
   "source": [
    "<div class=\"alert alert-block alert-success\">\n",
    "\n",
    "## Ejercicio 7.\n",
    "\n",
    "<font color=\"Black\">\n",
    "\n",
    "La fórmula para calcular el interés compuesto es la siguiente:\n",
    "\n",
    "$$\n",
    "A = P (1 + \\dfrac{r}{n})^{nt}\n",
    "$$\n",
    "\n",
    "donde:\n",
    "\n",
    "* $A$ = cantidad final\n",
    "* $P$ = capital inicial\n",
    "* $r$ = tasa de interés\n",
    "* $n$ = número de veces que se ha aplicado el interés por periodo\n",
    "* $t$ = número de periodos transcurridos\n",
    " \n",
    "Implementa la fórmula del interés compuesto y realiza una evaluación para los siguientes datos:\n",
    "\n",
    "* $t = 2$,\n",
    "* $n = 12$,\n",
    "* $P = 250,000$ y\n",
    "* $r = 0.18$.\n",
    "\n",
    "</font>\n",
    "</div>"
   ]
  },
  {
   "cell_type": "code",
   "execution_count": 10,
   "metadata": {},
   "outputs": [
    {
     "name": "stdout",
     "output_type": "stream",
     "text": [
      "Cantidad final A =  357375.70298225543\n"
     ]
    }
   ],
   "source": [
    "# Define primero todas las variables\n",
    "# ...\n",
    "# Implementa la fórmula\n",
    "# ...\n",
    "### BEGIN SOLUTION\n",
    "t = 2\n",
    "n = 12\n",
    "P = 250_000\n",
    "r = 0.18\n",
    "A = P *( 1 + r / n) ** (n * t)\n",
    "### END SOLUTION\n",
    "print(\"Cantidad final A = \", A)"
   ]
  },
  {
   "cell_type": "markdown",
   "metadata": {},
   "source": [
    "<div class=\"alert alert-block alert-success\">\n",
    "\n",
    "## Ejercicio 8.\n",
    "\n",
    "<font color=\"Black\">\n",
    "\n",
    "Realiza la siguiente operación $suma = 1 + 2 + 3 + 4 + 5$ usando el operador `+=`. \n",
    "\n",
    "**Hint**. Inicializa `suma = 1`, posteriormente ve agregando el número correspondiente a `suma` usando `+=` hasta obtener el resultado correcto.\n",
    "</font>\n",
    "</div>"
   ]
  },
  {
   "cell_type": "code",
   "execution_count": 5,
   "metadata": {},
   "outputs": [
    {
     "name": "stdout",
     "output_type": "stream",
     "text": [
      "15\n"
     ]
    }
   ],
   "source": [
    "# suma = 1\n",
    "# suma += 2\n",
    "# ...\n",
    "### BEGIN SOLUTION\n",
    "suma = 1\n",
    "suma += 2\n",
    "suma += 3\n",
    "suma += 4\n",
    "suma += 5\n",
    "### END SOLUTION\n",
    "\n",
    "print(suma)"
   ]
  },
  {
   "cell_type": "markdown",
   "metadata": {},
   "source": [
    "<div class=\"alert alert-block alert-success\">\n",
    "\n",
    "## Ejercicio 9.\n",
    "\n",
    "<font color=\"Black\">\n",
    "\n",
    "Calcula el promedio de la siguiente lista de números: $3.4$, $5.6$, $2.9$, $3.8$, $4.5$. \n",
    "\n",
    "Primero suma todos los números y almacena el resultado en la variable `promedio`. Posteriormente divide el resultado entre el total de números usando el operador `/=`.\n",
    "</font>\n",
    "</div>"
   ]
  },
  {
   "cell_type": "code",
   "execution_count": 6,
   "metadata": {},
   "outputs": [
    {
     "name": "stdout",
     "output_type": "stream",
     "text": [
      "4.04\n"
     ]
    }
   ],
   "source": [
    "# promedio = ...\n",
    "# promedio /= ...\n",
    "### BEGIN SOLUTION\n",
    "promedio = 3.4 + 5.6 + 2.9 + 3.8 + 4.5\n",
    "promedio /= 5\n",
    "### END SOLUTION\n",
    "\n",
    "print(promedio)"
   ]
  },
  {
   "cell_type": "markdown",
   "metadata": {},
   "source": [
    "<div class=\"alert alert-block alert-success\">\n",
    "\n",
    "## Ejercicio 10.\n",
    "\n",
    "<font color=\"Black\">\n",
    "\n",
    "Un ejemplo de serie geométrica es el siguiente:\n",
    "$$\n",
    "\\text{serie} = \\dfrac{1}{2} + \\dfrac{1}{4} + \\dfrac{1}{8} + \\dfrac{1}{16} + \\dfrac{1}{32} + \\dots\n",
    "$$\n",
    "\n",
    "Observa que cada término sucesivo se obtiene al multiplicar el término anterior por $\\dfrac{1}{2}$. Por ejemplo: $\\dfrac{1}{8} = \\dfrac{1}{4} \\times \\dfrac{1}{2}$.\n",
    "   \n",
    "Implementa los primeros cinco términos de esta serie geométrica usando los operadores `*=` y `+=`.\n",
    "   \n",
    "**Hint**. Define las variables `geom = 1/2` y `serie = geom`, posteriormente construye cada elemento de la serie geométrica usando `geom` y `*=` y luego agrégalo a `serie` usando `+=`.\n",
    "\n",
    "</font>\n",
    "</div>"
   ]
  },
  {
   "cell_type": "code",
   "execution_count": 1,
   "metadata": {},
   "outputs": [
    {
     "name": "stdout",
     "output_type": "stream",
     "text": [
      "0.96875\n"
     ]
    }
   ],
   "source": [
    "# Resultado final debería ser:\n",
    "print(1/2 + 1/4 + 1/8 + 1/16 + 1/32)"
   ]
  },
  {
   "cell_type": "code",
   "execution_count": 2,
   "metadata": {},
   "outputs": [
    {
     "name": "stdout",
     "output_type": "stream",
     "text": [
      "0.96875\n"
     ]
    }
   ],
   "source": [
    "# geom = 1/2\n",
    "# serie = geom\n",
    "# geom *= ...\n",
    "# serie += ...\n",
    "# ...\n",
    "### BEGIN SOLUTION\n",
    "geom = 1/2\n",
    "serie = geom\n",
    "geom *= 1/2\n",
    "serie += geom\n",
    "geom *= 1/2\n",
    "serie += geom\n",
    "geom *= 1/2\n",
    "serie += geom\n",
    "geom *= 1/2\n",
    "serie += geom\n",
    "### END SOLUTION\n",
    "\n",
    "print(serie)"
   ]
  },
  {
   "cell_type": "code",
   "execution_count": null,
   "metadata": {},
   "outputs": [],
   "source": []
  }
 ],
 "metadata": {
  "kernelspec": {
   "display_name": "Python 3 (ipykernel)",
   "language": "python",
   "name": "python3"
  },
  "language_info": {
   "codemirror_mode": {
    "name": "ipython",
    "version": 3
   },
   "file_extension": ".py",
   "mimetype": "text/x-python",
   "name": "python",
   "nbconvert_exporter": "python",
   "pygments_lexer": "ipython3",
   "version": "3.11.6"
  }
 },
 "nbformat": 4,
 "nbformat_minor": 4
}
