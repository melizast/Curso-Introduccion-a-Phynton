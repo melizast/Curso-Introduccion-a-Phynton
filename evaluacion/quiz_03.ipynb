{
 "cells": [
  {
   "cell_type": "markdown",
   "id": "adfc9d6d-f6e8-4139-a691-953925f9e808",
   "metadata": {
    "nbgrader": {
     "grade": false,
     "grade_id": "cell-8928187f83c4a1f5",
     "locked": true,
     "schema_version": 3,
     "solution": false,
     "task": false
    }
   },
   "source": [
    "# Introducción a Python\n",
    "\n",
    " <p xmlns:cc=\"http://creativecommons.org/ns#\" xmlns:dct=\"http://purl.org/dc/terms/\"><a property=\"dct:title\" rel=\"cc:attributionURL\" href=\"https://github.com/repomacti/introduccion_python\">Introducción a Python</a> by <a rel=\"cc:attributionURL dct:creator\" property=\"cc:attributionName\" href=\"https://gmc.geofisica.unam.mx/luiggi\">Luis Miguel de la Cruz Salas</a> is licensed under <a href=\"https://creativecommons.org/licenses/by-sa/4.0/?ref=chooser-v1\" target=\"_blank\" rel=\"license noopener noreferrer\" style=\"display:inline-block;\">CC BY-SA 4.0<img style=\"height:22px!important;margin-left:3px;vertical-align:text-bottom;\" src=\"https://mirrors.creativecommons.org/presskit/icons/cc.svg?ref=chooser-v1\" alt=\"\"><img style=\"height:22px!important;margin-left:3px;vertical-align:text-bottom;\" src=\"https://mirrors.creativecommons.org/presskit/icons/by.svg?ref=chooser-v1\" alt=\"\"><img style=\"height:22px!important;margin-left:3px;vertical-align:text-bottom;\" src=\"https://mirrors.creativecommons.org/presskit/icons/sa.svg?ref=chooser-v1\" alt=\"\"></a></p> \n",
    "\n",
    "# Quiz 3."
   ]
  },
  {
   "cell_type": "markdown",
   "id": "56ad46e1-c307-4b30-a4a2-ae5bc95d2aed",
   "metadata": {
    "nbgrader": {
     "grade": false,
     "grade_id": "cell-ed1c83650419d748",
     "locked": true,
     "schema_version": 3,
     "solution": false,
     "task": false
    }
   },
   "source": [
    "<div class=\"alert alert-block alert-success\">\n",
    "\n",
    "## Ejercicio 1.\n",
    "\n",
    "Implementa la siguiente serie geométrica usando un ciclo `while`.\n",
    "$$\n",
    "\\sum_{n=1}^{N} \\dfrac{1}{2^n} = \\dfrac{1}{2} + \\dfrac{1}{4} + \\dfrac{1}{8} + \\dfrac{1}{16} + \\dfrac{1}{32} + \\dots \n",
    "$$\n",
    "\n",
    "En cada iteración se debe imprimir el valor de `n` y la suma parcial, la cual deberás almacenar en la variable `suma`, de tal manera que para `N = 10` la salida sea como sigue:\n",
    "\n",
    "```\n",
    "  n   suma  \n",
    "-------------\n",
    "  1  0.50000\n",
    "  2  0.75000\n",
    "  3  0.87500\n",
    "  4  0.93750\n",
    "  5  0.96875\n",
    "  6  0.98438\n",
    "  7  0.99219\n",
    "  8  0.99609\n",
    "  9  0.99805\n",
    " 10  0.99902\n",
    "```\n",
    "</div>"
   ]
  },
  {
   "cell_type": "code",
   "execution_count": 5,
   "id": "5243b9d6-7840-47dc-82a5-1e58c2197dca",
   "metadata": {
    "nbgrader": {
     "grade": false,
     "grade_id": "cell-3c05eb5f693371fe",
     "locked": false,
     "schema_version": 3,
     "solution": true,
     "task": false
    }
   },
   "outputs": [
    {
     "name": "stdout",
     "output_type": "stream",
     "text": [
      "  n   suma  \n",
      "-------------\n",
      "  1  0.50000\n",
      "  2  0.75000\n",
      "  3  0.87500\n",
      "  4  0.93750\n",
      "  5  0.96875\n",
      "  6  0.98438\n",
      "  7  0.99219\n",
      "  8  0.99609\n",
      "  9  0.99805\n",
      " 10  0.99902\n",
      "El directorio :/home/jovyan/introduccion_python/.ans/evaluacion/ ya existe\n",
      "Respuestas y retroalimentación almacenadas.\n"
     ]
    }
   ],
   "source": [
    "N = 10\n",
    "suma = 0\n",
    "n = 1\n",
    "# print(...)\n",
    "# print(\"-\"*13)\n",
    "# while ...\n",
    "#     ...\n",
    "### BEGIN SOLUTION\n",
    "print(\"{:>3s} {:^8s}\".format('n', 'suma'))\n",
    "print(\"-\"*13)\n",
    "while n <= N:\n",
    "    suma += 1 / 2**n\n",
    "    print(f\"{n:>3d} {suma:8.5f}\")\n",
    "    n += 1\n",
    "\n",
    "from macti.evaluation import FileAnswer\n",
    "file_answer = FileAnswer() \n",
    "file_answer.verb = 2\n",
    "\n",
    "f_1=\"\"\"Dentro del 'while' la suma se debe calcular como :\n",
    "        suma += 1/2**n\n",
    "y no olvides incrementar el valor de 'n' (n += 1).\n",
    "\"\"\"\n",
    "file_answer.write('1', suma, f_1)\n",
    "file_answer.to_file('q3') \n",
    "### END SOLUTION"
   ]
  },
  {
   "cell_type": "code",
   "execution_count": 8,
   "id": "349cc879-4922-4af0-862c-40a2587ccf90",
   "metadata": {},
   "outputs": [
    {
     "name": "stdout",
     "output_type": "stream",
     "text": [
      "\u001b[39m----------------------------------------\n",
      "\u001b[32m1 | Tu resultado es correcto.\n",
      "\u001b[39m----------------------------------------\n"
     ]
    }
   ],
   "source": [
    "from macti.evaluation import Quizz\n",
    "quizz = Quizz('q3', 'introduccion_python', 'local')\n",
    "\n",
    "quizz.eval_numeric('1', suma)"
   ]
  },
  {
   "cell_type": "markdown",
   "id": "ba18d2d4-7fae-4f4b-8da3-ed4efe76f2c6",
   "metadata": {
    "nbgrader": {
     "grade": false,
     "grade_id": "cell-d23c3d072b69e3c8",
     "locked": true,
     "schema_version": 3,
     "solution": false,
     "task": false
    }
   },
   "source": [
    "<div class=\"alert alert-block alert-success\">\n",
    "\n",
    "## Ejercicio 2.\n",
    "\n",
    "Repite el **ejercicio 1** usando un ciclo `for`.\n",
    "</div>"
   ]
  },
  {
   "cell_type": "code",
   "execution_count": 9,
   "id": "e7bba89b-906b-4fc0-bb1f-e97a1e9fe788",
   "metadata": {
    "nbgrader": {
     "grade": false,
     "grade_id": "cell-fec8ff2ea0196634",
     "locked": false,
     "schema_version": 3,
     "solution": true,
     "task": false
    }
   },
   "outputs": [
    {
     "name": "stdout",
     "output_type": "stream",
     "text": [
      "  n   suma  \n",
      "-------------\n",
      "  1  0.50000\n",
      "  2  0.75000\n",
      "  3  0.87500\n",
      "  4  0.93750\n",
      "  5  0.96875\n",
      "  6  0.98438\n",
      "  7  0.99219\n",
      "  8  0.99609\n",
      "  9  0.99805\n",
      " 10  0.99902\n",
      "El directorio :/home/jovyan/introduccion_python/.ans/evaluacion/ ya existe\n",
      "Respuestas y retroalimentación almacenadas.\n"
     ]
    }
   ],
   "source": [
    "N = 10\n",
    "suma = 0\n",
    "# print(...)\n",
    "# print(\"-\"*13)\n",
    "# for ...\n",
    "#     ...\n",
    "### BEGIN SOLUTION\n",
    "print(\"{:>3s} {:^8s}\".format('n', 'suma'))\n",
    "print(\"-\"*13)\n",
    "for n in range(1,N+1):\n",
    "    suma += 1 / 2**n\n",
    "    print(f\"{n:>3d} {suma:8.5f}\")\n",
    "\n",
    "f_2=\"\"\"La implementación de la suma es igual que en el ejercicio 2. \n",
    "La 'n' se incrementa automáticamente en un ciclo 'for':\n",
    "for n in range(1, ...):\n",
    "\"\"\"\n",
    "file_answer.write('2', suma, f_2)\n",
    "file_answer.to_file('q3')\n",
    "### END SOLUTION"
   ]
  },
  {
   "cell_type": "code",
   "execution_count": 13,
   "id": "d124ba10-c9a3-4da1-a37a-6878671c1a87",
   "metadata": {},
   "outputs": [
    {
     "name": "stdout",
     "output_type": "stream",
     "text": [
      "\u001b[39m----------------------------------------\n",
      "\u001b[32m2 | Tu resultado es correcto.\n",
      "\u001b[39m----------------------------------------\n"
     ]
    }
   ],
   "source": [
    "quizz.eval_numeric('2', suma)"
   ]
  },
  {
   "cell_type": "markdown",
   "id": "40250ce3-ce2f-4f7f-8b8d-91502837c0ba",
   "metadata": {
    "nbgrader": {
     "grade": false,
     "grade_id": "cell-3f4808c389e1c411",
     "locked": true,
     "schema_version": 3,
     "solution": false,
     "task": false
    }
   },
   "source": [
    "<div class=\"alert alert-block alert-success\">\n",
    "\n",
    "## Ejercicio 3. \n",
    "\n",
    "Usando dos ciclos `for` anidados imprime el siguiente texto:\n",
    "```\n",
    " 1  aA aB aC aD aE aF aG aH aI aJ \n",
    "Ba  2  bB bC bD bE bF bG bH bI bJ \n",
    "Ca Cb  3  cC cD cE cF cG cH cI cJ \n",
    "Da Db Dc  4  dD dE dF dG dH dI dJ \n",
    "Ea Eb Ec Ed  5  eE eF eG eH eI eJ \n",
    "Fa Fb Fc Fd Fe  6  fF fG fH fI fJ \n",
    "Ga Gb Gc Gd Ge Gf  7  gG gH gI gJ \n",
    "Ha Hb Hc Hd He Hf Hg  8  hH hI hJ \n",
    "Ia Ib Ic Id Ie If Ig Ih  9  iI iJ \n",
    "Ja Jb Jc Jd Je Jf Jg Jh Ji  10 jJ \n",
    "```\n",
    "</div>"
   ]
  },
  {
   "cell_type": "code",
   "execution_count": 14,
   "id": "81dd8b2f-e5e5-4fee-84cd-0fb6f22a41b9",
   "metadata": {
    "nbgrader": {
     "grade": false,
     "grade_id": "cell-0e5375e306d75b4e",
     "locked": false,
     "schema_version": 3,
     "solution": true,
     "task": false
    }
   },
   "outputs": [
    {
     "name": "stdout",
     "output_type": "stream",
     "text": [
      " 1  aA aB aC aD aE aF aG aH aI aJ \n",
      "Ba  2  bB bC bD bE bF bG bH bI bJ \n",
      "Ca Cb  3  cC cD cE cF cG cH cI cJ \n",
      "Da Db Dc  4  dD dE dF dG dH dI dJ \n",
      "Ea Eb Ec Ed  5  eE eF eG eH eI eJ \n",
      "Fa Fb Fc Fd Fe  6  fF fG fH fI fJ \n",
      "Ga Gb Gc Gd Ge Gf  7  gG gH gI gJ \n",
      "Ha Hb Hc Hd He Hf Hg  8  hH hI hJ \n",
      "Ia Ib Ic Id Ie If Ig Ih  9  iI iJ \n",
      "Ja Jb Jc Jd Je Jf Jg Jh Ji  10 jJ \n"
     ]
    }
   ],
   "source": [
    "abe = 'abcdefghij'\n",
    "N = len(abe)\n",
    "# for i ...\n",
    "#     for j ...\n",
    "#         ...\n",
    "### BEGIN SOLUTION\n",
    "for i in range(1,N+1):\n",
    "    for j in range(1,N+1):\n",
    "        if i == j:\n",
    "            print(f\"{i}\".center(4), end = '')\n",
    "        if i > j:\n",
    "            print(f\"{abe[i-1].upper()}{abe[j-1]}\", end = ' ')\n",
    "        else:\n",
    "            print(f\"{abe[i-1]}{abe[j-1].upper()}\", end = ' ')\n",
    "    print()\n",
    "### END SOLUTION"
   ]
  },
  {
   "cell_type": "markdown",
   "id": "31112765-021e-405c-b2b2-7eb588fee9a3",
   "metadata": {
    "nbgrader": {
     "grade": false,
     "grade_id": "cell-947e62f7a2913157",
     "locked": true,
     "schema_version": 3,
     "solution": false,
     "task": false
    }
   },
   "source": [
    "<div class=\"alert alert-block alert-success\">\n",
    "\n",
    "## Ejercicio 4. \n",
    "\n",
    "El siguiente código genera el conjunto de Mandelbrot usando caracteres.\n",
    "\n",
    "```python\n",
    "limit = 100 # Límite de las iteraciones\n",
    "size = 30   # Tamaño del conjunto\n",
    "letters = \" 123456789abcdefghijklmnopqrstuvwxyz*\"\n",
    "\n",
    "# Se recorren todos los complejos en size X size \n",
    "# usando dos ciclos for\n",
    "for iy in range(0, size):\n",
    "    for ix in range(0, size):\n",
    "        count = 0\n",
    "        # Determinamos el número complejo a evaluar\n",
    "        real = -2.0 + ix*2.5/size\n",
    "        img = 1.15 - iy*2.3/size\n",
    "        c = real + img*1.0j\n",
    "\n",
    "        # Número complejo inicial.\n",
    "        z = 0\n",
    "\n",
    "        # Verificamos que la norma del complejo no diverja\n",
    "        while ((z.real**2 + z.imag**2)**(0.5) < 4.0 and count < limit):\n",
    "            # Evaluamos la recurrencia cuadrática\n",
    "            z = z*z + c\n",
    "            count += 1\n",
    "\n",
    "        # Seleccionamos el caracter correspondiente al número complejo evaluado\n",
    "        character = letters[0] if count >= limit else letters[min(count, len(letters)-2)]\n",
    "\n",
    "        # Se imprime el caracter.\n",
    "        print(character, end='')\n",
    "        \n",
    "    # Cambio de línea\n",
    "    print()\n",
    "```\n",
    "\n",
    "* Copia el código en la celda que sigue y ejecútalo para ver el resultado.\n",
    "* Modifica el código de tal  manera que en vez de imprimir en pantalla, el resultado se almacene en el archivo \"mandelbrot\". Realiza un prueba con `limit = 1000` y `size = 100`. Abre el archivo y visualiza el resultado (haz la letra pequeña para que se vea mejor).\n",
    "\n",
    "</div>"
   ]
  },
  {
   "cell_type": "code",
   "execution_count": null,
   "id": "783d6693-4fcb-4aee-ab2f-122c1ca4dae2",
   "metadata": {
    "nbgrader": {
     "grade": false,
     "grade_id": "cell-8403a37b3d6eba12",
     "locked": false,
     "schema_version": 3,
     "solution": true,
     "task": false
    }
   },
   "outputs": [],
   "source": [
    "### BEGIN SOLUTION\n",
    "limit = 1000 # Límite de las iteraciones\n",
    "size = 100  # Tamaño del conjunto\n",
    "letters = \" 123456789abcdefghijklmnopqrstuvwxyz*\"\n",
    "\n",
    "file = open(\"mandelbrot\",'w')\n",
    "# Se recorren todos los complejos en size X size \n",
    "# usando dos ciclos for\n",
    "for iy in range(0, size):\n",
    "    for ix in range(0, size):\n",
    "        count = 0\n",
    "        # Determinamos el número complejo a evaluar\n",
    "        real = -2.0 + ix*2.5/size\n",
    "        img = 1.15 - iy*2.3/size\n",
    "        c = real + img*1.0j\n",
    "\n",
    "        # Número complejo inicial.\n",
    "        z = 0\n",
    "\n",
    "        # Verificamos que la norma del complejo no diverja\n",
    "        while ((z.real**2 + z.imag**2)**(0.5) < 4.0 and count < limit):\n",
    "            # Evaluamos la recurrencia cuadrática\n",
    "            z = z*z + c\n",
    "            count += 1\n",
    "\n",
    "        # Seleccionamos el caracter correspondiente al número complejo evaluado\n",
    "        character = letters[0] if count >= limit else letters[min(count, len(letters)-2)]\n",
    "\n",
    "        # Se imprime el caracter.\n",
    "        #print(character, end='')\n",
    "        file.write(character)\n",
    "    # Cambio de línea\n",
    "    #print()\n",
    "    file.write('\\n')\n",
    "\n",
    "file.close()\n",
    "### END SOLUTION"
   ]
  },
  {
   "cell_type": "markdown",
   "id": "71cbfa55-5dc6-488b-88ec-cf166b326733",
   "metadata": {
    "nbgrader": {
     "grade": false,
     "grade_id": "cell-f90671a3b4e35186",
     "locked": true,
     "schema_version": 3,
     "solution": false,
     "task": false
    }
   },
   "source": [
    "<div class=\"alert alert-block alert-success\">\n",
    "\n",
    "## Ejercicio 5. \n",
    "\n",
    "1. Definir la siguiente lista palabras `lista = [\"Hola\", \"mundo\", \"Pythonico\"]`.\n",
    "2. Recorrer la `lista` de palabras usando un ciclo `for`.\n",
    "3. Recorrer cada palabra usando otro ciclo `for`\n",
    "    1. Para cada palabra de verificar si un caracter se encuentra en dicha palabra.\n",
    "    2. Si el caracter se encuentra, entonces imprimir el texto: `Caracter \"...\" encontrado` y terminar el `for` interno (el que recorre la palabra).\n",
    "    3. Si el caracter no se encuentra, entonces imprimir el texto: `No encontré el caracter \"...\"`\n",
    "\n",
    "Un ejemplo de salida es el siguiente:\n",
    "\n",
    "```\n",
    "Caracter a buscar h\"\n",
    "Palabra: \"Hola\"\n",
    "\t caracter:  H\n",
    "\t caracter:  o\n",
    "\t caracter:  l\n",
    "\t caracter:  a\n",
    "No encontré el caracter \"h\"\n",
    "Palabra: \"mundo\"\n",
    "\t caracter:  m\n",
    "\t caracter:  u\n",
    "\t caracter:  n\n",
    "\t caracter:  d\n",
    "\t caracter:  o\n",
    "No encontré el caracter \"h\"\n",
    "Palabra: \"Pythonico\"\n",
    "\t caracter:  P\n",
    "\t caracter:  y\n",
    "\t caracter:  t\n",
    "\t caracter:  h\n",
    "Caracter \"h\" encontrado\n",
    "```\n",
    "</div>"
   ]
  },
  {
   "cell_type": "code",
   "execution_count": null,
   "id": "8e91bb6e-539e-4f68-a1a7-7c5f12a5bc25",
   "metadata": {
    "nbgrader": {
     "grade": false,
     "grade_id": "cell-71eb2a0244f8af92",
     "locked": false,
     "schema_version": 3,
     "solution": true,
     "task": false
    }
   },
   "outputs": [],
   "source": [
    "### BEGIN SOLUTION\n",
    "caracter = \"h\"\n",
    "\n",
    "lista = [\"Hola\", \"mundo\", \"Pythonico\"]\n",
    "\n",
    "print(f'Caracter a buscar {caracter}\"')\n",
    "for palabra in lista:\n",
    "    print(f'Palabra: \"{palabra}\"')\n",
    "    for letra in palabra:\n",
    "        print('\\t caracter: ', letra)\n",
    "        if letra == caracter:\n",
    "            print(f'Caracter \"{caracter}\" encontrado')\n",
    "            break\n",
    "    else:\n",
    "        print(f'No encontré el caracter \"{caracter}\"')\n",
    "### END SOLUTION"
   ]
  },
  {
   "cell_type": "markdown",
   "id": "d1a7e775-4882-425e-b6a2-66cd51485478",
   "metadata": {
    "nbgrader": {
     "grade": false,
     "grade_id": "cell-fe7765e5ad01e068",
     "locked": true,
     "schema_version": 3,
     "solution": false,
     "task": false
    }
   },
   "source": [
    "<div class=\"alert alert-block alert-success\">\n",
    "\n",
    "## Ejercicio 6. \n",
    "\n",
    "Escribe un código que abra el archivo `personal_data.csv` y que realice lo siguiente:\n",
    "* Leer las líneas del archivo una por una.\n",
    "* Obtener los datos del peso, la estatura y del IMC.\n",
    "* Clasificar el IMC de acuerdo con la siguiente tabla:\n",
    "\n",
    "|IMC | Nivel|\n",
    "|:--|:-:|\n",
    "|18.5 < | N1 |\n",
    "|18.5 – 24.9 | N2 |\n",
    "|25.0 – 29.9 | N3 |\n",
    "|30.0 >=  | N4 |\n",
    "\n",
    "* El código debe proporcionar una salida como la siguiente:\n",
    "\n",
    "```\n",
    " ID     Peso    Estatura    IMC      Nivel   \n",
    "―――――――――――――――――――――――――――――――――――――――――――――\n",
    "  1    75.00      1.70     25.95       N3    \n",
    "  2    88.00      1.59     34.81       N4    \n",
    "  3    81.00      1.66     29.39       N3\n",
    "...\n",
    " 98    79.00      1.70     27.34       N3    \n",
    " 99    88.00      1.60     34.38       N4    \n",
    " 100   81.00      1.66     29.39       N3    \n",
    "―――――――――――――――――――――――――――――――――――――――――――――\n",
    "             Reporte de niveles              \n",
    "―――――――――――――――――――――――――――――――――――――――――――――\n",
    "    N1        N2        N3        N4    \n",
    "    0         0         53        47   \n",
    "```\n",
    "\n",
    "\n",
    "\n",
    "</div>"
   ]
  },
  {
   "cell_type": "code",
   "execution_count": null,
   "id": "13954b12-f1ab-424e-9b4f-19fc5d75d276",
   "metadata": {
    "nbgrader": {
     "grade": false,
     "grade_id": "cell-334ffc205450a578",
     "locked": false,
     "schema_version": 3,
     "solution": true,
     "task": false
    }
   },
   "outputs": [],
   "source": [
    "### BEGIN SOLUTION\n",
    "\n",
    "# Abrir el archivo\n",
    "f = open(\"personal_data.csv\", \"r\")\n",
    "\n",
    "# Leer las primeras líneas del archivo\n",
    "encabezado = f.readline()\n",
    "n1 = 0\n",
    "n2 = 0\n",
    "n3 = 0\n",
    "n4 = 0\n",
    "\n",
    "print(\"{:^5s}{:^10s}{:^10s}{:^10s}{:^10s}\".format(\"ID\", \"Peso\", \"Estatura\", \"IMC\", \"Nivel\"))\n",
    "print(45 * chr(0x2015))\n",
    "for linea in f:\n",
    "    datos = linea.split(',')\n",
    "    peso = float(datos[3])\n",
    "    estatura = float(datos[4])\n",
    "    imc = float(datos[5])\n",
    "    if 18.5 > imc:\n",
    "        nivel = 'N1'\n",
    "        n1 += 1\n",
    "    elif 18.5 <= imc and imc < 25.0:\n",
    "        nivel = 'N2'\n",
    "        n2 += 1\n",
    "    elif 25.0 <= imc and imc < 30.0:\n",
    "        nivel = 'N3'\n",
    "        n3 += 1\n",
    "    elif 30.0 <= imc:\n",
    "        nivel = 'N4'\n",
    "        n4 += 1\n",
    "    print(\"{:^5s}{:^10.2f}{:^10.2f}{:^10.2f}{:^10s}\".format(datos[0], peso, estatura, imc, nivel))\n",
    "\n",
    "print(45 * chr(0x2015))\n",
    "print(\"{:^45s}\".format(\"Reporte de niveles\"))\n",
    "print(45 * chr(0x2015))\n",
    "print(\"{:^10s}{:^10s}{:^10s}{:^10s}\".format(\"N1\", \"N2\", \"N3\", \"N4\"))\n",
    "print(\"{:^10d}{:^10d}{:^10d}{:^10d}\".format(n1, n2, n3, n4))\n",
    "\n",
    "# Cerrar el archivo\n",
    "f.close()\n",
    "\n",
    "### END SOLUTION"
   ]
  },
  {
   "cell_type": "code",
   "execution_count": null,
   "id": "9bd25db8-e99d-4154-a47f-547542a341e0",
   "metadata": {},
   "outputs": [],
   "source": []
  }
 ],
 "metadata": {
  "kernelspec": {
   "display_name": "Python 3 (ipykernel)",
   "language": "python",
   "name": "python3"
  },
  "language_info": {
   "codemirror_mode": {
    "name": "ipython",
    "version": 3
   },
   "file_extension": ".py",
   "mimetype": "text/x-python",
   "name": "python",
   "nbconvert_exporter": "python",
   "pygments_lexer": "ipython3",
   "version": "3.11.6"
  }
 },
 "nbformat": 4,
 "nbformat_minor": 5
}
