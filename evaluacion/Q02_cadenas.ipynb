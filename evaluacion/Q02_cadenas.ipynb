{
 "cells": [
  {
   "cell_type": "markdown",
   "metadata": {},
   "source": [
    "# Quiz. Cadenas, `print()`, `input()` y control de flujo.\n",
    "\n",
    " <p xmlns:cc=\"http://creativecommons.org/ns#\" xmlns:dct=\"http://purl.org/dc/terms/\"><a property=\"dct:title\" rel=\"cc:attributionURL\" href=\"https://github.com/repomacti/introduccion_python\">Introducción a Python</a> by <a rel=\"cc:attributionURL dct:creator\" property=\"cc:attributionName\" href=\"https://gmc.geofisica.unam.mx/luiggi\">Luis Miguel de la Cruz Salas</a> is licensed under <a href=\"https://creativecommons.org/licenses/by-sa/4.0/?ref=chooser-v1\" target=\"_blank\" rel=\"license noopener noreferrer\" style=\"display:inline-block;\">CC BY-SA 4.0<img style=\"height:22px!important;margin-left:3px;vertical-align:text-bottom;\" src=\"https://mirrors.creativecommons.org/presskit/icons/cc.svg?ref=chooser-v1\" alt=\"\"><img style=\"height:22px!important;margin-left:3px;vertical-align:text-bottom;\" src=\"https://mirrors.creativecommons.org/presskit/icons/by.svg?ref=chooser-v1\" alt=\"\"><img style=\"height:22px!important;margin-left:3px;vertical-align:text-bottom;\" src=\"https://mirrors.creativecommons.org/presskit/icons/sa.svg?ref=chooser-v1\" alt=\"\"></a></p> "
   ]
  },
  {
   "cell_type": "markdown",
   "metadata": {},
   "source": [
    "<div class=\"alert alert-block alert-success\">\n",
    "\n",
    "## Ejercicio 1.\n",
    "\n",
    "<font color=\"Black\">\n",
    "\n",
    "Define la siguiente cadena: `frase = \"es lindo saber que python existe\"`.\n",
    "</font>\n",
    "</div>"
   ]
  },
  {
   "cell_type": "code",
   "execution_count": 22,
   "metadata": {},
   "outputs": [
    {
     "name": "stdout",
     "output_type": "stream",
     "text": [
      "es lindo saber que python existe\n"
     ]
    }
   ],
   "source": [
    "# frase = ...\n",
    "### BEGIN SOLUTION\n",
    "frase = \"es lindo saber que python existe\"\n",
    "### END SOLUTION\n",
    "print(frase)"
   ]
  },
  {
   "cell_type": "markdown",
   "metadata": {},
   "source": [
    "<div class=\"alert alert-block alert-success\">\n",
    "\n",
    "## Ejercicio 2.\n",
    "\n",
    "<font color=\"Black\">\n",
    "\n",
    "Usando el método `str.count()` determina el número de apariciones de cada vocal en la cadena `frase`, definida en el ejemplo anterior, y almacena cada número en una variable con el nombre de la vocal, por ejemplo: `a = frase.count('a')` lo mismo para las otras vocales.\n",
    "\n",
    "</font>\n",
    "</div>"
   ]
  },
  {
   "cell_type": "code",
   "execution_count": 23,
   "metadata": {},
   "outputs": [
    {
     "name": "stdout",
     "output_type": "stream",
     "text": [
      "1 5 2 2 1\n"
     ]
    }
   ],
   "source": [
    "# a = ...\n",
    "#\n",
    "### BEGIN SOLUTION\n",
    "a = frase.count('a')\n",
    "e = frase.count('e')\n",
    "i = frase.count('i')\n",
    "o = frase.count('o')\n",
    "u = frase.count('u')\n",
    "### END SOLUTION\n",
    "\n",
    "print(a,e,i,o,u)"
   ]
  },
  {
   "cell_type": "markdown",
   "metadata": {},
   "source": [
    "<div class=\"alert alert-block alert-success\">\n",
    "\n",
    "## Ejercicio 3.\n",
    "\n",
    "<font color=\"Black\">\n",
    "\n",
    "Construye la cadena `vocales` con el método de cadenas formateadas (*f-string*) que contenga el nombre de cada vocal y su número de apariciones en la cadena `frase`. \n",
    "\n",
    "La cadena resultante debe tener la siguiente forma: `a = 1, e = 5, i = 2, o = 2, u = 1` .\n",
    "\n",
    "**Hint**. Utiliza las variables antes definidas: `volcales = f\"a = {a}, ...\"`\n",
    "</font>\n",
    "</div>"
   ]
  },
  {
   "cell_type": "code",
   "execution_count": 24,
   "metadata": {},
   "outputs": [
    {
     "name": "stdout",
     "output_type": "stream",
     "text": [
      "a = 1, e = 5, i = 2, o = 2, u = 1\n"
     ]
    }
   ],
   "source": [
    "# vocales = ...\n",
    "### BEGIN SOLUTION\n",
    "vocales = f\"a = {a}, e = {e}, i = {i}, o = {o}, u = {u}\"\n",
    "### END SOLUTION\n",
    "\n",
    "print(vocales)"
   ]
  },
  {
   "cell_type": "markdown",
   "metadata": {},
   "source": [
    "<div class=\"alert alert-block alert-success\">\n",
    "\n",
    "## Ejercicio 4.\n",
    "\n",
    "<font color=\"Black\">\n",
    "\n",
    "Usando el método `str.split()` separa la cadena `frase` en palabras y almacena el resultado en la variable `lista`.\n",
    "</font>\n",
    "</div>"
   ]
  },
  {
   "cell_type": "markdown",
   "metadata": {},
   "source": [
    "<div class=\"alert alert-block alert-info\">\n",
    "    \n",
    "**Nota**. \n",
    "\n",
    "<font color=\"Black\">\n",
    "\n",
    "El método `str.split()` regresa como resultado una lista de cadenas, donde cada elemento de la lista es una palabra de la cadena original (separa por omisión por los espacios). Entonces el siguiente código:\n",
    "\n",
    "```pyton\n",
    "lista = frase.split()\n",
    "```\n",
    "<br>\n",
    "\n",
    "genera la lista de palabras: `[\"es\", \"lindo\", \"saber\", \"que\", \"python\", \"existe\"]`. Observa que se usan corchetes para representar una lista en Python. El concepto de listas se revisará en la notebook [08_listas.ipynb](./08_listas.ipynb).\n",
    "</font>\n",
    "</div>"
   ]
  },
  {
   "cell_type": "code",
   "execution_count": 25,
   "metadata": {},
   "outputs": [
    {
     "name": "stdout",
     "output_type": "stream",
     "text": [
      "['es', 'lindo', 'saber', 'que', 'python', 'existe']\n"
     ]
    }
   ],
   "source": [
    "# lista = ...\n",
    "### BEGIN SOLUTION\n",
    "lista = frase.split()\n",
    "### END SOLUTION\n",
    "\n",
    "print(lista)"
   ]
  },
  {
   "cell_type": "markdown",
   "metadata": {},
   "source": [
    "<div class=\"alert alert-block alert-success\">\n",
    "\n",
    "## Ejercicio 5.\n",
    "\n",
    "<font color=\"Black\">\n",
    "\n",
    "Construye la cadena `nueva_frase` usando el método `str.format()` y los elementos de `lista`, de tal manera que el resultado sea el siguiente: `Es lindo saber que PYTHON  existe`\n",
    "\n",
    "**Hint**. \n",
    "* La variable `lista` contiene 6 elementos.\n",
    "* Para acceder a cada uno de los elementos de `lista` se usa indexación:\n",
    "    * `lista[0]`, `lista[1]`, `lista[2]`, `lista[3]`, `lista[4]`, `lista[5]`.\n",
    "* Cada elemento de `lista` es una cadena, de tal manera que se pueden aplicar los métodos definidos para cadenas. Por ejemplo `lista[2].upper()` genera la cadena `LINDO`.\n",
    "</font>\n",
    "</div>"
   ]
  },
  {
   "cell_type": "code",
   "execution_count": 26,
   "metadata": {},
   "outputs": [
    {
     "name": "stdout",
     "output_type": "stream",
     "text": [
      "Es lindo saber que PYTHON existe\n"
     ]
    }
   ],
   "source": [
    "# nueva_frase = ...\n",
    "### BEGIN SOLUTION\n",
    "nueva_frase = '{} {} {} {} {} {}'.format(lista[0].capitalize(), \n",
    "                                         lista[1], \n",
    "                                         lista[2], \n",
    "                                         lista[3], \n",
    "                                         lista[4].upper(), \n",
    "                                         lista[5])\n",
    "### END SOLUTION\n",
    "\n",
    "print(nueva_frase)"
   ]
  },
  {
   "cell_type": "markdown",
   "metadata": {},
   "source": [
    "<div class=\"alert alert-block alert-success\">\n",
    "\n",
    "## Ejercicio 6.\n",
    "\n",
    "<font color=\"Black\">\n",
    "\n",
    "Construye la cadena `otra_frase` usando el método `str.join()` y los elementos de `lista`, de tal manera que el resultado sea el siguiente: `Es_lindo_saber_que_PYTHON_existe`\n",
    "</font>\n",
    "</div>"
   ]
  },
  {
   "cell_type": "code",
   "execution_count": 27,
   "metadata": {},
   "outputs": [
    {
     "name": "stdout",
     "output_type": "stream",
     "text": [
      "Es_lindo_saber_que_PYTHON_existe\n"
     ]
    }
   ],
   "source": [
    "# otra_frase = ...\n",
    "### BEGIN SOLUTION\n",
    "otra_frase = \"_\".join([lista[0].capitalize(),  \n",
    "                       lista[1], \n",
    "                       lista[2], \n",
    "                       lista[3], \n",
    "                       lista[4].upper(), \n",
    "                       lista[5]])\n",
    "### END SOLUTION\n",
    "\n",
    "print(otra_frase)"
   ]
  },
  {
   "cell_type": "markdown",
   "metadata": {},
   "source": [
    "<div class=\"alert alert-block alert-success\">\n",
    "    \n",
    "## Ejercicio 7. \n",
    "\n",
    "<font color=\"Black\">\n",
    "\n",
    "Imprime el siguiente texto:\n",
    "```\n",
    "               Poema 20 (fragmento)              \n",
    "Puedo escribir los versos más tristes esta noche.\n",
    "\n",
    "Escribir, por ejemplo: \"La noche está estrellada,\n",
    "   y tiritan, azules, los astros, a lo lejos\".   \n",
    "\n",
    "                                     Pablo Neruda\n",
    "```\n",
    "\n",
    "1. Define 5 variables, una para cada línea del texto, de nombre `l1`, `l2`, `l3`, `l4`, `l5`.\n",
    "2. Determina la longitud máxima de las 5 cadenas usando las funciones `len()` y `max()`.\n",
    "3. Almacena el valor de la longitud máxima en la variable `N`.\n",
    "4. Imprime las cadenas en el orden adecuado para generar el texto centrando cada línea y justificando a la derecha la última de ellas. Utiliza los métodos `str.center()` y `str.rjust()`.\n",
    "5. Agrega una línea en blanco donde se requiere.\n",
    "</font>\n",
    "</div>"
   ]
  },
  {
   "cell_type": "code",
   "execution_count": 28,
   "metadata": {},
   "outputs": [
    {
     "name": "stdout",
     "output_type": "stream",
     "text": [
      "               Poema 20 (fragmento)              \n",
      "Puedo escribir los versos más tristes esta noche.\n",
      "\n",
      "Escribir, por ejemplo: \"La noche está estrellada,\n",
      "   y tiritan, azules, los astros, a lo lejos\".   \n",
      "\n",
      "                                     Pablo Neruda\n"
     ]
    }
   ],
   "source": [
    "# l1 = ...\n",
    "# \n",
    "### BEGIN SOLUTION\n",
    "l1 = \"Poema 20 (fragmento)\"\n",
    "l2 = \"Puedo escribir los versos más tristes esta noche.\"\n",
    "l3 = \"Escribir, por ejemplo: \\\"La noche está estrellada,\"\n",
    "l4 = \"y tiritan, azules, los astros, a lo lejos\\\".\"\n",
    "l5 = \"Pablo Neruda\"\n",
    "N = max(len(l1), len(l2), len(l3), len(l4), len(l5))\n",
    "print(l1.center(N))\n",
    "print(l2.center(N))\n",
    "print()\n",
    "print(l3.center(N))\n",
    "print(l4.center(N))\n",
    "print()\n",
    "print(l5.rjust(N))\n",
    "### END SOLUTION\n"
   ]
  },
  {
   "cell_type": "markdown",
   "metadata": {},
   "source": [
    "<div class=\"alert alert-block alert-success\">\n",
    "    \n",
    "## Ejercicio 8. \n",
    "\n",
    "<font color=\"Black\">\n",
    "\n",
    "¿Cómo imprimirías el texto del ejercicio 7 usando triples comillas?\n",
    "</font>\n",
    "</div>\n"
   ]
  },
  {
   "cell_type": "code",
   "execution_count": 29,
   "metadata": {},
   "outputs": [
    {
     "name": "stdout",
     "output_type": "stream",
     "text": [
      "               Poema 20 (fragmento)              \n",
      "Puedo escribir los versos más tristes esta noche.\n",
      "\n",
      "Escribir, por ejemplo: \"La noche está estrellada,\n",
      "   y tiritan, azules, los astros, a lo lejos\".   \n",
      "\n",
      "                                     Pablo Neruda\n"
     ]
    }
   ],
   "source": [
    "# poema20 = ...\n",
    "#\n",
    "### BEGIN SOLUTION\n",
    "poema20 = \"\"\"               Poema 20 (fragmento)              \n",
    "Puedo escribir los versos más tristes esta noche.\n",
    "\n",
    "Escribir, por ejemplo: \"La noche está estrellada,\n",
    "   y tiritan, azules, los astros, a lo lejos\".   \n",
    "\n",
    "                                     Pablo Neruda\"\"\"\n",
    "print(poema20)\n",
    "### END SOLUTION"
   ]
  },
  {
   "cell_type": "markdown",
   "metadata": {},
   "source": [
    "<div class=\"alert alert-block alert-success\">\n",
    "\n",
    "## Ejercicio 9.\n",
    "\n",
    "<font color=\"Black\">\n",
    "    \n",
    "Formatear y alinear la salida el siguiente número flotante: `numero_flotante_grande = 213.2131255345435643` de tal manera que se obtenga lo siguiente\n",
    "\n",
    "```\n",
    "---|   213.21313|---\n",
    "---| 213.21313  |---\n",
    "---|213.21313   |---\n",
    "```\n",
    "\n",
    "</font>\n",
    "</div>"
   ]
  },
  {
   "cell_type": "code",
   "execution_count": 31,
   "metadata": {},
   "outputs": [
    {
     "name": "stdout",
     "output_type": "stream",
     "text": [
      "---|   213.21313|---\n",
      "---| 213.21313  |---\n",
      "---|213.21313   |---\n"
     ]
    }
   ],
   "source": [
    "# numero_flotante_grande = ...\n",
    "# print(f'---| ...')\n",
    "#\n",
    "### BEGIN SOLUTION\n",
    "numero_flotante_grande = 213.2131255345435643\n",
    "print(f'---|{numero_flotante_grande:12.5f}|---') # 10 espacios, 3 decimales, der. por omisión\n",
    "print(f'---|{numero_flotante_grande:^12.5f}|---') # 10 espacios, 3 decimales, centrado\n",
    "print(f'---|{numero_flotante_grande:<12.5f}|---') # 10 espacios, 3 decimales, izq.\n",
    "### END SOLUTION"
   ]
  },
  {
   "cell_type": "markdown",
   "metadata": {},
   "source": [
    "<div class=\"alert alert-block alert-success\">\n",
    "\n",
    "## Ejercicio 10.\n",
    "\n",
    "<font color=\"Black\">\n",
    "\n",
    "Repetir el ejercicio 9 usando el método `str.format().`\n",
    "</font>\n",
    "</div>"
   ]
  },
  {
   "cell_type": "code",
   "execution_count": 33,
   "metadata": {},
   "outputs": [
    {
     "name": "stdout",
     "output_type": "stream",
     "text": [
      "---|   213.21313|---\n",
      "---| 213.21313  |---\n",
      "---|213.21313   |---\n"
     ]
    }
   ],
   "source": [
    "# print(\"---| ...\")\n",
    "#\n",
    "### BEGIN SOLUTION\n",
    "print(\"---|{:12.5f}|---\".format(numero_flotante_grande))\n",
    "print(\"---|{:^12.5f}|---\".format(numero_flotante_grande))\n",
    "print(\"---|{:<12.5f}|---\".format(numero_flotante_grande))\n",
    "### END SOLUTION"
   ]
  },
  {
   "cell_type": "markdown",
   "metadata": {},
   "source": [
    "<div class=\"alert alert-block alert-success\">\n",
    "\n",
    "## Ejercicio 11.\n",
    "\n",
    "<font color=\"Black\">\n",
    "    \n",
    "Escribe un código que solicite al usuario su nombre, su peso y su estatura. Con esa información el código deberá calcular el índice de masa corporal y generar una salida como la siguiente:\n",
    "\n",
    "```\n",
    "Escribe tu nombre: Gabo\n",
    "Escribe tu peso: 80\n",
    "Escribe tu estatura: 1.78\n",
    "Hola Gabo, tu índice de masa corporal es 25.249\n",
    "```\n",
    "<br>\n",
    "La fórmula del índice de masa corporal es la siguiente: $IMC = \\text{peso}/ \\text{estatura}^2$\n",
    "</font>\n",
    "</div>"
   ]
  },
  {
   "cell_type": "code",
   "execution_count": 34,
   "metadata": {},
   "outputs": [
    {
     "name": "stdin",
     "output_type": "stream",
     "text": [
      "Escribe tu nombre: 5\n",
      "Escribe tu peso: 1\n",
      "Escribe tu estatura: 1\n"
     ]
    },
    {
     "name": "stdout",
     "output_type": "stream",
     "text": [
      "Hola 5, tu índice de masa corporal es  1.000\n"
     ]
    }
   ],
   "source": [
    "# nombre = ...\n",
    "# ...\n",
    "### BEGIN SOLUTION\n",
    "nombre = input('Escribe tu nombre:')\n",
    "peso = float(input('Escribe tu peso:'))\n",
    "estatura = float(input('Escribe tu estatura:'))\n",
    "imc = peso / estatura**2\n",
    "print(f\"Hola {nombre}, tu índice de masa corporal es {imc:6.3f}\")\n",
    "### END SOLUTION"
   ]
  },
  {
   "cell_type": "markdown",
   "metadata": {},
   "source": [
    "<div class=\"alert alert-block alert-success\">\n",
    "\n",
    "## Ejercicio 12.\n",
    "\n",
    "<font color=\"Black\">\n",
    "\n",
    "Implementa la siguiente serie geométrica usando un ciclo `while`.\n",
    "$$\n",
    "\\sum_{n=1}^{N} \\dfrac{1}{2^n} = \\dfrac{1}{2} + \\dfrac{1}{4} + \\dfrac{1}{8} + \\dfrac{1}{16} + \\dfrac{1}{32} + \\dots \n",
    "$$\n",
    "\n",
    "En cada iteración se debe imprimir el valor de `n` y la suma parcial, de tal manera que para `N = 10` la salida sea como sigue:\n",
    "\n",
    "```\n",
    "  n   suma  \n",
    "-------------\n",
    "  1  0.50000\n",
    "  2  0.75000\n",
    "  3  0.87500\n",
    "  4  0.93750\n",
    "  5  0.96875\n",
    "  6  0.98438\n",
    "  7  0.99219\n",
    "  8  0.99609\n",
    "  9  0.99805\n",
    " 10  0.99902\n",
    "```\n",
    "</font>\n",
    "</div>"
   ]
  },
  {
   "cell_type": "code",
   "execution_count": 121,
   "metadata": {},
   "outputs": [
    {
     "name": "stdout",
     "output_type": "stream",
     "text": [
      "  n   suma  \n",
      "-------------\n",
      "  1  0.50000\n",
      "  2  0.75000\n",
      "  3  0.87500\n",
      "  4  0.93750\n",
      "  5  0.96875\n",
      "  6  0.98438\n",
      "  7  0.99219\n",
      "  8  0.99609\n",
      "  9  0.99805\n",
      " 10  0.99902\n"
     ]
    }
   ],
   "source": [
    "N = 10\n",
    "suma = 0\n",
    "n = 1\n",
    "# print(...)\n",
    "# print(\"-\"*13)\n",
    "# while ...\n",
    "#     ...\n",
    "### BEGIN SOLUTION\n",
    "print(\"{:>3s} {:^8s}\".format('n', 'suma'))\n",
    "print(\"-\"*13)\n",
    "while n <= N:\n",
    "    suma += 1 / 2**n\n",
    "    print(f\"{n:>3d} {suma:8.5f}\")\n",
    "    n += 1\n",
    "### END SOLUTION"
   ]
  },
  {
   "cell_type": "markdown",
   "metadata": {},
   "source": [
    "<div class=\"alert alert-block alert-success\">\n",
    "\n",
    "## Ejercicio 13.\n",
    "\n",
    "<font color=\"Black\">\n",
    "\n",
    "Repite el ejercicio 12 usando un ciclo `for`.\n",
    "\n",
    "</font>\n",
    "</div>"
   ]
  },
  {
   "cell_type": "code",
   "execution_count": 125,
   "metadata": {},
   "outputs": [
    {
     "name": "stdout",
     "output_type": "stream",
     "text": [
      "  n   suma  \n",
      "-------------\n",
      "  1  0.50000\n",
      "  2  0.75000\n",
      "  3  0.87500\n",
      "  4  0.93750\n",
      "  5  0.96875\n",
      "  6  0.98438\n",
      "  7  0.99219\n",
      "  8  0.99609\n",
      "  9  0.99805\n",
      " 10  0.99902\n"
     ]
    }
   ],
   "source": [
    "N = 10\n",
    "suma = 0\n",
    "# print(...)\n",
    "# print(\"-\"*13)\n",
    "# for ...\n",
    "#     ...\n",
    "### BEGIN SOLUTION\n",
    "print(\"{:>3s} {:^8s}\".format('n', 'suma'))\n",
    "print(\"-\"*13)\n",
    "for n in range(1,N+1):\n",
    "    suma += 1 / 2**n\n",
    "    print(f\"{n:>3d} {suma:8.5f}\")\n",
    "### END SOLUTION"
   ]
  },
  {
   "cell_type": "markdown",
   "metadata": {},
   "source": [
    "<div class=\"alert alert-block alert-success\">\n",
    "\n",
    "## Ejercicio 14. \n",
    "\n",
    "<font color=\"Black\">\n",
    "\n",
    "Implementa un código que imprima los número pares en el rango `(-N, N)`, donde `N` es un valor entero positivo que es ingresado por el usuario (similar al ejemplo 8 de la notebook [07_control_de_flujo.ipynb](../07_control_de_flujo.ipynb)).\n",
    "</font></div>"
   ]
  },
  {
   "cell_type": "code",
   "execution_count": 35,
   "metadata": {},
   "outputs": [
    {
     "name": "stdin",
     "output_type": "stream",
     "text": [
      "N = 5\n"
     ]
    },
    {
     "name": "stdout",
     "output_type": "stream",
     "text": [
      "-4, -2, 0, 2, 4, "
     ]
    }
   ],
   "source": [
    "# N = ...\n",
    "# for ...\n",
    "# ...\n",
    "### BEGIN SOLUTION\n",
    "N = int(input(\"N =\"))\n",
    "for n in range(-N, N+1, 1):\n",
    "    if not (n % 2): # Observa que se usa not() para invertir el resultado de la operación módulo.\n",
    "        print(n, end = \", \")\n",
    "### END SOLUTION"
   ]
  },
  {
   "cell_type": "markdown",
   "metadata": {},
   "source": [
    "<div class=\"alert alert-block alert-success\">\n",
    "\n",
    "## Ejercicio 15. \n",
    "\n",
    "<font color=\"Black\">\n",
    "\n",
    "Usando dos ciclos `for` anidados imprime el siguiente texto:\n",
    "```\n",
    " 1  aA aB aC aD aE aF aG aH aI aJ \n",
    "Ba  2  bB bC bD bE bF bG bH bI bJ \n",
    "Ca Cb  3  cC cD cE cF cG cH cI cJ \n",
    "Da Db Dc  4  dD dE dF dG dH dI dJ \n",
    "Ea Eb Ec Ed  5  eE eF eG eH eI eJ \n",
    "Fa Fb Fc Fd Fe  6  fF fG fH fI fJ \n",
    "Ga Gb Gc Gd Ge Gf  7  gG gH gI gJ \n",
    "Ha Hb Hc Hd He Hf Hg  8  hH hI hJ \n",
    "Ia Ib Ic Id Ie If Ig Ih  9  iI iJ \n",
    "Ja Jb Jc Jd Je Jf Jg Jh Ji  10 jJ \n",
    "```\n",
    "</font></div>"
   ]
  },
  {
   "cell_type": "code",
   "execution_count": 107,
   "metadata": {},
   "outputs": [
    {
     "name": "stdout",
     "output_type": "stream",
     "text": [
      " 1  aA aB aC aD aE aF aG aH aI aJ \n",
      "Ba  2  bB bC bD bE bF bG bH bI bJ \n",
      "Ca Cb  3  cC cD cE cF cG cH cI cJ \n",
      "Da Db Dc  4  dD dE dF dG dH dI dJ \n",
      "Ea Eb Ec Ed  5  eE eF eG eH eI eJ \n",
      "Fa Fb Fc Fd Fe  6  fF fG fH fI fJ \n",
      "Ga Gb Gc Gd Ge Gf  7  gG gH gI gJ \n",
      "Ha Hb Hc Hd He Hf Hg  8  hH hI hJ \n",
      "Ia Ib Ic Id Ie If Ig Ih  9  iI iJ \n",
      "Ja Jb Jc Jd Je Jf Jg Jh Ji  10 jJ \n"
     ]
    }
   ],
   "source": [
    "abe = 'abcdefghij'\n",
    "N = len(abe)\n",
    "# for i ...\n",
    "#     for j ...\n",
    "#         ...\n",
    "### BEGIN SOLUTION\n",
    "for i in range(1,N+1):\n",
    "    for j in range(1,N+1):\n",
    "        if i == j:\n",
    "            print(f\"{i}\".center(4), end = '')\n",
    "        if i > j:\n",
    "            print(f\"{abe[i-1].upper()}{abe[j-1]}\", end = ' ')\n",
    "        else:\n",
    "            print(f\"{abe[i-1]}{abe[j-1].upper()}\", end = ' ')\n",
    "    print()\n",
    "### END SOLUTION"
   ]
  },
  {
   "cell_type": "code",
   "execution_count": null,
   "metadata": {},
   "outputs": [],
   "source": []
  }
 ],
 "metadata": {
  "kernelspec": {
   "display_name": "Python 3 (ipykernel)",
   "language": "python",
   "name": "python3"
  },
  "language_info": {
   "codemirror_mode": {
    "name": "ipython",
    "version": 3
   },
   "file_extension": ".py",
   "mimetype": "text/x-python",
   "name": "python",
   "nbconvert_exporter": "python",
   "pygments_lexer": "ipython3",
   "version": "3.11.6"
  }
 },
 "nbformat": 4,
 "nbformat_minor": 4
}
