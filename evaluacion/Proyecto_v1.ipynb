{
 "cells": [
  {
   "cell_type": "markdown",
   "id": "bfa60669-3d49-4f82-98b1-c2914f50e11f",
   "metadata": {},
   "source": [
    "# Proyecto.\n",
    "\n",
    "<p xmlns:cc=\"http://creativecommons.org/ns#\" xmlns:dct=\"http://purl.org/dc/terms/\"><a property=\"dct:title\" rel=\"cc:attributionURL\" href=\"https://github.com/repomacti/introduccion_python\">Introducción a Python</a> by <a rel=\"cc:attributionURL dct:creator\" property=\"cc:attributionName\" href=\"https://gmc.geofisica.unam.mx/luiggi\">Luis Miguel de la Cruz Salas</a> is licensed under <a href=\"https://creativecommons.org/licenses/by-sa/4.0/?ref=chooser-v1\" target=\"_blank\" rel=\"license noopener noreferrer\" style=\"display:inline-block;\">CC BY-SA 4.0<img style=\"height:22px!important;margin-left:3px;vertical-align:text-bottom;\" src=\"https://mirrors.creativecommons.org/presskit/icons/cc.svg?ref=chooser-v1\" alt=\"\"><img style=\"height:22px!important;margin-left:3px;vertical-align:text-bottom;\" src=\"https://mirrors.creativecommons.org/presskit/icons/by.svg?ref=chooser-v1\" alt=\"\"><img style=\"height:22px!important;margin-left:3px;vertical-align:text-bottom;\" src=\"https://mirrors.creativecommons.org/presskit/icons/sa.svg?ref=chooser-v1\" alt=\"\"></a></p> "
   ]
  },
  {
   "cell_type": "markdown",
   "id": "51e7de53-99ab-4b1c-9484-807eeff65695",
   "metadata": {},
   "source": [
    "<div class=\"alert alert-block alert-info\">\n",
    "\n",
    "### Sensación térmica o índice de calor.\n",
    "\n",
    "<font color=\"Black\">\n",
    "\n",
    "Se llama [sensación térmica](https://es.wikipedia.org/wiki/Sensaci%C3%B3n_t%C3%A9rmica) a la reacción del cuerpo humano ante el conjunto de condiciones que determinan el ambiente habitado desde el punto de vista térmico. No solo es la temperatura que marca un termómetro lo que determina la sensación que siente el cuerpo humano, sino que existen otros factores que influyen, por ejemplo el movimiento del aire y/o la humedad relativa, entre otros.\n",
    "\n",
    "En norte América suele usarse la siguiente fórmula para cálcular la temperatura de sensación térmica en grados Celsius (también conocido como *wind chill index*):\n",
    "$$\n",
    "WCI = 13.12 + 0.6215 \\times T_a - 11.37 \\times V^{0.16} + 0.3965 \\times T_a \\times V^{0.16} \\tag{1}\n",
    "$$\n",
    "donde $T_a$ es la temperatura del aire en grados Celsius y $V$ la velocidad del viento en kilómetros por hora. Esta fórmula sólo es válida para $T_a \\leq 10 ^o$C y $V > 4.8$ km/h.\n",
    "\n",
    "Por otro lado, para calcular la temperatura aparente en situaciones de calor (también conocido como *índice de calor*), suele utilizarse la fórmula:\n",
    "$$\n",
    "IC = 33 + (T_a - 33) \\times (0.474 + 0.454 \\times V^{0.5}-0.0454 \\times V) \\tag{2}\n",
    "$$\n",
    "donde $V$ está dada en metros por segundo.\n",
    "\n",
    "</font>\n",
    "</div>"
   ]
  },
  {
   "cell_type": "markdown",
   "id": "378eb17a-64e9-46db-9782-0dab4c5a1edb",
   "metadata": {},
   "source": [
    "<div class=\"alert alert-block alert-success\">\n",
    "\n",
    "### Versión 1.\n",
    "\n",
    "<font color=\"Black\">\n",
    "\n",
    "Calcula el $WCI$ o el $IC$ dependiendo de la temperatura y la velocidad del viento para las siguientes ciudades:\n",
    "\n",
    "1. Fairbanks, AK, Estados Unidos: $T_a = 7 \\; ^o$C y $V = 8$ **km/h**. Almacena el resultado en la variable `ciudad_1`.\n",
    "2. Yukon Crossing, Yukón, Canadá: $T_a = 10 \\; ^o$C y $V = 4$ **km/h**. Almacena el resultado en la variable `ciudad_2`.\n",
    "3. Orlando, FL, Estados Unidos: $T_a = 26 \\; ^o$C y $V = 21$ **km/h**. Almacena el resultado en la variable `ciudad_3`.\n",
    "4. Cancún, Quintana Roo, México: $T_a = 32 \\; ^o$C y $V = 20$ **km/h**. Almacena el resultado en la variable `ciudad_4`.\n",
    "\n",
    "Para cada ciudad, evalúa si los valores de la temperatura y de la velocidad cumplen con los requisitos para usar la fórmula $(1)$ usando operadores relacionales y lógicos.\n",
    "\n",
    "**Notas**.\n",
    "* Recuerda que para la fórmula del $IC$ la velocidad debe estar dada en **m/s**.\n",
    "* Para convertir de **km/h** a **m/s**, debes multiplicar por $1000$ y dividir por $3600$, por ejemplo:\n",
    "    *  $10$ **km/h** $= 10 \\times 1000 / 3600$ **m/s** $= 2.77$ **m/s**.\n",
    "</font>\n",
    "</div>"
   ]
  },
  {
   "cell_type": "code",
   "execution_count": 4,
   "id": "c1fa8b68-0795-497d-8064-89afb0da5481",
   "metadata": {},
   "outputs": [
    {
     "name": "stdout",
     "output_type": "stream",
     "text": [
      "¿Podemos usar WCI?  True\n",
      "Sensación térmica:  5.483375559551442 grados Celsius\n"
     ]
    }
   ],
   "source": [
    "# 1. Fairbanks, AK, EEUU\n",
    "\n",
    "### BEGIN SOLUTION\n",
    "# Definición de la velocidad y la temperatura\n",
    "V = 8  # km/h\n",
    "Ta = 7 # Celsius\n",
    "\n",
    "# Checamos ¿Ta <= 10 y V > 4.8?\n",
    "print(\"¿Podemos usar WCI? \", Ta <= 10 and V > 4.8)\n",
    "\n",
    "# Implementamos WCI\n",
    "ciudad_1 = 13.12 + 0.6215 * Ta - 11.37 * V**(0.16) + 0.3965 * Ta * V**(0.16)\n",
    "### END SOLUTION\n",
    "\n",
    "print(\"Sensación térmica: \", ciudad_1, \"grados Celsius\")"
   ]
  },
  {
   "cell_type": "code",
   "execution_count": 5,
   "id": "3719b6dc-99d5-4d33-ad2d-3e48148e3b93",
   "metadata": {},
   "outputs": [
    {
     "name": "stdout",
     "output_type": "stream",
     "text": [
      "¿Podemos usar WCI?  True\n",
      "Sensación térmica:  2.948391910660282 grados Celsius\n"
     ]
    }
   ],
   "source": [
    "# 2. Yukon Crossing, Yukón, Canadá\n",
    "\n",
    "### BEGIN SOLUTION\n",
    "# Definición de la velocidad y la temperatura\n",
    "V = 5  # km/h\n",
    "Ta = 4 # Celsius\n",
    "\n",
    "# Checamos ¿Ta <= 10 y V > 4.8?\n",
    "print(\"¿Podemos usar WCI? \", Ta <= 10 and V > 4.8)\n",
    "\n",
    "# Implementamos WCI\n",
    "ciudad_2 = 13.12 + 0.6215 * Ta - 11.37 * V**(0.16) + 0.3965 * Ta * V**(0.16)\n",
    "### END SOLUTION\n",
    "\n",
    "print(\"Sensación térmica: \", ciudad_2, \"grados Celsius\")"
   ]
  },
  {
   "cell_type": "code",
   "execution_count": 7,
   "id": "c302a41c-4557-4ed5-b814-31c24e8f466c",
   "metadata": {},
   "outputs": [
    {
     "name": "stdout",
     "output_type": "stream",
     "text": [
      "¿Podemos usar WCI?  False\n",
      "Sensación térmica:  23.860234116768325 grados Celsius\n"
     ]
    }
   ],
   "source": [
    "# 3. Orlando, FL, Estados Unidos\n",
    "\n",
    "### BEGIN SOLUTION\n",
    "# Definición de la velocidad y la temperatura\n",
    "V = 21  # km/h\n",
    "Ta = 26 # Celsius\n",
    "\n",
    "# Checamos ¿Ta <= 10 y V > 4.8?\n",
    "print(\"¿Podemos usar WCI? \", Ta <= 10 and V > 4.8)\n",
    "\n",
    "# Primero convertimos la velocidad a m/s\n",
    "V = V * 1000/3600 \n",
    "\n",
    "# Implementamos IC\n",
    "ciudad_3 = 33 + (Ta - 33) * (0.474 + 0.454 * V**(1/2) - 0.0454 * V)\n",
    "### END SOLUTION\n",
    "\n",
    "print(\"Sensación térmica: \", ciudad_3, \"grados Celsius\")"
   ]
  },
  {
   "cell_type": "code",
   "execution_count": 9,
   "id": "7b503fb8-2635-42e5-87d1-49b3d01d5bcf",
   "metadata": {},
   "outputs": [
    {
     "name": "stdout",
     "output_type": "stream",
     "text": [
      "¿Podemos usar WCI?  False\n",
      "Sensación térmica:  31.70813396002658 grados Celsius\n",
      "31.70813396002658\n"
     ]
    }
   ],
   "source": [
    "# 4. Cancún, Quintana Roo\n",
    "\n",
    "### BEGIN SOLUTION\n",
    "# Definición de la velocidad y la temperatura\n",
    "V = 20  # km/h\n",
    "Ta = 32 # Celsius\n",
    "\n",
    "# Checamos ¿Ta <= 10 y V > 4.8?\n",
    "print(\"¿Podemos usar WCI? \", Ta <= 10 and V > 4.8)\n",
    "\n",
    "# Primero convertimos la velocidad a m/s\n",
    "V = V * 1000/3600 # Convertimos a m/s\n",
    "\n",
    "# Implementamos IC\n",
    "ciudad_4 = 33 + (Ta - 33) * (0.474 + 0.454 * V**(1/2)-0.0454 * V)\n",
    "### END SOLUTION\n",
    "\n",
    "print(\"Sensación térmica: \", ciudad_4, \"grados Celsius\")\n",
    "print(ciudad_4)"
   ]
  },
  {
   "cell_type": "code",
   "execution_count": null,
   "id": "0bfa45b4-b143-4e39-9a8a-1f5779574bac",
   "metadata": {},
   "outputs": [],
   "source": []
  }
 ],
 "metadata": {
  "kernelspec": {
   "display_name": "Python 3 (ipykernel)",
   "language": "python",
   "name": "python3"
  },
  "language_info": {
   "codemirror_mode": {
    "name": "ipython",
    "version": 3
   },
   "file_extension": ".py",
   "mimetype": "text/x-python",
   "name": "python",
   "nbconvert_exporter": "python",
   "pygments_lexer": "ipython3",
   "version": "3.11.6"
  }
 },
 "nbformat": 4,
 "nbformat_minor": 5
}
