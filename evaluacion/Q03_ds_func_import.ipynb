{
 "cells": [
  {
   "cell_type": "code",
   "execution_count": null,
   "id": "1d841849-3ad1-4dcd-bca4-59bef138dc8c",
   "metadata": {},
   "outputs": [],
   "source": []
  },
  {
   "cell_type": "code",
   "execution_count": 54,
   "id": "2639f780-a399-4892-b6a4-968c7fd33c6d",
   "metadata": {},
   "outputs": [
    {
     "name": "stdout",
     "output_type": "stream",
     "text": [
      "Palabra:  Hola\n",
      "\t letra:  H\n",
      "\t letra:  o\n",
      "Palabra:  mundo\n",
      "\t letra:  m\n",
      "\t letra:  u\n",
      "\t letra:  n\n",
      "\t letra:  d\n",
      "\t letra:  o\n",
      "Palabra:  Pythonico\n",
      "\t letra:  P\n",
      "\t letra:  y\n",
      "\t letra:  t\n",
      "\t letra:  h\n",
      "\t letra:  o\n"
     ]
    }
   ],
   "source": [
    "# Se itera por una lista de palabras, cuando se encuentra\n",
    "# la letra 'h' se termina el ciclo interno y se continua con\n",
    "# la siguiente palabra.\n",
    "for palabra in [\"Hola\", \"mundo\", \"Pythonico\"]:\n",
    "    print('Palabra: ', palabra)\n",
    "    for letra in palabra:\n",
    "        print('\\t letra: ', letra)\n",
    "        if letra == \"o\":\n",
    "            break"
   ]
  },
  {
   "cell_type": "code",
   "execution_count": 58,
   "id": "2635c49b-6b26-45df-a546-c95a61755e38",
   "metadata": {
    "scrolled": true
   },
   "outputs": [
    {
     "name": "stdout",
     "output_type": "stream",
     "text": [
      "Palabra:  Hola\n",
      "\t letra:  H\n",
      "\t letra:  o\n",
      "\t letra:  l\n",
      "\t letra:  a\n",
      "No encontré la letra \"h\"\n",
      "Palabra:  mundo\n",
      "\t letra:  m\n",
      "\t letra:  u\n",
      "\t letra:  n\n",
      "\t letra:  d\n",
      "\t letra:  o\n",
      "No encontré la letra \"h\"\n",
      "Palabra:  Pythonico\n",
      "\t letra:  P\n",
      "\t letra:  y\n",
      "\t letra:  t\n",
      "\t letra:  h\n"
     ]
    }
   ],
   "source": [
    "# Se itera por una lista de palabras, cuando se encuentra\n",
    "# la letra 'h' se termina el ciclo interno y se continua con\n",
    "# la siguiente palabra. La cláusula 'else' se ejecuta si no\n",
    "# se encuentra la letra.\n",
    "for palabra in [\"Hola\", \"mundo\", \"Pythonico\"]:\n",
    "    print('Palabra: ', palabra)\n",
    "    for letra in palabra:\n",
    "        print('\\t letra: ', letra)\n",
    "        if letra == \"h\":\n",
    "            break\n",
    "    else:\n",
    "        print('No encontré la letra \"h\"')"
   ]
  }
 ],
 "metadata": {
  "kernelspec": {
   "display_name": "Python 3 (ipykernel)",
   "language": "python",
   "name": "python3"
  },
  "language_info": {
   "codemirror_mode": {
    "name": "ipython",
    "version": 3
   },
   "file_extension": ".py",
   "mimetype": "text/x-python",
   "name": "python",
   "nbconvert_exporter": "python",
   "pygments_lexer": "ipython3",
   "version": "3.11.6"
  }
 },
 "nbformat": 4,
 "nbformat_minor": 5
}
