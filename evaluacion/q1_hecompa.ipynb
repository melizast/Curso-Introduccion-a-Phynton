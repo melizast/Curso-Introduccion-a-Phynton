{
 "cells": [
  {
   "cell_type": "markdown",
   "id": "ba17f830-3327-4c2b-85e2-55e8cf6dd614",
   "metadata": {},
   "source": [
    "# Proyecto: versión 1.\n",
    "\n",
    "<p xmlns:cc=\"http://creativecommons.org/ns#\" xmlns:dct=\"http://purl.org/dc/terms/\"><a property=\"dct:title\" rel=\"cc:attributionURL\" href=\"https://github.com/repomacti/introduccion_python\">Introducción a Python</a> by <a rel=\"cc:attributionURL dct:creator\" property=\"cc:attributionName\" href=\"https://gmc.geofisica.unam.mx/luiggi\">Luis Miguel de la Cruz Salas</a> is licensed under <a href=\"https://creativecommons.org/licenses/by-sa/4.0/?ref=chooser-v1\" target=\"_blank\" rel=\"license noopener noreferrer\" style=\"display:inline-block;\">CC BY-SA 4.0<img style=\"height:22px!important;margin-left:3px;vertical-align:text-bottom;\" src=\"https://mirrors.creativecommons.org/presskit/icons/cc.svg?ref=chooser-v1\" alt=\"\"><img style=\"height:22px!important;margin-left:3px;vertical-align:text-bottom;\" src=\"https://mirrors.creativecommons.org/presskit/icons/by.svg?ref=chooser-v1\" alt=\"\"><img style=\"height:22px!important;margin-left:3px;vertical-align:text-bottom;\" src=\"https://mirrors.creativecommons.org/presskit/icons/sa.svg?ref=chooser-v1\" alt=\"\"></a></p>"
   ]
  },
  {
   "cell_type": "markdown",
   "id": "bf33bf86-2da6-4b3f-acda-a481292227a4",
   "metadata": {},
   "source": [
    "<div class=\"alert alert-block alert-info\">\n",
    "\n",
    "## El huevo cocido perfecto\n",
    "\n",
    "¿Cuál es el tiempo ideal para cocinar un huevo?\n",
    "\n",
    "<img src=\"./huevo_cocido.jpg\"  style=\"width: 300px;\"/>\n",
    "\n",
    "</div>"
   ]
  },
  {
   "cell_type": "markdown",
   "id": "0436c127-c44c-4f4b-99e0-a3280d145641",
   "metadata": {
    "nbgrader": {
     "grade": false,
     "grade_id": "cell-8866df282d4b041c",
     "locked": true,
     "schema_version": 3,
     "solution": false,
     "task": false
    }
   },
   "source": [
    "<div class=\"alert alert-block alert-info\">\n",
    "\n",
    "## Fórmula para calcular el tiempo de cocción.\n",
    "\n",
    "Para lograr un **huevo cocido** suave, la clara debe haberse calentado el tiempo suficiente para coagular a una temperatura superior a $63^oC$, pero la yema no debe calentarse por encima de $70^oC$. \n",
    "\n",
    "Para lograr un **huevo duro**, el centro de la yema debe de alcanzar los $70^oC$.\n",
    "\n",
    "La siguiente fórmula expresa el tiempo $t$, en segundos, que le toma a la yema alcanzar la temperatura $T_y$, en grados Celsius.\n",
    "\n",
    "$$t = \\dfrac{M^{2/3} c \\rho^{1/3}}{K \\pi^2 \\left(\\dfrac{4\\pi}{3}\\right)^{2/3}} \\ln \\left[ 0.76 \\dfrac{T_o - T_w}{T_y - T_w}\\right] \\tag{1}$$\n",
    "\n",
    "Donde las propiedades son:\n",
    "\n",
    "* $M$ masa; \n",
    "* $\\rho$ densidad; \n",
    "* $c$ capacidad calorífica específica; \n",
    "* $K$ conductividad térmica; \n",
    "* $T_w$ es la temperatura de ebullición del agua;\n",
    "* $T_o$ es la temperatura original del huevo antes de meterlo al agua;\n",
    "* $T_y$ es la temperatura que debe alcanzar la yema.\n",
    "\n",
    "Referencia: **A Primer on Scientific Programming with Python**, Langtangen, H.P., ISBN 9783642183669, Texts in Computational Science and Engineering, https://books.google.com.co/books?id=Hi1KVomG148C, 2011, Springer Berlin Heidelberg.\n",
    "\n",
    "</div>"
   ]
  },
  {
   "cell_type": "markdown",
   "id": "9318d4a0-57ae-4b28-8bf7-2df9e6208c73",
   "metadata": {},
   "source": [
    "<div class=\"alert alert-success\">\n",
    "\n",
    "## Ejercicio 1.\n",
    "\n",
    "    \n",
    "Calcular la primera parte de la fórmula $A = M^{2/3} c \\rho^{1/3}$ para los siguientes datos:\n",
    "- $M = 47 \\; \\text{[g]}$\n",
    "- $c = 3.7 \\; \\text{[J / g K]}$\n",
    "- $\\rho = 1.038 \\; \\text{[g / cm$^3$]}$\n",
    "\n",
    "Utiliza `M`, `c` y `𝜌` para las variables de los datos y `A` para almacenar el resultado.\n",
    "\n",
    "</div>\n"
   ]
  },
  {
   "cell_type": "code",
   "execution_count": 18,
   "id": "d05b29a1-0742-49f0-b1f1-34104516902e",
   "metadata": {
    "nbgrader": {
     "grade": false,
     "grade_id": "cell-7cdce77da61e4868",
     "locked": false,
     "schema_version": 3,
     "solution": true,
     "task": false
    }
   },
   "outputs": [
    {
     "name": "stdout",
     "output_type": "stream",
     "text": [
      "A = 48.790216719661984\n"
     ]
    }
   ],
   "source": [
    "# Define las variables y realiza el cálculo\n",
    "# M = ...\n",
    "# c = ...\n",
    "# 𝜌 = ...\n",
    "# A = ...\n",
    "\n",
    "### BEGIN SOLUTION\n",
    "# Definimos las variables\n",
    "M = 47    # Masa\n",
    "𝜌 = 1.038 # Densidad\n",
    "c = 3.7   # Capacidad calorífica específica\n",
    "A = M**(2/3) * c * 𝜌**(1/3)\n",
    "#file_answer.write('1', A, 'Revisa la precedencia de operadores, en caso de duda utiliza () cuando sea necesario, particularmente al calcular potencias.')\n",
    "### END SOLUTION\n",
    "\n",
    "print(f\"A = {A}\")"
   ]
  },
  {
   "cell_type": "code",
   "execution_count": 9,
   "id": "6ea090c6-84fb-4a6d-8c33-632e7cf45974",
   "metadata": {
    "nbgrader": {
     "grade": true,
     "grade_id": "cell-0216e6edf1575aa0",
     "locked": true,
     "points": 2,
     "schema_version": 3,
     "solution": false,
     "task": false
    }
   },
   "outputs": [],
   "source": [
    "#quizz.eval_numeric('1', A)"
   ]
  },
  {
   "cell_type": "markdown",
   "id": "561b5997-659f-46b3-802f-87b67086758f",
   "metadata": {},
   "source": [
    "<div class=\"alert alert-success\">\n",
    "\n",
    "## Ejercicio 2.\n",
    "\n",
    "    \n",
    "Calcular la segunda parte de la fórmula $B = K \\pi^2 \\left(\\dfrac{4\\pi}{3}\\right)^{2/3}$ para los siguientes datos:\n",
    "- $K = 5.4 \\times 10^{-3} \\; \\text{[W / cm K]}$\n",
    "- $\\pi = 3.141592$.\n",
    "\n",
    "Utiliza `K` y `𝜋` para las variables de los datos y `B1` para almacenar el resultado.\n",
    "\n",
    "</div>"
   ]
  },
  {
   "cell_type": "code",
   "execution_count": 23,
   "id": "7211a99f-f694-4827-a189-a918e3d2d19f",
   "metadata": {},
   "outputs": [
    {
     "name": "stdout",
     "output_type": "stream",
     "text": [
      "B1 = 0.1384901876768198\n"
     ]
    }
   ],
   "source": [
    "# Define las variables y realiza el cálculo\n",
    "# K = ...\n",
    "# 𝜋 = ...\n",
    "# B1 = ...\n",
    "\n",
    "### BEGIN SOLUTION\n",
    "# Definimos las variables\n",
    "K = 5.4e-3  # Conductividad térmica\n",
    "𝜋 = 3.141592\n",
    "B1 = K * 𝜋**2 * (4 * 𝜋 / 3)**(2/3)\n",
    "#file_answer.write('2', B1, 'Revisa la precedencia de operadores, en caso de duda utiliza () cuando sea necesario, particularmente al calcular potencias.')\n",
    "### END SOLUTION\n",
    "\n",
    "print(f\"B1 = {B1}\")"
   ]
  },
  {
   "cell_type": "markdown",
   "id": "b1590bf1-3bc9-403f-bc64-8a59461fc294",
   "metadata": {},
   "source": [
    "<div class=\"alert alert-success\">\n",
    "\n",
    "## Ejercicio 3.\n",
    "\n",
    "Repetir el ejercicio 2 pero obteniendo el valor de $\\pi$ de la biblioteca `math`.\n",
    "\n",
    "Utiliza `K` y `𝜋` para las variables de los datos y `B2` para almacenar el resultado.\n",
    "\n",
    "Compara los valores de `B1` y `B2`.\n",
    "\n",
    "</div>"
   ]
  },
  {
   "cell_type": "code",
   "execution_count": 24,
   "id": "29bafe8f-81c0-456d-a943-d46187404cb0",
   "metadata": {},
   "outputs": [
    {
     "name": "stdout",
     "output_type": "stream",
     "text": [
      "𝜋 = 3.141592653589793\n",
      "B1 = 0.1384901876768198\n",
      "B2 = 0.13849026450902358\n"
     ]
    }
   ],
   "source": [
    "# Importa el valor de 𝜋 de la biblioteca 'math'\n",
    "# import ...\n",
    "# Define las variables y realiza el cálculo\n",
    "# K = ...\n",
    "# 𝜋 = ...\n",
    "# B2 = ...\n",
    "\n",
    "### BEGIN SOLUTION\n",
    "# Importamos 𝜋\n",
    "from math import pi as 𝜋 \n",
    "\n",
    "# Definimos las variables\n",
    "K = 5.4e-3  # Conductividad térmica\n",
    "\n",
    "B2 = K * 𝜋**2 * (4 * 𝜋 / 3)**(2/3)\n",
    "#file_answer.write('3', B2, 'Revisa la precedencia de operadores, en caso de duda utiliza () cuando sea necesario, particularmente al calcular potencias.')\n",
    "### END SOLUTION\n",
    "\n",
    "print(f\"𝜋 = {𝜋}\")\n",
    "print(f\"B1 = {B1}\")\n",
    "print(f\"B2 = {B2}\")"
   ]
  },
  {
   "cell_type": "markdown",
   "id": "e46016d0-8837-4cfe-b5a2-bdab96b3d01a",
   "metadata": {
    "nbgrader": {
     "grade": false,
     "grade_id": "cell-d8d845db72854733",
     "locked": true,
     "schema_version": 3,
     "solution": false,
     "task": false
    }
   },
   "source": [
    "<div class=\"alert alert-success\">\n",
    "\n",
    "## **Ejercicio 2.**\n",
    "\n",
    "<font color=\"DarkBlue\">\n",
    "Calcular el tiempo de cocción necesario para un huevo duro pequeño de $M$ = 47 g para cuando la temperatura inicial \n",
    "del huevo está a temperatura ambiente: $T_{o} = 20^oC$.\n",
    "\n",
    "**Datos**:\n",
    "- $M$ = 47 g \n",
    "- $\\rho$ = 1.038 g / cm$^3$\n",
    "- $c$ = 3.7 J / g K\n",
    "- $K$ = 5.4 $\\times 10^{-3}$ W / cm K\n",
    "- $T_w = 100^oC$\n",
    "- $T_y = 70^oC$\n",
    "  \n",
    "</font>\n",
    "</div>\n"
   ]
  },
  {
   "cell_type": "markdown",
   "id": "73cd7f8d-f1de-4de7-a925-4a2a23dc68e6",
   "metadata": {
    "nbgrader": {
     "grade": false,
     "grade_id": "cell-5584a80703036d53",
     "locked": true,
     "schema_version": 3,
     "solution": false,
     "task": false
    }
   },
   "source": [
    "### Paso 3.\n",
    "Implementa $C = \\ln \\left[ 0.76 \\dfrac{T_o - T_w}{T_y - T_w}\\right]$\n",
    "\n",
    "**Nota**: en este caso se requiere de la función logaritmo natural, la cual puede ser obtenida del módulo `math` como sigue: `from math import log as ln`"
   ]
  },
  {
   "cell_type": "code",
   "execution_count": 13,
   "id": "9e11f0f0-c098-413c-8837-85c68b26e9f5",
   "metadata": {
    "nbgrader": {
     "grade": false,
     "grade_id": "cell-9b74fbc84a88a25c",
     "locked": false,
     "schema_version": 3,
     "solution": true,
     "task": false
    }
   },
   "outputs": [
    {
     "name": "stdout",
     "output_type": "stream",
     "text": [
      "0.7063924073099658\n"
     ]
    }
   ],
   "source": [
    "### BEGIN SOLUTION\n",
    "from math import log as ln\n",
    "\n",
    "# Definimos las variables\n",
    "To = 20  # Temperatura inicial del huevo\n",
    "Tw = 100 # Temperatura de ebullición del agua\n",
    "Ty = 70  # Temperatura que debe alcanzar la yema\n",
    "\n",
    "C = ln(0.76 * (To - Tw) / (Ty - Tw))\n",
    "file_answer.write('6', C, 'Revisa la precedencia de operadores, en caso de duda utiliza () cuando sea necesario.')\n",
    "### END SOLUTION\n",
    "print(C)"
   ]
  },
  {
   "cell_type": "code",
   "execution_count": 14,
   "id": "4dedb909-b823-4090-88b3-42bc3cae0bf8",
   "metadata": {
    "nbgrader": {
     "grade": true,
     "grade_id": "cell-682c8b1db2a6d509",
     "locked": true,
     "points": 2,
     "schema_version": 3,
     "solution": false,
     "task": false
    }
   },
   "outputs": [
    {
     "name": "stdout",
     "output_type": "stream",
     "text": [
      "\u001b[39m----------------------------------------\n",
      "\u001b[32mTu resultado es correcto.\n",
      "\u001b[39m----------------------------------------\n"
     ]
    }
   ],
   "source": [
    "quizz.eval_numeric('6', C)"
   ]
  },
  {
   "cell_type": "markdown",
   "id": "67c52156-514c-4785-b2ae-2886a4d6b1fc",
   "metadata": {
    "nbgrader": {
     "grade": false,
     "grade_id": "cell-3e71446ea2d677c2",
     "locked": true,
     "schema_version": 3,
     "solution": false,
     "task": false
    }
   },
   "source": [
    "### Paso 4.\n",
    "Implementa el cálculo final: $t = \\dfrac{A}{B} * C$. "
   ]
  },
  {
   "cell_type": "code",
   "execution_count": 15,
   "id": "0e4b5ff2-d68f-4177-91b7-28806974f422",
   "metadata": {
    "nbgrader": {
     "grade": false,
     "grade_id": "cell-6a1431104ec6fb61",
     "locked": false,
     "schema_version": 3,
     "solution": true,
     "task": false
    }
   },
   "outputs": [
    {
     "name": "stdout",
     "output_type": "stream",
     "text": [
      "248.86253747844736\n"
     ]
    }
   ],
   "source": [
    "### BEGIN SOLUTION\n",
    "t = A / B * C\n",
    "file_answer.write('7', t, 'Revisa que todos los cálculos anteriores se hayan realizado correctamente.')\n",
    "### END SOLUTION\n",
    "print(t)"
   ]
  },
  {
   "cell_type": "code",
   "execution_count": 16,
   "id": "3ea4f42b-cee9-4604-a7a2-23857622adad",
   "metadata": {
    "nbgrader": {
     "grade": true,
     "grade_id": "cell-f52362bfea946d21",
     "locked": true,
     "points": 2,
     "schema_version": 3,
     "solution": false,
     "task": false
    }
   },
   "outputs": [
    {
     "name": "stdout",
     "output_type": "stream",
     "text": [
      "\u001b[39m----------------------------------------\n",
      "\u001b[32mTu resultado es correcto.\n",
      "\u001b[39m----------------------------------------\n"
     ]
    }
   ],
   "source": [
    "quizz.eval_numeric('7', t)"
   ]
  },
  {
   "cell_type": "markdown",
   "id": "150e1df8-a34d-4fbb-aa8d-e6b6a8b6ae52",
   "metadata": {
    "nbgrader": {
     "grade": false,
     "grade_id": "cell-8c2cf0599d0f9dd3",
     "locked": true,
     "schema_version": 3,
     "solution": false,
     "task": false
    }
   },
   "source": [
    "<div class=\"alert alert-success\">\n",
    "\n",
    "## **Ejercicio 3.**\n",
    "\n",
    "<font color=\"DarkBlue\">\n",
    "Implementa la fórmula $(1)$ en una sola línea y realiza el cálculo para el mismo huevo pero para una temperatura: $T_{o} = 4^oC$ (acabado de sacar del refri).\n",
    "\n",
    "</font>\n",
    "\n",
    "</div>\n"
   ]
  },
  {
   "cell_type": "code",
   "execution_count": 17,
   "id": "cb37d801-e9e3-4989-bce4-87b6121d1976",
   "metadata": {
    "nbgrader": {
     "grade": false,
     "grade_id": "cell-c06ab427ea8ccdf2",
     "locked": false,
     "schema_version": 3,
     "solution": true,
     "task": false
    }
   },
   "outputs": [
    {
     "name": "stdout",
     "output_type": "stream",
     "text": [
      "313.09454902221637\n"
     ]
    }
   ],
   "source": [
    "### BEGIN SOLUTION\n",
    "# Definimos las variables\n",
    "To = 4  # Temperatura inicial del huevo\n",
    "t = M**(2/3) * c * rho**(1/3) / ( K * pi**2 * (4 * pi / 3)**(2/3) ) * ln(0.76 * (To - Tw) / (Ty - Tw))\n",
    "file_answer.write('8', t, 'Revisa la precedencia de operadores, en caso de duda utiliza () cuando sea necesario, particularmente al calcular potencias.')\n",
    "### END SOLUTION\n",
    "\n",
    "print(t)"
   ]
  },
  {
   "cell_type": "code",
   "execution_count": 18,
   "id": "ebc92605-e1d3-4121-b3a8-463e376758f2",
   "metadata": {
    "nbgrader": {
     "grade": true,
     "grade_id": "cell-1e1039ea3c722ee9",
     "locked": true,
     "points": 3,
     "schema_version": 3,
     "solution": false,
     "task": false
    }
   },
   "outputs": [
    {
     "name": "stdout",
     "output_type": "stream",
     "text": [
      "\u001b[39m----------------------------------------\n",
      "\u001b[32mTu resultado es correcto.\n",
      "\u001b[39m----------------------------------------\n"
     ]
    }
   ],
   "source": [
    "quizz.eval_numeric('8', t)"
   ]
  },
  {
   "cell_type": "markdown",
   "id": "00d71608-858d-4cdd-b500-145b2b50b28c",
   "metadata": {
    "nbgrader": {
     "grade": false,
     "grade_id": "cell-e17f5071ff2d6cf2",
     "locked": true,
     "schema_version": 3,
     "solution": false,
     "task": false
    }
   },
   "source": [
    "<div class=\"alert alert-success\">\n",
    "\n",
    "## **Ejercicio 4.**\n",
    "\n",
    "<font color=\"DarkBlue\">\n",
    "Implementa una función de Python que reciba como argumentos todos los valores que necesita la fórmula $(1)$ y que regrese como resultado el tiempo de cocción del huevo. \n",
    "    \n",
    "Firma de la función:\n",
    "\n",
    "`def calc_tiempo(M, To, c, rho, K, Tw, Ty):`\n",
    "\n",
    "Ejecuta la función como sigue:\n",
    "\n",
    "```python\n",
    "To = 20\n",
    "t1 = calc_tiempo(M, To, c, rho, K, Tw, Ty)\n",
    "\n",
    "To = 4\n",
    "t2 = calc_tiempo(M, To, c, rho, K, Tw, Ty)\n",
    "\n",
    "print(t1, t2)\n",
    "```\n",
    "\n",
    "</font>\n",
    "</div>"
   ]
  },
  {
   "cell_type": "code",
   "execution_count": 19,
   "id": "36276317-127e-4af0-bffc-beccb79614cb",
   "metadata": {
    "nbgrader": {
     "grade": false,
     "grade_id": "cell-a4dbd8ecd24c3df9",
     "locked": false,
     "schema_version": 3,
     "solution": true,
     "task": false
    }
   },
   "outputs": [
    {
     "name": "stdout",
     "output_type": "stream",
     "text": [
      "248.86253747844736 313.09454902221637\n"
     ]
    }
   ],
   "source": [
    "### BEGIN SOLUTION\n",
    "def calc_tiempo(M, To, c, rho, K, Tw, Ty):\n",
    "    return M**(2/3) * c * rho**(1/3) / ( K * pi**2 * (4 * pi / 3)**(2/3) ) * ln(0.76 * (To - Tw) / (Ty - Tw))\n",
    "\n",
    "To = 20\n",
    "t1 = calc_tiempo(M, To, c, rho, K, Tw, Ty)\n",
    "\n",
    "To = 4\n",
    "t2 = calc_tiempo(M, To, c, rho, K, Tw, Ty)\n",
    "file_answer.write('9', [t1, t2], 'Copia correctamente el cálculo de la fórmula, del ejercicio anterior. Revisa como se debe regresar un valor calculado en un función.')\n",
    "### END SOLUTION\n",
    "\n",
    "print(t1, t2)\n"
   ]
  },
  {
   "cell_type": "code",
   "execution_count": 20,
   "id": "62c4ee76-23e2-4dff-bf8b-8b244ecd24fd",
   "metadata": {
    "nbgrader": {
     "grade": true,
     "grade_id": "cell-71fe6858fc550edd",
     "locked": true,
     "points": 3,
     "schema_version": 3,
     "solution": false,
     "task": false
    }
   },
   "outputs": [
    {
     "name": "stdout",
     "output_type": "stream",
     "text": [
      "\u001b[39m----------------------------------------\n",
      "\u001b[32mTu resultado es correcto.\n",
      "\u001b[39m----------------------------------------\n"
     ]
    }
   ],
   "source": [
    "quizz.eval_numeric('9', [t1, t2])"
   ]
  },
  {
   "cell_type": "markdown",
   "id": "25dc5b3c-82f8-498a-a1c3-1f805076682b",
   "metadata": {
    "editable": true,
    "nbgrader": {
     "grade": false,
     "grade_id": "cell-46c0e5c67fb94eba",
     "locked": true,
     "schema_version": 3,
     "solution": false,
     "task": false
    },
    "slideshow": {
     "slide_type": ""
    },
    "tags": []
   },
   "source": [
    "<div class=\"alert alert-success\">\n",
    "\n",
    "## **Ejercicio 5.**\n",
    "\n",
    "<font color=\"DarkBlue\">\n",
    "\n",
    "Realiza lo siguiente:\n",
    "* Crea la función `calc_tiempo_np()` copiando el código completo de la función `calc_tiempo()`.\n",
    "* En la nueva función `calc_tiempo_np()` modifica la parte del $\\ln()$ para que se calcule usando la función `np.log()` de la biblioteca `numpy`.\n",
    "* Posteriormente, usando `numpy`, crea el arreglo `Tol` con 9 valores de temperaturas en el intervalo $[4^o C, 20^o C]$, el arreglo debe contener los valores: `[ 4.,  6.,  8., 10., 12., 14., 16., 18., 20.]`. \n",
    "* Ejecuta la función como sigue: `tl = calc_tiempo_np(...)` pasando el arreglo `Tol`, el resultado debe ser un arreglo de 9 tiempos de cocción para cada una de las temperaturas del arreglo `Tol`, y debe contener algo similar a lo siguiente: `[313.09454902 305.67741829 ... 248.86253748]`\n",
    "\n",
    "**Nota**: en este caso, cálculo de $\\dfrac{T_o - T_w}{T_y - T_w}$ se hará con arreglos de `numpy`, por esta razón, tanto $T_w$ como $T_y$ también deben ser arreglos al momento de ejecutar la función `calc_tiempo_np()`.\n",
    "\n",
    "**Hint**: define también los arreglos `Twl` y `Tyl` del mimso tamaño que `Tol` y úsalos cuando ejecutes la función `calc_tiempo_np()`.\n",
    "\n",
    "</font>\n",
    "</div>"
   ]
  },
  {
   "cell_type": "code",
   "execution_count": 21,
   "id": "7b59b53d-0a92-4ac4-acc0-935697226154",
   "metadata": {
    "nbgrader": {
     "grade": false,
     "grade_id": "cell-0aa9f5d5d1a30a51",
     "locked": false,
     "schema_version": 3,
     "solution": true,
     "task": false
    }
   },
   "outputs": [
    {
     "name": "stdout",
     "output_type": "stream",
     "text": [
      "El directorio :/home/jovyan/HeCompA/.ans/01_Introduccion/ ya existe\n",
      "Respuestas y retroalimentación almacenadas.\n",
      "[ 4.  6.  8. 10. 12. 14. 16. 18. 20.]\n",
      "[313.09454902 305.67741829 298.1007672  290.35758304 282.44038026\n",
      " 274.34115696 266.05134632 257.56176211 248.86253748]\n"
     ]
    }
   ],
   "source": [
    "### BEGIN SOLUTION\n",
    "import numpy as np\n",
    "\n",
    "def calc_tiempo(M, To, c, rho, K, Tw, Ty):\n",
    "    return M**(2/3) * c * rho**(1/3) / ( K * pi**2 * (4 * pi / 3)**(2/3) ) * np.log(0.76 * (To - Tw) / (Ty - Tw))\n",
    "\n",
    "Tol = np.linspace(4,20,9)\n",
    "Twl = np.ones(9) * Tw\n",
    "Tyl = np.ones(9) * Ty\n",
    "\n",
    "tl = calc_tiempo(M, Tol, c, rho, K, Twl, Tyl)\n",
    "file_answer.write('10', tl, 'Revisa con cuidado la descripción del ejercicio, así como la Nota y el Hint.')\n",
    "file_answer.to_file('q1')\n",
    "### END SOLUTION\n",
    "print(Tol)\n",
    "print(tl)"
   ]
  },
  {
   "cell_type": "code",
   "execution_count": 22,
   "id": "1d536d17-e7b9-4c9c-8b53-b4d38a80ad90",
   "metadata": {
    "nbgrader": {
     "grade": true,
     "grade_id": "cell-d6acabf95a4bd9e1",
     "locked": true,
     "points": 3,
     "schema_version": 3,
     "solution": false,
     "task": false
    }
   },
   "outputs": [
    {
     "name": "stdout",
     "output_type": "stream",
     "text": [
      "\u001b[39m----------------------------------------\n",
      "\u001b[32mTu resultado es correcto.\n",
      "\u001b[39m----------------------------------------\n"
     ]
    }
   ],
   "source": [
    "quizz.eval_numeric('10', tl)"
   ]
  },
  {
   "cell_type": "code",
   "execution_count": null,
   "id": "31da79ba-3175-41eb-a775-30b0e7eb3545",
   "metadata": {},
   "outputs": [],
   "source": []
  }
 ],
 "metadata": {
  "kernelspec": {
   "display_name": "Python 3 (ipykernel)",
   "language": "python",
   "name": "python3"
  },
  "language_info": {
   "codemirror_mode": {
    "name": "ipython",
    "version": 3
   },
   "file_extension": ".py",
   "mimetype": "text/x-python",
   "name": "python",
   "nbconvert_exporter": "python",
   "pygments_lexer": "ipython3",
   "version": "3.11.6"
  },
  "toc": {
   "base_numbering": 0
  }
 },
 "nbformat": 4,
 "nbformat_minor": 5
}
