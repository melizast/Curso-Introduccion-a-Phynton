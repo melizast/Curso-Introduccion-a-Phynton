{
 "cells": [
  {
   "cell_type": "markdown",
   "id": "f9337156-dd19-43eb-8ef8-4698c17fd06c",
   "metadata": {},
   "source": [
    "# Introducción a Python\n",
    "\n",
    " <p xmlns:cc=\"http://creativecommons.org/ns#\" xmlns:dct=\"http://purl.org/dc/terms/\"><a property=\"dct:title\" rel=\"cc:attributionURL\" href=\"https://github.com/repomacti/introduccion_python\">Introducción a Python</a> by <a rel=\"cc:attributionURL dct:creator\" property=\"cc:attributionName\" href=\"https://gmc.geofisica.unam.mx/luiggi\">Luis Miguel de la Cruz Salas</a> is licensed under <a href=\"https://creativecommons.org/licenses/by-sa/4.0/?ref=chooser-v1\" target=\"_blank\" rel=\"license noopener noreferrer\" style=\"display:inline-block;\">CC BY-SA 4.0<img style=\"height:22px!important;margin-left:3px;vertical-align:text-bottom;\" src=\"https://mirrors.creativecommons.org/presskit/icons/cc.svg?ref=chooser-v1\" alt=\"\"><img style=\"height:22px!important;margin-left:3px;vertical-align:text-bottom;\" src=\"https://mirrors.creativecommons.org/presskit/icons/by.svg?ref=chooser-v1\" alt=\"\"><img style=\"height:22px!important;margin-left:3px;vertical-align:text-bottom;\" src=\"https://mirrors.creativecommons.org/presskit/icons/sa.svg?ref=chooser-v1\" alt=\"\"></a></p> \n",
    "\n",
    "# Quiz 1."
   ]
  },
  {
   "cell_type": "markdown",
   "id": "580171f8-e415-43dd-9cc2-d89fc704d9c2",
   "metadata": {},
   "source": [
    "<div class=\"alert alert-block alert-success\">\n",
    "\n",
    "## Ejercicio 1.\n",
    "\n",
    "* Definir los siguientes valores (usar los nombres de variables que están entre paréntesis):\n",
    "    * Peso = 52 (`peso`)\n",
    "    * Estatura = 1.52 (`estatura`)\n",
    "    * Edad = 37 (`edad`)\n",
    "    * Nombre = Shelly-Ann Fraser-Pryce (`nombre`)\n",
    "    * Estado civil = casada (`casada`)\n",
    "\n",
    "* Calcular el IMC usando el sistema métrico (`IMC_metrico`).\n",
    "\n",
    "* Convertir el peso a libras (`peso_lb`).\n",
    "* Convertir la estatura a pulgadas (`estatura_in`).\n",
    "* Calcular el IMC usando el sistema inglés (`IMC_ingles`):\n",
    "\n",
    "$$\n",
    "\\text{imc} = \\dfrac{\\text{peso [lb]}}{(\\text{estatura [in])}^2} \\times 703\n",
    "$$\n",
    "\n",
    "* Imprimir las variables antes definidas de tal manera que la salida sea como la siguiente:\n",
    "\n",
    "```\n",
    "Nombre = Shelly-Ann Fraser-Pryce\n",
    "Edad = 37\n",
    "Casada = True\n",
    "Peso = 52 kg\n",
    "Estatura = 1.52 m\n",
    "IMC (metrico) = 22.506925207756233\n",
    "IMC (inglés) = 22.50464672968549\n",
    "```  \n",
    "</div>"
   ]
  },
  {
   "cell_type": "code",
   "execution_count": 8,
   "id": "d70e67dc-e331-4742-8ded-c120ad4280a3",
   "metadata": {},
   "outputs": [
    {
     "name": "stdout",
     "output_type": "stream",
     "text": [
      "Nombre = Shelly-Ann Fraser-Pryce\n",
      "Edad = 37\n",
      "Casado = True\n",
      "Peso = 52 kg\n",
      "Estatura = 1.52 m\n",
      "IMC (métrico) = 22.506925207756233\n",
      "IMC (inglés) = 22.50464672968549\n"
     ]
    }
   ],
   "source": [
    "# Define las variables y realiza los cálculos del IMC\n",
    "# nombre = ...\n",
    "# ...\n",
    "### BEGIN SOLUTION\n",
    "nombre = \"Shelly-Ann Fraser-Pryce\"\n",
    "casada = True\n",
    "edad = 37\n",
    "peso = 52\n",
    "estatura = 1.52\n",
    "\n",
    "IMC_metrico = peso / estatura**2\n",
    "\n",
    "peso_lb = peso * 2.20462\n",
    "estatura_in = estatura * 39.3701\n",
    "\n",
    "IMC_ingles = peso_lb / estatura_in**2 * 703\n",
    "\n",
    "print(\"Nombre =\", nombre)\n",
    "print(\"Edad =\", edad)\n",
    "print(\"Casado =\", casada)\n",
    "print(\"Peso =\", peso, \"kg\")\n",
    "print(\"Estatura =\", estatura, \"m\")\n",
    "print(\"IMC (métrico) =\", IMC_metrico)\n",
    "print(\"IMC (inglés) =\", IMC_ingles)\n",
    "### END SOLUTION"
   ]
  },
  {
   "cell_type": "markdown",
   "id": "cda04d43-f3c3-4bee-a13e-c2d5c6a6665d",
   "metadata": {},
   "source": [
    "<div class=\"alert alert-block alert-success\">\n",
    "\n",
    "## Ejercicio 2.\n",
    "\n",
    "Con base en la ecuación de recurrencia cuadrática del conjunto de Mandelbrot, indica si la sucesión es acotada o no para $n = 10$ iteraciones con los siguientes números complejos:\n",
    "\n",
    "1. $c = 1.0$\n",
    "2. $c = -1.0$\n",
    "3. $c = -1.0j$\n",
    "\n",
    "Escribe tu respuesta en las siguientes variables Boolenas, donde `True` indica que la sucesión es acotada y `False` que no lo es.\n",
    "\n",
    "1. `c1 = ...`\n",
    "2. `c2 = ...`\n",
    "3. `c3 = ...`\n",
    "\n",
    "</div>"
   ]
  },
  {
   "cell_type": "code",
   "execution_count": 5,
   "id": "1996d6b2-f40a-43f1-b60a-74249f371890",
   "metadata": {},
   "outputs": [
    {
     "name": "stdout",
     "output_type": "stream",
     "text": [
      "0 -1.0 0.0 -1.0 0.0 -1.0 0.0 -1.0 0.0 -1.0 0.0\n"
     ]
    }
   ],
   "source": [
    "# Escribe la recurrencia e imprime el resultado\n",
    "# c = ...\n",
    "# z0 = ...\n",
    "# ...\n",
    "# print(...)\n",
    "\n",
    "### BEGIN SOLUTION\n",
    "c = -1.0\n",
    "z0 = 0\n",
    "z1 = z0**2 + c\n",
    "z2 = z1**2 + c\n",
    "z3 = z2**2 + c\n",
    "z4 = z3**2 + c\n",
    "z5 = z4**2 + c\n",
    "z6 = z5**2 + c\n",
    "z7 = z6**2 + c\n",
    "z8 = z7**2 + c\n",
    "z9 = z8**2 + c\n",
    "z10 = z9**2 + c\n",
    "\n",
    "print(z0, z1, z2, z3, z4, z5, z6, z7, z8, z9, z10)\n",
    "### END SOLUTION"
   ]
  },
  {
   "cell_type": "code",
   "execution_count": 7,
   "id": "c158d37e-9d40-47f8-90c7-697071504407",
   "metadata": {},
   "outputs": [],
   "source": [
    "# True : acotada; False: no acotada\n",
    "# c1 = ...\n",
    "# c2 = ...\n",
    "# c3 = ...\n",
    "### BEGIN SOLUTION\n",
    "c1 = False\n",
    "c2 = True\n",
    "c3 = True\n",
    "### END SOLUTION"
   ]
  },
  {
   "cell_type": "markdown",
   "id": "4537568b-bb33-4d2a-9c75-4ca6d48b6976",
   "metadata": {},
   "source": [
    "<div class=\"alert alert-block alert-success\">\n",
    "\n",
    "## Ejercicio 3.\n",
    "    \n",
    "1. ¿Cuáles de los siguientes nombres **SI** son correctos y cuáles **NO** para definir nombres de variables?\n",
    "    1. `𝜋 = 3 + 1/7`\n",
    "    2.  `r = 25`\n",
    "    3.  `await = \"espera un momento\"`\n",
    "    4.  `peña_de_bernal = \"formación rocosa\"`\n",
    "    5.  `area_del_círculo = 𝜋 * r**2`\n",
    "    6.  `contacto@mail.com = \"mi correo electrónico\"`\n",
    "    7.  `numero80 = 80.5`\n",
    "    8.  `23_flotante = 10`\n",
    "    9.  `complejo = 5 + 8k`\n",
    "    10.  `CoMpLeJ0 = 5 + 8j`\n",
    "<br><br>\n",
    "\n",
    "Para cada ejemplo, escribe tus respuestas usando las cadenas `\"correcto\"` o \"`incorrecto`\" dependiendo del caso y asígnalas a una variable con el nombre de la pregunta por ejemplo:\n",
    "   ```python\n",
    "    A = \"correcto\"\n",
    "    B = \"incorrecto\"\n",
    "   ...\n",
    "   ```\n",
    "</div>"
   ]
  },
  {
   "cell_type": "code",
   "execution_count": 9,
   "id": "38f621ec-e08f-4f4c-a214-0d2050081429",
   "metadata": {},
   "outputs": [],
   "source": [
    "# A = \"correcto\"\n",
    "# B = ...\n",
    "# ...\n",
    "### BEGIN SOLUTION\n",
    "𝜋 = 3 + 1/7\n",
    "r = 25\n",
    "#await = \"espera un momento\"\n",
    "peña_de_bernal = \"formación rocosa\"\n",
    "area_del_círculo = 𝜋 * r**2\n",
    "#contacto@mail.com = \"mi correo electrónico\"\n",
    "numero80 = 80.5\n",
    "#23_flotante = 10\n",
    "#complejo = 5 + 8k\n",
    "CoMpLeJ0 = 5 + 8j\n",
    "\n",
    "A = \"correcto\"\n",
    "B = \"correcto\"\n",
    "C = \"incorrecto\"\n",
    "D = \"correcto\"\n",
    "E = \"correcto\"\n",
    "F = \"incorrecto\"\n",
    "G = \"correcto\"\n",
    "H = \"incorrecto\"\n",
    "I = \"incorrecto\"\n",
    "J = \"correcto\"\n",
    "### END SOLUTION"
   ]
  },
  {
   "cell_type": "markdown",
   "id": "11fcbcf4-1b07-4be5-a520-a6756262300e",
   "metadata": {},
   "source": [
    "<div class=\"alert alert-block alert-success\">\n",
    "\n",
    "## Ejercicio 4.\n",
    "\n",
    "¿Cuántos objetos se crean en la siguiente declaración?\n",
    "```python\n",
    "a = b = c = d = 100\n",
    "```\n",
    "<br>\n",
    "\n",
    "Escribe tu respuesta en la variable `R4` usando un valor entero:\n",
    "```python\n",
    "R4 = ...\n",
    "```\n",
    "</div>"
   ]
  },
  {
   "cell_type": "code",
   "execution_count": 12,
   "id": "d5f13ead-0a60-462b-8b14-373e422eef24",
   "metadata": {},
   "outputs": [],
   "source": [
    "# R4 = ...\n",
    "### BEGIN SOLUTION\n",
    "R4 = 1\n",
    "### END SOLUTION"
   ]
  },
  {
   "cell_type": "markdown",
   "id": "7d7a4c87-f11e-4720-b742-1ea77a2ac1bf",
   "metadata": {},
   "source": [
    "<div class=\"alert alert-block alert-success\">\n",
    "\n",
    "## Ejercicio 5.\n",
    "\n",
    "¿Cuántos objetos se crean en la siguiente declaración?\n",
    "   \n",
    "```python\n",
    "a, b, c, d = 5, 6, 7, 8\n",
    "```\n",
    "<br>\n",
    "\n",
    "Escribe tu respuesta en la variable `R5` usando un valor entero:\n",
    "```python\n",
    "R5 = ...\n",
    "```\n",
    "</font>\n",
    "</div>"
   ]
  },
  {
   "cell_type": "code",
   "execution_count": 13,
   "id": "1e807c15-c798-49fe-a52e-1f115c3a1aba",
   "metadata": {},
   "outputs": [],
   "source": [
    "# R5 = ...\n",
    "### BEGIN SOLUTION\n",
    "R5 = 4\n",
    "### END SOLUTION"
   ]
  },
  {
   "cell_type": "markdown",
   "id": "f60db697-833d-46a9-b481-12c4b4f44aac",
   "metadata": {},
   "source": [
    "<div class=\"alert alert-block alert-success\">\n",
    "\n",
    "## Ejercicio 6.\n",
    "\n",
    "¿De qué tipo son los objetos creados en la siguiente declaración?\n",
    "```python\n",
    "u, v, w, x  = 3+4j, 5, \"Viva\", False\n",
    "```\n",
    "<br>\n",
    "\n",
    "Escribe tus respuestas en las variables `tipo_u`, `tipo_v`, `tipo_w` y `tipo_x` usando la cadena correspondiente del tipo (`\"int\"`, `\"float\"`, `\"complex\"`, `\"str\"`, `\"bool\"`):\n",
    "```python\n",
    "tipo_u = ...\n",
    "tipo_v = ...\n",
    "tipo_w = ...\n",
    "tipo_x = ...\n",
    "```\n",
    "</div>"
   ]
  },
  {
   "cell_type": "code",
   "execution_count": 14,
   "id": "c7ba6037-63cc-49ae-aaed-86cc562837ab",
   "metadata": {},
   "outputs": [],
   "source": [
    "# tipo_u = ...\n",
    "# ...\n",
    "### BEGIN SOLUTION\n",
    "tipo_u = \"complex\" \n",
    "tipo_v = \"int\"\n",
    "tipo_w = \"str\"\n",
    "tipo_x = \"bool\"\n",
    "### END SOLUTION"
   ]
  },
  {
   "cell_type": "markdown",
   "id": "d4a6b3c1-f431-443f-badc-ff95d61c3d38",
   "metadata": {},
   "source": [
    "<div class=\"alert alert-block alert-success\">\n",
    "\n",
    "## Ejercicio 7.\n",
    "    \n",
    "Define la variable $\\pi = \\frac{9801}{1103 \\sqrt{8}}$ usando el caracter `𝜋` como variable y luego calcula el área de un círculo de radio $53\\times10^{-12}$. Define la variable `r` para almacenar el radio y la variable `area` para almacenar el cálculo del área.\n",
    "\n",
    "**Hint**. En Python el número $53\\times10^{-12}$ se escribe como: `53e-12`. \n",
    "\n",
    "</div>"
   ]
  },
  {
   "cell_type": "code",
   "execution_count": 6,
   "id": "d7a80c31-1730-4990-ad97-3ae133a92b63",
   "metadata": {},
   "outputs": [
    {
     "name": "stdout",
     "output_type": "stream",
     "text": [
      "Área del círculo de radio  5.3e-11  es  8.824733978607375e-21\n"
     ]
    }
   ],
   "source": [
    "# Define las variables 𝜋 y r, y la fórmula del área\n",
    "#\n",
    "### BEGIN SOLUTION\n",
    "𝜋 = 9801 / (1103 * 8**0.5)\n",
    "r = 53e-12\n",
    "area = 𝜋 * r ** 2\n",
    "### END SOLUTION\n",
    "\n",
    "print(\"Área del círculo de radio \", r, \" es \", area)"
   ]
  },
  {
   "cell_type": "markdown",
   "id": "2df2666a-58c2-4f5f-a1dd-c872af6de058",
   "metadata": {},
   "source": [
    "<div class=\"alert alert-block alert-success\">\n",
    "\n",
    "## Ejercicio 8.\n",
    "\n",
    "Define la variable `𝜋 = 3 + 1/7` y el radio `r = 6378`. Usando estas variables codifica la siguiente fórmula para calcular el volumen $\\;\\;V = \\dfrac{4}{3} \\pi r^3 \\;\\;$.\n",
    "\n",
    "</div>"
   ]
  },
  {
   "cell_type": "code",
   "execution_count": 17,
   "id": "23b40660-cafd-4ac1-9697-de2f957e5392",
   "metadata": {},
   "outputs": [
    {
     "name": "stdout",
     "output_type": "stream",
     "text": [
      "𝜋 = 3.142857142857143\n",
      "r = 6378\n",
      "V = 1087218721398.8569\n"
     ]
    }
   ],
   "source": [
    "# Define las variables 𝜋 y r, y la fórmula\n",
    "#\n",
    "### BEGIN SOLUTION\n",
    "𝜋 = 3 + 1/7\n",
    "r = 6378\n",
    "V = 4 / 3 * 𝜋 * r ** 3\n",
    "### END SOLUTION\n",
    "\n",
    "print(\"𝜋 =\", 𝜋) \n",
    "print(\"r =\", r)\n",
    "print(\"V =\", V)"
   ]
  },
  {
   "cell_type": "markdown",
   "id": "fa2235f2-422c-42f5-8b4f-4d901971c29b",
   "metadata": {},
   "source": [
    "<div class=\"alert alert-block alert-success\">\n",
    "\n",
    "## Ejercicio 9.\n",
    "\n",
    "El teorema de Pitágoras establece que, en todo triángulo rectángulo, la longitud de la hipotenusa es igual a la raíz cuadrada de la suma del cuadrado de los catetos. Si $a$ y $b$ son los catetos y $c$ la hipotenusa, entonces:\n",
    "\n",
    "$$c = \\sqrt{a^2 + b^2}$$\n",
    "\n",
    "Calcula la hipotenusa de un triángulo rectángulo cuyos catetos miden $a = 13$ y $b = 8$.\n",
    "\n",
    "Almacena el tipo numérico de `c` como sigue: `tipo_c = type(c)`.\n",
    "</div>"
   ]
  },
  {
   "cell_type": "code",
   "execution_count": 16,
   "id": "aa5ce03a-0987-42dc-9fe0-a352c85f706f",
   "metadata": {},
   "outputs": [
    {
     "name": "stdout",
     "output_type": "stream",
     "text": [
      "13 <class 'int'>\n",
      "8 <class 'int'>\n",
      "15.264337522473747 <class 'float'>\n"
     ]
    }
   ],
   "source": [
    "# a = ...\n",
    "# b = ...\n",
    "# c = ...\n",
    "# tipo_c = type(c)\n",
    "### BEGIN SOLUTION\n",
    "a = 13\n",
    "b = 8\n",
    "c = (a**2 + b**2) ** (0.5)\n",
    "tipo_c = type(c)\n",
    "### END SOLUTION\n",
    "\n",
    "print(a, type(a))\n",
    "print(b, type(b))\n",
    "print(c, tipo_c)"
   ]
  },
  {
   "cell_type": "markdown",
   "id": "5492f108-ae0d-4215-89fe-66244e5c9b30",
   "metadata": {},
   "source": [
    "<div class=\"alert alert-block alert-success\">\n",
    "\n",
    "## Ejercicio 10.\n",
    "\n",
    "Realiza la siguiente operación $suma = 1 + 2 + 3 + 4 + 5$ usando el operador `+=`. \n",
    "\n",
    "**Hint**. Inicializa `suma = 1`, posteriormente ve agregando el número correspondiente a `suma` usando `+=` hasta obtener el resultado correcto.\n",
    "\n",
    "</div>"
   ]
  },
  {
   "cell_type": "code",
   "execution_count": 19,
   "id": "99a4c1e6-f958-45af-b6a5-03f7044c2708",
   "metadata": {},
   "outputs": [
    {
     "name": "stdout",
     "output_type": "stream",
     "text": [
      "15\n"
     ]
    }
   ],
   "source": [
    "# suma = 1\n",
    "# suma += 2\n",
    "# ...\n",
    "### BEGIN SOLUTION\n",
    "suma = 1\n",
    "suma += 2\n",
    "suma += 3\n",
    "suma += 4\n",
    "suma += 5\n",
    "### END SOLUTION\n",
    "\n",
    "print(suma)"
   ]
  },
  {
   "cell_type": "markdown",
   "id": "2de4e31c-b4df-4545-9cba-38b02464d656",
   "metadata": {},
   "source": [
    "<div class=\"alert alert-block alert-success\">\n",
    "\n",
    "## Ejercicio 11.\n",
    "\n",
    "Calcula el promedio de la siguiente lista de números: $3.4$, $5.6$, $2.9$, $3.8$, $4.5$. \n",
    "\n",
    "Primero suma todos los números y almacena el resultado en la variable `promedio`. Posteriormente divide el resultado entre el total de números usando el operador `/=`.\n",
    "\n",
    "</div>"
   ]
  },
  {
   "cell_type": "code",
   "execution_count": 20,
   "id": "c8a00a41-2c59-4553-a8f9-2e6e59345f70",
   "metadata": {},
   "outputs": [
    {
     "name": "stdout",
     "output_type": "stream",
     "text": [
      "4.04\n"
     ]
    }
   ],
   "source": [
    "# promedio = ...\n",
    "# promedio /= ...\n",
    "### BEGIN SOLUTION\n",
    "promedio = 3.4 + 5.6 + 2.9 + 3.8 + 4.5\n",
    "promedio /= 5\n",
    "### END SOLUTION\n",
    "\n",
    "print(promedio)"
   ]
  },
  {
   "cell_type": "markdown",
   "id": "13438cb7-a895-4ac1-b749-97bb6e005bfc",
   "metadata": {},
   "source": [
    "<div class=\"alert alert-block alert-success\">\n",
    "\n",
    "## Ejercicio 12\n",
    "\n",
    "Un ejemplo de serie geométrica es el siguiente:\n",
    "$$\n",
    "\\text{serie} = \\dfrac{1}{2} + \\dfrac{1}{4} + \\dfrac{1}{8} + \\dfrac{1}{16} + \\dfrac{1}{32} + \\dots\n",
    "$$\n",
    "\n",
    "Observa que cada término sucesivo se obtiene al multiplicar el término anterior por $\\dfrac{1}{2}$. Por ejemplo: $\\dfrac{1}{8} = \\dfrac{1}{4} \\times \\dfrac{1}{2}$.\n",
    "   \n",
    "Implementa los primeros cinco términos de esta serie geométrica usando los operadores `*=` y `+=`.\n",
    "   \n",
    "**Hint**. Inicialmente define las variables `geom = 1/2` y `serie = geom`. Posteriormente construye cada elemento de la serie geométrica usando `geom` y `*=` y luego agrégalo a `serie` usando `+=`.\n",
    "\n",
    "</div>"
   ]
  },
  {
   "cell_type": "code",
   "execution_count": 21,
   "id": "0b8ca481-f998-4fb5-ad55-b5f9af9906d3",
   "metadata": {},
   "outputs": [
    {
     "name": "stdout",
     "output_type": "stream",
     "text": [
      "0.96875\n"
     ]
    }
   ],
   "source": [
    "# Resultado final debería ser:\n",
    "print(1/2 + 1/4 + 1/8 + 1/16 + 1/32)"
   ]
  },
  {
   "cell_type": "code",
   "execution_count": 22,
   "id": "5b51989c-e92e-4c88-b199-3652c50992e4",
   "metadata": {},
   "outputs": [
    {
     "name": "stdout",
     "output_type": "stream",
     "text": [
      "0.96875\n"
     ]
    }
   ],
   "source": [
    "# geom = 1/2\n",
    "# serie = geom\n",
    "# geom *= ...\n",
    "# serie += ...\n",
    "# ...\n",
    "### BEGIN SOLUTION\n",
    "geom = 1/2\n",
    "serie = geom\n",
    "geom *= 1/2\n",
    "serie += geom\n",
    "geom *= 1/2\n",
    "serie += geom\n",
    "geom *= 1/2\n",
    "serie += geom\n",
    "geom *= 1/2\n",
    "serie += geom\n",
    "### END SOLUTION\n",
    "\n",
    "print(serie)"
   ]
  },
  {
   "cell_type": "code",
   "execution_count": null,
   "id": "00e14560-f124-4b87-87da-d87c40211419",
   "metadata": {},
   "outputs": [],
   "source": []
  },
  {
   "cell_type": "code",
   "execution_count": null,
   "id": "5efcc703-58e3-4371-a4d9-d27d6da2491e",
   "metadata": {},
   "outputs": [],
   "source": []
  }
 ],
 "metadata": {
  "kernelspec": {
   "display_name": "Python 3 (ipykernel)",
   "language": "python",
   "name": "python3"
  },
  "language_info": {
   "codemirror_mode": {
    "name": "ipython",
    "version": 3
   },
   "file_extension": ".py",
   "mimetype": "text/x-python",
   "name": "python",
   "nbconvert_exporter": "python",
   "pygments_lexer": "ipython3",
   "version": "3.11.6"
  }
 },
 "nbformat": 4,
 "nbformat_minor": 5
}
