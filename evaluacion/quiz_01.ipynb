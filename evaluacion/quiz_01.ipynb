{
 "cells": [
  {
   "cell_type": "markdown",
   "id": "f9337156-dd19-43eb-8ef8-4698c17fd06c",
   "metadata": {
    "nbgrader": {
     "grade": false,
     "grade_id": "cell-b24cbd512c7cd66a",
     "locked": true,
     "schema_version": 3,
     "solution": false,
     "task": false
    }
   },
   "source": [
    "# Introducción a Python\n",
    "\n",
    " <p xmlns:cc=\"http://creativecommons.org/ns#\" xmlns:dct=\"http://purl.org/dc/terms/\"><a property=\"dct:title\" rel=\"cc:attributionURL\" href=\"https://github.com/repomacti/introduccion_python\">Introducción a Python</a> by <a rel=\"cc:attributionURL dct:creator\" property=\"cc:attributionName\" href=\"https://gmc.geofisica.unam.mx/luiggi\">Luis Miguel de la Cruz Salas</a> is licensed under <a href=\"https://creativecommons.org/licenses/by-sa/4.0/?ref=chooser-v1\" target=\"_blank\" rel=\"license noopener noreferrer\" style=\"display:inline-block;\">CC BY-SA 4.0<img style=\"height:22px!important;margin-left:3px;vertical-align:text-bottom;\" src=\"https://mirrors.creativecommons.org/presskit/icons/cc.svg?ref=chooser-v1\" alt=\"\"><img style=\"height:22px!important;margin-left:3px;vertical-align:text-bottom;\" src=\"https://mirrors.creativecommons.org/presskit/icons/by.svg?ref=chooser-v1\" alt=\"\"><img style=\"height:22px!important;margin-left:3px;vertical-align:text-bottom;\" src=\"https://mirrors.creativecommons.org/presskit/icons/sa.svg?ref=chooser-v1\" alt=\"\"></a></p> \n",
    "\n",
    "# Quiz 1."
   ]
  },
  {
   "cell_type": "markdown",
   "id": "580171f8-e415-43dd-9cc2-d89fc704d9c2",
   "metadata": {
    "nbgrader": {
     "grade": false,
     "grade_id": "cell-fefe9fb47894c8a0",
     "locked": true,
     "schema_version": 3,
     "solution": false,
     "task": false
    }
   },
   "source": [
    "<div class=\"alert alert-block alert-success\">\n",
    "\n",
    "## Ejercicio 1.\n",
    "\n",
    "* Definir los siguientes valores (usar los nombres de variables que están entre paréntesis):\n",
    "    * Peso = 52 (`peso`)\n",
    "    * Estatura = 1.52 (`estatura`)\n",
    "    * Edad = 37 (`edad`)\n",
    "    * Nombre = Shelly-Ann Fraser-Pryce (`nombre`)\n",
    "    * Estado civil = casada (`casada`)\n",
    "\n",
    "* Calcular el IMC usando el sistema métrico (`IMC_metrico`).\n",
    "\n",
    "* Convertir el peso a libras (`peso_lb`).\n",
    "* Convertir la estatura a pulgadas (`estatura_in`).\n",
    "* Calcular el IMC usando el sistema inglés (`IMC_ingles`):\n",
    "\n",
    "$$\n",
    "\\text{imc} = \\dfrac{\\text{peso [lb]}}{(\\text{estatura [in])}^2} \\times 703\n",
    "$$\n",
    "\n",
    "* Imprimir las variables antes definidas de tal manera que la salida sea como la siguiente:\n",
    "\n",
    "```\n",
    "Nombre = Shelly-Ann Fraser-Pryce\n",
    "Edad = 37\n",
    "Casada = True\n",
    "Peso = 52 kg\n",
    "Estatura = 1.52 m\n",
    "IMC (metrico) = 22.506925207756233\n",
    "IMC (inglés) = 22.50464672968549\n",
    "```  \n",
    "</div>"
   ]
  },
  {
   "cell_type": "code",
   "execution_count": null,
   "id": "d70e67dc-e331-4742-8ded-c120ad4280a3",
   "metadata": {
    "nbgrader": {
     "grade": false,
     "grade_id": "cell-d984cd47f273aaa9",
     "locked": false,
     "schema_version": 3,
     "solution": true,
     "task": false
    }
   },
   "outputs": [],
   "source": [
    "# Define las variables y realiza los cálculos del IMC\n",
    "# nombre = ...\n",
    "# ...\n",
    "### BEGIN SOLUTION\n",
    "nombre = \"Shelly-Ann Fraser-Pryce\"\n",
    "casada = True\n",
    "edad = 37\n",
    "peso = 52\n",
    "estatura = 1.52\n",
    "\n",
    "IMC_metrico = peso / estatura**2\n",
    "\n",
    "peso_lb = peso * 2.20462\n",
    "estatura_in = estatura * 39.3701\n",
    "\n",
    "IMC_ingles = peso_lb / estatura_in**2 * 703\n",
    "\n",
    "from macti.evaluation import FileAnswer\n",
    "file_answer = FileAnswer() \n",
    "file_answer.verb = 2 # (Default) se da toda la retroalimentación posible.\n",
    "f_1=\"\"\"'Verifica que el nombre se haya escrito exactamente \n",
    "con los espacios y guiones correspondientes'\n",
    "\"\"\"\n",
    "file_answer.write('1', nombre, f_1)\n",
    "file_answer.write('2', casada, \"La variable 'casada' debe ser de tipo bool (True o False)\")\n",
    "file_answer.write('3', edad, \"La variable 'edad' debe ser de tipo 'int'\")\n",
    "file_answer.write('4', peso, \"La variable 'peso' debe ser de tipo 'int'\")\n",
    "file_answer.write('5', estatura, \"La variable 'estatura' debe ser de tipo 'float'\")\n",
    "file_answer.write('6', IMC_metrico, \"No se calculó correctamente el 'IMC_metrico'\")\n",
    "file_answer.write('7', peso_lb, \"La conversión a libras no se realizó correctamente\")\n",
    "file_answer.write('8', estatura_in, \"La conversión a pulgadas no se realizó correctamente\")\n",
    "file_answer.write('9', IMC_ingles, \"No se calculó correctamente el 'IMC_ingles'\")\n",
    "#file_answer.to_file('q1') \n",
    "### END SOLUTION\n",
    "\n",
    "print(\"Nombre =\", nombre)\n",
    "print(\"Edad =\", edad)\n",
    "print(\"Casado =\", casada)\n",
    "print(\"Peso =\", peso, \"kg\")\n",
    "print(\"Estatura =\", estatura, \"m\")\n",
    "print(\"IMC (métrico) =\", IMC_metrico)\n",
    "print(\"IMC (inglés) =\", IMC_ingles)"
   ]
  },
  {
   "cell_type": "code",
   "execution_count": null,
   "id": "55af0a2b-41df-4017-acba-41750de11ea7",
   "metadata": {},
   "outputs": [],
   "source": [
    "from macti.evaluation import Quizz\n",
    "quizz = Quizz('q1', 'introduccion_python', 'local')\n",
    "\n",
    "quizz.eval_datastruct('1', nombre)\n",
    "quizz.eval_numeric('2', casada)\n",
    "quizz.eval_numeric('3', edad)\n",
    "quizz.eval_numeric('4', peso)\n",
    "quizz.eval_numeric('5', estatura)\n",
    "quizz.eval_numeric('6', IMC_metrico)\n",
    "quizz.eval_numeric('7', peso_lb)\n",
    "quizz.eval_numeric('8', estatura_in)\n",
    "quizz.eval_numeric('9', IMC_ingles)"
   ]
  },
  {
   "cell_type": "markdown",
   "id": "cda04d43-f3c3-4bee-a13e-c2d5c6a6665d",
   "metadata": {
    "nbgrader": {
     "grade": false,
     "grade_id": "cell-53a5af8f9a370bc3",
     "locked": true,
     "schema_version": 3,
     "solution": false,
     "task": false
    }
   },
   "source": [
    "<div class=\"alert alert-block alert-success\">\n",
    "\n",
    "## Ejercicio 2.\n",
    "\n",
    "Con base en la ecuación de recurrencia cuadrática del conjunto de Mandelbrot, indica si la sucesión es acotada o no para $n = 10$ iteraciones con los siguientes números complejos:\n",
    "\n",
    "1. $c = 1.0$\n",
    "2. $c = -1.0$\n",
    "3. $c = -1.0j$\n",
    "\n",
    "Escribe tu respuesta en las siguientes variables Boolenas, donde `True` indica que la sucesión es acotada y `False` que no lo es.\n",
    "\n",
    "1. `c1 = ...`\n",
    "2. `c2 = ...`\n",
    "3. `c3 = ...`\n",
    "\n",
    "</div>"
   ]
  },
  {
   "cell_type": "code",
   "execution_count": null,
   "id": "1996d6b2-f40a-43f1-b60a-74249f371890",
   "metadata": {
    "nbgrader": {
     "grade": false,
     "grade_id": "cell-4004cc500b41535d",
     "locked": false,
     "schema_version": 3,
     "solution": true,
     "task": false
    }
   },
   "outputs": [],
   "source": [
    "# Escribe la recurrencia e imprime el resultado\n",
    "# c = ...\n",
    "# z0 = ...\n",
    "# ...\n",
    "# print(...)\n",
    "\n",
    "### BEGIN SOLUTION\n",
    "c = -1.0\n",
    "z0 = 0\n",
    "z1 = z0**2 + c\n",
    "z2 = z1**2 + c\n",
    "z3 = z2**2 + c\n",
    "z4 = z3**2 + c\n",
    "z5 = z4**2 + c\n",
    "z6 = z5**2 + c\n",
    "z7 = z6**2 + c\n",
    "z8 = z7**2 + c\n",
    "z9 = z8**2 + c\n",
    "z10 = z9**2 + c\n",
    "\n",
    "print(z0, z1, z2, z3, z4, z5, z6, z7, z8, z9, z10)\n",
    "### END SOLUTION"
   ]
  },
  {
   "cell_type": "code",
   "execution_count": null,
   "id": "c158d37e-9d40-47f8-90c7-697071504407",
   "metadata": {
    "nbgrader": {
     "grade": false,
     "grade_id": "cell-ae601ae1dfc232f5",
     "locked": false,
     "schema_version": 3,
     "solution": true,
     "task": false
    }
   },
   "outputs": [],
   "source": [
    "# True : acotada; False: no acotada\n",
    "# c1 = ...\n",
    "# c2 = ...\n",
    "# c3 = ...\n",
    "### BEGIN SOLUTION\n",
    "c1 = False\n",
    "c2 = True\n",
    "c3 = True\n",
    "\n",
    "file_answer.write('10', False, \"Pusiste c1 = True, ¿Estas segur@ ?\")\n",
    "file_answer.write('11', True, \"Pusiste c2 = False, ¿Estas segur@ ?\")\n",
    "file_answer.write('12', True, \"Pusiste c3 = False, ¿Estas segur@ ?\")\n",
    "#file_answer.to_file('q1') \n",
    "### END SOLUTION"
   ]
  },
  {
   "cell_type": "code",
   "execution_count": null,
   "id": "0a21d808-dc9a-494c-8002-4c61fe8cd654",
   "metadata": {},
   "outputs": [],
   "source": [
    "quizz.eval_numeric('10', c1)\n",
    "quizz.eval_numeric('11', c2)\n",
    "quizz.eval_numeric('12', c3)"
   ]
  },
  {
   "cell_type": "markdown",
   "id": "4537568b-bb33-4d2a-9c75-4ca6d48b6976",
   "metadata": {
    "nbgrader": {
     "grade": false,
     "grade_id": "cell-dc349768a7b9adf8",
     "locked": true,
     "schema_version": 3,
     "solution": false,
     "task": false
    }
   },
   "source": [
    "<div class=\"alert alert-block alert-success\">\n",
    "\n",
    "## Ejercicio 3.\n",
    "    \n",
    "1. ¿Cuáles de los siguientes nombres **SI** son válidos y cuáles **NO** para definir nombres de variables?\n",
    "    1. `𝜋 = 3 + 1/7`\n",
    "    2.  `r = 25`\n",
    "    3.  `await = \"espera un momento\"`\n",
    "    4.  `peña_de_bernal = \"formación rocosa\"`\n",
    "    5.  `area_del_círculo = 𝜋 * r**2`\n",
    "    6.  `contacto@mail.com = \"mi correo electrónico\"`\n",
    "    7.  `numero80 = 80.5`\n",
    "    8.  `23_flotante = 10`\n",
    "    9.  `complejo = 5 + 8k`\n",
    "    10.  `CoMpLeJ0 = 5 + 8j`\n",
    "<br><br>\n",
    "\n",
    "Para cada ejemplo, escribe tus respuestas usando las cadenas `\"válido\"` o `\"inválido\"` dependiendo del caso y asígnalas a una variable con el nombre de la pregunta por ejemplo:\n",
    "   ```python\n",
    "    A = \"válido\"\n",
    "    B = \"inválido\"\n",
    "   ...\n",
    "   ```\n",
    "**Nota**. Utiliza acentos en tus respuestas.\n",
    "</div>"
   ]
  },
  {
   "cell_type": "code",
   "execution_count": null,
   "id": "38f621ec-e08f-4f4c-a214-0d2050081429",
   "metadata": {
    "nbgrader": {
     "grade": false,
     "grade_id": "cell-e0de9e67af2c1a91",
     "locked": false,
     "schema_version": 3,
     "solution": true,
     "task": false
    }
   },
   "outputs": [],
   "source": [
    "# A = \"correcto\"\n",
    "# B = ...\n",
    "# ...\n",
    "### BEGIN SOLUTION\n",
    "𝜋 = 3 + 1/7\n",
    "r = 25\n",
    "#await = \"espera un momento\"\n",
    "peña_de_bernal = \"formación rocosa\"\n",
    "area_del_círculo = 𝜋 * r**2\n",
    "#contacto@mail.com = \"mi correo electrónico\"\n",
    "numero80 = 80.5\n",
    "#23_flotante = 10\n",
    "#complejo = 5 + 8k\n",
    "CoMpLeJ0 = 5 + 8j\n",
    "\n",
    "A = \"válido\"\n",
    "B = \"válido\"\n",
    "C = \"inválido\"\n",
    "D = \"válido\"\n",
    "E = \"válido\"\n",
    "F = \"inválido\"\n",
    "G = \"válido\"\n",
    "H = \"inválido\"\n",
    "I = \"inválido\"\n",
    "J = \"válido\"\n",
    "\n",
    "file_answer.write('13', A, \"El nombre usa un caracter Unicode válido\")\n",
    "file_answer.write('14', B, \"El nombre es una letra\")\n",
    "file_answer.write('15', C, \"El nombre es una palabra reservada\")\n",
    "file_answer.write('16', D, \"El nombre contiene caracteres Unicode válidos\")\n",
    "file_answer.write('17', E, \"El nombre contiene caracteres Unicode válidos\")\n",
    "file_answer.write('18', F, \"El nombre contiene caracteres NO válidos\")\n",
    "file_answer.write('19', G, \"El nombre contiene letras y números\")\n",
    "file_answer.write('20', H, \"El nombre comienza con número\")\n",
    "file_answer.write('21', I, \"El nombre es válido, pero la definición de un número complejo es incorrecta\")\n",
    "file_answer.write('22', J, \"El nombre contiene letras minúsculas y mayúsculas\")\n",
    "#file_answer.to_file('q1') \n",
    "### END SOLUTION"
   ]
  },
  {
   "cell_type": "code",
   "execution_count": null,
   "id": "9217c4ec-77bc-4957-845f-20048f6f21c0",
   "metadata": {},
   "outputs": [],
   "source": [
    "quizz.eval_option('13', A)\n",
    "quizz.eval_option('14', B)\n",
    "quizz.eval_option('15', C)\n",
    "quizz.eval_option('16', D)\n",
    "quizz.eval_option('17', E)\n",
    "quizz.eval_option('18', F)\n",
    "quizz.eval_option('19', G)\n",
    "quizz.eval_option('20', H)\n",
    "quizz.eval_option('21', I)\n",
    "quizz.eval_option('22', J)"
   ]
  },
  {
   "cell_type": "markdown",
   "id": "11fcbcf4-1b07-4be5-a520-a6756262300e",
   "metadata": {
    "nbgrader": {
     "grade": false,
     "grade_id": "cell-5697e54609521b01",
     "locked": true,
     "schema_version": 3,
     "solution": false,
     "task": false
    }
   },
   "source": [
    "<div class=\"alert alert-block alert-success\">\n",
    "\n",
    "## Ejercicio 4.\n",
    "\n",
    "¿Cuántos objetos se crean en la siguiente declaración?\n",
    "```python\n",
    "a = b = c = d = 100\n",
    "```\n",
    "<br>\n",
    "\n",
    "Escribe tu respuesta en la variable `R4` usando un valor entero:\n",
    "```python\n",
    "R4 = ...\n",
    "```\n",
    "</div>"
   ]
  },
  {
   "cell_type": "code",
   "execution_count": null,
   "id": "d5f13ead-0a60-462b-8b14-373e422eef24",
   "metadata": {
    "nbgrader": {
     "grade": false,
     "grade_id": "cell-465f48825ed50286",
     "locked": false,
     "schema_version": 3,
     "solution": true,
     "task": false
    }
   },
   "outputs": [],
   "source": [
    "# R4 = ...\n",
    "### BEGIN SOLUTION\n",
    "R4 = 1\n",
    "\n",
    "file_answer.write('23', R4, \"Se crea un solo objeto con cuatro nombres\")\n",
    "#file_answer.to_file('q1') \n",
    "### END SOLUTION"
   ]
  },
  {
   "cell_type": "code",
   "execution_count": null,
   "id": "f8af212b-73bb-4d7d-9aad-f145698c8ad8",
   "metadata": {},
   "outputs": [],
   "source": [
    "quizz.eval_numeric('23', R4)"
   ]
  },
  {
   "cell_type": "markdown",
   "id": "7d7a4c87-f11e-4720-b742-1ea77a2ac1bf",
   "metadata": {
    "nbgrader": {
     "grade": false,
     "grade_id": "cell-40cd0788df82136d",
     "locked": true,
     "schema_version": 3,
     "solution": false,
     "task": false
    }
   },
   "source": [
    "<div class=\"alert alert-block alert-success\">\n",
    "\n",
    "## Ejercicio 5.\n",
    "\n",
    "¿Cuántos objetos se crean en la siguiente declaración?\n",
    "   \n",
    "```python\n",
    "a, b, c, d = 5, 6, 7, 8\n",
    "```\n",
    "<br>\n",
    "\n",
    "Escribe tu respuesta en la variable `R5` usando un valor entero:\n",
    "```python\n",
    "R5 = ...\n",
    "```\n",
    "</font>\n",
    "</div>"
   ]
  },
  {
   "cell_type": "code",
   "execution_count": null,
   "id": "1e807c15-c798-49fe-a52e-1f115c3a1aba",
   "metadata": {
    "nbgrader": {
     "grade": false,
     "grade_id": "cell-2f4f69333b15efa5",
     "locked": false,
     "schema_version": 3,
     "solution": true,
     "task": false
    }
   },
   "outputs": [],
   "source": [
    "# R5 = ...\n",
    "### BEGIN SOLUTION\n",
    "R5 = 4\n",
    "\n",
    "file_answer.write('24', R5, \"Se crean cuatro objetos de tipo entero con cuatro nombres diferentes\")\n",
    "#file_answer.to_file('q1') \n",
    "### END SOLUTION"
   ]
  },
  {
   "cell_type": "code",
   "execution_count": null,
   "id": "beba77da-c119-4a82-9923-89942fb54a9d",
   "metadata": {},
   "outputs": [],
   "source": [
    "quizz.eval_numeric('24', R5)"
   ]
  },
  {
   "cell_type": "markdown",
   "id": "f60db697-833d-46a9-b481-12c4b4f44aac",
   "metadata": {
    "nbgrader": {
     "grade": false,
     "grade_id": "cell-8ed035ee428509f5",
     "locked": true,
     "schema_version": 3,
     "solution": false,
     "task": false
    }
   },
   "source": [
    "<div class=\"alert alert-block alert-success\">\n",
    "\n",
    "## Ejercicio 6.\n",
    "\n",
    "¿De qué tipo son los objetos creados en la siguiente declaración?\n",
    "```python\n",
    "u, v, w, x  = 3+4j, 5, \"Viva\", False\n",
    "```\n",
    "<br>\n",
    "\n",
    "Escribe tus respuestas en las variables `tipo_u`, `tipo_v`, `tipo_w` y `tipo_x` usando la cadena correspondiente del tipo (`\"int\"`, `\"float\"`, `\"complex\"`, `\"str\"`, `\"bool\"`):\n",
    "```python\n",
    "tipo_u = ...\n",
    "tipo_v = ...\n",
    "tipo_w = ...\n",
    "tipo_x = ...\n",
    "```\n",
    "</div>"
   ]
  },
  {
   "cell_type": "code",
   "execution_count": null,
   "id": "c7ba6037-63cc-49ae-aaed-86cc562837ab",
   "metadata": {
    "nbgrader": {
     "grade": false,
     "grade_id": "cell-6c34ada6124ed3b8",
     "locked": false,
     "schema_version": 3,
     "solution": true,
     "task": false
    }
   },
   "outputs": [],
   "source": [
    "# tipo_u = ...\n",
    "# ...\n",
    "### BEGIN SOLUTION\n",
    "tipo_u = \"complex\" \n",
    "tipo_v = \"int\"\n",
    "tipo_w = \"str\"\n",
    "tipo_x = \"bool\"\n",
    "\n",
    "file_answer.write('25', tipo_u, \"Utiliza type(u) para conocer el tipo de la variable\")\n",
    "file_answer.write('26', tipo_v, \"Utiliza type(v) para conocer el tipo de la variable\")\n",
    "file_answer.write('27', tipo_w, \"Utiliza type(w) para conocer el tipo de la variable\")\n",
    "file_answer.write('28', tipo_x, \"Utiliza type(x) para conocer el tipo de la variable\")\n",
    "#file_answer.to_file('q1') \n",
    "### END SOLUTION"
   ]
  },
  {
   "cell_type": "code",
   "execution_count": null,
   "id": "21046ca4-1674-4f9e-a097-60d9f5ba2fc8",
   "metadata": {},
   "outputs": [],
   "source": [
    "quizz.eval_option('25', tipo_u)\n",
    "quizz.eval_option('26', tipo_v)\n",
    "quizz.eval_option('27', tipo_w)\n",
    "quizz.eval_option('28', tipo_x)"
   ]
  },
  {
   "cell_type": "markdown",
   "id": "d4a6b3c1-f431-443f-badc-ff95d61c3d38",
   "metadata": {
    "nbgrader": {
     "grade": false,
     "grade_id": "cell-7cb0d5d6c2d93ecf",
     "locked": true,
     "schema_version": 3,
     "solution": false,
     "task": false
    }
   },
   "source": [
    "<div class=\"alert alert-block alert-success\">\n",
    "\n",
    "## Ejercicio 7.\n",
    "    \n",
    "Define la variable $\\pi = \\frac{9801}{1103 \\sqrt{8}}$ usando el caracter `𝜋` como variable y luego calcula el área de un círculo de radio $53\\times10^{-12}$. Define la variable `r` para almacenar el radio y la variable `area` para almacenar el cálculo del área.\n",
    "\n",
    "**Hint**. En Python el número $53\\times10^{-12}$ se escribe como: `53e-12`. \n",
    "\n",
    "</div>"
   ]
  },
  {
   "cell_type": "code",
   "execution_count": null,
   "id": "d7a80c31-1730-4990-ad97-3ae133a92b63",
   "metadata": {
    "nbgrader": {
     "grade": false,
     "grade_id": "cell-a973eace350d7f4b",
     "locked": false,
     "schema_version": 3,
     "solution": true,
     "task": false
    }
   },
   "outputs": [],
   "source": [
    "# Define las variables 𝜋 y r, y la fórmula del área\n",
    "#\n",
    "### BEGIN SOLUTION\n",
    "𝜋 = 9801 / (1103 * 8**0.5)\n",
    "r = 53e-12\n",
    "area = 𝜋 * r ** 2\n",
    "\n",
    "file_answer.write('29', 𝜋, \"La variable 𝜋 no está bien definida\")\n",
    "file_answer.write('30', r, \"La variable r no está bien definida\")\n",
    "file_answer.write('31', area, \"La fórmula del área no da el resultado correcto.\")\n",
    "#file_answer.to_file('q1') \n",
    "### END SOLUTION\n",
    "\n",
    "print(\"𝜋 =\", 𝜋)\n",
    "print(\"r =\", r)\n",
    "print(\"Área del círculo de radio \", r, \" es \", area)"
   ]
  },
  {
   "cell_type": "code",
   "execution_count": null,
   "id": "cb501279-db5d-4c47-89e8-c13b5559b949",
   "metadata": {},
   "outputs": [],
   "source": [
    "quizz.eval_numeric('29', 𝜋)\n",
    "quizz.eval_numeric('30', r)\n",
    "quizz.eval_numeric('31', area)"
   ]
  },
  {
   "cell_type": "markdown",
   "id": "2df2666a-58c2-4f5f-a1dd-c872af6de058",
   "metadata": {
    "nbgrader": {
     "grade": false,
     "grade_id": "cell-c18da7231ea54095",
     "locked": true,
     "schema_version": 3,
     "solution": false,
     "task": false
    }
   },
   "source": [
    "<div class=\"alert alert-block alert-success\">\n",
    "\n",
    "## Ejercicio 8.\n",
    "\n",
    "Define la variable `𝜋 = 3 + 1/7` y el radio `r = 6378`. Usando estas variables codifica la siguiente fórmula para calcular el volumen $\\;\\;V = \\dfrac{4}{3} \\pi r^3 \\;\\;$.\n",
    "\n",
    "</div>"
   ]
  },
  {
   "cell_type": "code",
   "execution_count": null,
   "id": "23b40660-cafd-4ac1-9697-de2f957e5392",
   "metadata": {
    "nbgrader": {
     "grade": false,
     "grade_id": "cell-8f309effc5d80880",
     "locked": false,
     "schema_version": 3,
     "solution": true,
     "task": false
    }
   },
   "outputs": [],
   "source": [
    "# Define las variables 𝜋 y r, y la fórmula\n",
    "#\n",
    "### BEGIN SOLUTION\n",
    "𝜋 = 3 + 1/7\n",
    "r = 6378\n",
    "V = 4 / 3 * 𝜋 * r ** 3\n",
    "\n",
    "file_answer.write('32', V, \"La fórmula del volumen no da el resultado correcto.\")\n",
    "#file_answer.to_file('q1') \n",
    "### END SOLUTION\n",
    "\n",
    "print(\"𝜋 =\", 𝜋) \n",
    "print(\"r =\", r)\n",
    "print(\"V =\", V)"
   ]
  },
  {
   "cell_type": "code",
   "execution_count": null,
   "id": "cbcad3db-fe39-4700-880e-faf9388aa99a",
   "metadata": {},
   "outputs": [],
   "source": [
    "quizz.eval_numeric('32', V)"
   ]
  },
  {
   "cell_type": "markdown",
   "id": "fa2235f2-422c-42f5-8b4f-4d901971c29b",
   "metadata": {
    "nbgrader": {
     "grade": false,
     "grade_id": "cell-be78ee6298a9b682",
     "locked": true,
     "schema_version": 3,
     "solution": false,
     "task": false
    }
   },
   "source": [
    "<div class=\"alert alert-block alert-success\">\n",
    "\n",
    "## Ejercicio 9.\n",
    "\n",
    "El teorema de Pitágoras establece que, en todo triángulo rectángulo, la longitud de la hipotenusa es igual a la raíz cuadrada de la suma del cuadrado de los catetos. Si $a$ y $b$ son los catetos y $c$ la hipotenusa, entonces:\n",
    "\n",
    "$$c = \\sqrt{a^2 + b^2}$$\n",
    "\n",
    "Calcula la hipotenusa de un triángulo rectángulo cuyos catetos miden $a = 13$ y $b = 8$.\n",
    "\n",
    "Almacena el tipo numérico de `c` como sigue: `tipo_c = type(c)`.\n",
    "</div>"
   ]
  },
  {
   "cell_type": "code",
   "execution_count": null,
   "id": "aa5ce03a-0987-42dc-9fe0-a352c85f706f",
   "metadata": {
    "nbgrader": {
     "grade": false,
     "grade_id": "cell-c74031db070851ea",
     "locked": false,
     "schema_version": 3,
     "solution": true,
     "task": false
    }
   },
   "outputs": [],
   "source": [
    "# a = ...\n",
    "# b = ...\n",
    "# c = ...\n",
    "# tipo_c = type(c)\n",
    "### BEGIN SOLUTION\n",
    "a = 13\n",
    "b = 8\n",
    "c = (a**2 + b**2) ** (0.5)\n",
    "tipo_c = type(c)\n",
    "\n",
    "f_33 = \"\"\"Checa la fórmula y cómo se eleva un número \n",
    "a una potencia (entera y fraccionaria)\n",
    "\"\"\"\n",
    "file_answer.write('33', c, f_33)\n",
    "file_answer.write('34', \"<class 'float'>\", \"El tipo de 'c' debe ser <class 'float'>\")\n",
    "#file_answer.to_file('q1')\n",
    "### END SOLUTION\n",
    "\n",
    "print(c)\n",
    "print(tipo_c)"
   ]
  },
  {
   "cell_type": "code",
   "execution_count": null,
   "id": "8f34c142-40d6-49de-93ad-4b418c502e58",
   "metadata": {},
   "outputs": [],
   "source": [
    "quizz.eval_numeric('33', c)\n",
    "quizz.eval_datastruct('34', str(tipo_c))"
   ]
  },
  {
   "cell_type": "markdown",
   "id": "5492f108-ae0d-4215-89fe-66244e5c9b30",
   "metadata": {
    "nbgrader": {
     "grade": false,
     "grade_id": "cell-6784bcecc5eaa6b8",
     "locked": true,
     "schema_version": 3,
     "solution": false,
     "task": false
    }
   },
   "source": [
    "<div class=\"alert alert-block alert-success\">\n",
    "\n",
    "## Ejercicio 10.\n",
    "\n",
    "Realiza la siguiente operación $suma = 1 + 2 + 3 + 4 + 5$ usando el operador `+=`. \n",
    "\n",
    "**Hint**. Inicializa `suma = 1`, posteriormente ve agregando el número correspondiente a `suma` usando `+=` hasta obtener el resultado correcto.\n",
    "\n",
    "</div>"
   ]
  },
  {
   "cell_type": "code",
   "execution_count": null,
   "id": "99a4c1e6-f958-45af-b6a5-03f7044c2708",
   "metadata": {
    "nbgrader": {
     "grade": false,
     "grade_id": "cell-eb90b5a4868cbdf0",
     "locked": false,
     "schema_version": 3,
     "solution": true,
     "task": false
    }
   },
   "outputs": [],
   "source": [
    "# suma = 1\n",
    "# suma += 2\n",
    "# ...\n",
    "### BEGIN SOLUTION\n",
    "suma = 1\n",
    "suma += 2\n",
    "suma += 3\n",
    "suma += 4\n",
    "suma += 5\n",
    "\n",
    "file_answer.write('35', suma, \"La suma final debe ser 15\")\n",
    "#file_answer.to_file('q1')\n",
    "### END SOLUTION\n",
    "\n",
    "print(suma)"
   ]
  },
  {
   "cell_type": "code",
   "execution_count": null,
   "id": "c7d40621-18a2-4aa1-a667-cca00d89f1af",
   "metadata": {},
   "outputs": [],
   "source": [
    "quizz.eval_numeric('35', suma)"
   ]
  },
  {
   "cell_type": "markdown",
   "id": "2de4e31c-b4df-4545-9cba-38b02464d656",
   "metadata": {
    "nbgrader": {
     "grade": false,
     "grade_id": "cell-9c203ff804fc0027",
     "locked": true,
     "schema_version": 3,
     "solution": false,
     "task": false
    }
   },
   "source": [
    "<div class=\"alert alert-block alert-success\">\n",
    "\n",
    "## Ejercicio 11.\n",
    "\n",
    "Calcula el promedio de la siguiente lista de números: $3.4$, $5.6$, $2.9$, $3.8$, $4.5$. \n",
    "\n",
    "Primero suma todos los números y almacena el resultado en la variable `promedio`. Posteriormente divide el resultado entre el total de números usando el operador `/=`.\n",
    "\n",
    "</div>"
   ]
  },
  {
   "cell_type": "code",
   "execution_count": null,
   "id": "c8a00a41-2c59-4553-a8f9-2e6e59345f70",
   "metadata": {
    "nbgrader": {
     "grade": false,
     "grade_id": "cell-d70a53729ff80788",
     "locked": false,
     "schema_version": 3,
     "solution": true,
     "task": false
    }
   },
   "outputs": [],
   "source": [
    "# promedio = ...\n",
    "# promedio /= ...\n",
    "### BEGIN SOLUTION\n",
    "promedio = 3.4 + 5.6 + 2.9 + 3.8 + 4.5\n",
    "promedio /= 5\n",
    "\n",
    "file_answer.write('36', promedio, \"El promedio no se ha calculado correctamente.\")\n",
    "#file_answer.to_file('q1')\n",
    "### END SOLUTION\n",
    "\n",
    "print(promedio)"
   ]
  },
  {
   "cell_type": "code",
   "execution_count": null,
   "id": "46e1827a-bcc4-4dc8-b27a-3fe77a85861a",
   "metadata": {},
   "outputs": [],
   "source": [
    "quizz.eval_numeric('36', promedio)"
   ]
  },
  {
   "cell_type": "markdown",
   "id": "13438cb7-a895-4ac1-b749-97bb6e005bfc",
   "metadata": {
    "nbgrader": {
     "grade": false,
     "grade_id": "cell-40a601f674877836",
     "locked": true,
     "schema_version": 3,
     "solution": false,
     "task": false
    }
   },
   "source": [
    "<div class=\"alert alert-block alert-success\">\n",
    "\n",
    "## Ejercicio 12\n",
    "\n",
    "Un ejemplo de serie geométrica es el siguiente:\n",
    "$$\n",
    "\\text{serie} = \\dfrac{1}{2} + \\dfrac{1}{4} + \\dfrac{1}{8} + \\dfrac{1}{16} + \\dfrac{1}{32} + \\dots\n",
    "$$\n",
    "\n",
    "Observa que cada término sucesivo se obtiene al multiplicar el término anterior por $\\dfrac{1}{2}$. Por ejemplo: $\\dfrac{1}{8} = \\dfrac{1}{4} \\times \\dfrac{1}{2}$.\n",
    "   \n",
    "Implementa los primeros cinco términos de esta serie geométrica usando los operadores `*=` y `+=`.\n",
    "   \n",
    "**Hint**. Inicialmente define las variables `geom = 1/2` y `serie = geom`. Posteriormente construye cada elemento de la serie geométrica usando `geom` y `*=` y luego agrégalo a `serie` usando `+=`.\n",
    "\n",
    "</div>"
   ]
  },
  {
   "cell_type": "code",
   "execution_count": null,
   "id": "0b8ca481-f998-4fb5-ad55-b5f9af9906d3",
   "metadata": {
    "nbgrader": {
     "grade": false,
     "grade_id": "cell-5069f40e686fbd36",
     "locked": true,
     "schema_version": 3,
     "solution": false,
     "task": false
    }
   },
   "outputs": [],
   "source": [
    "# Resultado final debería ser:\n",
    "print(1/2 + 1/4 + 1/8 + 1/16 + 1/32)"
   ]
  },
  {
   "cell_type": "code",
   "execution_count": null,
   "id": "5b51989c-e92e-4c88-b199-3652c50992e4",
   "metadata": {
    "nbgrader": {
     "grade": false,
     "grade_id": "cell-27e8f4b1c2726253",
     "locked": false,
     "schema_version": 3,
     "solution": true,
     "task": false
    }
   },
   "outputs": [],
   "source": [
    "# geom = 1/2\n",
    "# serie = geom\n",
    "# geom *= ...\n",
    "# serie += ...\n",
    "# ...\n",
    "### BEGIN SOLUTION\n",
    "geom = 1/2\n",
    "serie = geom\n",
    "geom *= 1/2\n",
    "serie += geom\n",
    "geom *= 1/2\n",
    "serie += geom\n",
    "geom *= 1/2\n",
    "serie += geom\n",
    "geom *= 1/2\n",
    "serie += geom\n",
    "\n",
    "file_answer.write('37', serie, \"Revisa como funcionan los operadores *= y +=\")\n",
    "#file_answer.to_file('q1')\n",
    "### END SOLUTION\n",
    "\n",
    "print(serie)"
   ]
  },
  {
   "cell_type": "code",
   "execution_count": null,
   "id": "00e14560-f124-4b87-87da-d87c40211419",
   "metadata": {},
   "outputs": [],
   "source": [
    "quizz.eval_numeric('37', serie)"
   ]
  },
  {
   "cell_type": "code",
   "execution_count": null,
   "id": "5efcc703-58e3-4371-a4d9-d27d6da2491e",
   "metadata": {},
   "outputs": [],
   "source": []
  }
 ],
 "metadata": {
  "kernelspec": {
   "display_name": "Python 3 (ipykernel)",
   "language": "python",
   "name": "python3"
  },
  "language_info": {
   "codemirror_mode": {
    "name": "ipython",
    "version": 3
   },
   "file_extension": ".py",
   "mimetype": "text/x-python",
   "name": "python",
   "nbconvert_exporter": "python",
   "pygments_lexer": "ipython3",
   "version": "3.11.6"
  }
 },
 "nbformat": 4,
 "nbformat_minor": 5
}
