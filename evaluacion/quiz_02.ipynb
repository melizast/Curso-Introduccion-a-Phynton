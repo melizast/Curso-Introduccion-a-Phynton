{
 "cells": [
  {
   "cell_type": "markdown",
   "metadata": {
    "nbgrader": {
     "grade": false,
     "grade_id": "cell-997a99e8f6e63720",
     "locked": true,
     "schema_version": 3,
     "solution": false,
     "task": false
    }
   },
   "source": [
    "# Introducción a Python\n",
    "\n",
    " <p xmlns:cc=\"http://creativecommons.org/ns#\" xmlns:dct=\"http://purl.org/dc/terms/\"><a property=\"dct:title\" rel=\"cc:attributionURL\" href=\"https://github.com/repomacti/introduccion_python\">Introducción a Python</a> by <a rel=\"cc:attributionURL dct:creator\" property=\"cc:attributionName\" href=\"https://gmc.geofisica.unam.mx/luiggi\">Luis Miguel de la Cruz Salas</a> is licensed under <a href=\"https://creativecommons.org/licenses/by-sa/4.0/?ref=chooser-v1\" target=\"_blank\" rel=\"license noopener noreferrer\" style=\"display:inline-block;\">CC BY-SA 4.0<img style=\"height:22px!important;margin-left:3px;vertical-align:text-bottom;\" src=\"https://mirrors.creativecommons.org/presskit/icons/cc.svg?ref=chooser-v1\" alt=\"\"><img style=\"height:22px!important;margin-left:3px;vertical-align:text-bottom;\" src=\"https://mirrors.creativecommons.org/presskit/icons/by.svg?ref=chooser-v1\" alt=\"\"><img style=\"height:22px!important;margin-left:3px;vertical-align:text-bottom;\" src=\"https://mirrors.creativecommons.org/presskit/icons/sa.svg?ref=chooser-v1\" alt=\"\"></a></p> \n",
    "\n",
    "# Quiz 2."
   ]
  },
  {
   "cell_type": "markdown",
   "metadata": {
    "nbgrader": {
     "grade": false,
     "grade_id": "cell-5e177d054cd3843d",
     "locked": true,
     "schema_version": 3,
     "solution": false,
     "task": false
    }
   },
   "source": [
    "<div class=\"alert alert-block alert-success\">\n",
    "\n",
    "## Ejercicio 1.\n",
    "\n",
    "Define la siguiente cadena: `frase = \"es lindo saber que python existe\"`.\n",
    "</div>"
   ]
  },
  {
   "cell_type": "code",
   "execution_count": null,
   "metadata": {
    "nbgrader": {
     "grade": false,
     "grade_id": "cell-43ca93f5f225388f",
     "locked": false,
     "schema_version": 3,
     "solution": true,
     "task": false
    }
   },
   "outputs": [],
   "source": [
    "# frase = ...\n",
    "### BEGIN SOLUTION\n",
    "frase = \"es lindo saber que python existe\"\n",
    "\n",
    "from macti.evaluation import FileAnswer\n",
    "file_answer = FileAnswer() \n",
    "file_answer.verb = 2\n",
    "\n",
    "file_answer.write('1', frase, 'Escribe la frase exactamente como se muestra.')\n",
    "#file_answer.to_file('q2') \n",
    "### END SOLUTION\n",
    "print(frase)"
   ]
  },
  {
   "cell_type": "code",
   "execution_count": null,
   "metadata": {},
   "outputs": [],
   "source": [
    "from macti.evaluation import Quizz\n",
    "quizz = Quizz('q2', 'introduccion_python', 'local')\n",
    "\n",
    "quizz.eval_datastruct('1', frase)"
   ]
  },
  {
   "cell_type": "markdown",
   "metadata": {
    "nbgrader": {
     "grade": false,
     "grade_id": "cell-ebc4cee7a707178f",
     "locked": true,
     "schema_version": 3,
     "solution": false,
     "task": false
    }
   },
   "source": [
    "<div class=\"alert alert-block alert-success\">\n",
    "\n",
    "## Ejercicio 2.\n",
    "\n",
    "Usando el método `str.count()` determina el número de apariciones de cada vocal en la cadena `frase`, definida en el ejemplo anterior, y almacena cada número en una variable con el nombre de la vocal, por ejemplo: `a = frase.count('a')` lo mismo para las otras vocales.\n",
    "\n",
    "</div>"
   ]
  },
  {
   "cell_type": "code",
   "execution_count": null,
   "metadata": {
    "nbgrader": {
     "grade": false,
     "grade_id": "cell-f10df0bd3f226911",
     "locked": false,
     "schema_version": 3,
     "solution": true,
     "task": false
    }
   },
   "outputs": [],
   "source": [
    "# a = ...\n",
    "#\n",
    "### BEGIN SOLUTION\n",
    "a = frase.count('a')\n",
    "e = frase.count('e')\n",
    "i = frase.count('i')\n",
    "o = frase.count('o')\n",
    "u = frase.count('u')\n",
    "\n",
    "file_answer.write('2', a, \"La implementación debe ser: a = frase.count('a')\")\n",
    "file_answer.write('3', e, \"La implementación debe ser: e = frase.count('e')\")\n",
    "file_answer.write('4', i, \"La implementación debe ser: i = frase.count('i')\")\n",
    "file_answer.write('5', o, \"La implementación debe ser: o = frase.count('o')\")\n",
    "file_answer.write('6', u, \"La implementación debe ser: u = frase.count('u')\")\n",
    "#file_answer.to_file('q2')\n",
    "### END SOLUTION\n",
    "\n",
    "print(a,e,i,o,u)"
   ]
  },
  {
   "cell_type": "code",
   "execution_count": null,
   "metadata": {},
   "outputs": [],
   "source": [
    "quizz.eval_numeric('2', a)\n",
    "quizz.eval_numeric('3', e)\n",
    "quizz.eval_numeric('4', i)\n",
    "quizz.eval_numeric('5', o)\n",
    "quizz.eval_numeric('6', u)"
   ]
  },
  {
   "cell_type": "markdown",
   "metadata": {
    "nbgrader": {
     "grade": false,
     "grade_id": "cell-ed17c776bebdff51",
     "locked": true,
     "schema_version": 3,
     "solution": false,
     "task": false
    }
   },
   "source": [
    "<div class=\"alert alert-block alert-success\">\n",
    "\n",
    "## Ejercicio 3.\n",
    "\n",
    "Construye la cadena `vocales` con el método de cadenas formateadas (*f-string*) que contenga el nombre de cada vocal y su número de apariciones en la cadena `frase`. \n",
    "\n",
    "La cadena resultante debe tener la siguiente forma: `a = 1, e = 5, i = 2, o = 2, u = 1` .\n",
    "\n",
    "**Hint**. Utiliza las variables antes definidas: `volcales = f\"a = {a}, ...\"`\n",
    "</div>"
   ]
  },
  {
   "cell_type": "code",
   "execution_count": null,
   "metadata": {
    "nbgrader": {
     "grade": false,
     "grade_id": "cell-228692e33b834c82",
     "locked": false,
     "schema_version": 3,
     "solution": true,
     "task": false
    }
   },
   "outputs": [],
   "source": [
    "# vocales = ...\n",
    "### BEGIN SOLUTION\n",
    "vocales = f\"a = {a}, e = {e}, i = {i}, o = {o}, u = {u}\"\n",
    "\n",
    "f_7 = \"\"\"La implementación debe ser como sigue:\n",
    "vocales = f\"a = {a}, e = {e}, i = {i}, o = {o}, u = {u}\"\n",
    "\"\"\"\n",
    "file_answer.write('7', vocales, f_7)\n",
    "#file_answer.to_file('q2')\n",
    "### END SOLUTION\n",
    "\n",
    "print(vocales)"
   ]
  },
  {
   "cell_type": "code",
   "execution_count": null,
   "metadata": {},
   "outputs": [],
   "source": [
    "quizz.eval_datastruct('7', vocales)"
   ]
  },
  {
   "cell_type": "markdown",
   "metadata": {
    "nbgrader": {
     "grade": false,
     "grade_id": "cell-0daf8946f5b331b8",
     "locked": true,
     "schema_version": 3,
     "solution": false,
     "task": false
    }
   },
   "source": [
    "<div class=\"alert alert-block alert-success\">\n",
    "\n",
    "## Ejercicio 4.\n",
    "\n",
    "Usando el método `str.split()` separa la cadena `frase` en palabras y almacena el resultado en la variable `lista`.\n",
    "</div>"
   ]
  },
  {
   "cell_type": "markdown",
   "metadata": {
    "nbgrader": {
     "grade": false,
     "grade_id": "cell-3da2a12d3651ff58",
     "locked": true,
     "schema_version": 3,
     "solution": false,
     "task": false
    }
   },
   "source": [
    "<div class=\"alert alert-block alert-info\">\n",
    "    \n",
    "**Nota**. \n",
    "\n",
    "<font color=\"Black\">\n",
    "\n",
    "El método `str.split()` regresa como resultado una lista de cadenas, donde cada elemento de la lista es una palabra de la cadena original (separa por omisión por los espacios). Entonces el siguiente código:\n",
    "\n",
    "```pyton\n",
    "lista = frase.split()\n",
    "```\n",
    "<br>\n",
    "\n",
    "genera la lista de palabras: `[\"es\", \"lindo\", \"saber\", \"que\", \"python\", \"existe\"]`. Observa que se usan corchetes para representar una lista en Python. El concepto de listas se revisa en la notebook [08_listas.ipynb](./08_listas.ipynb).\n",
    "</font>\n",
    "</div>"
   ]
  },
  {
   "cell_type": "code",
   "execution_count": null,
   "metadata": {
    "nbgrader": {
     "grade": false,
     "grade_id": "cell-4ddbf4c53c1dba18",
     "locked": false,
     "schema_version": 3,
     "solution": true,
     "task": false
    }
   },
   "outputs": [],
   "source": [
    "# lista = ...\n",
    "### BEGIN SOLUTION\n",
    "lista = frase.split()\n",
    "\n",
    "file_answer.write('8', lista, \"La implementación debe ser: frase.split()\")\n",
    "#file_answer.to_file('q2')\n",
    "### END SOLUTION\n",
    "\n",
    "print(lista)"
   ]
  },
  {
   "cell_type": "code",
   "execution_count": null,
   "metadata": {},
   "outputs": [],
   "source": [
    "quizz.eval_datastruct('8', lista)"
   ]
  },
  {
   "cell_type": "markdown",
   "metadata": {
    "nbgrader": {
     "grade": false,
     "grade_id": "cell-768d8c5ab90a1c80",
     "locked": true,
     "schema_version": 3,
     "solution": false,
     "task": false
    }
   },
   "source": [
    "<div class=\"alert alert-block alert-success\">\n",
    "\n",
    "## Ejercicio 5.\n",
    "\n",
    "Construye la cadena `nueva_frase` usando el método `str.format()` y los elementos de `lista`, de tal manera que el resultado sea el siguiente: `Es lindo saber que PYTHON  existe`\n",
    "\n",
    "**Hint**. \n",
    "* La variable `lista` contiene 6 elementos.\n",
    "* Para acceder a cada uno de los elementos de `lista` se usa indexación:\n",
    "    * `lista[0]`, `lista[1]`, `lista[2]`, `lista[3]`, `lista[4]`, `lista[5]`.\n",
    "* Cada elemento de `lista` es una cadena, de tal manera que se pueden aplicar los métodos definidos para cadenas. Por ejemplo `lista[2].upper()` genera la cadena `LINDO`.\n",
    "</div>"
   ]
  },
  {
   "cell_type": "code",
   "execution_count": null,
   "metadata": {
    "nbgrader": {
     "grade": false,
     "grade_id": "cell-a301c4937c75c081",
     "locked": false,
     "schema_version": 3,
     "solution": true,
     "task": false
    }
   },
   "outputs": [],
   "source": [
    "# nueva_frase = ...\n",
    "### BEGIN SOLUTION\n",
    "nueva_frase = '{} {} {} {} {} {}'.format(lista[0].capitalize(), \n",
    "                                         lista[1], \n",
    "                                         lista[2], \n",
    "                                         lista[3], \n",
    "                                         lista[4].upper(), \n",
    "                                         lista[5])\n",
    "\n",
    "f_9 = \"\"\"La implementación debe ser como sigue:\n",
    "nueva_frase = '{} {} {} {} {} {}'.format(lista[0].capitalize(), \n",
    "                                         lista[1], \n",
    "                                         lista[2], \n",
    "                                         lista[3], \n",
    "                                         lista[4].upper(), \n",
    "                                         lista[5])\n",
    "\"\"\"\n",
    "file_answer.write('9', nueva_frase, f_9)\n",
    "#file_answer.to_file('q2')\n",
    "### END SOLUTION\n",
    "\n",
    "print(nueva_frase)"
   ]
  },
  {
   "cell_type": "code",
   "execution_count": null,
   "metadata": {},
   "outputs": [],
   "source": [
    "quizz.eval_datastruct('9', nueva_frase)"
   ]
  },
  {
   "cell_type": "markdown",
   "metadata": {
    "nbgrader": {
     "grade": false,
     "grade_id": "cell-822717564784436b",
     "locked": true,
     "schema_version": 3,
     "solution": false,
     "task": false
    }
   },
   "source": [
    "<div class=\"alert alert-block alert-success\">\n",
    "\n",
    "## Ejercicio 6.\n",
    "\n",
    "Construye la cadena `otra_frase` usando el método `str.join()` y los elementos de `lista`, de tal manera que el resultado sea el siguiente: `Es_lindo_saber_que_PYTHON_existe`\n",
    "</div>"
   ]
  },
  {
   "cell_type": "code",
   "execution_count": null,
   "metadata": {
    "nbgrader": {
     "grade": false,
     "grade_id": "cell-55c5a7270dc6e50d",
     "locked": false,
     "schema_version": 3,
     "solution": true,
     "task": false
    }
   },
   "outputs": [],
   "source": [
    "# otra_frase = ...\n",
    "### BEGIN SOLUTION\n",
    "otra_frase = \"_\".join([lista[0].capitalize(),  \n",
    "                       lista[1], \n",
    "                       lista[2], \n",
    "                       lista[3], \n",
    "                       lista[4].upper(), \n",
    "                       lista[5]])\n",
    "\n",
    "f_10=\"\"\"La implementación debe ser como sigue:\n",
    "otra_frase = \"_\".join([lista[0].capitalize(),  \n",
    "                       lista[1], \n",
    "                       lista[2], \n",
    "                       lista[3], \n",
    "                       lista[4].upper(), \n",
    "                       lista[5]])\n",
    "\"\"\"\n",
    "file_answer.write('10', otra_frase, f_10)\n",
    "#file_answer.to_file('q2')\n",
    "### END SOLUTION\n",
    "\n",
    "print(otra_frase)"
   ]
  },
  {
   "cell_type": "code",
   "execution_count": null,
   "metadata": {},
   "outputs": [],
   "source": [
    "quizz.eval_datastruct('10', otra_frase)"
   ]
  },
  {
   "cell_type": "markdown",
   "metadata": {
    "nbgrader": {
     "grade": false,
     "grade_id": "cell-f6fde9479f62b127",
     "locked": true,
     "schema_version": 3,
     "solution": false,
     "task": false
    }
   },
   "source": [
    "<div class=\"alert alert-block alert-success\">\n",
    "    \n",
    "## Ejercicio 7. \n",
    "\n",
    "Con base en el siguiente texto:\n",
    "```\n",
    "               Poema 20 (fragmento)              \n",
    "Puedo escribir los versos más tristes esta noche.\n",
    "\n",
    "Escribir, por ejemplo: \"La noche está estrellada,\n",
    "   y tiritan, azules, los astros, a lo lejos\".   \n",
    "\n",
    "                                     Pablo Neruda\n",
    "```\n",
    "\n",
    "realiza lo siguiente:\n",
    "\n",
    "1. Define 5 variables, una para cada línea del texto, de nombre `l1`, `l2`, `l3`, `l4`, `l5`.\n",
    "2. Determina la longitud máxima de las 5 cadenas usando las funciones `len()` y `max()`.\n",
    "3. Almacena el valor de la longitud máxima en la variable `N`.\n",
    "4. Imprime las cadenas en el orden adecuado para generar el texto centrando cada línea y justificando a la derecha la última de ellas. Utiliza los métodos `str.center()` y `str.rjust()`.\n",
    "5. Agrega una línea en blanco donde se requiere.\n",
    "</div>"
   ]
  },
  {
   "cell_type": "code",
   "execution_count": null,
   "metadata": {
    "nbgrader": {
     "grade": false,
     "grade_id": "cell-dec636f0efe4e244",
     "locked": false,
     "schema_version": 3,
     "solution": true,
     "task": false
    }
   },
   "outputs": [],
   "source": [
    "# l1 = ...\n",
    "# \n",
    "### BEGIN SOLUTION\n",
    "l1 = \"Poema 20 (fragmento)\"\n",
    "l2 = \"Puedo escribir los versos más tristes esta noche.\"\n",
    "l3 = \"Escribir, por ejemplo: \\\"La noche está estrellada,\"\n",
    "l4 = \"y tiritan, azules, los astros, a lo lejos\\\".\"\n",
    "l5 = \"Pablo Neruda\"\n",
    "N = max(len(l1), len(l2), len(l3), len(l4), len(l5))\n",
    "print(l1.center(N))\n",
    "print(l2.center(N))\n",
    "print()\n",
    "print(l3.center(N))\n",
    "print(l4.center(N))\n",
    "print()\n",
    "print(l5.rjust(N))\n",
    "\n",
    "file_answer.write('11', l1, \"El texto que escribiste en 'l1' tiene algunas diferencias\")\n",
    "file_answer.write('12', l2, \"El texto que escribiste en 'l2' tiene algunas diferencias\")\n",
    "file_answer.write('13', l3, \"El texto que escribiste en 'l3' tiene algunas diferencias\")\n",
    "file_answer.write('14', l4, \"El texto que escribiste en 'l4' tiene algunas diferencias\")\n",
    "file_answer.write('15', l5, \"El texto que escribiste en 'l5' tiene algunas diferencias\")\n",
    "f_16=\"\"\"Implementación correcta para calcular el máximo:\n",
    "N = max(len(l1), len(l2), len(l3), len(l4), len(l5))\n",
    "\"\"\"\n",
    "file_answer.write('16', N, f_16)\n",
    "#file_answer.to_file('q2')\n",
    "### END SOLUTION"
   ]
  },
  {
   "cell_type": "code",
   "execution_count": null,
   "metadata": {},
   "outputs": [],
   "source": [
    "quizz.eval_datastruct('11', l1)\n",
    "quizz.eval_datastruct('12', l2)\n",
    "quizz.eval_datastruct('13', l3)\n",
    "quizz.eval_datastruct('14', l4)\n",
    "quizz.eval_datastruct('15', l5)\n",
    "quizz.eval_numeric('16', N)"
   ]
  },
  {
   "cell_type": "markdown",
   "metadata": {
    "nbgrader": {
     "grade": false,
     "grade_id": "cell-8897ca6f7ffb4cab",
     "locked": true,
     "schema_version": 3,
     "solution": false,
     "task": false
    }
   },
   "source": [
    "<div class=\"alert alert-block alert-success\">\n",
    "    \n",
    "## Ejercicio 8. \n",
    "\n",
    "¿Cómo imprimirías el texto del ejercicio 7 usando triples comillas?\n",
    "</div>\n"
   ]
  },
  {
   "cell_type": "code",
   "execution_count": null,
   "metadata": {
    "nbgrader": {
     "grade": false,
     "grade_id": "cell-24b479ce639c4f6a",
     "locked": false,
     "schema_version": 3,
     "solution": true,
     "task": false
    }
   },
   "outputs": [],
   "source": [
    "# poema20 = ...\n",
    "#\n",
    "### BEGIN SOLUTION\n",
    "poema20 = \"\"\"               Poema 20 (fragmento)              \n",
    "Puedo escribir los versos más tristes esta noche.\n",
    "\n",
    "Escribir, por ejemplo: \"La noche está estrellada,\n",
    "   y tiritan, azules, los astros, a lo lejos\".   \n",
    "\n",
    "                                     Pablo Neruda\"\"\"\n",
    "print(poema20)\n",
    "### END SOLUTION"
   ]
  },
  {
   "cell_type": "markdown",
   "metadata": {
    "nbgrader": {
     "grade": false,
     "grade_id": "cell-4af2181a0f8269c1",
     "locked": true,
     "schema_version": 3,
     "solution": false,
     "task": false
    }
   },
   "source": [
    "<div class=\"alert alert-block alert-success\">\n",
    "\n",
    "## Ejercicio 9.\n",
    "    \n",
    "Formatear y alinear la salida el siguiente número flotante: `numero_flotante_grande = 213.2131255345435643` de tal manera que se obtenga lo siguiente\n",
    "\n",
    "```\n",
    "---|   213.21313|---\n",
    "---| 213.21313  |---\n",
    "---|213.21313   |---\n",
    "```\n",
    "\n",
    "</div>"
   ]
  },
  {
   "cell_type": "code",
   "execution_count": null,
   "metadata": {
    "nbgrader": {
     "grade": false,
     "grade_id": "cell-5ac34748681f339d",
     "locked": false,
     "schema_version": 3,
     "solution": true,
     "task": false
    }
   },
   "outputs": [],
   "source": [
    "# numero_flotante_grande = ...\n",
    "# print(f'---| ...')\n",
    "#\n",
    "### BEGIN SOLUTION\n",
    "numero_flotante_grande = 213.2131255345435643\n",
    "print(f'---|{numero_flotante_grande:12.5f}|---') # 10 espacios, 3 decimales, der. por omisión\n",
    "print(f'---|{numero_flotante_grande:^12.5f}|---') # 10 espacios, 3 decimales, centrado\n",
    "print(f'---|{numero_flotante_grande:<12.5f}|---') # 10 espacios, 3 decimales, izq.\n",
    "### END SOLUTION"
   ]
  },
  {
   "cell_type": "markdown",
   "metadata": {
    "nbgrader": {
     "grade": false,
     "grade_id": "cell-a165e68d5686a555",
     "locked": true,
     "schema_version": 3,
     "solution": false,
     "task": false
    }
   },
   "source": [
    "<div class=\"alert alert-block alert-success\">\n",
    "\n",
    "## Ejercicio 10.\n",
    "\n",
    "Repetir el ejercicio 9 usando el método `str.format().`\n",
    "</div>"
   ]
  },
  {
   "cell_type": "code",
   "execution_count": null,
   "metadata": {
    "nbgrader": {
     "grade": false,
     "grade_id": "cell-2cdc5e34477d847d",
     "locked": false,
     "schema_version": 3,
     "solution": true,
     "task": false
    }
   },
   "outputs": [],
   "source": [
    "# print(\"---| ...\")\n",
    "#\n",
    "### BEGIN SOLUTION\n",
    "print(\"---|{:12.5f}|---\".format(numero_flotante_grande))\n",
    "print(\"---|{:^12.5f}|---\".format(numero_flotante_grande))\n",
    "print(\"---|{:<12.5f}|---\".format(numero_flotante_grande))\n",
    "### END SOLUTION"
   ]
  },
  {
   "cell_type": "markdown",
   "metadata": {
    "nbgrader": {
     "grade": false,
     "grade_id": "cell-50f9df6c7240b44b",
     "locked": true,
     "schema_version": 3,
     "solution": false,
     "task": false
    }
   },
   "source": [
    "<div class=\"alert alert-block alert-success\">\n",
    "\n",
    "## Ejercicio 12.\n",
    "    \n",
    "Usando el código del **ejemplo 7 de la lección 2**, [leccion_02.ipynb](../lecciones/leccion_02.ipynb),  escribir la salida en el siguiente formato:\n",
    "\n",
    "```\n",
    "Escribe tu nombre: Gabo\n",
    "Escribe tu peso: 65\n",
    "Escribe tu estatura: 1.72\n",
    "――――――――――――――――――――――――――――――――――――――――――――――――――\n",
    "                 Datos personales                 \n",
    "――――――――――――――――――――――――――――――――――――――――――――――――――\n",
    "         Nombre: Gabo\n",
    "           Peso: 65.00\n",
    "       Estatura:  1.72\n",
    "            IMC: 21.97\n",
    "――――――――――――――――――――――――――――――――――――――――――――――――――\n",
    "```\n",
    "<br>\n",
    "\n",
    "</div>"
   ]
  },
  {
   "cell_type": "code",
   "execution_count": null,
   "metadata": {
    "nbgrader": {
     "grade": false,
     "grade_id": "cell-2c6d5a3402f3a046",
     "locked": false,
     "schema_version": 3,
     "solution": true,
     "task": false
    }
   },
   "outputs": [],
   "source": [
    "### BEGIN SOLUTION\n",
    "nombre = input('Escribe tu nombre:')\n",
    "peso = float(input('Escribe tu peso:'))\n",
    "estatura = float(input('Escribe tu estatura:'))\n",
    "imc = peso / estatura**2\n",
    "\n",
    "formato1 = \"{:>15s}: {:<}\"\n",
    "formato2 = \"{:>15s}: {:>5.2f}\"\n",
    "linea = 50 * chr(0x2015)\n",
    "\n",
    "print(linea)\n",
    "print(\"Datos personales\".center(50))\n",
    "print(linea)\n",
    "print(formato1.format(\"Nombre\", nombre ))\n",
    "print(formato2.format(\"Peso\", peso))\n",
    "print(formato2.format(\"Estatura\", estatura))\n",
    "print(formato2.format(\"IMC\", imc))\n",
    "print(linea)\n",
    "### END SOLUTION"
   ]
  },
  {
   "cell_type": "markdown",
   "metadata": {
    "nbgrader": {
     "grade": false,
     "grade_id": "cell-b0f99880a45f7a31",
     "locked": true,
     "schema_version": 3,
     "solution": false,
     "task": false
    }
   },
   "source": [
    "<div class=\"alert alert-block alert-success\">\n",
    "\n",
    "## Ejercicio 13.\n",
    "    \n",
    "Usar el código del ejercicio 12 y modificarlo para escribir la salida en un archivo de nombre `mi_archivo`  El contenido del archivo debe verse como sigue:\n",
    "\n",
    "```\n",
    "――――――――――――――――――――――――――――――――――――――――――――――――――\n",
    "                 Datos personales                 \n",
    "――――――――――――――――――――――――――――――――――――――――――――――――――\n",
    "         Nombre: Gabo\n",
    "           Peso: 65.00\n",
    "       Estatura:  1.72\n",
    "            IMC: 21.97\n",
    "――――――――――――――――――――――――――――――――――――――――――――――――――\n",
    "```\n",
    "\n",
    "</div>"
   ]
  },
  {
   "cell_type": "code",
   "execution_count": null,
   "metadata": {
    "nbgrader": {
     "grade": false,
     "grade_id": "cell-69db6a2d37f7336c",
     "locked": false,
     "schema_version": 3,
     "solution": true,
     "task": false
    }
   },
   "outputs": [],
   "source": [
    "### BEGIN SOLUTION\n",
    "nombre = input('Escribe tu nombre:')\n",
    "peso = float(input('Escribe tu peso:'))\n",
    "estatura = float(input('Escribe tu estatura:'))\n",
    "archivo = 'mi_archivo'\n",
    "\n",
    "imc = peso / estatura**2\n",
    "\n",
    "formato1 = \"{:>15s}: {:<}\\n\"\n",
    "formato2 = \"{:>15s}: {:>5.2f}\\n\"\n",
    "linea = 50 * chr(0x2015) + \"\\n\"\n",
    "\n",
    "file = open(archivo, 'w')\n",
    "\n",
    "file.write(linea)\n",
    "file.write(\"Datos personales\".center(50))\n",
    "file.write(linea)\n",
    "file.write(formato1.format(\"Nombre\", nombre ))\n",
    "file.write(formato2.format(\"Peso\", peso))\n",
    "file.write(formato2.format(\"Estatura\", estatura))\n",
    "file.write(formato2.format(\"IMC\", imc))\n",
    "file.write(linea)\n",
    "\n",
    "file.close()\n",
    "### END SOLUTION"
   ]
  },
  {
   "cell_type": "markdown",
   "metadata": {
    "nbgrader": {
     "grade": false,
     "grade_id": "cell-2d9e974250de147a",
     "locked": true,
     "schema_version": 3,
     "solution": false,
     "task": false
    }
   },
   "source": [
    "<div class=\"alert alert-block alert-success\">\n",
    "\n",
    "## Ejercicio 14.\n",
    "    \n",
    "Abrir el archivo generado en el ejercicio 13 y agregar la información de la edad de tal manera que el contenido sea el siguiente:\n",
    "\n",
    "```\n",
    "――――――――――――――――――――――――――――――――――――――――――――――――――\n",
    "                 Datos personales                 \n",
    "――――――――――――――――――――――――――――――――――――――――――――――――――\n",
    "         Nombre: Gabo\n",
    "           Edad: 25\n",
    "           Peso: 65.00\n",
    "       Estatura:  1.72\n",
    "            IMC: 21.97\n",
    "――――――――――――――――――――――――――――――――――――――――――――――――――\n",
    "```\n",
    "\n",
    "</div>"
   ]
  },
  {
   "cell_type": "code",
   "execution_count": null,
   "metadata": {
    "nbgrader": {
     "grade": false,
     "grade_id": "cell-f58aa194e196dd23",
     "locked": false,
     "schema_version": 3,
     "solution": true,
     "task": false
    }
   },
   "outputs": [],
   "source": [
    "# insertar a la mitad del archivo.\n",
    "### BEGIN SOLUTION\n",
    "file = open('mi_archivo', \"r+\")\n",
    "\n",
    "formato1 = \"{:>15s}: {:<}\\n\"\n",
    "contenido = file.readlines()\n",
    "indice = 3\n",
    "linea_nueva = formato1.format(\"Edad\", 25)\n",
    "contenido.insert(indice, linea_nueva)\n",
    "file.seek(0)\n",
    "file.writelines(contenido)\n",
    "\n",
    "file.close()\n",
    "### END SOLUTION"
   ]
  },
  {
   "cell_type": "code",
   "execution_count": null,
   "metadata": {},
   "outputs": [],
   "source": []
  }
 ],
 "metadata": {
  "kernelspec": {
   "display_name": "Python 3 (ipykernel)",
   "language": "python",
   "name": "python3"
  },
  "language_info": {
   "codemirror_mode": {
    "name": "ipython",
    "version": 3
   },
   "file_extension": ".py",
   "mimetype": "text/x-python",
   "name": "python",
   "nbconvert_exporter": "python",
   "pygments_lexer": "ipython3",
   "version": "3.11.6"
  }
 },
 "nbformat": 4,
 "nbformat_minor": 4
}
