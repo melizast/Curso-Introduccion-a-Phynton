{
 "cells": [
  {
   "cell_type": "markdown",
   "id": "f9337156-dd19-43eb-8ef8-4698c17fd06c",
   "metadata": {},
   "source": [
    "## Índice de masa corporal para adultos\n",
    "\n",
    "El índice de masa corporal (IMC) asocia la masa (peso) y la talla de una persona. \n",
    "\n",
    "### Sistema inglés:\n",
    "$$\n",
    "\\text{imc} = \\dfrac{\\text{peso [lb]}}{(\\text{estatura [in])}^2} \\times 703\n",
    "$$"
   ]
  },
  {
   "cell_type": "markdown",
   "id": "580171f8-e415-43dd-9cc2-d89fc704d9c2",
   "metadata": {},
   "source": [
    "<div class=\"alert alert-block alert-success\">\n",
    "\n",
    "### Ejercicio 1.\n",
    "\n",
    "<font color=\"Black\">\n",
    "\n",
    "* Definir los siguientes valores (usar los nombres de variables que están entre paréntesis):\n",
    "    * Peso = 52 (`peso`)\n",
    "    * Estatura = 1.52 (`estatura`)\n",
    "    * Edad = 37 (`edad`)\n",
    "    * Nombre = Shelly-Ann Fraser-Pryce (`nombre`)\n",
    "    * Estado civil = casada (`casada`)\n",
    "\n",
    "* Calcular el IMC usando el sistema métrico (`IMC_metrico`).\n",
    "\n",
    "* Calcular el IMC usando el sistema inglés (`IMC_ingles`).\n",
    "    * Convertir el peso a libras (`peso_lb`).\n",
    "    * Convertir la estatura a pulgadas (`estatura_in`)\n",
    "\n",
    "* Imprimir las variables antes definidas de tal manera que la salida sea como la siguiente:\n",
    "\n",
    "```\n",
    "Peso = 52 kg\n",
    "Estatura = 1.52 m\n",
    "Edad = 37\n",
    "Nombre = Shelly-Ann Fraser-Pryce\n",
    "Casado = True\n",
    "IMC (metrico) = 22.506925207756233\n",
    "IMC (inglés) = 22.50464672968549\n",
    "```  \n",
    "</font>\n",
    "</div>"
   ]
  },
  {
   "cell_type": "code",
   "execution_count": 13,
   "id": "d70e67dc-e331-4742-8ded-c120ad4280a3",
   "metadata": {},
   "outputs": [],
   "source": [
    "peso = 52\n",
    "estatura = 1.52\n",
    "edad = 37\n",
    "nombre = \"Shelly-Ann Fraser-Pryce\"\n",
    "casada = True\n",
    "\n",
    "IMC_metrico = peso / estatura**2\n",
    "\n",
    "peso_lb = peso * 2.20462\n",
    "estatura_in = estatura * 39.3701\n",
    "\n",
    "IMC_ingles = peso_lb / estatura_in**2 * 703"
   ]
  },
  {
   "cell_type": "code",
   "execution_count": 14,
   "id": "941fd6a9-78bc-4432-8345-8fa42d584082",
   "metadata": {},
   "outputs": [
    {
     "name": "stdout",
     "output_type": "stream",
     "text": [
      "Peso = 52 kg\n",
      "Estatura = 1.52 m\n",
      "Edad = 37\n",
      "Nombre = Shelly-Ann Fraser-Pryce\n",
      "Casado = True\n",
      "IMC (métrico) = 22.506925207756233\n",
      "IMC (inglés) = 22.50464672968549\n"
     ]
    }
   ],
   "source": [
    "print(\"Peso =\", peso, \"kg\")\n",
    "print(\"Estatura =\", estatura, \"m\")\n",
    "print(\"Edad =\", edad)\n",
    "print(\"Nombre =\", nombre)\n",
    "print(\"Casado =\", casada)\n",
    "print(\"IMC (métrico) =\", IMC_metrico)\n",
    "print(\"IMC (inglés) =\", IMC_ingles)"
   ]
  },
  {
   "cell_type": "markdown",
   "id": "eb46b8f7-f049-43de-8561-b4f6c079c72a",
   "metadata": {},
   "source": [
    "|IMC | Nivel de peso |\n",
    "|:--|:-:|\n",
    "|18.5 < | Bajo peso |\n",
    "|18.5 – 24.9 | Normal |\n",
    "|25.0 – 29.9 | Sobrepeso |\n",
    "|30.0 >  | Obesidad |"
   ]
  }
 ],
 "metadata": {
  "kernelspec": {
   "display_name": "Python 3 (ipykernel)",
   "language": "python",
   "name": "python3"
  },
  "language_info": {
   "codemirror_mode": {
    "name": "ipython",
    "version": 3
   },
   "file_extension": ".py",
   "mimetype": "text/x-python",
   "name": "python",
   "nbconvert_exporter": "python",
   "pygments_lexer": "ipython3",
   "version": "3.11.6"
  }
 },
 "nbformat": 4,
 "nbformat_minor": 5
}
