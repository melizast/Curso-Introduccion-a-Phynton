{
 "cells": [
  {
   "cell_type": "markdown",
   "metadata": {},
   "source": [
    "# Tipos de datos básicos y operadores.\n",
    "\n",
    "**Objetivo.**\n",
    "Explicar los tipos de variables básicas que existen en Python y cómo pueden ser usados en operaciones aritméticas y lógicas.\n",
    "\n",
    " <p xmlns:cc=\"http://creativecommons.org/ns#\" xmlns:dct=\"http://purl.org/dc/terms/\"><a property=\"dct:title\" rel=\"cc:attributionURL\" href=\"https://github.com/repomacti/macti/tree/main/notebooks/Algebra_Lineal_01\">MACTI-Algebra_Lineal_01</a> by <a rel=\"cc:attributionURL dct:creator\" property=\"cc:attributionName\" href=\"https://www.macti.unam.mx\">Luis M. de la Cruz</a> is licensed under <a href=\"http://creativecommons.org/licenses/by-sa/4.0/?ref=chooser-v1\" target=\"_blank\" rel=\"license noopener noreferrer\" style=\"display:inline-block;\">Attribution-ShareAlike 4.0 International<img style=\"height:22px!important;margin-left:3px;vertical-align:text-bottom;\" src=\"https://mirrors.creativecommons.org/presskit/icons/cc.svg?ref=chooser-v1\"><img style=\"height:22px!important;margin-left:3px;vertical-align:text-bottom;\" src=\"https://mirrors.creativecommons.org/presskit/icons/by.svg?ref=chooser-v1\"><img style=\"height:22px!important;margin-left:3px;vertical-align:text-bottom;\" src=\"https://mirrors.creativecommons.org/presskit/icons/sa.svg?ref=chooser-v1\"></a></p> "
   ]
  },
  {
   "cell_type": "markdown",
   "metadata": {},
   "source": [
    "## Tipos básicos"
   ]
  },
  {
   "cell_type": "markdown",
   "metadata": {},
   "source": [
    "En Python se tienen tres tipos de datos básicos principales:\n",
    "\n",
    "|Tipo|Ejemplo|\n",
    "|----|-------|\n",
    "|Númerico|13, 3.1416, 1+5j|\n",
    "| Cadena |\"Frida\", \"Diego\"|\n",
    "| Lógico | True, False|"
   ]
  },
  {
   "cell_type": "markdown",
   "metadata": {},
   "source": [
    "## Tipos númericos\n",
    "En Python se tienen tres tipos de datos númericos:\n",
    "1. Enteros\n",
    "2. Reales\n",
    "3. Complejos\n",
    "\n",
    "A continuación se realiza una descripción de estos tipos numéricos. Más información se puede encontrar aquí: <a href=\"https://docs.python.org/3/library/stdtypes.html#numeric-types-int-float-complex\">Numeric types</a>."
   ]
  },
  {
   "cell_type": "markdown",
   "metadata": {},
   "source": [
    "**1. Enteros**\n",
    "\n",
    "Son aquellos que carecen de parte decimal. Para definir un entero hacemos lo siguiente:"
   ]
  },
  {
   "cell_type": "code",
   "execution_count": 18,
   "metadata": {},
   "outputs": [],
   "source": [
    "entero = 13"
   ]
  },
  {
   "cell_type": "markdown",
   "metadata": {},
   "source": [
    "Cuando se ejecuta la celda anterior, se crea el objeto `13` cuyo nombre es `entero`. Podemos imprimir el valor de `entero` y su tipo como sigue:"
   ]
  },
  {
   "cell_type": "code",
   "execution_count": 19,
   "metadata": {},
   "outputs": [
    {
     "name": "stdout",
     "output_type": "stream",
     "text": [
      "13 <class 'int'>\n"
     ]
    }
   ],
   "source": [
    "print(entero, type(entero))"
   ]
  },
  {
   "cell_type": "markdown",
   "metadata": {},
   "source": [
    "Es posible obtener más información del tipo `int` usando la biblioteca `sys`:"
   ]
  },
  {
   "cell_type": "code",
   "execution_count": 20,
   "metadata": {},
   "outputs": [
    {
     "name": "stdout",
     "output_type": "stream",
     "text": [
      "sys.int_info(bits_per_digit=30, sizeof_digit=4, default_max_str_digits=4300, str_digits_check_threshold=640)\n"
     ]
    }
   ],
   "source": [
    "# Importamos el módulo sys\n",
    "import sys\n",
    "\n",
    "# Revisamos la información del tipo entero\n",
    "print(sys.int_info)"
   ]
  },
  {
   "cell_type": "markdown",
   "metadata": {},
   "source": [
    "Cuando tenemos número enteros muy grandes, por ejemplo: $21,346,765,890$ se puede usar el formato: `21_346_765_890` para hacer más claro el número:"
   ]
  },
  {
   "cell_type": "code",
   "execution_count": 1,
   "metadata": {},
   "outputs": [
    {
     "name": "stdout",
     "output_type": "stream",
     "text": [
      "21346765890 <class 'int'>\n"
     ]
    }
   ],
   "source": [
    "# Este es un formato de número entero que usa _ para separar los miles\n",
    "entero_grande = 21_346_765_890\n",
    "print(entero_grande, type(entero_grande))"
   ]
  },
  {
   "cell_type": "markdown",
   "metadata": {},
   "source": [
    "Los números enteros también se pueden escribir en formato binario, octal y hexadecimal como sigue:"
   ]
  },
  {
   "cell_type": "code",
   "execution_count": 22,
   "metadata": {},
   "outputs": [
    {
     "name": "stdout",
     "output_type": "stream",
     "text": [
      "14 <class 'int'>\n",
      "5374 <class 'int'>\n",
      "74531 <class 'int'>\n"
     ]
    }
   ],
   "source": [
    "num_b = 0b01110 # Binario, debe iniciar con 0b\n",
    "num_o = 0o12376 # Octal, debe iniciar con 0o\n",
    "num_h = 0x12323 # Hexadecimal, debe iniciar con 0x\n",
    "\n",
    "print(num_b, type(num_b))\n",
    "print(num_o, type(num_o))\n",
    "print(num_h, type(num_h))"
   ]
  },
  {
   "cell_type": "markdown",
   "metadata": {},
   "source": [
    "**2. Reales**\n",
    "\n",
    "Son aquellos que tienen una parte decimal. Para definir un número real (flotante) se hace como sigue:"
   ]
  },
  {
   "cell_type": "code",
   "execution_count": 23,
   "metadata": {},
   "outputs": [],
   "source": [
    "pi = 3.141592"
   ]
  },
  {
   "cell_type": "markdown",
   "metadata": {},
   "source": [
    "Cuando se ejecuta la celda anterior, se crea el objeto `3.141592` cuyo nombre es `pi`. Podemos imprimir el valor de `pi` y su tipo como sigue:"
   ]
  },
  {
   "cell_type": "code",
   "execution_count": 24,
   "metadata": {},
   "outputs": [
    {
     "name": "stdout",
     "output_type": "stream",
     "text": [
      "3.141592 <class 'float'>\n"
     ]
    }
   ],
   "source": [
    "print(pi, type(pi))"
   ]
  },
  {
   "cell_type": "code",
   "execution_count": 25,
   "metadata": {},
   "outputs": [
    {
     "name": "stdout",
     "output_type": "stream",
     "text": [
      "sys.float_info(max=1.7976931348623157e+308, max_exp=1024, max_10_exp=308, min=2.2250738585072014e-308, min_exp=-1021, min_10_exp=-307, dig=15, mant_dig=53, epsilon=2.220446049250313e-16, radix=2, rounds=1)\n"
     ]
    }
   ],
   "source": [
    "# Revisamos la información del tipo flotante\n",
    "print(sys.float_info)"
   ]
  },
  {
   "cell_type": "markdown",
   "metadata": {},
   "source": [
    "**3. Complejos**\n",
    "\n",
    "Son aquellos que tienen una parte real y una parte imaginaria, y ambas partes son números reales. Por ejemplo:\n",
    "\n",
    "$$\n",
    "c = a + b \\; j\n",
    "$$\n",
    "\n",
    "donde $a$ es la parte real y $b$ es la parte imaginaria identificada con la letra $j$.\n",
    "\n",
    "Para definir un número complejo en Python se hace como sigue:"
   ]
  },
  {
   "cell_type": "code",
   "execution_count": 26,
   "metadata": {},
   "outputs": [],
   "source": [
    "complejo = 12 + 5j # La parte imaginaria lleva una j al final"
   ]
  },
  {
   "cell_type": "markdown",
   "metadata": {},
   "source": [
    "Cuando se ejecuta la celda anterior, se crea el objeto `12 + 5j` cuyo nombre es `complejo`. En este caso, el contenido de `complejo` tiene dos partes: la real y la imaginaria. Podemos imprimir el valor de `complejo` y su tipo como sigue:"
   ]
  },
  {
   "cell_type": "code",
   "execution_count": 27,
   "metadata": {},
   "outputs": [
    {
     "name": "stdout",
     "output_type": "stream",
     "text": [
      "(12+5j) <class 'complex'>\n"
     ]
    }
   ],
   "source": [
    "print(complejo, type(complejo))"
   ]
  },
  {
   "cell_type": "code",
   "execution_count": 28,
   "metadata": {},
   "outputs": [
    {
     "data": {
      "text/plain": [
       "5.0"
      ]
     },
     "execution_count": 28,
     "metadata": {},
     "output_type": "execute_result"
    }
   ],
   "source": [
    "complejo.imag # accedemos a la parte imaginaria"
   ]
  },
  {
   "cell_type": "code",
   "execution_count": 29,
   "metadata": {},
   "outputs": [
    {
     "data": {
      "text/plain": [
       "12.0"
      ]
     },
     "execution_count": 29,
     "metadata": {},
     "output_type": "execute_result"
    }
   ],
   "source": [
    "complejo.real # accedemos a la parte real"
   ]
  },
  {
   "cell_type": "code",
   "execution_count": 30,
   "metadata": {},
   "outputs": [
    {
     "data": {
      "text/plain": [
       "(12-5j)"
      ]
     },
     "execution_count": 30,
     "metadata": {},
     "output_type": "execute_result"
    }
   ],
   "source": [
    "complejo.conjugate() # calculamos el conjugado del número complejo."
   ]
  },
  {
   "cell_type": "markdown",
   "metadata": {},
   "source": [
    "### Operadores aritméticos\n",
    "\n",
    "Para los tipos numéricos descritos antes, existen operaciones aritméticas que se pueden aplicar sobre ellos. Estas operaciones están organizadas como se muestra en la siguiente tabla:\n",
    "\n",
    "| Categoría | Operadores |\n",
    "|---|---|\n",
    "| Exponenciación | `**` | \n",
    "| Multiplicación | `*`,`/`,`//`,`%` | \n",
    "| Adición | `+`,`-` |\n",
    "\n",
    "Veamos algunos ejemplos:"
   ]
  },
  {
   "cell_type": "code",
   "execution_count": 31,
   "metadata": {},
   "outputs": [
    {
     "name": "stdout",
     "output_type": "stream",
     "text": [
      "3 <class 'int'>\n"
     ]
    }
   ],
   "source": [
    "# Suma\n",
    "suma = 1 + 2\n",
    "\n",
    "# Imprimimos el resultado y el tipo\n",
    "print(suma, type(suma))"
   ]
  },
  {
   "cell_type": "code",
   "execution_count": 32,
   "metadata": {},
   "outputs": [
    {
     "name": "stdout",
     "output_type": "stream",
     "text": [
      "-27 <class 'int'>\n"
     ]
    }
   ],
   "source": [
    "# Resta\n",
    "resta = 5 - 32\n",
    "\n",
    "# Imprimimos el resultado y el tipo\n",
    "print(resta, type(resta))"
   ]
  },
  {
   "cell_type": "code",
   "execution_count": 33,
   "metadata": {},
   "outputs": [
    {
     "name": "stdout",
     "output_type": "stream",
     "text": [
      "9 <class 'int'>\n"
     ]
    }
   ],
   "source": [
    "# Multiplicación\n",
    "multiplicacion = 3 * 3\n",
    "\n",
    "# Imprimimos el resultado y el tipo\n",
    "print(multiplicacion, type(multiplicacion))"
   ]
  },
  {
   "cell_type": "code",
   "execution_count": 34,
   "metadata": {},
   "outputs": [
    {
     "name": "stdout",
     "output_type": "stream",
     "text": [
      "1.5 <class 'float'>\n"
     ]
    }
   ],
   "source": [
    "# División\n",
    "division = 3 / 2\n",
    "\n",
    "# Imprimimos el resultado y el tipo\n",
    "print(division, type(division))"
   ]
  },
  {
   "cell_type": "code",
   "execution_count": 35,
   "metadata": {},
   "outputs": [
    {
     "name": "stdout",
     "output_type": "stream",
     "text": [
      "16 <class 'int'>\n"
     ]
    }
   ],
   "source": [
    "# División entera\n",
    "# Divide los números y elimina la parte decimal\n",
    "div_entera = 50 // 3\n",
    "\n",
    "# Imprimimos el resultado y el tipo\n",
    "print(div_entera, type(div_entera))"
   ]
  },
  {
   "cell_type": "code",
   "execution_count": 36,
   "metadata": {},
   "outputs": [
    {
     "name": "stdout",
     "output_type": "stream",
     "text": [
      "2 <class 'int'>\n"
     ]
    }
   ],
   "source": [
    "# Módulo\n",
    "# Divide los números y regresa el residuo.\n",
    "modulo = 50 % 3\n",
    "\n",
    "# Imprimimos el resultado y el tipo\n",
    "print(modulo, type(modulo))"
   ]
  },
  {
   "cell_type": "code",
   "execution_count": 37,
   "metadata": {},
   "outputs": [
    {
     "name": "stdout",
     "output_type": "stream",
     "text": [
      "81 <class 'int'>\n"
     ]
    }
   ],
   "source": [
    "# Potencia\n",
    "potencia = 9**(2) # 9 al cuadrado\n",
    "\n",
    "# Imprimimos el resultado y el tipo\n",
    "print(potencia, type(potencia))"
   ]
  },
  {
   "cell_type": "code",
   "execution_count": 38,
   "metadata": {},
   "outputs": [
    {
     "name": "stdout",
     "output_type": "stream",
     "text": [
      "9.0 <class 'float'>\n"
     ]
    }
   ],
   "source": [
    "# Potencia\n",
    "potencia = 81**(0.5) # raíz cuadrada de 81\n",
    "\n",
    "# Imprimimos el resultado y el tipo\n",
    "print(potencia, type(potencia))"
   ]
  },
  {
   "cell_type": "code",
   "execution_count": 39,
   "metadata": {},
   "outputs": [
    {
     "name": "stdout",
     "output_type": "stream",
     "text": [
      "1.2745606273192622 <class 'float'>\n"
     ]
    }
   ],
   "source": [
    "# Potencia\n",
    "potencia = 2**(0.35) # 2 elevado a la potencia 0.35\n",
    "\n",
    "# Imprimimos el resultado y el tipo\n",
    "print(potencia, type(potencia))"
   ]
  },
  {
   "cell_type": "markdown",
   "metadata": {},
   "source": [
    "<a name=\"precedencia\">\n",
    "    \n",
    "### Precedencia de operadores.\n",
    "</a>\n",
    "La aplicación de los operadores tiene cierta precedencia que está definida en cada implementación del lenguaje de programación. La siguiente tabla muestra el orden en que se aplicarán los operadores. \n",
    "\n",
    "| Nivel | Categoría | Operadores|\n",
    "|---|---|---|\n",
    "| 7 | exponenciación | `**` |\n",
    "| 6 | multiplicación | `*`,`/`,`//`,`%` |\n",
    "| 5 | adición | `+`,`-`|\n",
    "| 4 | relacional | `==`,`!=`,`<=`,`>=`,`>`,`<`|\n",
    "| 3 | lógicos | `not` |\n",
    "| 2 | lógicos | `and` |\n",
    "| 1 | lógicos | `or` |\n",
    "\n",
    "Como se puede ver, siempre se aplican primero los operadores aritméticos (niveles 7,6, y 5), luego los relacionales (nivel 4) y finalmente los lógicos (3, 2 y 1).\n",
    "\n",
    "Más acerca de este tema se puede ver aquí: <a href=\"https://docs.python.org/3/reference/expressions.html#operator-summary\">Operator precedence</a>.\n",
    "\n",
    "A continuación se muestran ejemplos de operaciones aritméticas en donde se resalta esta precedencia:"
   ]
  },
  {
   "cell_type": "code",
   "execution_count": 40,
   "metadata": {},
   "outputs": [
    {
     "data": {
      "text/plain": [
       "11"
      ]
     },
     "execution_count": 40,
     "metadata": {},
     "output_type": "execute_result"
    }
   ],
   "source": [
    "# Precedencia de operaciones: primero se realiza la multiplicación\n",
    "1 + 2 * 3 + 4"
   ]
  },
  {
   "cell_type": "code",
   "execution_count": 41,
   "metadata": {},
   "outputs": [
    {
     "data": {
      "text/plain": [
       "21"
      ]
     },
     "execution_count": 41,
     "metadata": {},
     "output_type": "execute_result"
    }
   ],
   "source": [
    "# Es posible usar paréntesis para modificar la precedencia: primero la suma\n",
    "(1 + 2) * (3 + 4)"
   ]
  },
  {
   "cell_type": "code",
   "execution_count": 42,
   "metadata": {},
   "outputs": [
    {
     "data": {
      "text/plain": [
       "4.5"
      ]
     },
     "execution_count": 42,
     "metadata": {},
     "output_type": "execute_result"
    }
   ],
   "source": [
    "# Primero se realiza la exponenciación\n",
    "3**2/2"
   ]
  },
  {
   "cell_type": "markdown",
   "metadata": {},
   "source": [
    "### Operaciones entre tipos diferentes\n",
    "\n",
    "Es posible combinar operaciones entre tipos de números diferentes. Lo que Python hará es promover cada número al tipo más sofisticado, siendo el orden de sofisticación, de menos a más, como sigue: `int`, `float`, `complex`."
   ]
  },
  {
   "cell_type": "code",
   "execution_count": 43,
   "metadata": {},
   "outputs": [
    {
     "name": "stdout",
     "output_type": "stream",
     "text": [
      "6 <class 'int'>\n"
     ]
    }
   ],
   "source": [
    "# Operación entre enteros\n",
    "a = 2 * 3\n",
    "print(a, type(a))"
   ]
  },
  {
   "cell_type": "code",
   "execution_count": 44,
   "metadata": {},
   "outputs": [
    {
     "name": "stdout",
     "output_type": "stream",
     "text": [
      "6.0 <class 'float'>\n"
     ]
    }
   ],
   "source": [
    "# Operación entre entero y flotante\n",
    "a = 2 * 3.0\n",
    "print(a, type(a))"
   ]
  },
  {
   "cell_type": "code",
   "execution_count": 45,
   "metadata": {},
   "outputs": [
    {
     "name": "stdout",
     "output_type": "stream",
     "text": [
      "(2+6j) <class 'complex'>\n"
     ]
    }
   ],
   "source": [
    "# Operación entre entero y complejo\n",
    "a = 2 * (1 + 3j)\n",
    "print(a, type(a))"
   ]
  },
  {
   "cell_type": "code",
   "execution_count": 46,
   "metadata": {},
   "outputs": [
    {
     "name": "stdout",
     "output_type": "stream",
     "text": [
      "(2+6j) <class 'complex'>\n"
     ]
    }
   ],
   "source": [
    "# Operación entre flotante y complejo\n",
    "a = 2.0 * (1 + 3j)\n",
    "print(a, type(a))"
   ]
  },
  {
   "cell_type": "code",
   "execution_count": 47,
   "metadata": {},
   "outputs": [
    {
     "name": "stdout",
     "output_type": "stream",
     "text": [
      "0.6666666666666666 <class 'float'>\n"
     ]
    }
   ],
   "source": [
    "# División entre enteros que da como resultado un flotante\n",
    "a = 2/3\n",
    "print(a, type(a))"
   ]
  },
  {
   "cell_type": "markdown",
   "metadata": {},
   "source": [
    "### Operadores de asignación\n",
    "\n",
    "Existen varios operadores para realizar asignaciones:\n",
    "\n",
    "| Operador | Operación | Equivalencia|\n",
    "|---|---|---|\n",
    "| `+=` | `suma += valor` | `suma = suma + valor` |\n",
    "| `-=` | `resta -= valor` | `resta = resta - valor` |\n",
    "| `*=` | `mult *= valor` | `mult = mult * valor` |\n",
    "| `/=` | `div /= valor` | `div = div / valor` |\n",
    "| `//=` | `div_int //= valor` | `div_int = div_int // valor` |\n",
    "| `%=` | `modulo %= valor` | `modulo = modulo % valor` |\n",
    "| `**=` | `pot **= valor` | `pot = pot ** valor` |\n",
    "\n",
    "La forma de uso de estos operadores se muestra en los siguientes ejemplos:"
   ]
  },
  {
   "cell_type": "code",
   "execution_count": 48,
   "metadata": {},
   "outputs": [
    {
     "name": "stdout",
     "output_type": "stream",
     "text": [
      "2.0\n"
     ]
    }
   ],
   "source": [
    "valor = 1.0 \n",
    "suma = 1.0\n",
    "suma += valor  # Equivalente a : suma = suma + valor\n",
    "print(suma)"
   ]
  },
  {
   "cell_type": "code",
   "execution_count": 49,
   "metadata": {},
   "outputs": [
    {
     "name": "stdout",
     "output_type": "stream",
     "text": [
      "12\n"
     ]
    }
   ],
   "source": [
    "valor =  4\n",
    "resta = 16\n",
    "resta -= valor # Equivalente a : resta = resta - valor\n",
    "print(resta)"
   ]
  },
  {
   "cell_type": "code",
   "execution_count": 50,
   "metadata": {},
   "outputs": [
    {
     "name": "stdout",
     "output_type": "stream",
     "text": [
      "24\n"
     ]
    }
   ],
   "source": [
    "valor = 2\n",
    "mult = 12\n",
    "mult *= valor  # Equivalente a : mult = mult * valor\n",
    "print(mult)"
   ]
  },
  {
   "cell_type": "code",
   "execution_count": 51,
   "metadata": {},
   "outputs": [
    {
     "name": "stdout",
     "output_type": "stream",
     "text": [
      "16.666666666666668\n"
     ]
    }
   ],
   "source": [
    "valor = 3\n",
    "div = 50\n",
    "div /= valor  # Equivalente a : div = div / valor\n",
    "print(div)"
   ]
  },
  {
   "cell_type": "code",
   "execution_count": 52,
   "metadata": {},
   "outputs": [
    {
     "name": "stdout",
     "output_type": "stream",
     "text": [
      "16\n"
     ]
    }
   ],
   "source": [
    "valor = 3\n",
    "div_int = 50\n",
    "div_int //= valor  # Equivalente a : div_int = div_int / valor\n",
    "print(div_int)"
   ]
  },
  {
   "cell_type": "code",
   "execution_count": 53,
   "metadata": {},
   "outputs": [
    {
     "name": "stdout",
     "output_type": "stream",
     "text": [
      "2\n"
     ]
    }
   ],
   "source": [
    "valor = 3\n",
    "modulo = 50\n",
    "modulo %= valor # Equivalente a : modulo = modulo % valor\n",
    "print(modulo)"
   ]
  },
  {
   "cell_type": "code",
   "execution_count": 54,
   "metadata": {},
   "outputs": [
    {
     "name": "stdout",
     "output_type": "stream",
     "text": [
      "9\n"
     ]
    }
   ],
   "source": [
    "valor = 2\n",
    "pot = 3\n",
    "pot **= valor # Equivalente a : pot = pot ** valor\n",
    "print(pot)"
   ]
  },
  {
   "cell_type": "markdown",
   "metadata": {},
   "source": [
    "## Tipos lógicos\n",
    "\n",
    "Es un tipo utilizado para realizar operaciones lógicas y puede tomar dos valores: `True` o `False`."
   ]
  },
  {
   "cell_type": "code",
   "execution_count": 55,
   "metadata": {},
   "outputs": [
    {
     "name": "stdout",
     "output_type": "stream",
     "text": [
      "True <class 'bool'>\n"
     ]
    }
   ],
   "source": [
    "bandera = True\n",
    "print(bandera, type(bandera))"
   ]
  },
  {
   "cell_type": "code",
   "execution_count": 56,
   "metadata": {},
   "outputs": [
    {
     "name": "stdout",
     "output_type": "stream",
     "text": [
      "False <class 'bool'>\n"
     ]
    }
   ],
   "source": [
    "bandera = False\n",
    "print(bandera, type(bandera))"
   ]
  },
  {
   "cell_type": "markdown",
   "metadata": {},
   "source": [
    "### Operadores relacionales\n",
    "\n",
    "Cuando se aplica un operador relacional a dos expresiones, se realiza una comparación entre dichas expresiones y se obtiene como resultado un tipo lógico (`bool`): `True` o `False`.\n",
    "\n",
    "Los operadores relacionales que se pueden usar son: \n",
    "\n",
    "| Operador | Operación | Significado|\n",
    "|---|---|---|\n",
    "| `==` | `A == B` | ¿Es A igual a B? |\n",
    "| `!=` | `A != B` | ¿Es A diferente de B? |\n",
    "| `>` | `A > B` | ¿Es A mayor que B? |\n",
    "| `>=` | `A >= B` | ¿Es A mayor o igual a B? |\n",
    "| `>` | `A < B` | ¿Es A menor que B? |\n",
    "| `<=` | `A >= B` | ¿Es A menor o igual a B? |\n",
    "\n",
    "A continuación se muestran algunos ejemplos:"
   ]
  },
  {
   "cell_type": "code",
   "execution_count": 57,
   "metadata": {},
   "outputs": [
    {
     "data": {
      "text/plain": [
       "False"
      ]
     },
     "execution_count": 57,
     "metadata": {},
     "output_type": "execute_result"
    }
   ],
   "source": [
    "# ¿Es 35 mayor que 562?\n",
    "35 > 562 "
   ]
  },
  {
   "cell_type": "code",
   "execution_count": 58,
   "metadata": {},
   "outputs": [
    {
     "data": {
      "text/plain": [
       "True"
      ]
     },
     "execution_count": 58,
     "metadata": {},
     "output_type": "execute_result"
    }
   ],
   "source": [
    "# ¿Es 32 mayor o igual que 21?\n",
    "32 >= 21 "
   ]
  },
  {
   "cell_type": "code",
   "execution_count": 59,
   "metadata": {},
   "outputs": [
    {
     "data": {
      "text/plain": [
       "True"
      ]
     },
     "execution_count": 59,
     "metadata": {},
     "output_type": "execute_result"
    }
   ],
   "source": [
    "# ¿Es 12 menor que 34?\n",
    "12 < 34 "
   ]
  },
  {
   "cell_type": "code",
   "execution_count": 60,
   "metadata": {},
   "outputs": [
    {
     "data": {
      "text/plain": [
       "True"
      ]
     },
     "execution_count": 60,
     "metadata": {},
     "output_type": "execute_result"
    }
   ],
   "source": [
    "# ¿Es 12 menor o igual que 25?\n",
    "12 <= 25 "
   ]
  },
  {
   "cell_type": "code",
   "execution_count": 61,
   "metadata": {},
   "outputs": [
    {
     "data": {
      "text/plain": [
       "False"
      ]
     },
     "execution_count": 61,
     "metadata": {},
     "output_type": "execute_result"
    }
   ],
   "source": [
    "# ¿Es 1 igual a 2?\n",
    "1 == 2 "
   ]
  },
  {
   "cell_type": "code",
   "execution_count": 62,
   "metadata": {},
   "outputs": [
    {
     "data": {
      "text/plain": [
       "True"
      ]
     },
     "execution_count": 62,
     "metadata": {},
     "output_type": "execute_result"
    }
   ],
   "source": [
    "# ¿Es 1 diferente de 2?\n",
    "1 != 2"
   ]
  },
  {
   "cell_type": "code",
   "execution_count": 63,
   "metadata": {},
   "outputs": [
    {
     "data": {
      "text/plain": [
       "False"
      ]
     },
     "execution_count": 63,
     "metadata": {},
     "output_type": "execute_result"
    }
   ],
   "source": [
    "# Se pueden comparar otros tipos de datos\n",
    "'aaa' == 'aaaA' "
   ]
  },
  {
   "cell_type": "code",
   "execution_count": 64,
   "metadata": {},
   "outputs": [
    {
     "data": {
      "text/plain": [
       "True"
      ]
     },
     "execution_count": 64,
     "metadata": {},
     "output_type": "execute_result"
    }
   ],
   "source": [
    "# La comparación se puede hacer con el resultado de expresiones\n",
    "5 > len('5')"
   ]
  },
  {
   "cell_type": "markdown",
   "metadata": {},
   "source": [
    "### Operaciones lógicas.\n",
    "\n",
    "Los operadores lógicos que se pueden usar son: \n",
    "\n",
    "| Operador | Uso | Resultado |\n",
    "|---|---|---|\n",
    "| `not` | `not A` | Invierte el resultado de `A`|\n",
    "| `and` | `A and B` | `True` si `A` y `B` son `True`; `False` en otro caso |\n",
    "| `or` | `A or B`| `False` si `A` y `B` son `False`; `True` en otro caso |\n",
    "\n",
    "Veamos algunos ejemplos"
   ]
  },
  {
   "cell_type": "code",
   "execution_count": 1,
   "metadata": {},
   "outputs": [
    {
     "data": {
      "text/plain": [
       "True"
      ]
     },
     "execution_count": 1,
     "metadata": {},
     "output_type": "execute_result"
    }
   ],
   "source": [
    "# Para que el resultado sea verdadero, se deben cumplir las dos expresiones\n",
    "# que se encuentran a la derecha e izquierda del and. Si una de ellas no se\n",
    "# cumple, el resultado será falso.\n",
    "(5 < 32) and (63 > 32) "
   ]
  },
  {
   "cell_type": "markdown",
   "metadata": {},
   "source": [
    "Debido a la precedencia de operadores (véase [Precedencia](#precedencia)), no son necesarios los paréntesis en la operaciones relacionales de la expresión anterior, por lo que es posible escribir: "
   ]
  },
  {
   "cell_type": "code",
   "execution_count": 2,
   "metadata": {},
   "outputs": [
    {
     "data": {
      "text/plain": [
       "True"
      ]
     },
     "execution_count": 2,
     "metadata": {},
     "output_type": "execute_result"
    }
   ],
   "source": [
    "5 < 32 and 63 > 32"
   ]
  },
  {
   "cell_type": "markdown",
   "metadata": {},
   "source": [
    "Aunque a veces el uso de paréntesis hace la lectura del código más clara: "
   ]
  },
  {
   "cell_type": "code",
   "execution_count": 3,
   "metadata": {},
   "outputs": [
    {
     "data": {
      "text/plain": [
       "False"
      ]
     },
     "execution_count": 3,
     "metadata": {},
     "output_type": "execute_result"
    }
   ],
   "source": [
    "(2.32 < 21) and (23 > 63)"
   ]
  },
  {
   "cell_type": "code",
   "execution_count": 4,
   "metadata": {},
   "outputs": [
    {
     "data": {
      "text/plain": [
       "True"
      ]
     },
     "execution_count": 4,
     "metadata": {},
     "output_type": "execute_result"
    }
   ],
   "source": [
    "# Para que el resultado sea verdadero, se deben cumplir una de las dos expresiones\n",
    "# que se encuentran a la derecha e izquierda del or. Si una de ellas se cumple, \n",
    "# el resultado será verdadero.\n",
    "(32 == 21) or (5 < 31)"
   ]
  },
  {
   "cell_type": "code",
   "execution_count": 5,
   "metadata": {},
   "outputs": [
    {
     "data": {
      "text/plain": [
       "False"
      ]
     },
     "execution_count": 5,
     "metadata": {},
     "output_type": "execute_result"
    }
   ],
   "source": [
    "# Para que el resultado sea falso, ambas expresiones deben ser falsas.\n",
    "(32 == 21) or (31 < 5) "
   ]
  },
  {
   "cell_type": "code",
   "execution_count": 6,
   "metadata": {},
   "outputs": [
    {
     "data": {
      "text/plain": [
       "False"
      ]
     },
     "execution_count": 6,
     "metadata": {},
     "output_type": "execute_result"
    }
   ],
   "source": [
    "# Invierte el resultado de la expresión\n",
    "not True"
   ]
  },
  {
   "cell_type": "code",
   "execution_count": 7,
   "metadata": {},
   "outputs": [
    {
     "data": {
      "text/plain": [
       "True"
      ]
     },
     "execution_count": 7,
     "metadata": {},
     "output_type": "execute_result"
    }
   ],
   "source": [
    "not (32 != 32)"
   ]
  },
  {
   "cell_type": "markdown",
   "metadata": {},
   "source": [
    "#### Comparación entre números flotantes.\n",
    "La comparación entre números de tipo flotante debe realizarse con cuidado, veamos el siguiente ejemplo:"
   ]
  },
  {
   "cell_type": "code",
   "execution_count": 72,
   "metadata": {},
   "outputs": [
    {
     "data": {
      "text/plain": [
       "False"
      ]
     },
     "execution_count": 72,
     "metadata": {},
     "output_type": "execute_result"
    }
   ],
   "source": [
    "(0.4 - 0.3) == 0.1"
   ]
  },
  {
   "cell_type": "markdown",
   "metadata": {},
   "source": [
    "El cálculo a mano de `(0.4 - 0.3)` da como resultado `0.1`; pero en una computadora este cálculo es aproximado y depende de las características del hardware (exponente, mantisa, base, etcétera). En Python el resultado de la operación `(0.4 - 0.3)` es diferente de `0.1`, veamos:"
   ]
  },
  {
   "cell_type": "code",
   "execution_count": 73,
   "metadata": {},
   "outputs": [
    {
     "name": "stdout",
     "output_type": "stream",
     "text": [
      "0.10000000000000003\n"
     ]
    }
   ],
   "source": [
    "print(0.4 - 0.3)"
   ]
  },
  {
   "cell_type": "markdown",
   "metadata": {},
   "source": [
    "Python ofrece herramientas que permiten realizar una mejor comparación entre números de tipo flotante. Por ejemplo la biblioteca `math` contiene la función `isclose(a, b)` en donde se puede definir una tolerancia mínima para que las dos expresiones, `a` y `b` se consideren iguales (*cercanas*), por ejemplo:"
   ]
  },
  {
   "cell_type": "code",
   "execution_count": 74,
   "metadata": {},
   "outputs": [
    {
     "data": {
      "text/plain": [
       "True"
      ]
     },
     "execution_count": 74,
     "metadata": {},
     "output_type": "execute_result"
    }
   ],
   "source": [
    "# Importamos el módulo math\n",
    "import math\n",
    "\n",
    "# Utilizamos la función `isclose()` de math para comparar dos números flotantes\n",
    "math.isclose((0.4 - 0.3), 0.1)"
   ]
  },
  {
   "cell_type": "markdown",
   "metadata": {},
   "source": [
    "Se recomienda revisar el manual de [`math.isclose()`](https://docs.python.org/3/library/math.html) y el de [`numpy.isclose()`](https://numpy.org/doc/stable/reference/generated/numpy.isclose.html)para comparación de arreglos con elementos de tipo flotante."
   ]
  },
  {
   "cell_type": "markdown",
   "metadata": {},
   "source": [
    "## Conversión entre tipos (*casting*) \n",
    "\n",
    "Es posible transformar un tipo en otro tipo compatible; a esta operación se lo conoce como *casting*."
   ]
  },
  {
   "cell_type": "markdown",
   "metadata": {},
   "source": [
    "### Función `int()`\n",
    "\n",
    "Transforma objetos en enteros, siempre y cuando haya compatibilidad."
   ]
  },
  {
   "cell_type": "code",
   "execution_count": 75,
   "metadata": {},
   "outputs": [
    {
     "name": "stdout",
     "output_type": "stream",
     "text": [
      "1000 <class 'str'>\n",
      "1000 <class 'int'>\n"
     ]
    }
   ],
   "source": [
    "cadena = '1000'\n",
    "print(cadena, type(cadena))\n",
    "\n",
    "entero = int(cadena)\n",
    "print(entero, type(entero))"
   ]
  },
  {
   "cell_type": "code",
   "execution_count": 76,
   "metadata": {},
   "outputs": [
    {
     "name": "stdout",
     "output_type": "stream",
     "text": [
      "3.141592 <class 'float'>\n",
      "3 <class 'int'>\n"
     ]
    }
   ],
   "source": [
    "flotante = 3.141592\n",
    "print(flotante, type(flotante))\n",
    "\n",
    "entero  = int(flotante) # Trunca la parte decimal\n",
    "print(entero, type(entero))"
   ]
  },
  {
   "cell_type": "code",
   "execution_count": 77,
   "metadata": {},
   "outputs": [
    {
     "ename": "TypeError",
     "evalue": "int() argument must be a string, a bytes-like object or a real number, not 'complex'",
     "output_type": "error",
     "traceback": [
      "\u001b[0;31m---------------------------------------------------------------------------\u001b[0m",
      "\u001b[0;31mTypeError\u001b[0m                                 Traceback (most recent call last)",
      "Cell \u001b[0;32mIn[77], line 2\u001b[0m\n\u001b[1;32m      1\u001b[0m complejo\u001b[38;5;241m=\u001b[39m \u001b[38;5;241m4\u001b[39m\u001b[38;5;241m-\u001b[39m\u001b[38;5;241m4\u001b[39mj\n\u001b[0;32m----> 2\u001b[0m entero \u001b[38;5;241m=\u001b[39m \u001b[38;5;28;43mint\u001b[39;49m\u001b[43m(\u001b[49m\u001b[43mcomplejo\u001b[49m\u001b[43m)\u001b[49m \u001b[38;5;66;03m# Tipos NO COMPATIBLES\u001b[39;00m\n",
      "\u001b[0;31mTypeError\u001b[0m: int() argument must be a string, a bytes-like object or a real number, not 'complex'"
     ]
    }
   ],
   "source": [
    "complejo= 4-4j\n",
    "entero = int(complejo) # Tipos NO COMPATIBLES"
   ]
  },
  {
   "cell_type": "code",
   "execution_count": 78,
   "metadata": {},
   "outputs": [
    {
     "name": "stdout",
     "output_type": "stream",
     "text": [
      "1\n"
     ]
    }
   ],
   "source": [
    "entero = int(True) \n",
    "print(entero)"
   ]
  },
  {
   "cell_type": "markdown",
   "metadata": {},
   "source": [
    "### Función `str()`\n",
    "\n",
    "Transforma objetos en cadenas, siempre y cuando haya compatibilidad."
   ]
  },
  {
   "cell_type": "code",
   "execution_count": 79,
   "metadata": {},
   "outputs": [
    {
     "name": "stdout",
     "output_type": "stream",
     "text": [
      "1000 <class 'int'>\n",
      "1000 <class 'str'>\n"
     ]
    }
   ],
   "source": [
    "entero = 1000\n",
    "print(entero, type(entero))\n",
    "\n",
    "cadena = str(entero) \n",
    "print(cadena, type(cadena))"
   ]
  },
  {
   "cell_type": "code",
   "execution_count": 80,
   "metadata": {},
   "outputs": [
    {
     "name": "stdout",
     "output_type": "stream",
     "text": [
      "(5+1j) <class 'complex'>\n",
      "(5+1j) <class 'str'>\n"
     ]
    }
   ],
   "source": [
    "complejo = 5+1j\n",
    "print(complejo, type(complejo))\n",
    "\n",
    "cadena = str(complejo)\n",
    "print(cadena, type(cadena))"
   ]
  },
  {
   "cell_type": "markdown",
   "metadata": {},
   "source": [
    "### Función `float()`\n",
    "\n",
    "Transforma objetos en flotantes, siempre y cuando haya compatibilidad."
   ]
  },
  {
   "cell_type": "code",
   "execution_count": 81,
   "metadata": {},
   "outputs": [
    {
     "name": "stdout",
     "output_type": "stream",
     "text": [
      "3.141592 <class 'str'>\n",
      "3.141592 <class 'float'>\n"
     ]
    }
   ],
   "source": [
    "cadena = '3.141592'\n",
    "print(cadena, type(cadena))\n",
    "\n",
    "real = float(cadena)\n",
    "print(real, type(real))"
   ]
  },
  {
   "cell_type": "code",
   "execution_count": 82,
   "metadata": {},
   "outputs": [
    {
     "data": {
      "text/plain": [
       "33.0"
      ]
     },
     "execution_count": 82,
     "metadata": {},
     "output_type": "execute_result"
    }
   ],
   "source": [
    "float(33)"
   ]
  },
  {
   "cell_type": "code",
   "execution_count": 83,
   "metadata": {},
   "outputs": [
    {
     "data": {
      "text/plain": [
       "0.0"
      ]
     },
     "execution_count": 83,
     "metadata": {},
     "output_type": "execute_result"
    }
   ],
   "source": [
    "float(False)"
   ]
  },
  {
   "cell_type": "code",
   "execution_count": 84,
   "metadata": {},
   "outputs": [
    {
     "ename": "TypeError",
     "evalue": "float() argument must be a string or a real number, not 'complex'",
     "output_type": "error",
     "traceback": [
      "\u001b[0;31m---------------------------------------------------------------------------\u001b[0m",
      "\u001b[0;31mTypeError\u001b[0m                                 Traceback (most recent call last)",
      "Cell \u001b[0;32mIn[84], line 1\u001b[0m\n\u001b[0;32m----> 1\u001b[0m \u001b[38;5;28;43mfloat\u001b[39;49m\u001b[43m(\u001b[49m\u001b[38;5;241;43m3\u001b[39;49m\u001b[38;5;241;43m+\u001b[39;49m\u001b[38;5;241;43m3\u001b[39;49m\u001b[43mj\u001b[49m\u001b[43m)\u001b[49m \u001b[38;5;66;03m# NO hay compatibilidad\u001b[39;00m\n",
      "\u001b[0;31mTypeError\u001b[0m: float() argument must be a string or a real number, not 'complex'"
     ]
    }
   ],
   "source": [
    "float(3+3j) # NO hay compatibilidad"
   ]
  },
  {
   "cell_type": "markdown",
   "metadata": {},
   "source": [
    "En general, si existe el tipo `<class 'MiClase'>`, donde `MiClase` puede ser un tipo de dato definido dentro de Python, alguna biblioteca o creada por el usuario, es posible realizar el *casting* del objeto `a` al tipo `<class 'MiClase'>` haciendo : `MiClase(a)` siempre y cuando haya compatibilidad."
   ]
  },
  {
   "cell_type": "markdown",
   "metadata": {},
   "source": [
    "## Fuertemente tipado.\n",
    "\n",
    "Python es fuertemente tipado, lo que significa que el tipo de un objeto no puede cambiar repentinamente; se debe realizar una conversión explícita si se desea cambiar el tipo de un objeto.\n",
    "\n",
    "Esta característica también impide que se realizen operaciones entre tipos no compatibles. \n",
    "\n",
    "Veamos unos ejemplos:"
   ]
  },
  {
   "cell_type": "code",
   "execution_count": 85,
   "metadata": {},
   "outputs": [],
   "source": [
    "real   = 220.0  \n",
    "entero = 284\n",
    "complejo = 1+1j"
   ]
  },
  {
   "cell_type": "code",
   "execution_count": 86,
   "metadata": {},
   "outputs": [
    {
     "data": {
      "text/plain": [
       "504.0"
      ]
     },
     "execution_count": 86,
     "metadata": {},
     "output_type": "execute_result"
    }
   ],
   "source": [
    "entero + real # Los tipos son compatibles"
   ]
  },
  {
   "cell_type": "code",
   "execution_count": 87,
   "metadata": {},
   "outputs": [
    {
     "data": {
      "text/plain": [
       "(221+1j)"
      ]
     },
     "execution_count": 87,
     "metadata": {},
     "output_type": "execute_result"
    }
   ],
   "source": [
    "real + complejo # Los tipos son compatibles"
   ]
  },
  {
   "cell_type": "code",
   "execution_count": 88,
   "metadata": {},
   "outputs": [
    {
     "data": {
      "text/plain": [
       "(285+1j)"
      ]
     },
     "execution_count": 88,
     "metadata": {},
     "output_type": "execute_result"
    }
   ],
   "source": [
    "entero + complejo # Los tipos son compatibles"
   ]
  },
  {
   "cell_type": "markdown",
   "metadata": {},
   "source": [
    "Un tipo lógico se puede comportar como un entero, un flotante o un complejo, los tipos con compatibles. Para que un valor numérico sea considerado verdadero, debe ser equivalente al valor 1. Veamos los siguientes ejemplos:"
   ]
  },
  {
   "cell_type": "code",
   "execution_count": 90,
   "metadata": {},
   "outputs": [
    {
     "name": "stdout",
     "output_type": "stream",
     "text": [
      "True\n",
      "True\n",
      "True\n"
     ]
    }
   ],
   "source": [
    "lógico = True \n",
    "print(lógico == 1)\n",
    "print(lógico == 1.0)\n",
    "print(lógico == 1.0 + 0.0j)"
   ]
  },
  {
   "cell_type": "code",
   "execution_count": 91,
   "metadata": {},
   "outputs": [
    {
     "name": "stdout",
     "output_type": "stream",
     "text": [
      "False\n",
      "False\n",
      "False\n"
     ]
    }
   ],
   "source": [
    "print(lógico == 5)\n",
    "print(lógico == 1.1)\n",
    "print(lógico == 1.0 + 0.1j)"
   ]
  },
  {
   "cell_type": "markdown",
   "metadata": {},
   "source": [
    "Entonces podemos realizar operaciones aritméticas entre lógicos, enteros, flotantes y complejos:"
   ]
  },
  {
   "cell_type": "code",
   "execution_count": 92,
   "metadata": {},
   "outputs": [
    {
     "data": {
      "text/plain": [
       "285"
      ]
     },
     "execution_count": 92,
     "metadata": {},
     "output_type": "execute_result"
    }
   ],
   "source": [
    "lógico + entero # Los tipos son compatibles"
   ]
  },
  {
   "cell_type": "code",
   "execution_count": 93,
   "metadata": {},
   "outputs": [
    {
     "data": {
      "text/plain": [
       "221.0"
      ]
     },
     "execution_count": 93,
     "metadata": {},
     "output_type": "execute_result"
    }
   ],
   "source": [
    "lógico + real # Los tipos son compatibles"
   ]
  },
  {
   "cell_type": "code",
   "execution_count": 94,
   "metadata": {},
   "outputs": [
    {
     "data": {
      "text/plain": [
       "(2+1j)"
      ]
     },
     "execution_count": 94,
     "metadata": {},
     "output_type": "execute_result"
    }
   ],
   "source": [
    "lógico + complejo # Los tipos son compatibles"
   ]
  },
  {
   "cell_type": "markdown",
   "metadata": {},
   "source": [
    "Pero hay tipos que no son compatibles, por ejemplo:"
   ]
  },
  {
   "cell_type": "code",
   "execution_count": 95,
   "metadata": {},
   "outputs": [
    {
     "ename": "TypeError",
     "evalue": "can only concatenate str (not \"float\") to str",
     "output_type": "error",
     "traceback": [
      "\u001b[0;31m---------------------------------------------------------------------------\u001b[0m",
      "\u001b[0;31mTypeError\u001b[0m                                 Traceback (most recent call last)",
      "Cell \u001b[0;32mIn[95], line 2\u001b[0m\n\u001b[1;32m      1\u001b[0m cadena \u001b[38;5;241m=\u001b[39m \u001b[38;5;124m'\u001b[39m\u001b[38;5;124mEl resultado es igual a \u001b[39m\u001b[38;5;124m'\u001b[39m\n\u001b[0;32m----> 2\u001b[0m \u001b[43mcadena\u001b[49m\u001b[43m \u001b[49m\u001b[38;5;241;43m+\u001b[39;49m\u001b[43m \u001b[49m\u001b[43mreal\u001b[49m  \u001b[38;5;66;03m# Los tipos no son compatibles\u001b[39;00m\n",
      "\u001b[0;31mTypeError\u001b[0m: can only concatenate str (not \"float\") to str"
     ]
    }
   ],
   "source": [
    "cadena = 'El resultado es igual a '\n",
    "cadena + real  # Los tipos no son compatibles"
   ]
  },
  {
   "cell_type": "markdown",
   "metadata": {},
   "source": [
    "Sin embargo es posible hacer una conversión explícita, por ejemplo:"
   ]
  },
  {
   "cell_type": "code",
   "execution_count": 96,
   "metadata": {},
   "outputs": [
    {
     "data": {
      "text/plain": [
       "'El resultado es igual a 220.0'"
      ]
     },
     "execution_count": 96,
     "metadata": {},
     "output_type": "execute_result"
    }
   ],
   "source": [
    "cadena + str(real)"
   ]
  },
  {
   "cell_type": "markdown",
   "metadata": {},
   "source": [
    "## Constantes\n",
    "\n",
    "Python contiene una serie de constantes integradas a las que no se les puede cambiar su valor. \n",
    "\n",
    "Más detalles se pueden encontrar en: [Built-in Constants](https://docs.python.org/3/library/constants.html)\n",
    "\n",
    "Las principales constantes son las siguientes:\n",
    "\n",
    "- `False`: de tipo Booleano.\n",
    "- `True`: de tipo Booleano.\n",
    "- `None`: El único valor para el tipo NoneType. Es usado frecuentemente para representar la ausencia de un valor, por ejemplo cuando no se pasa un argumento a una función.\n",
    "- `NotImplemented`: es un valor especial que es regresado por métodos binarios especiales (por ejemplo `__eq__()`, `__lt__()`, `__add__()`, `__rsub__()`, etc.) para indicar que la operación no está implementada con respecto a otro tipo. \n",
    "\n",
    "- `Ellipsis`: equivalente a `...`, es un valor especial usado mayormente en conjunción con la sintáxis de *slicing* de arreglos.\n",
    "\n",
    "- `__debug__` : Esta constante es verdadera si Python no se inició con la opción -O. \n",
    "\n",
    "Las siguiente constantes son usadas dentro del intérprete interactivo (no se pueden usar dentro de programas ejecutados fuera del intérprete).\n",
    "\n",
    "- `quit`(code=None)\n",
    "- `exit`(code=None)\n",
    "- `copyright`\n",
    "- `credits`\n",
    "- `license`\n",
    "\n"
   ]
  },
  {
   "cell_type": "code",
   "execution_count": 97,
   "metadata": {},
   "outputs": [
    {
     "name": "stdout",
     "output_type": "stream",
     "text": [
      "Copyright (c) 2001-2023 Python Software Foundation.\n",
      "All Rights Reserved.\n",
      "\n",
      "Copyright (c) 2000 BeOpen.com.\n",
      "All Rights Reserved.\n",
      "\n",
      "Copyright (c) 1995-2001 Corporation for National Research Initiatives.\n",
      "All Rights Reserved.\n",
      "\n",
      "Copyright (c) 1991-1995 Stichting Mathematisch Centrum, Amsterdam.\n",
      "All Rights Reserved.\n"
     ]
    }
   ],
   "source": [
    "copyright()"
   ]
  },
  {
   "cell_type": "code",
   "execution_count": 99,
   "metadata": {},
   "outputs": [
    {
     "name": "stdout",
     "output_type": "stream",
     "text": [
      "    Thanks to CWI, CNRI, BeOpen.com, Zope Corporation and a cast of thousands\n",
      "    for supporting Python development.  See www.python.org for more information.\n"
     ]
    }
   ],
   "source": [
    "credits()"
   ]
  },
  {
   "cell_type": "markdown",
   "metadata": {},
   "source": [
    "<div class=\"alert alert-block alert-success\">\n",
    "\n",
    "### Ejercicio 1.\n",
    "\n",
    "<font color=\"Black\">\n",
    "\n",
    "Implementa la siguiente operación: $p = 6/2*(2+1)$. Almacena el tipo numérico del resultado como sigue: `tipo_p = type(p)`.\n",
    "</font>\n",
    "</div>"
   ]
  },
  {
   "cell_type": "code",
   "execution_count": null,
   "metadata": {},
   "outputs": [],
   "source": [
    "# p = ...\n",
    "# tipo_p = ...\n",
    "### BEGIN SOLUTION\n",
    "p = 6/2*(2+1) \n",
    "tipo_p = type(p)\n",
    "### END SOLUTION\n",
    "\n",
    "print(p, tipo_p)"
   ]
  },
  {
   "cell_type": "markdown",
   "metadata": {},
   "source": [
    "<div class=\"alert alert-block alert-success\">\n",
    "\n",
    "### Ejercicio 2.\n",
    "\n",
    "<font color=\"Black\">\n",
    "\n",
    "Define $𝜋100 = 314$ y $r = 6378$. Implementa la fórmula $a = 𝜋100 \\times r^2$. Almacena el tipo numérico del resultado como sigue: `tipo_a = type(a)`.\n",
    "</font>\n",
    "</div>"
   ]
  },
  {
   "cell_type": "code",
   "execution_count": 60,
   "metadata": {},
   "outputs": [
    {
     "name": "stdout",
     "output_type": "stream",
     "text": [
      "7850 <class 'int'>\n"
     ]
    }
   ],
   "source": [
    "# r = ...\n",
    "# 𝜋100 = ...\n",
    "# a = ...\n",
    "# tipo_a = ...\n",
    "### BEGIN SOLUTION\n",
    "r = 5\n",
    "𝜋100 = 314\n",
    "a = 𝜋100 * r ** 2\n",
    "tipo_a = type(a)\n",
    "### END SOLUTION\n",
    "\n",
    "print(a, tipo_a)"
   ]
  },
  {
   "cell_type": "markdown",
   "metadata": {},
   "source": [
    "<div class=\"alert alert-block alert-success\">\n",
    "\n",
    "### Ejercicio 3.\n",
    "\n",
    "<font color=\"Black\">\n",
    "\n",
    "Implementa las siguientes fórmulas\n",
    "$$\n",
    "\\begin{eqnarray}\n",
    "n & = & na*m \\\\\n",
    "M & = & C (1 + \\dfrac{j}{m})^n\n",
    "\\end{eqnarray}\n",
    "$$\n",
    "y realiza una evaluación para $na = 2$, $m = 12$, $C = 250000$ y $j = 0.18. Almacena los siguientes tipos: `tipo_n = type(n)` y `tipo_M = type(M)`.\n",
    "</font>\n",
    "</div>"
   ]
  },
  {
   "cell_type": "code",
   "execution_count": 61,
   "metadata": {},
   "outputs": [
    {
     "name": "stdout",
     "output_type": "stream",
     "text": [
      "24 <class 'int'>\n",
      "357375.70298225543 <class 'float'>\n"
     ]
    }
   ],
   "source": [
    "# na = ...\n",
    "# ...\n",
    "### BEGIN SOLUTION\n",
    "na = 2\n",
    "m = 12\n",
    "C = 250000\n",
    "j = 0.18\n",
    "\n",
    "n = na * m\n",
    "M = C * (1 + j/m)**n\n",
    "\n",
    "tipo_n = type(n)\n",
    "tipo_M = type(M)\n",
    "### END SOLUTION\n",
    "\n",
    "print(n, tipo_n)\n",
    "print(M, tipo_M)"
   ]
  },
  {
   "cell_type": "markdown",
   "metadata": {},
   "source": [
    "<div class=\"alert alert-block alert-success\">\n",
    "\n",
    "### Ejercicio 4.\n",
    "\n",
    "<font color=\"Black\">\n",
    "\n",
    "Realiza la siguiente operación $suma = 1 + 2 + 3 + 4 + 5$ usando el operador `+=`. **Hint**. Inicializa `suma = 1`, posteriormente ve agregando el número correspondiente a `suma` usando `+=` hasta obtener el resultado correcto.\n",
    "</font>\n",
    "</div>"
   ]
  },
  {
   "cell_type": "code",
   "execution_count": 62,
   "metadata": {},
   "outputs": [
    {
     "name": "stdout",
     "output_type": "stream",
     "text": [
      "15\n"
     ]
    }
   ],
   "source": [
    "# suma = ...\n",
    "# suma += ...\n",
    "### BEGIN SOLUTION\n",
    "suma = 1\n",
    "suma += 2\n",
    "suma += 3\n",
    "suma += 4\n",
    "suma += 5\n",
    "### END SOLUTION\n",
    "\n",
    "print(suma)"
   ]
  },
  {
   "cell_type": "markdown",
   "metadata": {},
   "source": [
    "<div class=\"alert alert-block alert-success\">\n",
    "\n",
    "### Ejercicio 5.\n",
    "\n",
    "<font color=\"Black\">\n",
    "\n",
    "Calcula el promedio de la siguiente lista de números: $3.4$, $5.6$, $2.9$, $3.8$, $4.5$. Primero suma todos los números y almacena el resultado en la variable `promedio`, posteriormente divide el resultado entre el total de números usando el operador `/=`.\n",
    "</font>\n",
    "</div>"
   ]
  },
  {
   "cell_type": "code",
   "execution_count": 63,
   "metadata": {},
   "outputs": [
    {
     "name": "stdout",
     "output_type": "stream",
     "text": [
      "4.04\n"
     ]
    }
   ],
   "source": [
    "# promedio = ...\n",
    "# promedio /= ...\n",
    "### BEGIN SOLUTION\n",
    "promedio = 3.4 + 5.6 + 2.9 + 3.8 + 4.5\n",
    "promedio /= 5\n",
    "### END SOLUTION\n",
    "\n",
    "print(promedio)"
   ]
  },
  {
   "cell_type": "markdown",
   "metadata": {},
   "source": [
    "<div class=\"alert alert-block alert-success\">\n",
    "\n",
    "### Ejercicio 6.\n",
    "\n",
    "<font color=\"Black\">\n",
    "\n",
    "Un ejemplo de serie geométrica es el siguiente:\n",
    "   $$\n",
    "   \\text{serie} = \\dfrac{1}{2} + \\dfrac{1}{4} + \\dfrac{1}{8} + \\dfrac{1}{16} + \\dfrac{1}{32} + \\dots\n",
    "   $$\n",
    "   Observa que cada término sucesivo se obtiene al multiplicar el término anterior por $\\dfrac{1}{2}$. Por ejemplo: $\\dfrac{1}{8} = \\dfrac{1}{4} \\times \\dfrac{1}{2}$.\n",
    "   Implementa los primeros cinco términos de esta serie geométrica usando `*=` y `+=`.\n",
    "   \n",
    "   **Hint**. Define las variablee `geom = 1/2` y `serie = geom`, posteriormente construye cada elemento de la serie geométrica usando `geom` y `*=` y luego agrégalo a `serie` usando `+=`.\n",
    "\n",
    "</font>\n",
    "</div>"
   ]
  },
  {
   "cell_type": "code",
   "execution_count": 25,
   "metadata": {},
   "outputs": [
    {
     "name": "stdout",
     "output_type": "stream",
     "text": [
      "0.9375\n"
     ]
    }
   ],
   "source": [
    "geom = 1/2 + 1/4 + 1/8 + 1/16\n",
    "print(geom)"
   ]
  },
  {
   "cell_type": "code",
   "execution_count": 64,
   "metadata": {},
   "outputs": [
    {
     "name": "stdout",
     "output_type": "stream",
     "text": [
      "0.0625\n",
      "0.9375\n"
     ]
    }
   ],
   "source": [
    "# geom = 1/2\n",
    "# serie = geom\n",
    "# geom *= ...\n",
    "# serie += ...\n",
    "# ...\n",
    "### BEGIN SOLUTION\n",
    "geom = 1/2\n",
    "serie = geom\n",
    "geom *= 1/2\n",
    "serie += geom\n",
    "geom *= 1/2\n",
    "serie += geom\n",
    "geom *= 1/2\n",
    "serie += geom\n",
    "### END SOLUTION\n",
    "\n",
    "print(geom)\n",
    "print(serie)"
   ]
  },
  {
   "cell_type": "markdown",
   "metadata": {},
   "source": [
    "<div class=\"alert alert-block alert-success\">\n",
    "\n",
    "### Ejercicio 7.\n",
    "\n",
    "<font color=\"Black\">\n",
    "\n",
    "El movimiento del aire aumenta la velocidad de enfriamiento de los objetos calientes, de tal manera que en un clima frío el aire se siente más frío de lo que realmente es. A esto se le conoce como sensación térmica. \n",
    "\n",
    "* En norte América suele usarse la siguiente fórmula para cálcular la temperatura de sensación térmica en grados Celsius (también conocido como *wind chill index*):\n",
    "$$\n",
    "WCI = 13.12 + 0.6215 \\times T_a - 11.37 \\times V^{0.16} + 0.3965 \\times T_a \\times V^{0.16}\n",
    "$$\n",
    "donde $T_a$ es la temperatura del aire en grados Celsius y $V$ la velocidad del viento en kilómetros por hora. Esta fórmula sólo es válida para $T_a \\leq 10 ^o$C y $V > 4.8$ **km/h**.\n",
    "\n",
    "* Por otro lado, para calcular la temperatura aparente en situaciones de calor (también conocido como *índice de calor*), suele utilizarse la fórmula:\n",
    "$$\n",
    "IC = 33 + (T_a - 33) \\times (0.474 + 0.454 \\times V^{0.5}-0.0454 \\times V)\n",
    "$$\n",
    "donde $V$ está dada en metros por segundo.\n",
    "\n",
    "Calcula el $WCI$ o el $IC$ dependiendo de la temperatura para las siguientes ciudades:\n",
    "\n",
    "1. Fairbanks, AK, Estados Unidos: $T_a = 7 \\; ^o$C y $V = 8$ **km/h**. Almacena el resultado en la variable `ciudad_1`.\n",
    "2. Yukon Crossing, Yukón, Canadá: $T_a = 10 \\; ^o$C y $V = 4$ **km/h**. Almacena el resultado en la variable `ciudad_2`.\n",
    "3. Orlando, FL, Estados Unidos: $T_a = 26 \\; ^o$C y $V = 21$ **km/h**. Almacena el resultado en la variable `ciudad_3`.\n",
    "4. Cancún, Quintana Roo, México: $T_a = 32 \\; ^o$C y $V = 20$ **km/h**. Almacena el resultado en la variable `ciudad_4`.\n",
    "\n",
    "**Notas**.\n",
    "* Recuerda que para la fórmula del $IC$ la velocidad debe estar dada en **m/s**.\n",
    "* Para convertir de **km/h** a **m/s**, debes multiplicar por $1000$ y dividir por $3600$, por ejemplo:\n",
    "    *  $10$ **km/h** $= 10 \\times 1000 / 3600$ **m/s** $= 2.77$ **m/s**.\n",
    "</font>\n",
    "</div>"
   ]
  },
  {
   "cell_type": "code",
   "execution_count": 84,
   "metadata": {},
   "outputs": [
    {
     "name": "stdout",
     "output_type": "stream",
     "text": [
      "True\n",
      "5.483375559551442\n"
     ]
    }
   ],
   "source": [
    "# 1. Fairbanks, AK, EEUU\n",
    "V = 8  # km/h\n",
    "Ta = 7 # Celsius\n",
    "\n",
    "# Podemos checar: Ta <= 10 y V > 4.8:\n",
    "print(Ta <= 10 and V > 4.8)\n",
    "\n",
    "# ciudad_1 = ...\n",
    "### BEGIN SOLUTION\n",
    "# Como Ta es menor que 10, entonces usamos WCI\n",
    "ciudad_1 = 13.12 + 0.6215 * Ta - 11.37 * V**(0.16) + 0.3965 * Ta * V**(0.16)\n",
    "### END SOLUTION\n",
    "\n",
    "print(ciudad_1)"
   ]
  },
  {
   "cell_type": "code",
   "execution_count": 85,
   "metadata": {},
   "outputs": [
    {
     "name": "stdout",
     "output_type": "stream",
     "text": [
      "True\n",
      "2.948391910660282\n"
     ]
    }
   ],
   "source": [
    "# 2. Yukon Crossing, Yukón, Canadá\n",
    "V = 5   # km/h\n",
    "Ta = 4 # Celsius\n",
    "\n",
    "# Podemos checar: Ta <= 10 y V > 4.8:\n",
    "print(Ta <= 10 and V > 4.8)\n",
    "\n",
    "# ciudad_2 = ...\n",
    "### BEGIN SOLUTION\n",
    "# Como Ta es menor que 10, entonces usamos WCI\n",
    "ciudad_2 = 13.12 + 0.6215 * Ta - 11.37 * V**(0.16) + 0.3965 * Ta * V**(0.16)\n",
    "### END SOLUTION\n",
    "\n",
    "print(ciudad_2)"
   ]
  },
  {
   "cell_type": "code",
   "execution_count": 86,
   "metadata": {},
   "outputs": [
    {
     "name": "stdout",
     "output_type": "stream",
     "text": [
      "False\n",
      "23.860234116768325\n"
     ]
    }
   ],
   "source": [
    "# 3. Orlando, FL, Estados Unidos\n",
    "V = 21  # km/h\n",
    "Ta = 26 # Celsius\n",
    "\n",
    "# Podemos checar: Ta <= 10 y V > 4.8:\n",
    "print(Ta <= 10 and V > 4.8)\n",
    "\n",
    "# ciudad_3 = ...\n",
    "### BEGIN SOLUTION\n",
    "# Como Ta es mayor que 10, entonces usamos IC\n",
    "V = V * 1000/3600 # Convertimos a m/s\n",
    "ciudad_3 = 33 + (Ta - 33) * (0.474 + 0.454 * V**(1/2) - 0.0454 * V)\n",
    "### END SOLUTION\n",
    "\n",
    "print(ciudad_3)"
   ]
  },
  {
   "cell_type": "code",
   "execution_count": 87,
   "metadata": {},
   "outputs": [
    {
     "name": "stdout",
     "output_type": "stream",
     "text": [
      "False\n",
      "31.70813396002658\n"
     ]
    }
   ],
   "source": [
    "# 4. Cancún, Quintana Roo\n",
    "V = 20  # km/h\n",
    "Ta = 32 # Celsius\n",
    "\n",
    "# Podemos checar: Ta <= 10 y V > 4.8:\n",
    "print(Ta <= 10 and V > 4.8)\n",
    "\n",
    "# ciudad_4 = ...\n",
    "### BEGIN SOLUTION\n",
    "# Como Ta es mayor que 10, entonces usamos IC\n",
    "V = V * 1000/3600 # Convertimos a m/s\n",
    "ciudad_4 = 33 + (Ta - 33) * (0.474 + 0.454 * V**(1/2)-0.0454 * V)\n",
    "### END SOLUTION\n",
    "\n",
    "print(ciudad_4)"
   ]
  },
  {
   "cell_type": "code",
   "execution_count": null,
   "metadata": {},
   "outputs": [],
   "source": []
  }
 ],
 "metadata": {
  "kernelspec": {
   "display_name": "Python 3 (ipykernel)",
   "language": "python",
   "name": "python3"
  },
  "language_info": {
   "codemirror_mode": {
    "name": "ipython",
    "version": 3
   },
   "file_extension": ".py",
   "mimetype": "text/x-python",
   "name": "python",
   "nbconvert_exporter": "python",
   "pygments_lexer": "ipython3",
   "version": "3.11.6"
  }
 },
 "nbformat": 4,
 "nbformat_minor": 4
}
