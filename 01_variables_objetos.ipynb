{
 "cells": [
  {
   "cell_type": "markdown",
   "metadata": {},
   "source": [
    "# Variables y objetos.\n",
    "\n",
    "**Objetivo.**\n",
    "Explicar los conceptos de variable, nombres y objetos, y como es que se declaran y se usan mediante algunos ejemplos.\n",
    "\n",
    " <p xmlns:cc=\"http://creativecommons.org/ns#\" xmlns:dct=\"http://purl.org/dc/terms/\"><a property=\"dct:title\" rel=\"cc:attributionURL\" href=\"https://github.com/repomacti/macti/tree/main/notebooks/Algebra_Lineal_01\">MACTI-Algebra_Lineal_01</a> by <a rel=\"cc:attributionURL dct:creator\" property=\"cc:attributionName\" href=\"https://www.macti.unam.mx\">Luis M. de la Cruz</a> is licensed under <a href=\"http://creativecommons.org/licenses/by-sa/4.0/?ref=chooser-v1\" target=\"_blank\" rel=\"license noopener noreferrer\" style=\"display:inline-block;\">Attribution-ShareAlike 4.0 International<img style=\"height:22px!important;margin-left:3px;vertical-align:text-bottom;\" src=\"https://mirrors.creativecommons.org/presskit/icons/cc.svg?ref=chooser-v1\"><img style=\"height:22px!important;margin-left:3px;vertical-align:text-bottom;\" src=\"https://mirrors.creativecommons.org/presskit/icons/by.svg?ref=chooser-v1\"><img style=\"height:22px!important;margin-left:3px;vertical-align:text-bottom;\" src=\"https://mirrors.creativecommons.org/presskit/icons/sa.svg?ref=chooser-v1\"></a></p> "
   ]
  },
  {
   "cell_type": "markdown",
   "metadata": {},
   "source": [
    "En Python las variables:\n",
    "\n",
    "- son **símbolos** que permiten identificar la información que se almacena en la memoria de la computadora,\n",
    "- son **nombres** o **etiquetas** para los objetos que se crean en Python,\n",
    "- se crean con ayuda del operador de asignación `=`,\n",
    "- no se tiene que establecer explícitamente el tipo de dato de la variable, pues esto se realiza de manera dinámica (**tipado dinámico**)."
   ]
  },
  {
   "cell_type": "markdown",
   "metadata": {},
   "source": [
    "## Reglas para definir variables.\n",
    "\n",
    "Los nombres de las variables: \n",
    "\n",
    "* pueden contener **letras**, **números** y **guiones bajos**,\n",
    "* deben comenzar con una letra o un guion bajo,\n",
    "* se distingue entre mayúsculas y minúsculas, es decir, `variable` y `Variable` son nombres diferentes.\n",
    "* puede contener caracteres Unicode (véase [Unicode](#unicode))."
   ]
  },
  {
   "cell_type": "markdown",
   "metadata": {},
   "source": [
    "    \n",
    "## Variables básicas.\n",
    "\n",
    "Los siguientes ejemplos son definiciones de variables con nombres válidos:"
   ]
  },
  {
   "cell_type": "code",
   "execution_count": null,
   "metadata": {},
   "outputs": [],
   "source": [
    "# el nombre de la variable con minúsculas, \n",
    "# el valor es de tipo cadena (usamos comillas dobles para definir una cadena)\n",
    "luis   = \"Luis Miguel de la Cruz\"   \n",
    "\n",
    "# el nombre de la variable contiene un número, \n",
    "# el valor es de tipo entero\n",
    "luis25 = 25  \n",
    "\n",
    "# el nombre de la variabl comienza con _,\n",
    "# el valor es de tipo flotante\n",
    "_luisflotante = 3.1416  \n",
    "\n",
    "# el nombre nombre de la variable contiene mayúsculas y minúsculas, \n",
    "# el valor es de tipo número complejo: parte real + parte imaginaria (con j)\n",
    "LuisComplejo = 3 + 2j  \n",
    "\n",
    "# el nombre de la variable contiene un _, \n",
    "# el valor es de tipo Lógico\n",
    "luis_logico = True "
   ]
  },
  {
   "cell_type": "markdown",
   "metadata": {},
   "source": [
    "Para imprimir el contenido de las variables definidas en la celda anterior usamos la función `print()` como sigue:"
   ]
  },
  {
   "cell_type": "code",
   "execution_count": null,
   "metadata": {},
   "outputs": [],
   "source": [
    "print(luis)\n",
    "print(luis25)\n",
    "print(_luisflotante)\n",
    "print(LuisComplejo)\n",
    "print(luis_logico)"
   ]
  },
  {
   "cell_type": "markdown",
   "metadata": {},
   "source": [
    "<div class=\"alert alert-block alert-info\">\n",
    "    \n",
    "**Nota.**\n",
    "\n",
    "<font color=\"Black\">\n",
    "\n",
    "Python ofrece un conjunto de **Funciones incorporadas** (*Built-in functions*) las cuales siempre están disponibles para usarse en cualquier código. Se puede consultar la lista de estas funciones en  https://docs.python.org/3/library/functions.html. \n",
    "\n",
    "En estas notebooks se irán introduciendo algunas de estas funciones con ejemplos sencillos. En esta notebook particularmente veremos el uso de las funciones: `print()`, `type()`, `id()`, `chr()`, `ord()`, `del()`.\n",
    "\n",
    "</font>\n",
    "</div>"
   ]
  },
  {
   "cell_type": "markdown",
   "metadata": {},
   "source": [
    "El tipo de cada variable se conoce usando la función `type()`:"
   ]
  },
  {
   "cell_type": "code",
   "execution_count": null,
   "metadata": {},
   "outputs": [],
   "source": [
    "type(luis)"
   ]
  },
  {
   "cell_type": "markdown",
   "metadata": {},
   "source": [
    "Es conveniente usar la función `type()` en combinación con la función `print()` como sigue:"
   ]
  },
  {
   "cell_type": "code",
   "execution_count": null,
   "metadata": {},
   "outputs": [],
   "source": [
    "print(type(luis))\n",
    "print(type(luis25))\n",
    "print(type(_luisflotante))\n",
    "print(type(LuisComplejo))\n",
    "print(type(luis_logico))"
   ]
  },
  {
   "cell_type": "markdown",
   "metadata": {},
   "source": [
    "Los tipos básicos en Python son:\n",
    "* numéricos (`int`, `float`, `complex`),\n",
    "* cadenas (`str`) y\n",
    "* lógicos (`True` y `False`).\n",
    "\n",
    "En la notebook ... veremos más acerca de estos tipos."
   ]
  },
  {
   "cell_type": "markdown",
   "metadata": {},
   "source": [
    "## Variables con mayúsculas y minúsculas.\n",
    "\n",
    "Python es sensitivo a mayúsculas y minúsculas en los nombres de las variables. En el ejemplo que sigue se definen tres variables distintas:"
   ]
  },
  {
   "cell_type": "code",
   "execution_count": null,
   "metadata": {},
   "outputs": [],
   "source": [
    "# los siguientes nombres identifican tres valores diferentes.\n",
    "pi = 3.14     \n",
    "PI = 31416e-4 \n",
    "Pi = 3.141592"
   ]
  },
  {
   "cell_type": "markdown",
   "metadata": {},
   "source": [
    "* La variable `pi` identifica al número flotante $3.14$.\n",
    "* La variable `PI` identifica al número flotante $31416 \\times 10^{-4}$ (se usa notación científica `31416e-4`) que es equivalente a $3.1416$.\n",
    "* La variable `Pi` identifica al número flotante $3.141592$.\n",
    "\n",
    "Estas tres variables son diferentes y se almacenan en lugares diferentes en la memoria de la computadora.\n",
    "\n",
    "La función `id()` permite conocer el identificador en la memoria de cada variable:"
   ]
  },
  {
   "cell_type": "code",
   "execution_count": null,
   "metadata": {},
   "outputs": [],
   "source": [
    "print(id(pi))\n",
    "print(id(PI))\n",
    "print(id(Pi))"
   ]
  },
  {
   "cell_type": "markdown",
   "metadata": {},
   "source": [
    "Observa que cada objeto tiene un número de identificador diferente."
   ]
  },
  {
   "cell_type": "markdown",
   "metadata": {},
   "source": [
    "## Objetos y sus nombres.\n",
    "\n",
    "Python es un lenguaje **Orientado a Objetos**. Todo lo que definimos será un objeto. En los ejemplos anteriores, lo que realmente está pasando es que se están creando objetos de diferente tipo y se les asigna un nombre. Por ejemplo, la siguiente declaración:\n",
    "\n",
    "```python\n",
    "a = 1\n",
    "```\n",
    "crea el objeto `1` de tipo entero cuyo nombre es `a`.\n",
    "\n",
    "Si hacemos lo siguiente:\n",
    "\n",
    "```python\n",
    "b = a\n",
    "```\n",
    "\n",
    "se crea otro nombre para el mismo objeto `1`. **NO se crea otro objeto**."
   ]
  },
  {
   "cell_type": "markdown",
   "metadata": {},
   "source": [
    "<div class=\"alert alert-block alert-success\">\n",
    "\n",
    "### Ejercicio 1.\n",
    "\n",
    "<font color=\"Black\">\n",
    "    \n",
    "En la siguiente celda escribe el siguiente código y verifica que `a` y `b` tienen el mismo identificador en la memoria de la computadora:\n",
    "\n",
    "```python\n",
    "a = 1\n",
    "b = a\n",
    "print(id(a))\n",
    "print(id(b))\n",
    "```\n",
    "</font>\n",
    "</div>"
   ]
  },
  {
   "cell_type": "code",
   "execution_count": null,
   "metadata": {},
   "outputs": [],
   "source": [
    "# Escribe tu código\n",
    "### BEGIN SOLUTION\n",
    "a = 1\n",
    "b = a\n",
    "print(id(a))\n",
    "print(id(b))\n",
    "### END SOLUTION"
   ]
  },
  {
   "cell_type": "markdown",
   "metadata": {},
   "source": [
    "<div class=\"alert alert-block alert-info\">\n",
    "\n",
    "<b>Nota</b>. \n",
    "\n",
    "<font color=\"Black\">\n",
    "    \n",
    "**En otros lenguajes**, el código anterior genera el valor `1` para `a` y luego se crea otro valor `1` para `b`, de tal manera que\n",
    "estas dos variables, `a` y `b`, harán referencia a lugares diferentes en la memoria.\n",
    "</font>\n",
    "</div>"
   ]
  },
  {
   "cell_type": "markdown",
   "metadata": {},
   "source": [
    "Ahora observa y ejecuta el siguiente código:"
   ]
  },
  {
   "cell_type": "code",
   "execution_count": null,
   "metadata": {},
   "outputs": [],
   "source": [
    "a = 1\n",
    "b = a\n",
    "print(a, id(a), type(a))\n",
    "print(b, id(b), type(b))\n",
    "\n",
    "b = 5.0\n",
    "print(a, id(a), type(a))\n",
    "print(b, id(b), type(b))"
   ]
  },
  {
   "cell_type": "markdown",
   "metadata": {},
   "source": [
    "* Observa que la función `print()` puede recibir varios argumentos e imprimir el contenido y/o resultado de esos argumentos. En este caso se imprime el valor del objeto, el identificador en memoria del objeto y su tipo.\n",
    "* Nota que inicialmente `a` y `b` son dos nombres para el mismo objeto `1` que es de tipo entero.\n",
    "* Posteriormente, se crea el nuevo objeto `5.0`, un flotante, y se le asigna el nombre `b`; en ese momento `a` y `b` hacen referencia a dos objetos diferentes y sucede que:\n",
    "    * el contenido de `b` es `5.0`,\n",
    "    * `b` tiene un identificador diferente al de `a`\n",
    "    * y `b` ahora es de tipo flotante.\n",
    "\n",
    "Esta conceptualización de objetos y sus nombres es muy importante cuando se manejan estructuras de datos más complejas.\n",
    "\n",
    "<div class=\"alert alert-block alert-info\">\n",
    "\n",
    "<b>Nota</b>. \n",
    "\n",
    "<font color=\"Black\">\n",
    "    \n",
    "Usaremos el término variable para referirnos a los nombres de los objetos. Cuando sea conveniente usaremos el término objeto. \n",
    "</font>\n",
    "</div>"
   ]
  },
  {
   "cell_type": "markdown",
   "metadata": {},
   "source": [
    "## Definición de varios nombres a la vez.\n",
    "\n",
    "La siguiente declaración genera tres nombres para el mismo valor `25`."
   ]
  },
  {
   "cell_type": "code",
   "execution_count": null,
   "metadata": {},
   "outputs": [],
   "source": [
    "x = y = z = 25"
   ]
  },
  {
   "cell_type": "code",
   "execution_count": null,
   "metadata": {},
   "outputs": [],
   "source": [
    "print(type(x), type(y), type(z))"
   ]
  },
  {
   "cell_type": "code",
   "execution_count": null,
   "metadata": {},
   "outputs": [],
   "source": [
    "print(id(x), id(y), id(z))"
   ]
  },
  {
   "cell_type": "code",
   "execution_count": null,
   "metadata": {},
   "outputs": [],
   "source": [
    "print(x, y, z)"
   ]
  },
  {
   "cell_type": "markdown",
   "metadata": {},
   "source": [
    "Observa que se creó el objeto `25` de tipo `<class 'int'>` y los nombres `x`, `y` y `z` son nombres diferentes para el mismo objeto, como se verifica imprimiendo el identificador de cada nombre usando la función `id()`."
   ]
  },
  {
   "cell_type": "markdown",
   "metadata": {},
   "source": [
    "<div class=\"alert alert-block alert-success\">\n",
    "\n",
    "### Ejercicio 2.\n",
    "\n",
    "<font color=\"Black\">\n",
    "    \n",
    "En la siguiente celda escribe el siguiente código:\n",
    "\n",
    "```python\n",
    "y = 2.7182\n",
    "print(x, y, z)\n",
    "print(type(x), type(y), type(z))\n",
    "print(id(x), id(y), id(z))\n",
    "```\n",
    "\n",
    "Luego observa lo que sucede con el contenido, el tipo y el identificador de las variables `x`, `y` y `z`.\n",
    "</font>\n",
    "</div>"
   ]
  },
  {
   "cell_type": "code",
   "execution_count": null,
   "metadata": {},
   "outputs": [],
   "source": [
    "# Escribe tu código\n",
    "### BEGIN SOLUTION\n",
    "y = 2.7182\n",
    "print(x, y, z)\n",
    "print(type(x), type(y), type(z))\n",
    "print(id(x), id(y), id(z))\n",
    "### END SOLUTION"
   ]
  },
  {
   "cell_type": "markdown",
   "metadata": {},
   "source": [
    "Observa que `y` ahora es el nombre del objeto de tipo flotante `2.17182`.\n",
    "\n",
    "\n",
    "Podemos eliminar el nombre `x` con la función `del()`:"
   ]
  },
  {
   "cell_type": "code",
   "execution_count": null,
   "metadata": {},
   "outputs": [],
   "source": [
    "del(x)"
   ]
  },
  {
   "cell_type": "markdown",
   "metadata": {},
   "source": [
    "Ahora ya no es posible hacer referencia al objeto `25` usando el nombre `x`, la siguiente declaración genera un error indicando lo anterior:"
   ]
  },
  {
   "cell_type": "code",
   "execution_count": null,
   "metadata": {},
   "outputs": [],
   "source": [
    "print(x)"
   ]
  },
  {
   "cell_type": "markdown",
   "metadata": {},
   "source": [
    "Sin embargo, aún es posible hacer referencia al objeto `25` usando el nombre `z`:"
   ]
  },
  {
   "cell_type": "code",
   "execution_count": null,
   "metadata": {},
   "outputs": [],
   "source": [
    "print(z)\n",
    "print(id(z))"
   ]
  },
  {
   "cell_type": "markdown",
   "metadata": {},
   "source": [
    "El objeto `25` será eliminado de la memoria cuando ya no exista un nombre que haga referencia a él. Entonces es posible eliminar ese objeto como sigue:"
   ]
  },
  {
   "cell_type": "code",
   "execution_count": null,
   "metadata": {},
   "outputs": [],
   "source": [
    "del(z)"
   ]
  },
  {
   "cell_type": "code",
   "execution_count": null,
   "metadata": {},
   "outputs": [],
   "source": [
    "# Esto dará un error\n",
    "print(z)"
   ]
  },
  {
   "cell_type": "markdown",
   "metadata": {},
   "source": [
    "## Asignación múltiple\n",
    "\n",
    "Podemos hacer una asignación múltiple de objetos diferentes a variables diferentes, por ejemplo:"
   ]
  },
  {
   "cell_type": "code",
   "execution_count": null,
   "metadata": {},
   "outputs": [],
   "source": [
    "x, y, z = \"eje x\", 3.141592, 50"
   ]
  },
  {
   "cell_type": "code",
   "execution_count": null,
   "metadata": {},
   "outputs": [],
   "source": [
    "print(x, y, z)"
   ]
  },
  {
   "cell_type": "code",
   "execution_count": null,
   "metadata": {},
   "outputs": [],
   "source": [
    "print(type(x), type(y), type(z))"
   ]
  },
  {
   "cell_type": "code",
   "execution_count": null,
   "metadata": {},
   "outputs": [],
   "source": [
    "print(id(x), id(y), id(z))"
   ]
  },
  {
   "cell_type": "markdown",
   "metadata": {},
   "source": [
    "Como se observa, las variables `x`, `y` y `z` hacen referencia a diferentes objetos, de distinto tipo."
   ]
  },
  {
   "cell_type": "markdown",
   "metadata": {},
   "source": [
    "<a name=\"unicode\">\n",
    "    \n",
    "## Nombres de variables Unicode\n",
    "</a>\n",
    "    \n",
    "**Unicode**: estándar para la codificación de caracteres, que permite el tratamiento informático, la transmisión y visualización de textos de muchos idiomas y disciplinas técnicas. Unicode intenta tener universalidad, uniformidad y unicidad. Unicode define tres formas de codificación bajo el nombre UTF (Unicode transformation format): UTF8, UTF16, UTF32. Véase https://es.wikipedia.org/wiki/Unicode\n",
    "\n",
    "Para saber que tipo de codificación usa Python, podemos hacer lo siguiente:"
   ]
  },
  {
   "cell_type": "code",
   "execution_count": null,
   "metadata": {},
   "outputs": [],
   "source": [
    "# Importamos el módulo sys\n",
    "import sys\n",
    "\n",
    "# Imprimimos el tipo de codificación\n",
    "sys.stdout.encoding "
   ]
  },
  {
   "cell_type": "markdown",
   "metadata": {},
   "source": [
    "La compatibilidad con UTF-8 en Python significa que se puede leer, escribir y manipular archivos de datos provenientes de fuentes diversas como archivos binarios, bases de datos, APIs web, entre muchas otras; estas fuentes pueden contener texto en diferentes idiomas y codificaciones.\n",
    "\n",
    "A continuación se muestran algunos ejemplos."
   ]
  },
  {
   "cell_type": "code",
   "execution_count": null,
   "metadata": {},
   "outputs": [],
   "source": [
    "# Acentos y caracteres de idiomas en el nombre de variables\n",
    "México = \"en el ombligo de la luna\"\n",
    "español = \"lengua romance\"\n",
    "français = \"langues romanes\"\n",
    "Ελληνικά = \"Griego\"\n",
    "Русский = \"Ruso\"\n",
    "\n",
    "# Símbolos matemáticos\n",
    "𝜋 = 3.1416\n",
    "ℏ = 6.626e-34"
   ]
  },
  {
   "cell_type": "markdown",
   "metadata": {},
   "source": [
    "Estas variables se pueden usar como cualquier otra, por ejemplo podemos imprimir su contenido, determinar su tipo y su identificador en memoria como sigue:"
   ]
  },
  {
   "cell_type": "code",
   "execution_count": null,
   "metadata": {},
   "outputs": [],
   "source": [
    "print(México, type(México), id(México))\n",
    "print(𝜋, type(𝜋), id(𝜋))"
   ]
  },
  {
   "cell_type": "markdown",
   "metadata": {},
   "source": [
    "También es posible imprimir el caracter unicode y su valor como sigue:"
   ]
  },
  {
   "cell_type": "code",
   "execution_count": null,
   "metadata": {},
   "outputs": [],
   "source": [
    "# Imprimimos el valor de la variable Ελληνικά\n",
    "print(\"Ελληνικά = \", Ελληνικά)"
   ]
  },
  {
   "cell_type": "markdown",
   "metadata": {},
   "source": [
    "Los códigos Unicode de cada caracter se pueden dar en decimal o hexadecimal, por ejemplo para el símbolo $\\pi$ se tiene el código decimal `120587` y hexadecimal `0x1D70B`. La función `chr()` convierte el código Unicode en el caracter correspondiente:"
   ]
  },
  {
   "cell_type": "code",
   "execution_count": null,
   "metadata": {},
   "outputs": [],
   "source": [
    "# Código hexadecimal del caracter 𝜋\n",
    "chr(0x1D70B)"
   ]
  },
  {
   "cell_type": "code",
   "execution_count": null,
   "metadata": {},
   "outputs": [],
   "source": [
    "# Código decimal del caracter 𝜋\n",
    "chr(120587)"
   ]
  },
  {
   "cell_type": "markdown",
   "metadata": {},
   "source": [
    "La función `ord()` obtiene el código Unicode de un caracter y lo regresa en decimal:"
   ]
  },
  {
   "cell_type": "code",
   "execution_count": null,
   "metadata": {},
   "outputs": [],
   "source": [
    "ord(\"𝜋\")"
   ]
  },
  {
   "cell_type": "markdown",
   "metadata": {},
   "source": [
    "También es posible obtener más información de los códigos unicode como sigue:"
   ]
  },
  {
   "cell_type": "code",
   "execution_count": null,
   "metadata": {},
   "outputs": [],
   "source": [
    "# Importamos el módulo unicodedata\n",
    "import unicodedata \n",
    "\n",
    "print(\"𝜋\")\n",
    "print(ord(\"𝜋\"))\n",
    "print(unicodedata.category(\"𝜋\"))\n",
    "print(unicodedata.name(\"𝜋\"))"
   ]
  },
  {
   "cell_type": "markdown",
   "metadata": {},
   "source": [
    "Para más información véase: https://docs.python.org/3/howto/unicode.html"
   ]
  },
  {
   "cell_type": "markdown",
   "metadata": {},
   "source": [
    "<div class=\"alert alert-block alert-success\">\n",
    "\n",
    "### Ejercicio 3.\n",
    "\n",
    "<font color=\"Black\">\n",
    "    \n",
    "1. Define la variable `𝜋 = 3 + 1/7` y el radio de la tierra `r = 6378`. Usando estas variables el código para calcular el volumen con la siguiente fórmula $V = \\dfrac{4}{3} \\pi r^3$ es:\n",
    "\n",
    "```python\n",
    "𝜋 = 3 + 1/7\n",
    "r = 6378\n",
    "V = 4 / 3 * 𝜋 * r ** 3\n",
    "```\n",
    "\n",
    "Escribe el código anterior en la siguiente celda y ejecútala.\n",
    "\n",
    "</font>\n",
    "</div>"
   ]
  },
  {
   "cell_type": "code",
   "execution_count": null,
   "metadata": {},
   "outputs": [],
   "source": [
    "# Define las variables y realiza el cálculo\n",
    "### BEGIN SOLUTION\n",
    "𝜋 = 3 + 1/7\n",
    "r = 6378\n",
    "V = 4 / 3 * 𝜋 * r ** 3\n",
    "### END SOLUTION"
   ]
  },
  {
   "cell_type": "code",
   "execution_count": null,
   "metadata": {},
   "outputs": [],
   "source": [
    "# Para que esta celda funcione, primero debes realizar el ejercicio 3.\n",
    "print(\"𝜋 =\", 𝜋) \n",
    "print(\"r =\", r)\n",
    "print(\"V =\", V)"
   ]
  },
  {
   "cell_type": "markdown",
   "metadata": {},
   "source": [
    "## Nombres inválidos para variables\n",
    "\n",
    "Los siguientes ejemplos **NO SON VALIDOS** para el nombre de variables. Al ejecutar las celdas se obtendrá un error en cada una de ellas."
   ]
  },
  {
   "cell_type": "code",
   "execution_count": null,
   "metadata": {},
   "outputs": [],
   "source": [
    "1luis = 20      # No se puede iniciar con un número"
   ]
  },
  {
   "cell_type": "code",
   "execution_count": null,
   "metadata": {},
   "outputs": [],
   "source": [
    "luis$ = 8.2323  # No puede contener caractéres especiales"
   ]
  },
  {
   "cell_type": "code",
   "execution_count": null,
   "metadata": {},
   "outputs": [],
   "source": [
    "for = 35        # Algunos nombres ya están reservados"
   ]
  },
  {
   "cell_type": "markdown",
   "metadata": {},
   "source": [
    "### Palabras reservadas.\n",
    "\n",
    "Como vimos en la celda anterior, no es posible usar las palabras reservadas de Python para nombrar variables. La lista de palabras reservadas se puede consultar con la siguiente expresión:"
   ]
  },
  {
   "cell_type": "code",
   "execution_count": 1,
   "metadata": {},
   "outputs": [
    {
     "name": "stdout",
     "output_type": "stream",
     "text": [
      "\n",
      "Here is a list of the Python keywords.  Enter any keyword to get more help.\n",
      "\n",
      "False               class               from                or\n",
      "None                continue            global              pass\n",
      "True                def                 if                  raise\n",
      "and                 del                 import              return\n",
      "as                  elif                in                  try\n",
      "assert              else                is                  while\n",
      "async               except              lambda              with\n",
      "await               finally             nonlocal            yield\n",
      "break               for                 not                 \n",
      "\n"
     ]
    }
   ],
   "source": [
    "help(\"keywords\")"
   ]
  },
  {
   "cell_type": "markdown",
   "metadata": {},
   "source": [
    "<div class=\"alert alert-block alert-success\">\n",
    "\n",
    "### Ejercicio 4.\n",
    "\n",
    "1. <font color=\"black\">**¿Cuáles de los siguientes nombres SI son correctos y cuáles NO para definir nombres de variables?**</font>\n",
    "    1. `𝜋 = 3 + 1/7`\n",
    "    2.  `r = 25`\n",
    "    3.  `await = \"espera un momento\"`\n",
    "    4.  `peña_de_bernal = \"formación rocosa\"`\n",
    "    5.  `area_del_círculo = 𝜋 * r**2`\n",
    "    6.  `contacto@mail.com = \"mi correo electrónico\"`\n",
    "    7.  `numero80 = 80.5`\n",
    "    8.  `23_flotante = 10`\n",
    "    9.  `complejo = 5 + 8k`\n",
    "    10.  `CoMpLeJ0 = 5 + 8j`\n",
    "<br><br>\n",
    "\n",
    "Para cada ejemplo, escribe tus respuestas usando las cadenas `\"correcto\"` o \"`incorrecto`\" dependiendo del caso:\n",
    "   ```python\n",
    "    A = \"correcto\"\n",
    "    B = \"incorrecto\"\n",
    "   ...\n",
    "   ```\n",
    "   \n",
    "2. <font color=\"black\">**¿Cuántos objetos se crean en la siguiente declaración?**</font>\n",
    "```python\n",
    "a = b = c = d = 100\n",
    "```\n",
    "<br>\n",
    "\n",
    "Escribe tu respuesta en la variable `R2` usando un valor entero:\n",
    "```python\n",
    "R2 = ...\n",
    "```\n",
    "  \n",
    "3. <font color=\"black\">**¿Cuántos objetos se crean en la siguiente declaración?**</font>\n",
    "```python\n",
    "a, b, c, d = 5, 6, 7, 8\n",
    "```\n",
    "<br>\n",
    "\n",
    "Escribe tu respuesta en la variable `R3` usando un valor entero:\n",
    "```python\n",
    "R3 = ...\n",
    "```\n",
    "\n",
    "4. <font color=\"black\">**¿De qué tipo son los objetos creados en la siguiente instrucción?**</font>\n",
    "```python\n",
    "u, v, w, x  = 3+4j, 5, \"Viva\", False\n",
    "```\n",
    "<br>\n",
    "\n",
    "Escribe tus respuestas en las variables `tipo_u`, `tipo_v`, `tipo_w` y `tipo_x` usando la cadena correspondiente del tipo (`\"int\"`, `\"float\"`, `\"complex\"`, `\"str\"`, `\"bool\"`):\n",
    "```python\n",
    "tipo_u = ...\n",
    "tipo_v = ...\n",
    "tipo_w = ...\n",
    "tipo_x = ...\n",
    "```\n",
    "\n",
    "</font>\n",
    "</div>"
   ]
  },
  {
   "cell_type": "code",
   "execution_count": null,
   "metadata": {},
   "outputs": [],
   "source": [
    "# Respuestas pregunta 1.\n",
    "# A = ...\n",
    "# ...\n",
    "### BEGIN SOLUTION\n",
    "𝜋 = 3 + 1/7\n",
    "r = 25\n",
    "#await = \"espera un momento\"\n",
    "peña_de_bernal = \"formación rocosa\"\n",
    "area_del_círculo = 𝜋 * r**2\n",
    "#contacto@mail.com = \"mi correo electrónico\"\n",
    "numero80 = 80.5\n",
    "#23_flotante = 10\n",
    "#complejo = 5 + 8k\n",
    "CoMpLeJ0 = 5 + 8j\n",
    "\n",
    "A = \"correcto\"\n",
    "B = \"correcto\"\n",
    "C = \"incorrecto\"\n",
    "D = \"correcto\"\n",
    "E = \"correcto\"\n",
    "F = \"incorrecto\"\n",
    "G = \"correcto\"\n",
    "H = \"incorrecto\"\n",
    "I = \"incorrecto\"\n",
    "J = \"correcto\"\n",
    "### END SOLUTION"
   ]
  },
  {
   "cell_type": "code",
   "execution_count": null,
   "metadata": {},
   "outputs": [],
   "source": [
    "# Respuesta pregunta 2.\n",
    "# R2 = ...\n",
    "### BEGIN SOLUTION\n",
    "R2 = 1\n",
    "### END SOLUTION"
   ]
  },
  {
   "cell_type": "code",
   "execution_count": null,
   "metadata": {},
   "outputs": [],
   "source": [
    "# Respuesta pregunta 3.\n",
    "# R3 = ...\n",
    "### BEGIN SOLUTION\n",
    "R3 = 4\n",
    "### END SOLUTION"
   ]
  },
  {
   "cell_type": "code",
   "execution_count": null,
   "metadata": {},
   "outputs": [],
   "source": [
    "# Respuestas pregunta 4.\n",
    "# tipo_u = ...\n",
    "# ...\n",
    "### BEGIN SOLUTION\n",
    "tipo_u = \"complex\" \n",
    "tipo_v = \"int\"\n",
    "tipo_w = \"str\"\n",
    "tipo_x = \"bool\"\n",
    "### END SOLUTION"
   ]
  },
  {
   "cell_type": "code",
   "execution_count": null,
   "metadata": {},
   "outputs": [],
   "source": []
  }
 ],
 "metadata": {
  "kernelspec": {
   "display_name": "Python 3 (ipykernel)",
   "language": "python",
   "name": "python3"
  },
  "language_info": {
   "codemirror_mode": {
    "name": "ipython",
    "version": 3
   },
   "file_extension": ".py",
   "mimetype": "text/x-python",
   "name": "python",
   "nbconvert_exporter": "python",
   "pygments_lexer": "ipython3",
   "version": "3.11.6"
  }
 },
 "nbformat": 4,
 "nbformat_minor": 4
}
