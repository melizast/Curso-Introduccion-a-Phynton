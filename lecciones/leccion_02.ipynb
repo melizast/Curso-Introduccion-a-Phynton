{
 "cells": [
  {
   "cell_type": "markdown",
   "id": "4ca9e5e1-cb41-4953-848f-740b11dd18fb",
   "metadata": {
    "nbgrader": {
     "grade": false,
     "grade_id": "cell-4fb836b56c12bdf8",
     "locked": true,
     "schema_version": 3,
     "solution": false,
     "task": false
    }
   },
   "source": [
    "# Introducción a Python\n",
    "\n",
    " <p xmlns:cc=\"http://creativecommons.org/ns#\" xmlns:dct=\"http://purl.org/dc/terms/\"><a property=\"dct:title\" rel=\"cc:attributionURL\" href=\"https://github.com/repomacti/introduccion_python\">Introducción a Python</a> by <a rel=\"cc:attributionURL dct:creator\" property=\"cc:attributionName\" href=\"https://gmc.geofisica.unam.mx/luiggi\">Luis Miguel de la Cruz Salas</a> is licensed under <a href=\"https://creativecommons.org/licenses/by-sa/4.0/?ref=chooser-v1\" target=\"_blank\" rel=\"license noopener noreferrer\" style=\"display:inline-block;\">CC BY-SA 4.0<img style=\"height:22px!important;margin-left:3px;vertical-align:text-bottom;\" src=\"https://mirrors.creativecommons.org/presskit/icons/cc.svg?ref=chooser-v1\" alt=\"\"><img style=\"height:22px!important;margin-left:3px;vertical-align:text-bottom;\" src=\"https://mirrors.creativecommons.org/presskit/icons/by.svg?ref=chooser-v1\" alt=\"\"><img style=\"height:22px!important;margin-left:3px;vertical-align:text-bottom;\" src=\"https://mirrors.creativecommons.org/presskit/icons/sa.svg?ref=chooser-v1\" alt=\"\"></a></p> "
   ]
  },
  {
   "cell_type": "markdown",
   "id": "05dde5ac-5963-4da5-bfa2-7d95e98e0798",
   "metadata": {},
   "source": [
    "# Cadenas\n",
    "\n",
    "En Python, una cadena (string) es una secuencia de caracteres utilizada para representar texto. Las cadenas se pueden crear utilizando:\n",
    "\n",
    "* comillas simples (`'`),\n",
    "* dobles (`\"`) o triples\n",
    "* (`\"\"\"` o `'''`). \n",
    "\n"
   ]
  },
  {
   "cell_type": "code",
   "execution_count": null,
   "id": "9aff5633-f31c-45e3-9034-1a2e8e608e58",
   "metadata": {},
   "outputs": [],
   "source": [
    "frase1 = \"O ya no entiendo lo que está pasando o ya pasó lo que estaba yo entendiendo\"\n",
    "frase2 = 'O ya no entiendo lo que está pasando o ya pasó lo que estaba yo entendiendo'\n",
    "frase3 = \"\"\"O ya no entiendo lo que está pasando o ya pasó lo que estaba yo entendiendo\"\"\"\n",
    "frase4 = '''O ya no entiendo lo que está pasando o ya pasó lo que estaba yo entendiendo'''"
   ]
  },
  {
   "cell_type": "code",
   "execution_count": null,
   "id": "cbd3241c-b8c6-4a6e-bf66-4b1a5b319f24",
   "metadata": {},
   "outputs": [],
   "source": [
    "print(frase1, frase2, frase3, frase4, sep=\"\\n\")"
   ]
  },
  {
   "cell_type": "code",
   "execution_count": null,
   "id": "68596e64-e004-4182-9a91-8f04ee668858",
   "metadata": {},
   "outputs": [],
   "source": [
    "print(type(frase1), type(frase2), type(frase3), type(frase4), sep=\"\\n\")"
   ]
  },
  {
   "cell_type": "markdown",
   "id": "617b2690-04b6-4daa-99fd-7a6d0a769907",
   "metadata": {},
   "source": [
    "Es posible agregar caracteres especiales agregando el caracter de escape `\\`, por ejemplo agregamos un cambio de línea en la cadena anterior somo sigue:"
   ]
  },
  {
   "cell_type": "code",
   "execution_count": null,
   "id": "1b1566ee-f795-4fa4-acd2-8c6799e332cd",
   "metadata": {},
   "outputs": [],
   "source": [
    "frase1 = \"O ya no entiendo lo que está pasando \\no ya pasó lo que estaba yo entendiendo\"\n",
    "\n",
    "print(frase1)"
   ]
  },
  {
   "cell_type": "markdown",
   "id": "02c07cc2-569d-48b1-8f52-bf94de72f715",
   "metadata": {},
   "source": [
    "Otro ejemplo:"
   ]
  },
  {
   "cell_type": "code",
   "execution_count": null,
   "id": "98c3e776-67c9-42e0-be03-dbe8a9678942",
   "metadata": {},
   "outputs": [],
   "source": [
    "frase1 = \"Life is like a box of chocolates. \\n\\tYou never know what you\\'re gonna get.\"\n",
    "\n",
    "print(frase1)"
   ]
  },
  {
   "cell_type": "code",
   "execution_count": null,
   "id": "8a656675-4e59-438a-8db6-77870219751c",
   "metadata": {},
   "outputs": [],
   "source": [
    "frase1 = \"Life is like a box of chocolates. \\n\\tYou never know what you're gonna get.\"\n",
    "\n",
    "print(frase1)"
   ]
  },
  {
   "cell_type": "markdown",
   "id": "25fcf66b-2935-4b8c-823e-df0fa88b017c",
   "metadata": {},
   "source": [
    "La documentación completa de caracteres especiales se puede encontrar en el siguiente enlace: [Escape sequences](https://docs.python.org/es/3/reference/lexical_analysis.html#escape-sequences)."
   ]
  },
  {
   "cell_type": "markdown",
   "id": "1c868818-c070-43ed-ad4d-a1ee8d5e6d68",
   "metadata": {},
   "source": [
    "<div class=\"alert alert-block alert-success\">\n",
    "\n",
    "### Ejemplo 1.\n",
    "\n",
    "Escribir el siguiente código y ejecútalo:\n",
    "```python\n",
    "ejem = 'Murciélago'\n",
    "print(ejem)\n",
    "print(type(ejem))\n",
    "```\n",
    "\n",
    "</div>"
   ]
  },
  {
   "cell_type": "code",
   "execution_count": null,
   "id": "4f0bd337-1d9a-4c58-990e-9c47da1c18aa",
   "metadata": {
    "nbgrader": {
     "grade": false,
     "grade_id": "cell-15624b9017af90ee",
     "locked": false,
     "schema_version": 3,
     "solution": true,
     "task": false
    }
   },
   "outputs": [],
   "source": [
    "### BEGIN SOLUTION\n",
    "ejem = 'Murciélago'\n",
    "print(ejem)\n",
    "print(type(ejem))\n",
    "### END SOLUTION"
   ]
  },
  {
   "cell_type": "markdown",
   "id": "9b875e92-2333-490d-b59f-0658b842bf1b",
   "metadata": {},
   "source": [
    "## Indexación y slicing\n",
    "\n",
    "La siguiente cadena tiene `N = 10` elementos.\n",
    "\n",
    "|   ||||||||||||\n",
    "|--:|:-:|:-:|:-:|:-:|:-:|:-:|:-:|:-:|:-:|:-:|:-:|\n",
    "|`ejemplo` |`=`| `M` | `u` | `r` | `c` | `i` | `é` | `l` | `a` | `g` | `o` |\n",
    "|índice positivo |$\\rightarrow$| `0`|`1`|`2`|`3`|`4`|`5`|`6`|`7`|`8`|`9`|\n",
    "|índice negativo |$\\rightarrow$| `-10`|`-9`|`-8`|`-7`|`-6`|`-5`|`-4`|`-3`|`-2`|`-1`|\n",
    "\n",
    "* Sus índices positivos van de `0` a `9`.\n",
    "* Sus índices negativos van de `-1` a `-10`."
   ]
  },
  {
   "cell_type": "markdown",
   "id": "9046e5d5-a1aa-4d89-83eb-4b9f6dba1105",
   "metadata": {},
   "source": [
    "\n",
    "Se puede obtener una subcadena a partir de la cadena original, para ello usamos lo siguiente: **`str[Start:End:Stride]`**\n",
    "\n",
    "<div class=\"alert alert-block alert-success\">\n",
    "\n",
    "### Ejemplo 2.\n",
    "Acceder a los sigientes elementos de la cadena definida en el ejemplo 1:\n",
    "\n",
    "1. Elemento `0`.\n",
    "2. Elemento final con índice positivo y negativo.\n",
    "3. Elemento `5` con índice positivo y negativo.\n",
    "4. Obtener la subcadena `ciéla`.\n",
    "5. Todos los elementos pares.\n",
    "6. Todos los elementos impares.\n",
    "7. Los elementos pares e impares de 2 a 7.\n",
    "8. Los elementos pares de toda la cadena en reversa.\n",
    "\n",
    "|   ||||||||||||\n",
    "|--:|:-:|:-:|:-:|:-:|:-:|:-:|:-:|:-:|:-:|:-:|:-:|\n",
    "|`ejemplo` |`=`| `M` | `u` | `r` | `c` | `i` | `é` | `l` | `a` | `g` | `o` |\n",
    "|índice positivo |$\\rightarrow$| `0`|`1`|`2`|`3`|`4`|`5`|`6`|`7`|`8`|`9`|\n",
    "</div>"
   ]
  },
  {
   "cell_type": "code",
   "execution_count": null,
   "id": "51da1d27-584f-4df1-83d1-0a63298730b9",
   "metadata": {},
   "outputs": [],
   "source": [
    "# 1 elemento 0\n"
   ]
  },
  {
   "cell_type": "code",
   "execution_count": null,
   "id": "46b39a10-048d-4d56-b37c-48dd2b96c8f1",
   "metadata": {},
   "outputs": [],
   "source": [
    "# 2 elemento final, índices positivo y negativo\n"
   ]
  },
  {
   "cell_type": "code",
   "execution_count": null,
   "id": "d481a430-09d4-4470-ae75-4d79b1644a19",
   "metadata": {},
   "outputs": [],
   "source": [
    "# 3 elemento 5, índices positivo y negativo\n"
   ]
  },
  {
   "cell_type": "code",
   "execution_count": null,
   "id": "1d7d420b-9128-49eb-be99-4e25f52efde0",
   "metadata": {},
   "outputs": [],
   "source": [
    "# 4 subcadena 'ciela'\n"
   ]
  },
  {
   "cell_type": "code",
   "execution_count": null,
   "id": "e3fc15c0-fc4d-4d6f-a180-bd007c7c130e",
   "metadata": {
    "nbgrader": {
     "grade": false,
     "grade_id": "cell-19cc08715783dfab",
     "locked": false,
     "schema_version": 3,
     "solution": true,
     "task": false
    }
   },
   "outputs": [],
   "source": [
    "# 5 pares\n",
    "### BEGIN SOLUTION\n",
    "ejem[::2]\n",
    "### END SOLUTION"
   ]
  },
  {
   "cell_type": "code",
   "execution_count": null,
   "id": "2fe6c60e-bee5-4fd4-98d0-9e5fe518d777",
   "metadata": {
    "nbgrader": {
     "grade": false,
     "grade_id": "cell-4f20575af68209a7",
     "locked": false,
     "schema_version": 3,
     "solution": true,
     "task": false
    }
   },
   "outputs": [],
   "source": [
    "# 6 impares\n",
    "### BEGIN SOLUTION\n",
    "ejem[1::2]\n",
    "### END SOLUTION"
   ]
  },
  {
   "cell_type": "code",
   "execution_count": null,
   "id": "e3334fab-2387-44ab-9e7b-883b36fcc522",
   "metadata": {
    "nbgrader": {
     "grade": false,
     "grade_id": "cell-0f67ab6b228ce6fa",
     "locked": false,
     "schema_version": 3,
     "solution": true,
     "task": false
    }
   },
   "outputs": [],
   "source": [
    "# 7 pares de 2 a 7\n",
    "### BEGIN SOLUTION\n",
    "ejem[2:8:2]\n",
    "### END SOLUTION"
   ]
  },
  {
   "cell_type": "code",
   "execution_count": null,
   "id": "801ba9e1-8ab2-4173-93aa-5af91ac34951",
   "metadata": {
    "nbgrader": {
     "grade": false,
     "grade_id": "cell-4a4a43e810fe0d96",
     "locked": false,
     "schema_version": 3,
     "solution": true,
     "task": false
    }
   },
   "outputs": [],
   "source": [
    "# 7 impares de 2 a 7\n",
    "### BEGIN SOLUTION\n",
    "ejem[3:8:2]\n",
    "### END SOLUTION"
   ]
  },
  {
   "cell_type": "code",
   "execution_count": null,
   "id": "fbfacd0a-5bbd-4a56-9f7a-07fe12198311",
   "metadata": {
    "nbgrader": {
     "grade": false,
     "grade_id": "cell-5a3b5eb70a62cd36",
     "locked": false,
     "schema_version": 3,
     "solution": true,
     "task": false
    }
   },
   "outputs": [],
   "source": [
    "# 8 pares, toda la cadena, en reversa\n",
    "### BEGIN SOLUTION\n",
    "ejem[::2][::-1]\n",
    "### END SOLUTION"
   ]
  },
  {
   "cell_type": "markdown",
   "id": "a4578474-413d-4ac2-bbff-6120fd2fb962",
   "metadata": {},
   "source": [
    "## Funciones, operadores y métodos.\n",
    "\n",
    "A las cadenas les podemos aplicar funciones y métodos, así como utilizar operadores para transformarlas. Veamos algunos ejemplos"
   ]
  },
  {
   "cell_type": "markdown",
   "id": "d31d1102-1e13-4936-92d1-790b81408fe6",
   "metadata": {},
   "source": [
    "<div class=\"alert alert-block alert-success\">\n",
    "\n",
    "### Ejemplo 3.\n",
    "\n",
    "Definir el siguiente texto y almacenarlo en la variable `cadena`:\n",
    "\n",
    "```\n",
    "Desde muy niño\n",
    "tuve que \"interrumpir\" 'mi' educación\n",
    "para ir a la escuela\n",
    "```\n",
    "\n",
    "1. Con triples comillas.\n",
    "2. Con dobles comillas.\n",
    "3. Extraer la primera línea del texto, sin el cambio de línea y asignarla a la variable `linea1`.\n",
    "4. Contar el número total de letras `r` en el texto.\n",
    "5. Imprimir `linea1` centrada en 50 espacios, rellenando los espacios con el caracter `*`.\n",
    "6. Extraer la palabra `interrumpir` del texto.\n",
    "7. Extraer la palabra `interrumpir` del texto y luego convertir todas las letras a mayúsculas.\n",
    "\n",
    "</div>"
   ]
  },
  {
   "cell_type": "code",
   "execution_count": null,
   "id": "de4d3c71-e14a-4880-b103-3cd9b592e2d6",
   "metadata": {},
   "outputs": [],
   "source": [
    "# 1. Triples comillas\n",
    "cadena = \"\"\"Desde muy niño\n",
    "tuve que \"interrumpir\" 'mi' educación\n",
    "para ir a la escuela\"\"\"\n",
    "\n",
    "print(cadena)"
   ]
  },
  {
   "cell_type": "code",
   "execution_count": null,
   "id": "583bd4fb-39a7-427c-9e28-01e0875e4d91",
   "metadata": {},
   "outputs": [],
   "source": [
    "# 2. Dobles comillas\n"
   ]
  },
  {
   "cell_type": "markdown",
   "id": "8805718e-074a-4827-959d-c45eb6118ea2",
   "metadata": {},
   "source": [
    "|   |   |   |\n",
    "|--:|:-:|:-|\n",
    "|`cadena` |`=`| `Desde muy niño\\n` |\n",
    "| | | `tuve que \"interrumpir\" 'mi' educación\\n` |\n",
    "| | | `para ir a la escuela` |\n"
   ]
  },
  {
   "cell_type": "code",
   "execution_count": null,
   "id": "889a3cc6-27ed-45f8-983f-75379b53d0e1",
   "metadata": {},
   "outputs": [],
   "source": [
    "# 3\n",
    "# Encontrar el índice del primer cambio de línea.\n",
    "cadena.find('\\n')"
   ]
  },
  {
   "cell_type": "code",
   "execution_count": null,
   "id": "cea72ac6-9b9d-4b14-b9cf-33556cc54800",
   "metadata": {},
   "outputs": [],
   "source": [
    "# str[Start:End:Stride]\n",
    "\n",
    "# Obtener la primera línea usando slicing.\n",
    "linea1 = cadena[0:14]\n",
    "\n",
    "# Imprimir la línea\n",
    "print(linea1)"
   ]
  },
  {
   "cell_type": "code",
   "execution_count": null,
   "id": "a4b19cfc-221a-48d8-92bf-d4a181930ed0",
   "metadata": {},
   "outputs": [],
   "source": [
    "# 4 contar las letras 'r'\n",
    "cadena.count('r')"
   ]
  },
  {
   "cell_type": "code",
   "execution_count": null,
   "id": "d46007be-e2ea-456d-9f02-e6ab18a133db",
   "metadata": {},
   "outputs": [],
   "source": [
    "# 5 linea1, centrada, fill with *\n",
    "linea1.center(50, '*')"
   ]
  },
  {
   "cell_type": "code",
   "execution_count": null,
   "id": "0cd755e9-3216-4c55-848d-fb9f8a23ed7b",
   "metadata": {},
   "outputs": [],
   "source": [
    "# 6 extraer 'interrumpir'\n",
    "\n",
    "# Calcular la longitud de la palabra \"interrumpir\"\n",
    "print(len(\"interrumpir\"))"
   ]
  },
  {
   "cell_type": "code",
   "execution_count": null,
   "id": "b53285df-0ec9-4827-a6d5-7afe7f436081",
   "metadata": {},
   "outputs": [],
   "source": [
    "# Encontrar el índice de las primeras comillas dobles\n",
    "cadena.find('\"')"
   ]
  },
  {
   "cell_type": "code",
   "execution_count": null,
   "id": "e4827852-8206-42dc-8b11-22934946e27b",
   "metadata": {},
   "outputs": [],
   "source": [
    "# Extraer la palabra usando slicing con los índices calculados\n",
    "cadena[25:25+11]"
   ]
  },
  {
   "cell_type": "code",
   "execution_count": null,
   "id": "8db84ba9-b8b3-4c09-867a-1ef4036ce260",
   "metadata": {
    "nbgrader": {
     "grade": false,
     "grade_id": "cell-540c93db1c051a47",
     "locked": false,
     "schema_version": 3,
     "solution": true,
     "task": false
    }
   },
   "outputs": [],
   "source": [
    "# 7 extraer 'interrumpir' y transformar a mayúsculas\n",
    "# Realizar todo en una sola línea\n",
    "### BEGIN SOLUTION\n",
    "cadena[cadena.find('\"')+1:cadena.find('\"')+12].upper()\n",
    "### END SOLUTION"
   ]
  },
  {
   "cell_type": "markdown",
   "id": "f8d81fd9-fa2f-4ebf-829c-c6f3d630ce0f",
   "metadata": {},
   "source": [
    "<div class=\"alert alert-block alert-success\">\n",
    "\n",
    "## Ejemplo 4.\n",
    "\n",
    "Usando la variable `cadena` definida en el ejemplo 3, realizar lo siguiente:\n",
    "\n",
    "1. Determinar la longitud total de `cadena`.\n",
    "2. Calcular el máximo y mínimo de `cadena`.\n",
    "3. Verificar si las palabras `ir`, `qué`, `cuando` y `la` están en `cadena`.\n",
    "\n",
    "</div>"
   ]
  },
  {
   "cell_type": "code",
   "execution_count": null,
   "id": "1b110d75-a2c1-4df3-b2d2-91b4dcc5829f",
   "metadata": {},
   "outputs": [],
   "source": [
    "# 1 longitud de 'cadena'\n"
   ]
  },
  {
   "cell_type": "code",
   "execution_count": null,
   "id": "39b0e6c2-d947-4156-a5d5-c5c2768fbcbe",
   "metadata": {},
   "outputs": [],
   "source": [
    "# 2 max y min de 'cadena'\n"
   ]
  },
  {
   "cell_type": "code",
   "execution_count": null,
   "id": "8d4b6737-75d3-45e9-9096-06afb0dd25ee",
   "metadata": {},
   "outputs": [],
   "source": [
    "# 3 Buscar 'ir', 'qué', 'cuando', 'la', usando el operador 'in'\n"
   ]
  },
  {
   "cell_type": "markdown",
   "id": "b68f1290-bbde-4470-91aa-ce3852dbe0f8",
   "metadata": {},
   "source": [
    "<div class=\"alert alert-block alert-success\">\n",
    "\n",
    "## Ejemplo 5.\n",
    "\n",
    "Imprimir el texto de `cadena`, definida en el ejemplo 4, como sigue (el número total de caracteres por cada línea es de 50):\n",
    "```\n",
    "▾▾▾▾▾▾▾▾▾▾▾▾▾▾▾▾▾▾▾▾▾▾▾▾▾▾▾▾▾▾▾▾▾▾▾▾▾▾▾▾▾▾▾▾▾▾▾▾▾▾\n",
    "..................Desde muy niño..................\n",
    "......tuve que \"interrumpir\" 'mi' educación.......\n",
    "...............para ir a la escuela...............\n",
    "▴▴▴▴▴▴▴▴▴▴▴▴▴▴▴▴▴▴▴▴▴▴▴▴▴▴▴▴▴▴▴▴▴▴▴▴▴▴▴▴▴▴▴▴▴▴▴▴▴▴\n",
    "```\n",
    "\n",
    "**Hint**. Checa los caracteres Unicode aquí: https://www.compart.com/en/unicode/html\n",
    "\n",
    "</div>"
   ]
  },
  {
   "cell_type": "code",
   "execution_count": null,
   "id": "f6c1b1f6-fc1c-48f5-a7c5-bacadc145a71",
   "metadata": {},
   "outputs": [],
   "source": [
    "# Paso a paso\n",
    "\n",
    "# Índice del primer cambio de línea\n",
    "fin_1 = cadena.find('\\n')\n",
    "\n",
    "# Índice del final de la segunda línea\n",
    "fin_2 = cadena.find('ó')+2\n",
    "\n",
    "# Imprimir los índices\n",
    "print(fin_1, fin_2)"
   ]
  },
  {
   "cell_type": "code",
   "execution_count": null,
   "id": "8d6589be-c58e-4e68-8c60-f3bebd96900f",
   "metadata": {},
   "outputs": [],
   "source": [
    "# Obtener las líneas usando slicing y los índices\n",
    "linea1 = cadena[0:fin_1]\n",
    "linea2 = cadena[fin_1+1:fin_2]\n",
    "linea3 = cadena[fin_2+1:]\n",
    "\n",
    "print(linea1)\n",
    "print(linea2)\n",
    "print(linea3)"
   ]
  },
  {
   "cell_type": "code",
   "execution_count": null,
   "id": "b0589720-3093-4cd6-8508-f5f6bc07a096",
   "metadata": {},
   "outputs": [],
   "source": [
    "# Checar los códigos Unicode de los caracteres\n",
    "print(chr(0x25BE), chr(0x25B4))"
   ]
  },
  {
   "cell_type": "code",
   "execution_count": null,
   "id": "f6c576ef-927c-4e7f-b809-8696d2561d17",
   "metadata": {},
   "outputs": [],
   "source": [
    "print(50 * chr(0x25BE))"
   ]
  },
  {
   "cell_type": "code",
   "execution_count": null,
   "id": "e50995f4-c4e8-4e39-a442-1b2b20b3827a",
   "metadata": {},
   "outputs": [],
   "source": [
    "# Primera línea\n",
    "print(50 * chr(0x25BE))\n",
    "\n",
    "# Imprimir las tres líneas centradas rellanando espacios con .\n",
    "print(linea1.center(50,'.'))\n",
    "print(linea2.center(50,'.'))\n",
    "print(linea3.center(50,'.'))\n",
    "\n",
    "# Segunda línea\n",
    "print(50 * chr(0x25B4))"
   ]
  },
  {
   "cell_type": "markdown",
   "id": "27499065-520f-418a-b965-5b8b1e006eb0",
   "metadata": {},
   "source": [
    "## Formato de salida."
   ]
  },
  {
   "cell_type": "markdown",
   "id": "9f2e434a-7526-4d34-b0de-7edbbf519491",
   "metadata": {},
   "source": [
    "<div class=\"alert alert-block alert-success\">\n",
    "\n",
    "## Ejemplo 6.\n",
    "\n",
    "Generar la siguiente salida:\n",
    "\n",
    "```\n",
    "――――――――――――――――――――――――――――――――――――――――――――――――――\n",
    "                 Datos personales                 \n",
    "――――――――――――――――――――――――――――――――――――――――――――――――――\n",
    "         Nombre: Armand Gustav Duplantis\n",
    "           Edad: 24\n",
    "         Casado: 0\n",
    "           Peso: 61.00\n",
    "       Estatura:  1.81\n",
    "  IMC (métrico): 18.62\n",
    "   IMC (inglés): 18.62\n",
    "――――――――――――――――――――――――――――――――――――――――――――――――――\n",
    "```\n",
    "\n",
    "1. Usando *f-string*.\n",
    "2. Usando el método `str.format()`\n",
    "\n",
    "**Nota**. El número total de caracteres es de 50.\n",
    "\n",
    "</div>"
   ]
  },
  {
   "cell_type": "code",
   "execution_count": null,
   "id": "35c58a52-a6e6-4fe9-8ff1-c638c880704c",
   "metadata": {},
   "outputs": [],
   "source": [
    "# Paso a paso\n",
    "# Definir las variables\n",
    "nombre = \"Armand Gustav Duplantis\"\n",
    "casado = False\n",
    "edad = 24\n",
    "peso = 61\n",
    "estatura = 1.81\n",
    "\n",
    "# Calcular IMC con el sistema métrico\n",
    "# Convertir a libras y pulgadas\n",
    "# Calcular el IMC con el sistema inglés\n",
    "### BEGIN SOLUTION\n",
    "IMC_metrico = peso / estatura**2\n",
    "\n",
    "peso_lb = peso * 2.20462\n",
    "estatura_in = estatura * 39.3701\n",
    "\n",
    "IMC_ingles = peso_lb / estatura_in**2 * 703\n",
    "### END SOLUTION"
   ]
  },
  {
   "cell_type": "code",
   "execution_count": null,
   "id": "811ee6e4-de3b-4d9e-a5c5-04d2fa3c8aa7",
   "metadata": {},
   "outputs": [],
   "source": [
    "# 1. f-string\n",
    "\n",
    "# Definir las cadenas necesarias\n",
    "snombre = \"Nombre\"\n",
    "sedad = \"Edad\"\n",
    "scasado = \"Casado\"\n",
    "speso = \"Peso\"\n",
    "sestatura = \"Estatura\"\n",
    "sIMC_m = \"IMC (métrico)\"\n",
    "sIMC_i = \"IMC (inglés)\""
   ]
  },
  {
   "cell_type": "code",
   "execution_count": null,
   "id": "cad740e0-d82a-485b-a352-41c7cf4e7737",
   "metadata": {},
   "outputs": [],
   "source": [
    "# Revisar el código Unicode de la línea continua\n",
    "print(chr(0x2015))"
   ]
  },
  {
   "cell_type": "code",
   "execution_count": null,
   "id": "394ed5a4-94ef-4b45-a783-eb47a3c4f4ad",
   "metadata": {},
   "outputs": [],
   "source": [
    "# Imprimir\n",
    "print(50 * chr(0x2015))\n",
    "print(\"Datos personales\".center(50))\n",
    "print(50 * chr(0x2015))\n",
    "print(f\"{snombre:>15s}: {nombre:<}\")\n",
    "print(f\"{sedad:>15s}: {edad:<}\")\n",
    "print(f\"{scasado:>15s}: {casado:<}\")\n",
    "print(f\"{speso:>15s}: {peso:>5.2f}\")\n",
    "print(f\"{sestatura:>15s}: {estatura:>5.2f}\")\n",
    "print(f\"{sIMC_m:>15s}: {IMC_metrico:>5.2f}\")\n",
    "print(f\"{sIMC_i:>15s}: {IMC_ingles:>5.2f}\")\n",
    "print(50 * chr(0x2015))"
   ]
  },
  {
   "cell_type": "code",
   "execution_count": null,
   "id": "5ec30512-d20e-4da3-a13f-4718f3539745",
   "metadata": {},
   "outputs": [],
   "source": [
    "# 2. str.format()\n",
    "print(50 * chr(0x2015))\n",
    "print(\"Datos personales\".center(50))\n",
    "print(50 * chr(0x2015))\n",
    "print(\"{:>15s}: {:<}\".format(\"Nombre\", nombre ))\n",
    "print(\"{:>15s}: {:<}\".format(\"Edad\", edad))\n",
    "print(\"{:>15s}: {:<}\".format(\"Casado\", casado))\n",
    "print(\"{:>15s}: {:>5.2f}\".format(\"Peso\", peso))\n",
    "print(\"{:>15s}: {:>5.2f}\".format(\"Estatura\", estatura))\n",
    "print(\"{:>15s}: {:>5.2f}\".format(\"IMC (métrico)\", IMC_metrico))\n",
    "print(\"{:>15s}: {:>5.2f}\".format(\"IMC (inglés)\", IMC_ingles))\n",
    "print(50 * chr(0x2015))"
   ]
  },
  {
   "cell_type": "code",
   "execution_count": null,
   "id": "c892593f-0622-42a1-9e31-296afca9f0b8",
   "metadata": {},
   "outputs": [],
   "source": [
    "# 2. str.format() segunda opción\n",
    "formato1 = \"{:>15s}: {:<}\"\n",
    "formato2 = \"{:>15s}: {:>5.2f}\"\n",
    "linea = 50 * chr(0x2015)\n",
    "\n",
    "print(linea)\n",
    "print(\"Datos personales\".center(50))\n",
    "print(linea)\n",
    "print(formato1.format(\"Nombre\", nombre))\n",
    "print(formato1.format(\"Edad\", edad))\n",
    "print(formato1.format(\"Casado\", casado))\n",
    "print(formato2.format(\"Peso\", peso))\n",
    "print(formato2.format(\"Estatura\", estatura))\n",
    "print(formato2.format(\"IMC (métrico)\", IMC_metrico))\n",
    "print(formato2.format(\"IMC (inglés)\", IMC_ingles))\n",
    "print(linea)"
   ]
  },
  {
   "cell_type": "markdown",
   "id": "bb5bec6f-41f4-48b0-8ed8-c4dd8aeeb63c",
   "metadata": {},
   "source": [
    "# Entrada estándar.\n",
    "\n",
    "En Python es posible proporcionar información a un código mediante la función incorporada `input()`. Por ejemplo:"
   ]
  },
  {
   "cell_type": "code",
   "execution_count": null,
   "id": "6acb1e8d-e77a-4289-a918-0e55026ad517",
   "metadata": {},
   "outputs": [],
   "source": [
    "input(\"Teclea un número:\")"
   ]
  },
  {
   "cell_type": "markdown",
   "id": "7c9747c5-78a7-473d-b7b4-ec7365648fb3",
   "metadata": {},
   "source": [
    "**Observaciones.**\n",
    "* La cadena entre los paréntesis proporciona información para saber lo que se debe teclear. Esta cadena se conoce como *prompt*.\n",
    "* Esta cadena se imprime cuando se ejecuta la función `input()` y luego se espera a que teclees alguna información.\n",
    "* Cuando se teclea `<enter>` la función `input()` lee la información proporcionada.\n",
    "* Input lee toda la información en formato de cadena (`str`).\n",
    "* La información que se teclea se puede almacenar en una variable."
   ]
  },
  {
   "cell_type": "code",
   "execution_count": null,
   "id": "3b0eb901-4269-4377-a0c0-fc1289c138ff",
   "metadata": {},
   "outputs": [],
   "source": [
    "numero = input(\"Teclea un número:\")\n",
    "print(\"El número que tecleaste fue:\", numero)"
   ]
  },
  {
   "cell_type": "markdown",
   "id": "b7bfdd2d-5510-4063-9a96-0992b358db89",
   "metadata": {},
   "source": [
    "<div class=\"alert alert-block alert-success\">\n",
    "\n",
    "### Ejemplo 7.\n",
    "    \n",
    "Escribe un código que solicite al usuario su nombre, su peso y su estatura. Con esa información el código deberá calcular el índice de masa corporal y generar una salida como la siguiente:\n",
    "\n",
    "```\n",
    "Escribe tu nombre: Luis Miguel\n",
    "Escribe tu edad: 25\n",
    "Escribe tu peso: 80\n",
    "Escribe tu estatura: 1.75\n",
    "\n",
    "Hola Luis Miguel (25), tu índice de masa corporal es 26.122\n",
    "```\n",
    "<br>\n",
    "\n",
    "</div>"
   ]
  },
  {
   "cell_type": "markdown",
   "id": "51c1649c-da21-4295-a591-8ef5f537c48a",
   "metadata": {},
   "source": [
    "¿Qué pasa con el siguiente código?"
   ]
  },
  {
   "cell_type": "code",
   "execution_count": null,
   "id": "831403cf-8169-4dc8-b4f1-0c47e57f5e4e",
   "metadata": {},
   "outputs": [],
   "source": [
    "nombre = input('Escribe tu nombre:')\n",
    "edad = input('Escribe tu edad:')\n",
    "peso = input('Escribe tu peso:')\n",
    "estatura = input('Escribe tu estatura:')\n",
    "imc = peso / estatura**2\n",
    "print(f\"\\nHola {nombre} ({edad}), tu índice de masa corporal es {imc:6.3f}\")"
   ]
  },
  {
   "cell_type": "markdown",
   "id": "355f8d8b-ea5c-4659-86b1-51d1d18df192",
   "metadata": {},
   "source": [
    "# Gestión de archivos.\n",
    "\n",
    "La función incorporada para gestionar archivos es `open()`. Esta función toma dos parámetros: el nombre del archivo y el modo. Existen cuatro diferentes modos:\n",
    "\n",
    "- `\"r\"` - Read - Default value. Abre el archivo para lectura. Se produce un error si el archvio no existe.\n",
    "- `\"a\"` - Append - Abre el archivo para agregar información. Si el archivo no existe, lo crea.\n",
    "- `\"w\"` - Write - Abre el archivo para escritura. Si el archivo no existe, lo crea. Si el archivo existe, lo sobreescribe.\n",
    "- `\"x\"` - Create - Crea el archivo, regresa un error si el archivo existe.\n",
    "\n",
    "Adicionalmente se puede especificar si el archivo se abre en modo texto o binario:\n",
    "\n",
    "- `\"t\"` - Text - Valor por omisión. \n",
    "- `\"b\"` - Binary\n",
    "\n"
   ]
  },
  {
   "cell_type": "markdown",
   "id": "90709bd5-a1cc-493e-a41f-840a11082fb8",
   "metadata": {},
   "source": [
    "<div class=\"alert alert-block alert-success\">\n",
    "\n",
    "### Ejemplo 8.\n",
    "    \n",
    "Escribe un código que abra el archivo `personal_data.csv` y lee los datos de los primeros 5 renglones, saltándose el encabezado, que calcule el IMC con esos datos y compara con lo que se tiene en el archivo.\n",
    "\n",
    "Los datos en el archivo son los siguientes:\n",
    "\n",
    "\n",
    "* Pa=Paciente\n",
    "* S=Sexo\n",
    "* E=Edad\n",
    "* Pe=Peso\n",
    "* A=Altura\n",
    "* IMC=Índice de masa corporal\n",
    "* Di=Diabetes\n",
    "* H=Hipertensión\n",
    "* De=Depresión\n",
    "* TS=Trastorno del sueño\n",
    "* TA=Trastorno de la alimentación\n",
    "\n",
    "</div>"
   ]
  },
  {
   "cell_type": "code",
   "execution_count": null,
   "id": "2e725a8f-6070-41fe-8e2f-517ae3f851b2",
   "metadata": {},
   "outputs": [],
   "source": [
    "# Abrir el archivo\n",
    "f = open(\"personal_data.csv\", \"r\")\n",
    "\n",
    "# Leer las primeras líneas del archivo\n",
    "encabezado = f.readline()\n",
    "renglon1 = f.readline()\n",
    "renglon2 = f.readline()\n",
    "renglon3 = f.readline()\n",
    "renglon4 = f.readline()\n",
    "renglon5 = f.readline()\n",
    "\n",
    "print(encabezado, renglon1, renglon2, renglon3, renglon4, renglon5)\n",
    "\n",
    "# Cerrar el archivo\n",
    "f.close()"
   ]
  },
  {
   "cell_type": "code",
   "execution_count": null,
   "id": "38542b2c-180f-453a-a5a3-3445b635be70",
   "metadata": {},
   "outputs": [],
   "source": [
    "# Separamos las líneas por las comas\n",
    "encabezado = encabezado.split(sep=',')\n",
    "renglon1 = renglon1.split(sep=',')\n",
    "renglon2 = renglon2.split(sep=',')\n",
    "renglon3 = renglon3.split(sep=',')\n",
    "renglon4 = renglon4.split(sep=',')\n",
    "renglon5 = renglon5.split(sep=',')\n",
    "\n",
    "print(encabezado, renglon1, renglon2, renglon3, renglon4, renglon5, sep='\\n')"
   ]
  },
  {
   "cell_type": "code",
   "execution_count": null,
   "id": "0572f0d0-868e-459d-91a0-3fb2d403422f",
   "metadata": {},
   "outputs": [],
   "source": [
    "# Obtenemos los datos del peso, estatura e imc\n",
    "peso = renglon1[3]\n",
    "estatura = renglon1[4]\n",
    "imc_db = renglon1[5]\n",
    "\n",
    "print(peso, estatura, imc_db)\n",
    "print(type(peso), type(estatura), type(imc_db))"
   ]
  },
  {
   "cell_type": "code",
   "execution_count": null,
   "id": "d0fd02d0-b8de-499a-abc1-e10b6fc7909c",
   "metadata": {
    "nbgrader": {
     "grade": false,
     "grade_id": "cell-608e637b9a1e46ef",
     "locked": false,
     "schema_version": 3,
     "solution": true,
     "task": false
    }
   },
   "outputs": [],
   "source": [
    "# Calculamos el IMC\n",
    "\n",
    "### BEGIN SOLUTION\n",
    "IMC = float(peso) / float(estatura)**2\n",
    "### END SOLUTION\n",
    "\n",
    "print(IMC)"
   ]
  },
  {
   "cell_type": "code",
   "execution_count": null,
   "id": "6582735d-1b70-4742-9e92-a53a9da5f2ad",
   "metadata": {},
   "outputs": [],
   "source": [
    "print(f\"IMC DB = {imc_db} \\t IMC = {IMC:5.2f}\")"
   ]
  },
  {
   "cell_type": "code",
   "execution_count": null,
   "id": "ff7e0eb7-c28e-4d32-bd9d-dfd88a0a0b0b",
   "metadata": {},
   "outputs": [],
   "source": [
    "print(f\"¿Son iguales? {float(imc_db) == IMC}\")"
   ]
  },
  {
   "cell_type": "code",
   "execution_count": null,
   "id": "de4d4823-573c-4eea-8c1a-5ece62bc8670",
   "metadata": {},
   "outputs": [],
   "source": [
    "# Una forma de comparar números flotantes\n",
    "from math import isclose\n",
    "\n",
    "print(f\"¿Son iguales? {isclose(float(imc_db), IMC, rel_tol=1e-4)}\")"
   ]
  },
  {
   "cell_type": "code",
   "execution_count": null,
   "id": "74ccc363-6fad-4767-a601-dcdd8c6f99e7",
   "metadata": {},
   "outputs": [],
   "source": []
  }
 ],
 "metadata": {
  "kernelspec": {
   "display_name": "Python 3 (ipykernel)",
   "language": "python",
   "name": "python3"
  },
  "language_info": {
   "codemirror_mode": {
    "name": "ipython",
    "version": 3
   },
   "file_extension": ".py",
   "mimetype": "text/x-python",
   "name": "python",
   "nbconvert_exporter": "python",
   "pygments_lexer": "ipython3",
   "version": "3.11.6"
  }
 },
 "nbformat": 4,
 "nbformat_minor": 5
}
