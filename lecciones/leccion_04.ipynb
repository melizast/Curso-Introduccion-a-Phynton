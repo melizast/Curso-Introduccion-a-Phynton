{
 "cells": [
  {
   "cell_type": "markdown",
   "id": "48745616-2ccb-4aba-be81-2b0a36944770",
   "metadata": {
    "nbgrader": {
     "grade": false,
     "grade_id": "cell-6a24a9033a9a6a6f",
     "locked": true,
     "schema_version": 3,
     "solution": false,
     "task": false
    }
   },
   "source": [
    "# Introducción a Python\n",
    "\n",
    " <p xmlns:cc=\"http://creativecommons.org/ns#\" xmlns:dct=\"http://purl.org/dc/terms/\"><a property=\"dct:title\" rel=\"cc:attributionURL\" href=\"https://github.com/repomacti/introduccion_python\">Introducción a Python</a> by <a rel=\"cc:attributionURL dct:creator\" property=\"cc:attributionName\" href=\"https://gmc.geofisica.unam.mx/luiggi\">Luis Miguel de la Cruz Salas</a> is licensed under <a href=\"https://creativecommons.org/licenses/by-sa/4.0/?ref=chooser-v1\" target=\"_blank\" rel=\"license noopener noreferrer\" style=\"display:inline-block;\">CC BY-SA 4.0<img style=\"height:22px!important;margin-left:3px;vertical-align:text-bottom;\" src=\"https://mirrors.creativecommons.org/presskit/icons/cc.svg?ref=chooser-v1\" alt=\"\"><img style=\"height:22px!important;margin-left:3px;vertical-align:text-bottom;\" src=\"https://mirrors.creativecommons.org/presskit/icons/by.svg?ref=chooser-v1\" alt=\"\"><img style=\"height:22px!important;margin-left:3px;vertical-align:text-bottom;\" src=\"https://mirrors.creativecommons.org/presskit/icons/sa.svg?ref=chooser-v1\" alt=\"\"></a></p> "
   ]
  },
  {
   "cell_type": "markdown",
   "id": "6893b445-b6d1-4a40-b84a-b31cd0353c76",
   "metadata": {},
   "source": [
    "# Introducción\n",
    "\n",
    "Hay cuatro tipos de estructuras de datos, también conocidas como *colecciones*. Cuando se selecciona un tipo de colección, es importante conocer sus propiedades para incrementar la eficiencia y/o la seguridad de los datos. La siguiente tabla resume estos cuatro tipos:\n",
    "\n",
    "|Tipo|Ordenada|Inmutable|Indexable|Duplicidad|\n",
    "|-:|:-:|:-:|:-:|:-:|\n",
    "|List |SI|NO|SI|SI|\n",
    "|Tuple|SI|SI|SI|SI|\n",
    "|Sets |NO|NO|NO|NO|\n",
    "|Dict |NO|NO|SI|NO|\n",
    "\n",
    "# Listas\n",
    "\n",
    "* Consisten en una secuencia **ordenada** y **mutable** de elementos. \n",
    "    - **Ordenadas** significa que cada elemento dentro de la lista está indexado y mantiene su orden definido en su creación.\n",
    "    - **Mutable** significa que los elementos de la lista se pueden modificar, y además que se pueden agregar o eliminar elementos.\n",
    "* Las listas pueden tener elementos **duplicados**, es decir, **elementos del mismo tipo y con el mismo contenido**.\n",
    "* Las listas se definen usando corchetes `[]` y `,` para separar sus elementos."
   ]
  },
  {
   "cell_type": "code",
   "execution_count": null,
   "id": "bdc53ecd-1a0a-4dbc-89fd-ee324af8794c",
   "metadata": {},
   "outputs": [],
   "source": [
    "lista1 = [1,2,3,4,5,6,7,8,9]\n",
    "lista2 = [\"a\", \"b\", \"c\"]\n",
    "lista3 = [1, \"a\", [5,6,7], \"python\"]"
   ]
  },
  {
   "cell_type": "code",
   "execution_count": null,
   "id": "23a9f272-6b0d-4fc3-9cab-f7dcb52a643c",
   "metadata": {},
   "outputs": [],
   "source": [
    "print(lista1, lista2, lista3, sep=\"\\n\")"
   ]
  },
  {
   "cell_type": "code",
   "execution_count": null,
   "id": "c9a5ffb0-ebed-472e-8ea4-ad07ae902737",
   "metadata": {},
   "outputs": [],
   "source": [
    "print(type(lista1), type(lista2), type(lista3), sep=\"\\n\")"
   ]
  },
  {
   "cell_type": "markdown",
   "id": "5fc155d2-552f-45fa-8735-e531bb8e9021",
   "metadata": {},
   "source": [
    "Las listas se pueden indexar igual que las cadenas:"
   ]
  },
  {
   "cell_type": "code",
   "execution_count": null,
   "id": "91a83fd1-5c94-4574-ada6-71c70005a636",
   "metadata": {},
   "outputs": [],
   "source": [
    "print(lista1[0])\n",
    "print(lista1[-1])\n",
    "print(lista1[::-1])\n",
    "print(lista1[::2])\n",
    "print(lista1[3:7])"
   ]
  },
  {
   "cell_type": "code",
   "execution_count": null,
   "id": "7f10853f-a772-4565-b206-b5d06bd56d82",
   "metadata": {},
   "outputs": [],
   "source": [
    "print(type(lista1[0]), type(lista2[0]), type(lista3[0]), sep=\"\\n\")"
   ]
  },
  {
   "cell_type": "markdown",
   "id": "bcff9413-5f1a-4578-94b2-8181b6f73ef3",
   "metadata": {},
   "source": [
    "<div class=\"alert alert-block alert-success\">\n",
    "\n",
    "## Ejemplo 1. \n",
    "\n",
    "Los primeros dos renglones del archivo `personal_data.csv` tienen la siguiente información:\n",
    "```\n",
    "Pa,S,E,Pe,A,IMC,Di,H,De,TS,TA\n",
    "1,h,35,75,1.7,25.95,Si,Si,No,No,Si\n",
    "```\n",
    "\n",
    "* Leer la información de esos dos primeros renglones y almacenarla en forma de lista en las variables `encabezado` y `renglon1` de tal manera que contengan lo siguiente:\n",
    "\n",
    "```\n",
    "['Pa', 'S', 'E', 'Pe', 'A', 'IMC', 'Di', 'H', 'De', 'TS', 'TA\\n']\n",
    "['1', 'h', '35', '75', '1.7', '25.95', 'Si', 'Si', 'No', 'No', 'Si\\n']\n",
    "```\n",
    "\n",
    "**Nota**. Toma en cuenta que el último elemento de ambas listas contiene un cambio de línea.\n",
    "</div>"
   ]
  },
  {
   "cell_type": "code",
   "execution_count": null,
   "id": "4ffe4445-fa02-472c-a107-84a6480d8720",
   "metadata": {},
   "outputs": [],
   "source": [
    "f = open(\"personal_data.csv\", \"r\")\n",
    "\n",
    "encabezado = f.readline().split(',')\n",
    "renglon1 = f.readline().split(',')\n",
    "\n",
    "print(encabezado)\n",
    "print(renglon1)\n",
    "\n",
    "f.close()"
   ]
  },
  {
   "cell_type": "markdown",
   "id": "016b782a-bd75-40f0-9ea1-a7fb64676646",
   "metadata": {},
   "source": [
    "<div class=\"alert alert-block alert-success\">\n",
    "\n",
    "## Ejemplo 2. \n",
    "Crear una lista por cada una de las columnas del archivo `personal_data.csv` y almacenarlas en listas que lleven por nombre el que tiene cada columna en el encabezado.\n",
    "\n",
    "**Nota**. Debido a que se usarán los datos numéricos para realizar algunas operaciones, es conveniente que te asegures que los estás almacenando con el tipo de número correcto (y no como cadenas).\n",
    "\n",
    "</div>"
   ]
  },
  {
   "cell_type": "code",
   "execution_count": null,
   "id": "1d0b22a5-7137-46c7-b3ab-9c8fe79b0a7e",
   "metadata": {},
   "outputs": [],
   "source": [
    "f = open(\"personal_data.csv\", \"r\")\n",
    "\n",
    "encabezado = f.readline().split(',')\n",
    "\n",
    "S = []\n",
    "E = []\n",
    "\n",
    "for renglon in f:\n",
    "    datos = renglon.split(',')\n",
    "    S.append(datos[1])\n",
    "    E.append(datos[2])\n",
    "\n",
    "print(S, E, sep='\\n')\n",
    "\n",
    "f.close()"
   ]
  },
  {
   "cell_type": "markdown",
   "id": "e96c85c9-e486-40fc-a0a5-a5fad7458925",
   "metadata": {},
   "source": [
    "<div class=\"alert alert-block alert-success\">\n",
    "\n",
    "## Ejemplo 3. \n",
    "* Para las listas que contienen datos categóricos, contar el total de cada categoría.\n",
    "* Para las listas que contienen datos numéricos calcular:\n",
    "    - La media.\n",
    "    - La mediana.\n",
    "    - La varianza.\n",
    "    - La desviación estándar.\n",
    "</div>"
   ]
  },
  {
   "cell_type": "code",
   "execution_count": null,
   "id": "cebe4d36-2b65-4d0f-9480-107161f8b9e9",
   "metadata": {},
   "outputs": [],
   "source": [
    "# Una manera de contar las variables categóricas\n",
    "m = 0\n",
    "h = 0\n",
    "\n",
    "for s in S:\n",
    "    if s == 'm':\n",
    "        m += 1\n",
    "    elif s == 'h':\n",
    "        h += 1\n",
    "\n",
    "print(f\"Hombres = {h}\")\n",
    "print(f\"Mujeres = {m}\")\n",
    "\n",
    "# Una mejor manera\n",
    "print(f\"Hombres = {S.count('h')}\")\n",
    "print(f\"Mujeres = {S.count('m')}\")"
   ]
  },
  {
   "cell_type": "code",
   "execution_count": null,
   "id": "df3f84a3-ed55-4619-a860-d5888f874632",
   "metadata": {},
   "outputs": [],
   "source": [
    "# La lista E contiene números representados por cadenas. \n",
    "# Necesitamos convertirlas a un tipo numérico\n",
    "\n",
    "# 1.\n",
    "media_E = 0\n",
    "for e in E:\n",
    "    media_E += int(e)\n",
    "media_E /= len(E)\n",
    "\n",
    "print(f\"1. Media (Edad) = {media_E:8.2f}\")\n",
    "\n",
    "# 2.\n",
    "media_E = sum(E) / len(E)\n",
    "print(f\"2. Media (Edad) = {media_E:8.2f}\")\n",
    "\n",
    "# 3. No inventar el hilo negro!!!\n",
    "import statistics\n",
    "print(f\"3. Media (Edad) = {statistics.mean(E):8.2f}\")\n",
    "print(f\"Mediana (Edad) = {statistics.median(E):8.2f}\")\n",
    "print(f\"Varianza (Edad) = {statistics.variance(E):8.2f}\")\n",
    "print(f\"Desv. Est. (Edad) = {statistics.stdev(E):8.2f}\")"
   ]
  },
  {
   "cell_type": "markdown",
   "id": "377c64b8-35bf-4c2a-b4f9-0b19094679d8",
   "metadata": {},
   "source": [
    "<div class=\"alert alert-block alert-success\">\n",
    "\n",
    "## Ejemplo 4. \n",
    "Presentar la información de cada columna con datos numéricos como sigue:\n",
    "\n",
    "```\n",
    "―――――――――――――――――――――――――――――――――――――――――――――\n",
    "        Información estadística (Edad)       \n",
    "―――――――――――――――――――――――――――――――――――――――――――――\n",
    "          Media = 49.99   \n",
    "        Mediana = 48.00   \n",
    "       Varianza = 123.48  \n",
    "     Desv. Est. = 11.11   \n",
    "―――――――――――――――――――――――――――――――――――――――――――――\n",
    "```\n",
    "</div>"
   ]
  },
  {
   "cell_type": "code",
   "execution_count": null,
   "id": "5823b1de-157c-4007-b2f8-6f019bdf0a37",
   "metadata": {},
   "outputs": [],
   "source": [
    "import statistics\n",
    "\n",
    "print(45 * chr(0x2015))\n",
    "print(\"Información estadística (Edad)\".center(45))\n",
    "print(45 * chr(0x2015))\n",
    "print(\"{:>15s} = {:<8.2f}\".format(\"Media\", statistics.mean(E)))\n",
    "print(\"{:>15s} = {:<8.2f}\".format(\"Mediana\", statistics.median(E)))\n",
    "print(\"{:>15s} = {:<8.2f}\".format(\"Varianza\", statistics.variance(E)))\n",
    "print(\"{:>15s} = {:<8.2f}\".format(\"Desv. Est.\", statistics.stdev(E)))\n",
    "print(45 * chr(0x2015))"
   ]
  },
  {
   "cell_type": "markdown",
   "id": "eb6e7792-59e2-4405-b881-8037b082511f",
   "metadata": {},
   "source": [
    "<div class=\"alert alert-block alert-success\">\n",
    "\n",
    "## Ejemplo 5. Copiando listas\n",
    "Copiar el contenido de la lista `E` en otra lista de nombre `E_copia`.\n",
    "</div>"
   ]
  },
  {
   "cell_type": "code",
   "execution_count": null,
   "id": "74ce792e-0582-4031-94af-0bb06d3afa78",
   "metadata": {},
   "outputs": [],
   "source": [
    "E_copia = E\n",
    "\n",
    "print(E, E_copia, sep = \"\\n\")"
   ]
  },
  {
   "cell_type": "code",
   "execution_count": null,
   "id": "c09c25e5-c751-4d84-b36c-a575c99b1e20",
   "metadata": {},
   "outputs": [],
   "source": [
    "print(id(E), id(E_copia), sep = \"\\n\")"
   ]
  },
  {
   "cell_type": "code",
   "execution_count": null,
   "id": "5d2679d5-3ad3-451d-904a-7556d363964d",
   "metadata": {},
   "outputs": [],
   "source": [
    "E_copia = E[:]\n",
    "\n",
    "print(E, E_copia, sep = \"\\n\")\n",
    "print(id(E), id(E_copia), sep = \"\\n\")"
   ]
  },
  {
   "cell_type": "code",
   "execution_count": null,
   "id": "bf0f8026-182d-485a-960f-eb169aa27ee4",
   "metadata": {},
   "outputs": [],
   "source": [
    "E_copia2 = E.copy()\n",
    "\n",
    "print(E, E_copia2, sep = \"\\n\")\n",
    "print(id(E), id(E_copia2), sep = \"\\n\")"
   ]
  },
  {
   "cell_type": "markdown",
   "id": "68b2ee4c-9d8d-4e60-93c3-6abb9dc4cbc3",
   "metadata": {},
   "source": [
    "# Tuplas\n",
    "\n",
    "* Consisten en una secuencia **ordenada** e **inmutable** de elementos. \n",
    "    - **Ordenadas** significa que cada elemento dentro de la tupla está indexado y mantiene su orden definido en su creación.\n",
    "    - **Inmutable** significa que los elementos de la tupla **NO se pueden modificar**, tampoco que se pueden agregar o eliminar elementos.\n",
    "* Las tuplas pueden tener elementos **duplicados**, es decir, **elementos del mismo tipo y con el mismo contenido**.\n",
    "* Las tuplas se definen usando paréntesis `()` y `,` para separar sus elementos."
   ]
  },
  {
   "cell_type": "code",
   "execution_count": null,
   "id": "38eb6376-23a0-47ff-a66e-855b0d7f546d",
   "metadata": {},
   "outputs": [],
   "source": [
    "t1 = ('a', 'b', 'c', 'd')"
   ]
  },
  {
   "cell_type": "code",
   "execution_count": null,
   "id": "9633b795-6ade-448a-b05a-879d3ccbebf7",
   "metadata": {},
   "outputs": [],
   "source": [
    "print(t1, type(t1), sep='\\n')"
   ]
  },
  {
   "cell_type": "markdown",
   "id": "3e7de5db-4869-4d87-afa6-eeb57148e3f0",
   "metadata": {},
   "source": [
    "## Enumerando listas y tuplas (`enumerate()`)"
   ]
  },
  {
   "cell_type": "code",
   "execution_count": null,
   "id": "29c1acaa-2686-4d35-91ca-2a049530d362",
   "metadata": {},
   "outputs": [],
   "source": [
    "contador = 0\n",
    "for e in E:\n",
    "    print(contador, e)\n",
    "    contador += 1"
   ]
  },
  {
   "cell_type": "code",
   "execution_count": null,
   "id": "b1a1c519-c8d8-47d5-9647-5c136c283a77",
   "metadata": {},
   "outputs": [],
   "source": [
    "list(enumerate(E))"
   ]
  },
  {
   "cell_type": "code",
   "execution_count": null,
   "id": "afca1c6b-c8a7-4e0d-bbc0-eac33e0aea49",
   "metadata": {},
   "outputs": [],
   "source": [
    "for i, e in enumerate(E):\n",
    "    print(i, e)"
   ]
  },
  {
   "cell_type": "markdown",
   "id": "15fdd5c9-aac5-4fec-9129-6e95a90a3c7e",
   "metadata": {},
   "source": [
    "## Juntando listas y/o tuplas (`zip()`)"
   ]
  },
  {
   "cell_type": "code",
   "execution_count": null,
   "id": "1e72ae01-5966-46a8-bdb3-26278d412a22",
   "metadata": {},
   "outputs": [],
   "source": [
    "list(zip(S, E))"
   ]
  },
  {
   "cell_type": "code",
   "execution_count": null,
   "id": "727a0f51-feac-4ccd-93a2-3543cbe3632f",
   "metadata": {},
   "outputs": [],
   "source": [
    "for s, e in zip(S, E):\n",
    "    print(s, e)"
   ]
  },
  {
   "cell_type": "code",
   "execution_count": null,
   "id": "f468550a-d601-4f7e-a39a-2f14fb70b926",
   "metadata": {},
   "outputs": [],
   "source": [
    "for i, (s, e) in enumerate(zip(S,E)):\n",
    "    print(i, s, e)"
   ]
  },
  {
   "cell_type": "markdown",
   "id": "68b11257-37a5-4e6a-846c-9670b662c53e",
   "metadata": {},
   "source": [
    "# Conjuntos\n",
    "\n",
    "* Consisten en una secuencia **NO ordenada** y **mutable**.\n",
    "* **NO** permite miembros duplicados.\n",
    "* Los elementos de los conjuntos **NO** se pueden indexar.\n",
    "* Los conjuntos se definen usando llaves `{}` y `,` para separar sus elementos."
   ]
  },
  {
   "cell_type": "code",
   "execution_count": null,
   "id": "8ef2495c-de22-4c25-9852-e31dd4df492f",
   "metadata": {},
   "outputs": [],
   "source": [
    "c1 = {4, 1, 8, 0, 4, 20}\n",
    "c2 = {'z', 'x', 'g', 'a', 'k', 'x', 4, 3, 2, 1}"
   ]
  },
  {
   "cell_type": "code",
   "execution_count": null,
   "id": "4da76b5b-acb3-48b4-8834-6d597e842f63",
   "metadata": {},
   "outputs": [],
   "source": [
    "print(c1)\n",
    "print(c2)"
   ]
  },
  {
   "cell_type": "code",
   "execution_count": null,
   "id": "97ee5725-f7db-448a-bf85-92f4ce174814",
   "metadata": {},
   "outputs": [],
   "source": [
    "# Elementos en c1, pero no en c2\n",
    "c1 - c2"
   ]
  },
  {
   "cell_type": "code",
   "execution_count": null,
   "id": "5fd0c1a2-d3e2-4e23-91fa-f659010cd140",
   "metadata": {},
   "outputs": [],
   "source": [
    "# Elementos en c1 o en c2 o en ambos\n",
    "c1 | c2"
   ]
  },
  {
   "cell_type": "code",
   "execution_count": null,
   "id": "a757bfc0-753f-49a0-8156-8e8c3f7eb433",
   "metadata": {},
   "outputs": [],
   "source": [
    "# Elementos en c1 o en c2, pero no en ambos\n",
    "c1 ^ c2"
   ]
  },
  {
   "cell_type": "code",
   "execution_count": null,
   "id": "cc01250a-6caf-46be-a2e5-3f97dcb5ba52",
   "metadata": {},
   "outputs": [],
   "source": [
    "# Elementos en ambos conjuntos\n",
    "c1 & c2"
   ]
  },
  {
   "cell_type": "markdown",
   "id": "3ed275e6-0e87-4bd0-ae02-4b7af8942f9f",
   "metadata": {},
   "source": [
    "# Diccionarios\n",
    "\n",
    "* Consisten en una secuencia **NO ordenada** y **mutable**.\n",
    "* **NO** permite miembros duplicados.\n",
    "* Cada elemento de un diccionario contiene una clave y un valor.\n",
    "* Los elementos de los diccionarios se pueden indexar a través de las claves.\n",
    "* Los diccionarios se definen usando llaves `{}`, `:` para separar la clave del valor y `,` para separar sus elementos."
   ]
  },
  {
   "cell_type": "code",
   "execution_count": null,
   "id": "96ea7b5a-b82c-42ac-8e42-289f6d272b64",
   "metadata": {},
   "outputs": [],
   "source": [
    "diccionario = {\"Nombre\": \"Claudia\", \"Peso\": 80, \"Estatura\": 1.78}\n",
    "#diccionario = dict(Nombre = \"Claudia\", Peso = 80, Estatura = 1.78)\n",
    "\n",
    "print(diccionario)\n",
    "print(type(diccionario))"
   ]
  },
  {
   "cell_type": "code",
   "execution_count": null,
   "id": "abec58a2-90da-477d-bd3d-96c5ba56ba5a",
   "metadata": {},
   "outputs": [],
   "source": [
    "diccionario.items()"
   ]
  },
  {
   "cell_type": "code",
   "execution_count": null,
   "id": "e4d8240d-5be0-4395-9c77-6c517e2d6651",
   "metadata": {},
   "outputs": [],
   "source": [
    "diccionario.keys()"
   ]
  },
  {
   "cell_type": "code",
   "execution_count": null,
   "id": "bc8746dc-a404-407d-812c-912296c6d321",
   "metadata": {},
   "outputs": [],
   "source": [
    "diccionario.values()"
   ]
  },
  {
   "cell_type": "code",
   "execution_count": null,
   "id": "8e201941-b8dd-4e3e-bb73-df1e7c50d2d0",
   "metadata": {},
   "outputs": [],
   "source": [
    "diccionario['IMC'] = diccionario[\"Peso\"] / diccionario[\"Estatura\"]**2\n",
    "\n",
    "print(diccionario)"
   ]
  },
  {
   "cell_type": "markdown",
   "id": "0b3c3137-c848-45e2-a0c2-2bf0f926b0a2",
   "metadata": {},
   "source": [
    "<div class=\"alert alert-block alert-success\">\n",
    "\n",
    "## Ejemplo 6. \n",
    "Leer los primeros tres renglones del archivo `personal_data.csv` y con cada uno de ellos crear un diccionario de tal manera que la salida sea la siguiente:\n",
    "\n",
    "```\n",
    "{'Pa': '1', 'S': 'h', 'E': '35', 'Pe': '75', 'A': '1.7', 'IMC': '25.95', 'Di': 'Si', 'H': 'Si', 'De': 'No', 'TS': 'No', 'TA\\n': 'Si\\n'}\n",
    "{'Pa': '2', 'S': 'm', 'E': '57', 'Pe': '88', 'A': '1.59', 'IMC': '34.81', 'Di': 'No', 'H': 'Si', 'De': 'No', 'TS': 'No', 'TA\\n': 'No\\n'}\n",
    "{'Pa': '3', 'S': 'h', 'E': '40', 'Pe': '81', 'A': '1.66', 'IMC': '29.39', 'Di': 'No', 'H': 'No', 'De': 'No', 'TS': 'Si', 'TA\\n': 'No\\n'}\n",
    "```\n",
    "\n",
    "</div>"
   ]
  },
  {
   "cell_type": "code",
   "execution_count": null,
   "id": "04183add-1f8b-4bee-aaa5-5329975e0657",
   "metadata": {},
   "outputs": [],
   "source": [
    "f = open(\"personal_data.csv\", \"r\")\n",
    "\n",
    "e = f.readline().split(',')\n",
    "\n",
    "for i, r in enumerate(f):\n",
    "    if i == 3:\n",
    "        break\n",
    "    dicc = {}\n",
    "    for k, v in zip(e, r.split(',')):\n",
    "        dicc[k] = v\n",
    "    print(dicc)\n",
    "\n",
    "f.close()"
   ]
  },
  {
   "cell_type": "markdown",
   "id": "d024081d-34ee-48e3-8cb6-4e4e4637b8f2",
   "metadata": {},
   "source": [
    "# Recorriendo las secuencias.\n",
    "\n",
    "- En Python existen objetos que contienen secuencias de otros objetos.\n",
    "- Estos objetos pueden ser cadenas, listas, tuplas, diccionarios, conjuntos, archivos, entre otros.\n",
    "- Estos objetos se pueden recorrer usando ciclos `for` . <br>\n",
    "- A estos objetos se les conoce también como **iterables** (objetos iterables, secuencias iterables, contenedores iterables, conjunto iterable)."
   ]
  },
  {
   "cell_type": "code",
   "execution_count": null,
   "id": "d505491b-c3c6-448b-aca1-0aec97b28e0a",
   "metadata": {},
   "outputs": [],
   "source": [
    "mi_cadena = \"str: pythonico\"\n",
    "mi_lista = ['list: ', 'p','y','t','h','o','n','i','c','o']\n",
    "mi_tupla = ('tuple: ', 'p','y','t','h','o','n','i','c','o')\n",
    "mi_dict = {'p':1,'y':2,'t':3,'h':4,'o':5,'n':6,'i':7,'c':8,'o':9}\n",
    "mi_conj = {'p','y','t','h','o','n','i','c','o'}\n",
    "\n",
    "for c in mi_cadena:\n",
    "    print(c, end='')\n",
    "print()\n",
    "\n",
    "for e in mi_lista:\n",
    "    print(e, end='')\n",
    "print()\n",
    "\n",
    "for e in mi_tupla:\n",
    "    print(e, end='')\n",
    "print()\n",
    "\n",
    "for i in mi_dict.items():\n",
    "    print(i, end='')\n",
    "print()\n",
    "\n",
    "for key in mi_dict.keys():\n",
    "    print(key, end=' ')\n",
    "print()\n",
    "\n",
    "for v in mi_dict.values():\n",
    "    print(v, end=' ')\n",
    "print()\n",
    "\n",
    "for s in mi_conj:\n",
    "    print(s, end = ' ')\n"
   ]
  },
  {
   "cell_type": "code",
   "execution_count": null,
   "id": "c4d03442-5c2f-4315-934d-30fd05d47668",
   "metadata": {},
   "outputs": [],
   "source": [
    "# También un archivo se trata como una secuencia\n",
    "mi_archivo = open('gatos.txt','r')\n",
    "\n",
    "for i in mi_archivo:\n",
    "    print(i, end='')\n",
    "    \n",
    "mi_archivo.close()"
   ]
  },
  {
   "cell_type": "markdown",
   "id": "fbc7d984-1c59-406f-9d32-6268cfaf706c",
   "metadata": {},
   "source": [
    "<div class=\"alert alert-block alert-success\">\n",
    "\n",
    "## Ejemplo 7. \n",
    "Modifica el código del ejemplo 6 para que se obtenga una salida como la siguiente para cada paciente:\n",
    "\n",
    "```\n",
    "                      Paciente :   1  \n",
    "                          Sexo :   h  \n",
    "                          Edad :  35  \n",
    "                          Peso :  75  \n",
    "                      Estatura :  1.7 \n",
    "                           IMC : 25.95\n",
    "                      Diabetes :  Si  \n",
    "                  Hipertensión :  Si  \n",
    "                     Depresión :  No  \n",
    "           Trastorno del sueño :  No  \n",
    "  Trastorno de la alimentación :  Si\n",
    "```\n",
    "</div>\n",
    "\n"
   ]
  },
  {
   "cell_type": "code",
   "execution_count": null,
   "id": "3d84a8e4-c407-418f-a396-1ebe728441f5",
   "metadata": {
    "nbgrader": {
     "grade": false,
     "grade_id": "cell-fd7139acfc826e47",
     "locked": false,
     "schema_version": 3,
     "solution": true,
     "task": false
    }
   },
   "outputs": [],
   "source": [
    "### BEGIN SOLUTION\n",
    "f = open(\"personal_data.csv\", \"r\")\n",
    "\n",
    "e = f.readline().split(',')\n",
    "e[-1] = e[-1][:-1]\n",
    "lista_dicc = []\n",
    "\n",
    "for i, r in enumerate(f):\n",
    "    if i == 3:\n",
    "        break\n",
    "        \n",
    "    dicc = {}\n",
    "    for k, v in zip(e, r.split(',')):\n",
    "        dicc[k] = v\n",
    "        \n",
    "    lista_dicc.append(dicc)\n",
    "\n",
    "dicc_e = dict(Pa = \"Paciente\", \n",
    "              S = \"Sexo\",\n",
    "              E = \"Edad\",\n",
    "              Pe = \"Peso\",\n",
    "              A = \"Estatura\",\n",
    "              IMC = \"IMC\",\n",
    "              Di = \"Diabetes\",\n",
    "              H = \"Hipertensión\",\n",
    "              De = \"Depresión\",\n",
    "              TS = \"Trastorno del sueño\",\n",
    "              TA = \"Trastorno de la alimentación\"\n",
    "             )\n",
    "\n",
    "for ld in lista_dicc:\n",
    "    for k, v in ld.items():\n",
    "        print(\"{:>30s} : {:^5s}\".format(dicc_e[k], str(v)))\n",
    "        \n",
    "f.close()\n",
    "\n",
    "### END SOLUTION"
   ]
  },
  {
   "cell_type": "code",
   "execution_count": null,
   "id": "be265c0b-3433-48d8-b3d6-694099cc481f",
   "metadata": {},
   "outputs": [],
   "source": []
  }
 ],
 "metadata": {
  "kernelspec": {
   "display_name": "Python 3 (ipykernel)",
   "language": "python",
   "name": "python3"
  },
  "language_info": {
   "codemirror_mode": {
    "name": "ipython",
    "version": 3
   },
   "file_extension": ".py",
   "mimetype": "text/x-python",
   "name": "python",
   "nbconvert_exporter": "python",
   "pygments_lexer": "ipython3",
   "version": "3.11.6"
  }
 },
 "nbformat": 4,
 "nbformat_minor": 5
}
