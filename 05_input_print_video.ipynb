{
 "cells": [
  {
   "cell_type": "markdown",
   "metadata": {},
   "source": [
    "# Funciones `print()` e `input`."
   ]
  },
  {
   "cell_type": "markdown",
   "metadata": {},
   "source": [
    "# Salida estándar: `print()`\n",
    "Existen varias formas de presentar la salida de un programa al usuario, la más común es en la pantalla (la salida estándar).\n",
    "\n",
    "En todos los casos se desea un control adecuado sobre el formato de la salida y para ello se tienen varias maneras de controlarla.\n",
    "\n",
    "## `print()` usando cadenas con formato `f` o `F`.  \n",
    "\n",
    "Este tipo de cadenas se forman anteponiendo una `f` o `F` al principio de la misma. De esta forma, es posible poner variables entre llaves `{}` dentro de la definición de la cadena. \n",
    "\n",
    "### `str`\n",
    "\n",
    "Por ejemplo:"
   ]
  },
  {
   "cell_type": "code",
   "execution_count": 140,
   "metadata": {},
   "outputs": [
    {
     "name": "stdout",
     "output_type": "stream",
     "text": [
      "Hola mi nombre es Octavio Paz y tengo 25 años\n"
     ]
    }
   ],
   "source": [
    "nombre = 'Octavio Paz'\n",
    "edad = 25\n",
    "print(f'Hola mi nombre es {nombre} y tengo {edad} años')"
   ]
  },
  {
   "cell_type": "markdown",
   "metadata": {},
   "source": [
    "También es posible agregar un formato a la salida, por ejemplo:"
   ]
  },
  {
   "cell_type": "code",
   "execution_count": 132,
   "metadata": {},
   "outputs": [
    {
     "name": "stdout",
     "output_type": "stream",
     "text": [
      "---|Octavio Paz                   |---\n",
      "---|                   Octavio Paz|---\n",
      "---|Octavio Paz                   |---\n",
      "---|         Octavio Paz          |---\n"
     ]
    }
   ],
   "source": [
    "# Impresión del nombre en 30 espacios de texto\n",
    "print(f'---|{nombre:30s}|---')  # Alineación a la izq. por omisión\n",
    "print(f'---|{nombre:>30s}|---') # Alineación a la der.\n",
    "print(f'---|{nombre:<30s}|---') # Alineación a la izq.\n",
    "print(f'---|{nombre:^30s}|---') # Centrada"
   ]
  },
  {
   "cell_type": "markdown",
   "metadata": {},
   "source": [
    "Observa que las cadenas `---|` y `|---` delimitan en este ejemplo los 30 espacios.\n",
    "\n",
    "<div class=\"alert alert-block alert-info\">\n",
    "\n",
    "**Nota**.\n",
    "\n",
    "<font color=\"Black\">\n",
    "\n",
    "Observa que en el ejemplo anterior se usó una `s` al final del número `30`, esto es para indicar que la variable `nombre` es de tipo cadena. Para enteros en base diez se usa una `d` y para flotantes una `f`. Estas terminaciones no son necesarias aunque es conveniente agregarlas para hacer el código más claro y que no haya errores de formato.\n",
    "\n",
    "Más información la puedes consultar en: <a href=\"https://docs.python.org/3.7/library/string.html#formatspec\"> Format Specification Mini-Language </a>\n",
    "\n",
    "</font>\n",
    "</div> \n",
    "\n",
    "\n",
    "### `int`\n",
    "\n",
    "Para números enteros podemos definir el número de espacios y alinear la salida:"
   ]
  },
  {
   "cell_type": "code",
   "execution_count": 2,
   "metadata": {},
   "outputs": [
    {
     "name": "stdout",
     "output_type": "stream",
     "text": [
      "---|     5521345678|---\n",
      "---|  5521345678   |---\n",
      "---|7712932143     |---\n",
      "---|     8123535098|---\n"
     ]
    }
   ],
   "source": [
    "# Este es un formato de número entero que usa _ para separar los miles\n",
    "n1 = 5_521_345_678\n",
    "n2 = 7_712_932_143\n",
    "n3 = 8_123_535_098\n",
    "print(f'---|{n1:15d}|---')  # alineación a la der. por omisión\n",
    "print(f'---|{n1:^15d}|---') # centrado\n",
    "print(f'---|{n2:<15d}|---') # alineación a la izq.\n",
    "print(f'---|{n3:>15d}|---') # alineación a la der."
   ]
  },
  {
   "cell_type": "markdown",
   "metadata": {},
   "source": [
    "También es posible usar `,` como separador de los miles en la salida, veamos:"
   ]
  },
  {
   "cell_type": "code",
   "execution_count": 3,
   "metadata": {},
   "outputs": [
    {
     "name": "stdout",
     "output_type": "stream",
     "text": [
      "8,123,535,098\n"
     ]
    }
   ],
   "source": [
    "print(f'{n3:,d}')"
   ]
  },
  {
   "cell_type": "markdown",
   "metadata": {},
   "source": [
    "Y se puede completar con `0`'s a la izquierda:"
   ]
  },
  {
   "cell_type": "code",
   "execution_count": 14,
   "metadata": {},
   "outputs": [
    {
     "name": "stdout",
     "output_type": "stream",
     "text": [
      "000008123535098\n"
     ]
    }
   ],
   "source": [
    "print(f'{n3:015d}')"
   ]
  },
  {
   "cell_type": "markdown",
   "metadata": {},
   "source": [
    "Se puede generar la salida de un entero en base 10, hexadecimal, octal o binaria:"
   ]
  },
  {
   "cell_type": "code",
   "execution_count": 15,
   "metadata": {},
   "outputs": [
    {
     "name": "stdout",
     "output_type": "stream",
     "text": [
      "int: 16 hex: 10 oct: 20 bin: 10000\n"
     ]
    }
   ],
   "source": [
    "ejemplo = 16\n",
    "print(f'int: {ejemplo:d} hex: {ejemplo:x} oct: {ejemplo:o} bin: {ejemplo:b}')"
   ]
  },
  {
   "cell_type": "markdown",
   "metadata": {},
   "source": [
    "### `float`\n",
    "\n",
    "En el caso de números flotantes se puede definir el número de decimales en la salida:"
   ]
  },
  {
   "cell_type": "code",
   "execution_count": 16,
   "metadata": {},
   "outputs": [
    {
     "name": "stdout",
     "output_type": "stream",
     "text": [
      "El valor de PI es aproximadamente 3.14286\n"
     ]
    }
   ],
   "source": [
    "# Valor aproximado de pi\n",
    "pi = 3 + 1/7\n",
    "\n",
    "# Impresión de pi usando un formato\n",
    "print(f'El valor de PI es aproximadamente {pi:.5f}') # Salida con 5 decimales"
   ]
  },
  {
   "cell_type": "markdown",
   "metadata": {},
   "source": [
    "Y también es posible definir el número total de espacios que incluyen la parte entera, el punto decimal y el número de decimales:"
   ]
  },
  {
   "cell_type": "code",
   "execution_count": 17,
   "metadata": {},
   "outputs": [
    {
     "name": "stdout",
     "output_type": "stream",
     "text": [
      "---|   213.213|---\n"
     ]
    }
   ],
   "source": [
    "numero_flotante_grande = 213.2131255345435643\n",
    "print(f'---|{numero_flotante_grande:10.3f}|---') # 10 espacios, 3 decimales"
   ]
  },
  {
   "cell_type": "markdown",
   "metadata": {},
   "source": [
    "Al igual que las cadenas y los enteros, también se puede usar una alineación en la salida."
   ]
  },
  {
   "cell_type": "markdown",
   "metadata": {},
   "source": [
    "<div class=\"alert alert-block alert-success\">\n",
    "\n",
    "## Ejercicio 1.\n",
    "\n",
    "<font color=\"Black\">\n",
    "    \n",
    "Formatear y alinear la salida el siguiente número flotante: `numero_flotante_grande = 213.2131255345435643` de tal manera que se obtenga lo siguiente\n",
    "\n",
    "```\n",
    "---|   213.21313|---\n",
    "---| 213.21313  |---\n",
    "---|213.21313   |---\n",
    "```\n",
    "\n",
    "</font>\n",
    "</div>"
   ]
  },
  {
   "cell_type": "code",
   "execution_count": 18,
   "metadata": {},
   "outputs": [
    {
     "name": "stdout",
     "output_type": "stream",
     "text": [
      "---|   213.21313|---\n",
      "---| 213.21313  |---\n",
      "---|213.21313   |---\n"
     ]
    }
   ],
   "source": [
    "print(f'---|{numero_flotante_grande:12.5f}|---') # 10 espacios, 3 decimales, der. por omisión\n",
    "print(f'---|{numero_flotante_grande:^12.5f}|---') # 10 espacios, 3 decimales, centrado\n",
    "print(f'---|{numero_flotante_grande:<12.5f}|---') # 10 espacios, 3 decimales, izq."
   ]
  },
  {
   "cell_type": "markdown",
   "metadata": {},
   "source": [
    "## `print()` usando el método `format()`\n",
    "\n",
    "Las cadenas tienen el método `str.format()` que permite darle formato a la misma.\n",
    "\n",
    "Veamos unos ejemplos:"
   ]
  },
  {
   "cell_type": "code",
   "execution_count": 21,
   "metadata": {},
   "outputs": [
    {
     "name": "stdout",
     "output_type": "stream",
     "text": [
      "El curso se llama \"Python de cero a experto\" y tenemos 100 alumnos\n"
     ]
    }
   ],
   "source": [
    "print('El curso se llama \"{}\" y tenemos {} alumnos'.format('Python de cero a experto', 100))"
   ]
  },
  {
   "cell_type": "markdown",
   "metadata": {},
   "source": [
    "Observa que se sustituyen los argumentos de `str.format()` dentro de `{}` en el orden en que son proporcionados.\n",
    "\n",
    "También podemos formatear la salida de manera similar que con las *f-string*. Por ejemplo:"
   ]
  },
  {
   "cell_type": "code",
   "execution_count": 28,
   "metadata": {},
   "outputs": [
    {
     "name": "stdout",
     "output_type": "stream",
     "text": [
      "42572654 <class 'int'>\n",
      "43132495 <class 'int'>\n",
      "85705149 <class 'int'>\n",
      "0.496733912684756 <class 'float'>\n",
      "      42572654       votos a favor (  49.67%  )\n"
     ]
    }
   ],
   "source": [
    "# Definimos dos número enteros\n",
    "votos_a_favor = 42_572_654   \n",
    "votos_en_contra = 43_132_495 \n",
    "\n",
    "# Realizamos algunas operaciones\n",
    "total_de_votos = votos_a_favor + votos_en_contra\n",
    "porcentaje = votos_a_favor / total_de_votos\n",
    "\n",
    "# Revisamos el contenido y tipo de los números\n",
    "print(votos_a_favor, type(votos_a_favor))\n",
    "print(votos_en_contra, type(votos_en_contra))\n",
    "print(total_de_votos, type(total_de_votos))\n",
    "print(porcentaje, type(porcentaje))\n",
    "\n",
    "# Realizamos la impresión usando un formato\n",
    "print('{:^20d} votos a favor ({:^10.2%})'.format(votos_a_favor, porcentaje))"
   ]
  },
  {
   "cell_type": "markdown",
   "metadata": {},
   "source": [
    "Observa que se imprime `votos_a_favor` en 20 espacios y alineado al centro. También se imprime `porcentaje`, que es un número flotante, usando 10 espacios que incluyen el punto, dos decimales y el símbolo `%`. El uso de `%` convierte el número flotante en un porcentaje (multiplica por 100) automáticamente e imprime el símbolo.\n",
    "\n",
    "Se pueden usar números para identificar los argumentos de `str.format()`:"
   ]
  },
  {
   "cell_type": "code",
   "execution_count": 153,
   "metadata": {},
   "outputs": [
    {
     "name": "stdout",
     "output_type": "stream",
     "text": [
      "el huevo y la gallina\n",
      "la gallina y       el huevo      \n"
     ]
    }
   ],
   "source": [
    "print('{0} y {1}'.format('el huevo', 'la gallina'))\n",
    "print('{1} y {0:^20s}'.format('el huevo', 'la gallina'))"
   ]
  },
  {
   "cell_type": "markdown",
   "metadata": {},
   "source": [
    "Se le puede dar nombre a los argumentos para que sea más fácil entender la salida"
   ]
  },
  {
   "cell_type": "code",
   "execution_count": 34,
   "metadata": {},
   "outputs": [
    {
     "name": "stdout",
     "output_type": "stream",
     "text": [
      "Look mummy, there's an aeroplane up in the sky\n"
     ]
    }
   ],
   "source": [
    "print(\"Look {sujeto}, there's an {objeto} up in the sky\".format(sujeto='mummy', objeto='aeroplane'))"
   ]
  },
  {
   "cell_type": "markdown",
   "metadata": {},
   "source": [
    "Usar un nombre en los argumentos de `str.format()` permite ponerlos en cualquier orden:"
   ]
  },
  {
   "cell_type": "code",
   "execution_count": 35,
   "metadata": {},
   "outputs": [
    {
     "name": "stdout",
     "output_type": "stream",
     "text": [
      "Look mummy, there's an aeroplane up in the sky\n"
     ]
    }
   ],
   "source": [
    "print(\"Look {sujeto}, there's an {objeto} up in the sky\".format(objeto='aeroplane', sujeto='mummy', ))"
   ]
  },
  {
   "cell_type": "markdown",
   "metadata": {},
   "source": [
    "Se pueden combinar números con nombres de argumento:"
   ]
  },
  {
   "cell_type": "code",
   "execution_count": 36,
   "metadata": {},
   "outputs": [
    {
     "name": "stdout",
     "output_type": "stream",
     "text": [
      "El Bueno, el Malo, y el Feo.\n"
     ]
    }
   ],
   "source": [
    "print('El {0}, el {1}, y el {otro}.'.format('Bueno', 'Malo', otro='Feo'))"
   ]
  },
  {
   "cell_type": "markdown",
   "metadata": {},
   "source": [
    "Otro ejemplo de alineación"
   ]
  },
  {
   "cell_type": "code",
   "execution_count": 31,
   "metadata": {},
   "outputs": [
    {
     "name": "stdout",
     "output_type": "stream",
     "text": [
      " 1   1    1\n",
      " 2   4    8\n",
      " 3   9   27\n",
      " 4  16   64\n",
      " 5  25  125\n",
      " 6  36  216\n",
      " 7  49  343\n",
      " 8  64  512\n",
      " 9  81  729\n",
      "10 100 1000\n"
     ]
    }
   ],
   "source": [
    "for x in range(1, 11):\n",
    "    print('{0:2d} {1:3d} {2:4d}'.format(x, x*x, x*x*x))"
   ]
  },
  {
   "cell_type": "markdown",
   "metadata": {},
   "source": [
    "Para más información véase <a href=\"https://docs.python.org/3.7/library/string.html#formatstrings\"> Format String Syntax </a>"
   ]
  },
  {
   "cell_type": "markdown",
   "metadata": {},
   "source": [
    "<div class=\"alert alert-block alert-success\">\n",
    "\n",
    "## Ejercicio 2.\n",
    "\n",
    "<font color=\"Black\">\n",
    "\n",
    "Repetir el ejercicio 1 usando el método `str.format().`\n",
    "</font>\n",
    "</div>"
   ]
  },
  {
   "cell_type": "code",
   "execution_count": 40,
   "metadata": {},
   "outputs": [
    {
     "name": "stdout",
     "output_type": "stream",
     "text": [
      "---|   213.21313|---\n",
      "---| 213.21313  |---\n",
      "---|213.21313   |---\n"
     ]
    }
   ],
   "source": [
    "print(\"---|{:12.5f}|---\".format(numero_flotante_grande))\n",
    "print(\"---|{:^12.5f}|---\".format(numero_flotante_grande))\n",
    "print(\"---|{:<12.5f}|---\".format(numero_flotante_grande))"
   ]
  },
  {
   "cell_type": "markdown",
   "metadata": {},
   "source": [
    "## Forma antigua de formatear la salida\n",
    "\n",
    "Se puede seguir usando la forma antigua de la salida."
   ]
  },
  {
   "cell_type": "code",
   "execution_count": 43,
   "metadata": {},
   "outputs": [
    {
     "name": "stdout",
     "output_type": "stream",
     "text": [
      "El valor aproximado de pi es   3.142857.\n"
     ]
    }
   ],
   "source": [
    "print('El valor aproximado de pi es %10.6f.' % pi)"
   ]
  },
  {
   "cell_type": "markdown",
   "metadata": {},
   "source": [
    "## Opciones de la función `print()`\n",
    "\n",
    "Como casi todas las funciones integradas de Python, la función `print()` tiene algunas opciones que pueden ser utilidad para imprimir la salida.\n",
    "\n",
    "### Opción `end`\n",
    "\n",
    "Algunas veces es necesario utilizar varias llamadas a la función `print()` por ejemplo:"
   ]
  },
  {
   "cell_type": "code",
   "execution_count": 59,
   "metadata": {},
   "outputs": [
    {
     "name": "stdout",
     "output_type": "stream",
     "text": [
      "¡\n",
      "Hola\n",
      "Mundo\n",
      "Pythonico\n",
      "!\n"
     ]
    }
   ],
   "source": [
    "print(\"¡\")\n",
    "print(\"Hola\")\n",
    "print(\"Mundo\") \n",
    "print(\"Pythonico\")\n",
    "print(\"!\")"
   ]
  },
  {
   "cell_type": "markdown",
   "metadata": {},
   "source": [
    "Si quisieramos que la salida se diera en una sola línea, podemos usar la opción `end` como sigue:"
   ]
  },
  {
   "cell_type": "code",
   "execution_count": null,
   "metadata": {},
   "outputs": [],
   "source": [
    "print(\"¡\", end=\" \")\n",
    "print(\"Hola\", end=\" \")\n",
    "print(\"Mundo\", end=\" \") \n",
    "print(\"Pythonico\", end=\" \")\n",
    "print(\"!\", end=\" \")"
   ]
  },
  {
   "cell_type": "markdown",
   "metadata": {},
   "source": [
    "Observa que la opción `end = \" \"` le dice a `print()` que al terminar de imprimir agregue un espacio en blanco en lugar de un cambio de línea."
   ]
  },
  {
   "cell_type": "markdown",
   "metadata": {},
   "source": [
    "### Opción `sep`\n",
    "\n",
    "Esta opción permite separar la impresión de varios objetos usando un separador definido por el usuario. Por ejemplo:"
   ]
  },
  {
   "cell_type": "code",
   "execution_count": 70,
   "metadata": {},
   "outputs": [
    {
     "name": "stdout",
     "output_type": "stream",
     "text": [
      "¡---Hola---Mundo---Pythonico---!\n"
     ]
    }
   ],
   "source": [
    "print(\"¡\",\"Hola\", \"Mundo\", \"Pythonico\", \"!\", sep=\"---\")"
   ]
  },
  {
   "cell_type": "markdown",
   "metadata": {},
   "source": [
    "# Entrada estándar con `input()`\n",
    "\n",
    "En Python es posible que el usuario proporcione información a un código durante su ejecución, para que, con base en esta información, realice una acción.\n",
    "\n",
    "Para ello se usa la función `input()`. Por ejemplo:"
   ]
  },
  {
   "cell_type": "code",
   "execution_count": 44,
   "metadata": {},
   "outputs": [
    {
     "name": "stdin",
     "output_type": "stream",
     "text": [
      "Escribe tu nombre: luis\n"
     ]
    },
    {
     "data": {
      "text/plain": [
       "'luis'"
      ]
     },
     "execution_count": 44,
     "metadata": {},
     "output_type": "execute_result"
    }
   ],
   "source": [
    "# Cuando se ejecuta, se espera a que el usuario teclee la información y luego <enter>\n",
    "input(\"Escribe tu nombre:\") "
   ]
  },
  {
   "cell_type": "markdown",
   "metadata": {},
   "source": [
    "* La cadena entre los paréntesis (*prompt*) proporciona información para saber lo que se debe teclear.\n",
    "* Esta cadena se imprime cuando se ejecuta la función `input()` y luego se espera a que teclees alguna información.\n",
    "* Cuando se teclea `<enter>` la función `input()` lee la información proporcionada.\n",
    "* Input lee toda la información en una cadena (`str`).\n",
    "\n",
    "La información que se teclea se puede almacenar en una variable:"
   ]
  },
  {
   "cell_type": "code",
   "execution_count": 45,
   "metadata": {},
   "outputs": [
    {
     "name": "stdin",
     "output_type": "stream",
     "text": [
      "Teclea un número entero: 34\n"
     ]
    }
   ],
   "source": [
    "numero = input('Teclea un número entero:')"
   ]
  },
  {
   "cell_type": "markdown",
   "metadata": {},
   "source": [
    "Posteriormente, se puede ver el contenido y el tipo de la variable `numero`:"
   ]
  },
  {
   "cell_type": "code",
   "execution_count": 46,
   "metadata": {},
   "outputs": [
    {
     "name": "stdout",
     "output_type": "stream",
     "text": [
      "34 <class 'str'>\n"
     ]
    }
   ],
   "source": [
    "print(numero, type(numero)) "
   ]
  },
  {
   "cell_type": "markdown",
   "metadata": {},
   "source": [
    "Observa que el tipo de la variable es `str`. Entonces, si queremos usar el valor de un número para realizar un cálculo, lo debemos convertir al tipo numérico requerido. Por ejemplo:"
   ]
  },
  {
   "cell_type": "code",
   "execution_count": 48,
   "metadata": {},
   "outputs": [
    {
     "name": "stdin",
     "output_type": "stream",
     "text": [
      "Teclea un número entero: 34\n"
     ]
    }
   ],
   "source": [
    "numero = int(input('Teclea un número entero:'))"
   ]
  },
  {
   "cell_type": "code",
   "execution_count": 49,
   "metadata": {},
   "outputs": [
    {
     "name": "stdout",
     "output_type": "stream",
     "text": [
      "34 <class 'int'>\n"
     ]
    }
   ],
   "source": [
    "# Checamos el contenido y el tipo\n",
    "print(numero, type(numero)) "
   ]
  },
  {
   "cell_type": "markdown",
   "metadata": {},
   "source": [
    "Observa que ahora el tipo corresponde a un entero debido a que hicimos la conversión (*casting*) con la función `int()`.\n",
    "\n",
    "También podemos convertir a tiplo flotante:"
   ]
  },
  {
   "cell_type": "code",
   "execution_count": 50,
   "metadata": {},
   "outputs": [
    {
     "name": "stdin",
     "output_type": "stream",
     "text": [
      "Teclea un número flotante: 3.14\n"
     ]
    }
   ],
   "source": [
    "numero_f = float(input('Teclea un número flotante:'))"
   ]
  },
  {
   "cell_type": "code",
   "execution_count": 51,
   "metadata": {},
   "outputs": [
    {
     "name": "stdout",
     "output_type": "stream",
     "text": [
      "3.14 <class 'float'>\n"
     ]
    }
   ],
   "source": [
    "print(numero_f, type(numero_f)) "
   ]
  },
  {
   "cell_type": "markdown",
   "metadata": {},
   "source": [
    "<div class=\"alert alert-block alert-info\">\n",
    "\n",
    "## Ejemplo 1.\n",
    "\n",
    "<font color=\"Black\">\n",
    "\n",
    "Calcular el área de un triángulo cuyos datos de la base y la altura son proporcionados por el usuario.\n",
    "</font>\n",
    "</div>\n",
    "\n",
    "**Primer intento**."
   ]
  },
  {
   "cell_type": "code",
   "execution_count": 1,
   "metadata": {},
   "outputs": [
    {
     "name": "stdin",
     "output_type": "stream",
     "text": [
      "Escribe la base del triángulo: 3\n",
      "Escribe la altura del triángulo: 4\n"
     ]
    },
    {
     "ename": "TypeError",
     "evalue": "can't multiply sequence by non-int of type 'str'",
     "output_type": "error",
     "traceback": [
      "\u001b[0;31m---------------------------------------------------------------------------\u001b[0m",
      "\u001b[0;31mTypeError\u001b[0m                                 Traceback (most recent call last)",
      "Cell \u001b[0;32mIn[1], line 4\u001b[0m\n\u001b[1;32m      1\u001b[0m base \u001b[38;5;241m=\u001b[39m \u001b[38;5;28minput\u001b[39m(\u001b[38;5;124m'\u001b[39m\u001b[38;5;124mEscribe la base del triángulo:\u001b[39m\u001b[38;5;124m'\u001b[39m)\n\u001b[1;32m      2\u001b[0m altura \u001b[38;5;241m=\u001b[39m \u001b[38;5;28minput\u001b[39m(\u001b[38;5;124m'\u001b[39m\u001b[38;5;124mEscribe la altura del triángulo:\u001b[39m\u001b[38;5;124m'\u001b[39m)\n\u001b[0;32m----> 4\u001b[0m Area \u001b[38;5;241m=\u001b[39m \u001b[43mbase\u001b[49m\u001b[43m \u001b[49m\u001b[38;5;241;43m*\u001b[39;49m\u001b[43m \u001b[49m\u001b[43maltura\u001b[49m \u001b[38;5;241m/\u001b[39m \u001b[38;5;241m2\u001b[39m\n",
      "\u001b[0;31mTypeError\u001b[0m: can't multiply sequence by non-int of type 'str'"
     ]
    }
   ],
   "source": [
    "base = input('Escribe la base del triángulo:')\n",
    "altura = input('Escribe la altura del triángulo:')\n",
    "\n",
    "Area = base * altura / 2"
   ]
  },
  {
   "cell_type": "markdown",
   "metadata": {},
   "source": [
    "Como puedes observar, hay un error de tipo `TypeError`: dado que la función `input()` transforma lo que lee en `str`, entonces no es posible multiplicar dos cadenas. \n",
    "\n",
    "Por lo tanto debemos realizar una conversión antes de usar la información obtenida por `input()`:\n",
    "\n",
    "**Segundo intento**."
   ]
  },
  {
   "cell_type": "code",
   "execution_count": 34,
   "metadata": {},
   "outputs": [
    {
     "name": "stdin",
     "output_type": "stream",
     "text": [
      "Escribe la base del triángulo: 2.3\n"
     ]
    },
    {
     "ename": "ValueError",
     "evalue": "invalid literal for int() with base 10: '2.3'",
     "output_type": "error",
     "traceback": [
      "\u001b[0;31m---------------------------------------------------------------------------\u001b[0m",
      "\u001b[0;31mValueError\u001b[0m                                Traceback (most recent call last)",
      "Cell \u001b[0;32mIn[34], line 1\u001b[0m\n\u001b[0;32m----> 1\u001b[0m base \u001b[38;5;241m=\u001b[39m \u001b[38;5;28;43mint\u001b[39;49m\u001b[43m(\u001b[49m\u001b[38;5;28;43minput\u001b[39;49m\u001b[43m(\u001b[49m\u001b[38;5;124;43m'\u001b[39;49m\u001b[38;5;124;43mEscribe la base del triángulo:\u001b[39;49m\u001b[38;5;124;43m'\u001b[39;49m\u001b[43m)\u001b[49m\u001b[43m)\u001b[49m\n\u001b[1;32m      2\u001b[0m altura \u001b[38;5;241m=\u001b[39m \u001b[38;5;28mint\u001b[39m(\u001b[38;5;28minput\u001b[39m(\u001b[38;5;124m'\u001b[39m\u001b[38;5;124mEscribe la altura del triángulo:\u001b[39m\u001b[38;5;124m'\u001b[39m))\n\u001b[1;32m      3\u001b[0m area \u001b[38;5;241m=\u001b[39m base \u001b[38;5;241m*\u001b[39m altura \u001b[38;5;241m/\u001b[39m \u001b[38;5;241m2\u001b[39m\n",
      "\u001b[0;31mValueError\u001b[0m: invalid literal for int() with base 10: '2.3'"
     ]
    }
   ],
   "source": [
    "base = int(input('Escribe la base del triángulo:'))\n",
    "altura = int(input('Escribe la altura del triángulo:'))\n",
    "area = base * altura / 2\n",
    "\n",
    "print(f\"El área del triángulo de base {base} y altura {altura} es {area}\")"
   ]
  },
  {
   "cell_type": "markdown",
   "metadata": {},
   "source": [
    "Observa que aunque los datos de la base y la altura se transforman a tipo `int` el resultado del cálculo del área es de tipo flotante. \n",
    "\n",
    "Sin embargo, se obtiene un error de tipo `ValueError` cuando se dan datos de tipo flotante por ejemplo `base = 3.5` y `altura = 2.3`.\n",
    "\n",
    "Entonces, una implementación más robusta sería lo siguiente:\n",
    "\n",
    "**Tercer intento**."
   ]
  },
  {
   "cell_type": "code",
   "execution_count": 7,
   "metadata": {},
   "outputs": [
    {
     "name": "stdin",
     "output_type": "stream",
     "text": [
      "Escribe la base del triángulo: 1\n",
      "Escribe la altura del triángulo: 1\n"
     ]
    },
    {
     "name": "stdout",
     "output_type": "stream",
     "text": [
      "El área del triángulo de base 1.0 y altura 1.0 es 0.5\n"
     ]
    }
   ],
   "source": [
    "base = float(input('Escribe la base del triángulo:'))\n",
    "altura = float(input('Escribe la altura del triángulo:'))\n",
    "area = base * altura / 2\n",
    "\n",
    "print(f\"El área del triángulo de base {base} y altura {altura} es {area}\")"
   ]
  },
  {
   "cell_type": "markdown",
   "metadata": {},
   "source": [
    "**Cuarto intento**.\n",
    "\n",
    "En esta versión solo cambiaremos la manera en que imprimimos la salida usando la función `str.format()`:"
   ]
  },
  {
   "cell_type": "code",
   "execution_count": 54,
   "metadata": {},
   "outputs": [
    {
     "name": "stdin",
     "output_type": "stream",
     "text": [
      "Escribe la base del triángulo: 3.45\n",
      "Escribe la altura del triángulo: 4.65\n"
     ]
    },
    {
     "name": "stdout",
     "output_type": "stream",
     "text": [
      "El área del triángulo de base   3.450    y altura   4.650    es   8.021   \n"
     ]
    }
   ],
   "source": [
    "base = float(input('Escribe la base del triángulo:'))\n",
    "altura = float(input('Escribe la altura del triángulo:'))\n",
    "area = base * altura / 2\n",
    "\n",
    "print(\"El área del triángulo de base {b:^10.3f} y altura {a:^10.3f} es {area:^10.3f}\".format(b = base, a = altura, area = area))"
   ]
  },
  {
   "cell_type": "markdown",
   "metadata": {},
   "source": [
    "<div class=\"alert alert-block alert-success\">\n",
    "\n",
    "## Ejercicio 3.\n",
    "\n",
    "<font color=\"Black\">\n",
    "    \n",
    "Escribe un código que solicite al usuario su nombre, su peso y su estatura. Con esa información el código deberá generar una salida como la siguiente:\n",
    "\n",
    "```\n",
    "Escribe tu nombre: Gabo\n",
    "Escribe tu peso: 80\n",
    "Escribe tu estatura: 1.78\n",
    "Hola Gabo, tu índice de masa corporal es 25.249\n",
    "```\n",
    "\n",
    "</font>\n",
    "</div>"
   ]
  },
  {
   "cell_type": "code",
   "execution_count": 55,
   "metadata": {},
   "outputs": [
    {
     "name": "stdin",
     "output_type": "stream",
     "text": [
      "Escribe tu nombre: Gabo\n",
      "Escribe tu peso: 80\n",
      "Escribe tu estatura: 1.78\n"
     ]
    },
    {
     "name": "stdout",
     "output_type": "stream",
     "text": [
      "Hola Gabo, tu índice de masa corporal es 25.249\n"
     ]
    }
   ],
   "source": [
    "nombre = input('Escribe tu nombre:')\n",
    "peso = float(input('Escribe tu peso:'))\n",
    "estatura = float(input('Escribe tu estatura:'))\n",
    "imc = peso / estatura**2\n",
    "print(f\"Hola {nombre}, tu índice de masa corporal es {imc:6.3f}\")"
   ]
  },
  {
   "cell_type": "markdown",
   "metadata": {},
   "source": [
    "<div class=\"alert alert-block alert-success\">\n",
    "\n",
    "## Ejercicio 4.\n",
    "\n",
    "<font color=\"Black\">\n",
    "\n",
    "La siguiente fórmula cálcula la temperatura de sensación térmica en grados Celsius (también conocido como *wind chill index*):\n",
    "$$\n",
    "WCI = 13.12 + 0.6215 \\times T_a - 11.37 \\times V^{0.16} + 0.3965 \\times T_a \\times V^{0.16}\n",
    "$$\n",
    "donde $T_a$ es la temperatura del aire en grados Celsius y $V$ la velocidad del viento en kilómetros por hora. \n",
    "\n",
    "Implementa un código que solicite al usuario el nombre de la ciudad, la temperatura del aire $T_a$ y la velocidad $V$, y con esos datos que calcule el $WCI$. El código deberá generar una salida como la siguiente:\n",
    "\n",
    "```\n",
    "Escribe el nombre de la ciudad: Fairbanks\n",
    "Escribe la temperatura del aire: 7\n",
    "Escribe la velocidad del aire: 8\n",
    "En la ciudad de Fairbanks se tiene un WCI = 7.0,  para Ta = 8.0 [C] y V =  5.48 [km/h]\n",
    "```\n",
    "Realiza los ejercicios para las siguientes ciudades:\n",
    "1. Fairbanks, AK, Estados Unidos: $T_a = 7 \\; ^o$C y $V = 8$ **km/h**. \n",
    "2. Yukon Crossing, Yukón, Canadá: $T_a = 10 \\; ^o$C y $V = 4$ **km/h**.\n",
    "\n",
    "</font>\n",
    "</div>"
   ]
  },
  {
   "cell_type": "code",
   "execution_count": 126,
   "metadata": {},
   "outputs": [
    {
     "name": "stdin",
     "output_type": "stream",
     "text": [
      "Escribe el nombre de la ciudad: rt\n",
      "Escribe la temperatura del aire: 7\n",
      "Escribe la velocidad del aire: 8\n"
     ]
    },
    {
     "name": "stdout",
     "output_type": "stream",
     "text": [
      "En la ciudad de rt se tiene un WCI = 7.0,  para Ta = 8.0 [C] y V =  5.48 [km/h]\n"
     ]
    }
   ],
   "source": [
    "ciudad = input(\"Escribe el nombre de la ciudad:\")\n",
    "Ta = float(input(\"Escribe la temperatura del aire:\"))\n",
    "V = float(input(\"Escribe la velocidad del aire:\"))\n",
    "WCI = 13.12 + 0.6215 * Ta - 11.37 * V**(0.16) + 0.3965 * Ta * V**(0.16)\n",
    "print(\"En la ciudad de {} se tiene un WCI = {},  para Ta = {} [C] y V = {:5.3f} [km/h]\".format(ciudad, Ta, V, WCI))"
   ]
  },
  {
   "cell_type": "code",
   "execution_count": 119,
   "metadata": {},
   "outputs": [
    {
     "name": "stdout",
     "output_type": "stream",
     "text": [
      "Sphynx: 0; Siamés: 5; Siberiano: 4\n"
     ]
    }
   ],
   "source": [
    "gatos = {'Siamés': 5, 'Siberiano': 4, 'Sphynx': 0}\n",
    "\n",
    "# Podemos usar las características de los diccionarios\n",
    "# para imprimir la salida.\n",
    "print('Sphynx: {g[Sphynx]:}; Siamés: {g[Siamés]:}; Siberiano: {g[Siberiano]:}'.format(g = gatos))"
   ]
  },
  {
   "cell_type": "code",
   "execution_count": 120,
   "metadata": {},
   "outputs": [
    {
     "name": "stdout",
     "output_type": "stream",
     "text": [
      "Sphynx: 0; Siamés: 5; Siberiano: 4\n"
     ]
    }
   ],
   "source": [
    "# Una manera más entendible:\n",
    "print('Sphynx: {Sphynx:}; Siamés: {Siamés:}; Siberiano: {Siberiano:}'.format(**gatos))"
   ]
  },
  {
   "cell_type": "code",
   "execution_count": null,
   "metadata": {},
   "outputs": [],
   "source": []
  }
 ],
 "metadata": {
  "kernelspec": {
   "display_name": "Python 3 (ipykernel)",
   "language": "python",
   "name": "python3"
  },
  "language_info": {
   "codemirror_mode": {
    "name": "ipython",
    "version": 3
   },
   "file_extension": ".py",
   "mimetype": "text/x-python",
   "name": "python",
   "nbconvert_exporter": "python",
   "pygments_lexer": "ipython3",
   "version": "3.11.6"
  }
 },
 "nbformat": 4,
 "nbformat_minor": 4
}
