{
 "cells": [
  {
   "cell_type": "markdown",
   "metadata": {},
   "source": [
    "# Cadenas.\n",
    "\n",
    "**Objetivo.**\n",
    "Explicar el tipo de dato básico cadena y como se usa en diferentes contextos.\n",
    "\n",
    " <p xmlns:cc=\"http://creativecommons.org/ns#\" xmlns:dct=\"http://purl.org/dc/terms/\"><a property=\"dct:title\" rel=\"cc:attributionURL\" href=\"https://github.com/repomacti/macti/tree/main/notebooks/Algebra_Lineal_01\">MACTI-Algebra_Lineal_01</a> by <a rel=\"cc:attributionURL dct:creator\" property=\"cc:attributionName\" href=\"https://www.macti.unam.mx\">Luis M. de la Cruz</a> is licensed under <a href=\"http://creativecommons.org/licenses/by-sa/4.0/?ref=chooser-v1\" target=\"_blank\" rel=\"license noopener noreferrer\" style=\"display:inline-block;\">Attribution-ShareAlike 4.0 International<img style=\"height:22px!important;margin-left:3px;vertical-align:text-bottom;\" src=\"https://mirrors.creativecommons.org/presskit/icons/cc.svg?ref=chooser-v1\"><img style=\"height:22px!important;margin-left:3px;vertical-align:text-bottom;\" src=\"https://mirrors.creativecommons.org/presskit/icons/by.svg?ref=chooser-v1\"><img style=\"height:22px!important;margin-left:3px;vertical-align:text-bottom;\" src=\"https://mirrors.creativecommons.org/presskit/icons/sa.svg?ref=chooser-v1\"></a></p> "
   ]
  },
  {
   "cell_type": "markdown",
   "metadata": {},
   "source": [
    "## Definición de cadenas\n",
    "\n",
    "Para definir una cadena se utilizan comillas simples `'`, comillas dobles `\"` o comillas triples `\"\"\"` o `'''`. Veamos algunos ejemplos:"
   ]
  },
  {
   "cell_type": "code",
   "execution_count": 1,
   "metadata": {},
   "outputs": [
    {
     "name": "stdout",
     "output_type": "stream",
     "text": [
      "este es un ejemplo usando ' ' \n",
      "este es un ejemplo usando \" \" \n",
      "este es un ejemplo usando ''' ''' \n",
      "este es un ejemplo usando \"\"\" \"\"\" \n"
     ]
    }
   ],
   "source": [
    "simples = 'este es un ejemplo usando \\' \\' '\n",
    "print(simples)\n",
    "\n",
    "dobles = \"este es un ejemplo usando \\\" \\\" \"\n",
    "print(dobles)\n",
    "\n",
    "triples1 = '''este es un ejemplo usando \\''' \\''' '''\n",
    "print(triples1)\n",
    "\n",
    "triples2 = \"\"\"este es un ejemplo usando \\\"\"\" \\\"\"\" \"\"\"\n",
    "print(triples2)"
   ]
  },
  {
   "cell_type": "markdown",
   "metadata": {},
   "source": [
    "Observa que para poder imprimir una comilla, `'`, dentro de una cadena definida con comillas simples `' '` es necesario usar el caracter de escape `\\` antes de la comilla `'` para que se imprima correctamente. Lo mismo sucede en los otros ejemplos. \n",
    "\n",
    "Existen varios caracteres que requieren del caracter de escape para que puedan ser imprimidos. La siguiente tabla muestra algunos de ellos:\n",
    "\n",
    "|  Secuencia de escape | Significado |\n",
    "|---|---|\n",
    "| `\\<newline>` | Diagonal invertida y línea nueva ignoradas |\n",
    "| `\\\\` | Diagonal invertida (`\\`) |\n",
    "| `\\'` | Comilla simple (`'`) |\n",
    "| `\\\"` | Comilla doble (`\"`) |\n",
    "| `\\n` | Cambio de línea (ASCII Linefeed LF) | \n",
    "| `\\t` | Tabulador (ASCII Sangría horizontal TAB) |\n",
    "\t\n",
    "\t\n",
    "La documentación completa se puede encontrar en el siguiente enlace: [Escape sequences](https://docs.python.org/es/3/reference/lexical_analysis.html#escape-sequences).\n",
    "\n",
    "Veamos algunos ejemplos:\n",
    "\n",
    "<div class=\"alert alert-block alert-info\">\n",
    "    \n",
    "## Ejemplo 1. \n",
    "\n",
    "<font color=\"Black\">\n",
    "\n",
    "1. Definir e imprimir las siguientes cadenas:\n",
    "    1.  ```Enjoy the moments now, because they don't last forever```\n",
    "    2. ```Python \"pythonico\"```\n",
    "\n",
    "</font>\n",
    "</div>"
   ]
  },
  {
   "cell_type": "code",
   "execution_count": 2,
   "metadata": {},
   "outputs": [
    {
     "name": "stdout",
     "output_type": "stream",
     "text": [
      "Enjoy the moments now, because they don't last forever\n"
     ]
    }
   ],
   "source": [
    "# 1.A. Forma 1. Usamos el caracter de escape\n",
    "poema = 'Enjoy the moments now, because they don\\'t last forever'\n",
    "print(poema)"
   ]
  },
  {
   "cell_type": "code",
   "execution_count": 3,
   "metadata": {},
   "outputs": [
    {
     "name": "stdout",
     "output_type": "stream",
     "text": [
      "Enjoy the moments now, because they don't last forever\n"
     ]
    }
   ],
   "source": [
    "# 1.A. Forma 2. Definimos la cadena con \" \"\n",
    "poema = \"Enjoy the moments now, because they don't last forever\"\n",
    "print(poema)"
   ]
  },
  {
   "cell_type": "markdown",
   "metadata": {},
   "source": [
    "Observa que es posible imprimir `'` sin usar el caracter `\\` si la cadena se define con `\"` y viceversa, como se muestra a continuación:"
   ]
  },
  {
   "cell_type": "code",
   "execution_count": 4,
   "metadata": {},
   "outputs": [
    {
     "name": "stdout",
     "output_type": "stream",
     "text": [
      "Python \"pythonico\"\n"
     ]
    }
   ],
   "source": [
    "# 1.B. La cadena puede tener \" dentro de ' ... '\n",
    "titulo = 'Python \"pythonico\"'\n",
    "print(titulo)"
   ]
  },
  {
   "cell_type": "markdown",
   "metadata": {},
   "source": [
    "<div class=\"alert alert-block alert-info\">\n",
    "    \n",
    "<font color=\"Black\">\n",
    "\n",
    "2. Definir e imprimir el siguiente texto:\n",
    "```\n",
    "Desde muy niño\n",
    "tuve que \"interrumpir\" 'mi' educación\n",
    "para ir a la escuela\n",
    "```\n",
    "\n",
    "</font>\n",
    "</div>"
   ]
  },
  {
   "cell_type": "code",
   "execution_count": 5,
   "metadata": {},
   "outputs": [
    {
     "name": "stdout",
     "output_type": "stream",
     "text": [
      "Desde muy niño \n",
      "tuve que \"interrumpir\" 'mi' educación \n",
      "para ir a la escuela\n"
     ]
    }
   ],
   "source": [
    "# Forma 1. \n",
    "queja = \"Desde muy niño \\ntuve que \\\"interrumpir\\\" 'mi' educación \\npara ir a la escuela\"\n",
    "print(queja)"
   ]
  },
  {
   "cell_type": "code",
   "execution_count": 6,
   "metadata": {},
   "outputs": [
    {
     "name": "stdout",
     "output_type": "stream",
     "text": [
      "\n",
      "Desde muy niño\n",
      "tuve que \"interrumpir\" 'mi' educación\n",
      "para ir a la escuela\n",
      "\n"
     ]
    }
   ],
   "source": [
    "#  Forma 2. Una cadena larga la definimos con triples comillas (simples o dobles).\n",
    "queja = '''\n",
    "Desde muy niño\n",
    "tuve que \"interrumpir\" 'mi' educación\n",
    "para ir a la escuela\n",
    "'''\n",
    "print(queja)"
   ]
  },
  {
   "cell_type": "markdown",
   "metadata": {},
   "source": [
    "Observa que en el ejemplo anterior la cadena contiene `\"` y  `'` sin necesidad de usar el caracter de escape; de igual manera no fue necesario indicar los cambios de línea, estos se toman de manera implícita. Lo anterior fue posible por el uso de las triples comillas para definir la cadena.\n",
    "\n",
    "<div class=\"alert alert-block alert-info\">\n",
    "    \n",
    "<font color=\"Black\">\n",
    "\n",
    "3. Definir e imprimir el siguiente texto:\n",
    "```\n",
    "\n",
    "El siguiente es un ejemplo de función:\n",
    "--------------------------------------\n",
    "def funcion(N):\n",
    "        suma = 0\n",
    "        for i in range(N):\n",
    "                 suma += 1 \n",
    "```\n",
    "\n",
    "</font>\n",
    "</div>"
   ]
  },
  {
   "cell_type": "code",
   "execution_count": 66,
   "metadata": {},
   "outputs": [
    {
     "name": "stdout",
     "output_type": "stream",
     "text": [
      "\n",
      "El siguiente es un ejemplo de función:\n",
      "--------------------------------------\n",
      "def funcion(N):\n",
      "\tsuma = 0\n",
      "\tfor i in range(N):\n",
      "\t\tsuma += 1 \n",
      "\n"
     ]
    }
   ],
   "source": [
    "codigo = \"\"\"\n",
    "El siguiente es un ejemplo de función:\n",
    "--------------------------------------\n",
    "def funcion(N):\n",
    "\\tsuma = 0\n",
    "\\tfor i in range(N):\n",
    "\\t\\tsuma += 1 \n",
    "\"\"\"\n",
    "print(codigo)"
   ]
  },
  {
   "cell_type": "markdown",
   "metadata": {},
   "source": [
    "<a href=\"indexado_cadenas\"></a>\n",
    "## Indexación de las cadenas.\n",
    "\n",
    "La indexación permite acceder a diferentes elementos o rangos de elementos, de una cadena. \n",
    "\n",
    "* Todos los elementos de una cadena, que contiene `N` elementos, se numeran empezando en `0` y terminando en `N-1`, el cual representa el último elemento de la cadena.\n",
    "* También se pueden usar índices negativos donde `-1` representa el último elemento y `-N` el primer elemento.\n",
    "\n",
    "Veamos un ejemplo en la siguiente tabla:"
   ]
  },
  {
   "cell_type": "markdown",
   "metadata": {},
   "source": [
    "|   |||||||||||\n",
    "|:-:|:-:|:-:|:-:|:-:|:-:|:-:|:-:|:-:|:-:|:-:|\n",
    "|ejemplo : | M | u | r | c | i | é | l | a | g |o|\n",
    "|índice +:|`0`|`1`|`2`|`3`|`4`|`5`|`6`|`7`|`8`|`9`|\n",
    "|índice -:|`-10`|`-9`|`-8`|`-7`|`-6`|`-5`|`-4`|`-3`|`-2`|`-1`|\n",
    "\n",
    "La cadena tiene `N = 10` elementos. Sus índices positivos van de `0` a `9`; sus índices negativos van de `-1` a `-10`."
   ]
  },
  {
   "cell_type": "code",
   "execution_count": 7,
   "metadata": {},
   "outputs": [],
   "source": [
    "# Definimos la cadena\n",
    "ejemplo = 'Murciélago'"
   ]
  },
  {
   "cell_type": "code",
   "execution_count": 8,
   "metadata": {},
   "outputs": [
    {
     "name": "stdout",
     "output_type": "stream",
     "text": [
      "10\n"
     ]
    }
   ],
   "source": [
    "print(len(ejemplo)) # Vemos la longitud de la cadena"
   ]
  },
  {
   "cell_type": "code",
   "execution_count": 9,
   "metadata": {},
   "outputs": [
    {
     "name": "stdout",
     "output_type": "stream",
     "text": [
      "M\n"
     ]
    }
   ],
   "source": [
    "print(ejemplo[0]) # Primer elemento de la cadena"
   ]
  },
  {
   "cell_type": "code",
   "execution_count": 10,
   "metadata": {},
   "outputs": [
    {
     "name": "stdout",
     "output_type": "stream",
     "text": [
      "é\n"
     ]
    }
   ],
   "source": [
    "print(ejemplo[5]) # Elemento en la posición 5"
   ]
  },
  {
   "cell_type": "code",
   "execution_count": 11,
   "metadata": {},
   "outputs": [
    {
     "name": "stdout",
     "output_type": "stream",
     "text": [
      "o\n"
     ]
    }
   ],
   "source": [
    "print(ejemplo[9]) # Elemento en la posición 9 (en este caso es el último)"
   ]
  },
  {
   "cell_type": "code",
   "execution_count": 12,
   "metadata": {},
   "outputs": [
    {
     "name": "stdout",
     "output_type": "stream",
     "text": [
      "o\n"
     ]
    }
   ],
   "source": [
    "print(ejemplo[-1]) # Último elemento de la cadena"
   ]
  },
  {
   "cell_type": "code",
   "execution_count": 13,
   "metadata": {},
   "outputs": [
    {
     "name": "stdout",
     "output_type": "stream",
     "text": [
      "i\n"
     ]
    }
   ],
   "source": [
    "print(ejemplo[-6]) # Elemento en la posición -6 o equivalentemente en la posición 4"
   ]
  },
  {
   "cell_type": "code",
   "execution_count": 14,
   "metadata": {},
   "outputs": [
    {
     "name": "stdout",
     "output_type": "stream",
     "text": [
      "M\n"
     ]
    }
   ],
   "source": [
    "print(ejemplo[-10]) # Elemento en la posición -10, el primero en este caso"
   ]
  },
  {
   "cell_type": "markdown",
   "metadata": {},
   "source": [
    "## Acceso a porciones de las cadenas (*slicing*)"
   ]
  },
  {
   "cell_type": "markdown",
   "metadata": {},
   "source": [
    "Se puede obtener una subcadena a partir de la cadena original, para ello usamos lo siguiente: `str[Start:End:Stride]`\n",
    "\n",
    "**Start** :Índice del primer caracter para formar la subcadena.\n",
    "\n",
    "**End** : Índice (menos uno) que indica el caracter final de la subcadena.\n",
    "\n",
    "**Stride**: Salto entre elementos.\n",
    "\n",
    " Usando la cadena `ejemplo`:\n",
    " \n",
    "|   |||||||||||\n",
    "|:-:|:-:|:-:|:-:|:-:|:-:|:-:|:-:|:-:|:-:|:-:|\n",
    "|ejemplo : | M | u | r | c | i | é | l | a | g |o|\n",
    "|índice +:|`0`|`1`|`2`|`3`|`4`|`5`|`6`|`7`|`8`|`9`|\n",
    "|ejemplo[1:6]:| | u | r | c | i | é | | | | |\n",
    "\n",
    "Veamos los siguientes ejemplos"
   ]
  },
  {
   "cell_type": "code",
   "execution_count": 79,
   "metadata": {},
   "outputs": [
    {
     "name": "stdout",
     "output_type": "stream",
     "text": [
      "Murciélago\n"
     ]
    }
   ],
   "source": [
    "print(ejemplo[:]) # Cadena completa"
   ]
  },
  {
   "cell_type": "code",
   "execution_count": 80,
   "metadata": {},
   "outputs": [
    {
     "name": "stdout",
     "output_type": "stream",
     "text": [
      "Murci\n"
     ]
    }
   ],
   "source": [
    "print(ejemplo[0:5]) # Elementos del 0 al 4 "
   ]
  },
  {
   "cell_type": "code",
   "execution_count": 17,
   "metadata": {},
   "outputs": [
    {
     "name": "stdout",
     "output_type": "stream",
     "text": [
      "Mrilg\n"
     ]
    }
   ],
   "source": [
    "print(ejemplo[::2]) # Todos los elementos, con saltos de 2"
   ]
  },
  {
   "cell_type": "code",
   "execution_count": 18,
   "metadata": {},
   "outputs": [
    {
     "name": "stdout",
     "output_type": "stream",
     "text": [
      "ucéa\n"
     ]
    }
   ],
   "source": [
    "print(ejemplo[1:8:2]) # Los elementos de 1 a 7, con saltos de 2"
   ]
  },
  {
   "cell_type": "code",
   "execution_count": 19,
   "metadata": {},
   "outputs": [
    {
     "name": "stdout",
     "output_type": "stream",
     "text": [
      "ogaléicruM\n"
     ]
    }
   ],
   "source": [
    "print(ejemplo[::-1]) # La cadena en reversa"
   ]
  },
  {
   "cell_type": "markdown",
   "metadata": {},
   "source": [
    "## Métodos aplicables sobre las cadenas\n",
    "\n",
    "Existen métodos definidos que se pueden aplicar a las cadenas.\n",
    "Véase [Common string operations](https://docs.python.org/3/library/string.html) para más información."
   ]
  },
  {
   "cell_type": "code",
   "execution_count": 21,
   "metadata": {},
   "outputs": [
    {
     "name": "stdout",
     "output_type": "stream",
     "text": [
      "Murciélago\n",
      "-----Murciélago-----\n",
      "MURCIÉLAGO\n",
      "-1\n",
      "1\n",
      "True\n"
     ]
    }
   ],
   "source": [
    "# Imprimimos la cadena\n",
    "print(ejemplo) \n",
    "\n",
    "# Centramos la cadena y usamos '-' en los espacios restantes\n",
    "print(ejemplo.center(20,'-')) \n",
    "\n",
    "# Convertimos todos los caracteres en mayúsculas\n",
    "print(ejemplo.upper())\n",
    "\n",
    "# Nos da el índice donde aparece 'e' (solo la primera aparición)\n",
    "print(ejemplo.find('e'))\n",
    "\n",
    "# Cuenta el número de 'g's dentro de la cadena\n",
    "print(ejemplo.count('g'))\n",
    "\n",
    "# Pregunta si la cadena se puede imprimir\n",
    "print(ejemplo.isprintable())"
   ]
  },
  {
   "cell_type": "markdown",
   "metadata": {},
   "source": [
    "## Construcción de cadenas\n",
    "\n",
    "Existen varias maneras de construir cadenas, a continuación se revisan algunos ejemplos."
   ]
  },
  {
   "cell_type": "markdown",
   "metadata": {},
   "source": [
    "### Usando operaciones básicas.\n",
    "\n",
    "Los operadores: `+` y `*` están definidos para las cadenas.\n",
    "\n",
    "Veamos el siguiente ejemplo:"
   ]
  },
  {
   "cell_type": "code",
   "execution_count": 67,
   "metadata": {},
   "outputs": [
    {
     "name": "stdout",
     "output_type": "stream",
     "text": [
      "Somos aquello en lo que creemos, aún sin darnos cuenta.\n"
     ]
    }
   ],
   "source": [
    "frase1 = \"Somos aquello en lo que creemos\"\n",
    "frase2 = \"aún sin darnos cuenta\"\n",
    "\n",
    "# Concatenación de cadenas\n",
    "frase_total = frase1 + ', ' + frase2 + '.'\n",
    "\n",
    "print(frase_total)"
   ]
  },
  {
   "cell_type": "markdown",
   "metadata": {},
   "source": [
    "En el siguiente ejemplo creamos una cadena de 60 guiones `-` usando el operador `*`:"
   ]
  },
  {
   "cell_type": "code",
   "execution_count": 71,
   "metadata": {},
   "outputs": [
    {
     "name": "stdout",
     "output_type": "stream",
     "text": [
      "------------------------------------------------------------\n"
     ]
    }
   ],
   "source": [
    "print('-' * 60)"
   ]
  },
  {
   "cell_type": "markdown",
   "metadata": {},
   "source": [
    "Escribimos la `frase_total` entre dos líneas:"
   ]
  },
  {
   "cell_type": "code",
   "execution_count": 72,
   "metadata": {},
   "outputs": [
    {
     "name": "stdout",
     "output_type": "stream",
     "text": [
      "------------------------------------------------------------\n",
      "  Somos aquello en lo que creemos, aún sin darnos cuenta.   \n",
      "------------------------------------------------------------\n"
     ]
    }
   ],
   "source": [
    "print('-' * 60)\n",
    "print(frase_total.center(60))\n",
    "print('-' * 60)"
   ]
  },
  {
   "cell_type": "markdown",
   "metadata": {},
   "source": [
    "### Concatenación y casting\n",
    "\n",
    "Vamos a crear la siguiente cadena: `Pedro Páramo tiene 15 años y pesa 70.5 kg`.\n",
    "\n",
    "Usaremos el operador `+` y contruiremos la cadena usando algunas variables; convertiremos las variables a tipo `str`:"
   ]
  },
  {
   "cell_type": "code",
   "execution_count": 74,
   "metadata": {},
   "outputs": [
    {
     "name": "stdout",
     "output_type": "stream",
     "text": [
      "PedroPáramotiene15años y pesa70.5kg\n"
     ]
    }
   ],
   "source": [
    "# Definimos las siguientes variables\n",
    "edad = 15\n",
    "nombre = 'Pedro'\n",
    "apellido = 'Páramo'\n",
    "peso = 70.5\n",
    "\n",
    "# Construimos la cadena usando el operador '+' y la función 'str()' \n",
    "datos = nombre + apellido + 'tiene' + str(15) + 'años y pesa' + str(70.5) + 'kg'\n",
    "\n",
    "print(datos)"
   ]
  },
  {
   "cell_type": "markdown",
   "metadata": {},
   "source": [
    "Para agregar espacios es necesario hacerlo de manera explícita como sigue:"
   ]
  },
  {
   "cell_type": "code",
   "execution_count": 75,
   "metadata": {},
   "outputs": [
    {
     "name": "stdout",
     "output_type": "stream",
     "text": [
      "Pedro Páramo tiene 15 años y pesa 70.5 kg\n"
     ]
    }
   ],
   "source": [
    "datos = nombre + ' ' + apellido + ' tiene ' + str(15) + ' años y pesa ' + str(70.5) + ' kg'\n",
    "print(datos)"
   ]
  },
  {
   "cell_type": "markdown",
   "metadata": {},
   "source": [
    "### Método `str.format()`\n",
    "\n",
    "Este método permite sustituir variables en los lugares indicados por `{}`:"
   ]
  },
  {
   "cell_type": "code",
   "execution_count": 76,
   "metadata": {},
   "outputs": [
    {
     "name": "stdout",
     "output_type": "stream",
     "text": [
      "Pedro Páramo tiene 15 años y pesa 70.5 kg\n"
     ]
    }
   ],
   "source": [
    "datos = '{} {} tiene {} años y pesa {} kg'.format(nombre, apellido, edad, peso)\n",
    "print(datos)"
   ]
  },
  {
   "cell_type": "markdown",
   "metadata": {},
   "source": [
    "### Cadenas formateadas (*f-string*, *formatted string literals*)\n",
    "\n",
    "Este tipo de cadenas permite sustituir variables en los lugares indicados:"
   ]
  },
  {
   "cell_type": "code",
   "execution_count": 77,
   "metadata": {},
   "outputs": [
    {
     "name": "stdout",
     "output_type": "stream",
     "text": [
      "Pedro Páramo tiene 15 años y pesa 70.5 kg\n"
     ]
    }
   ],
   "source": [
    "datos = f'{nombre} {apellido} tiene {edad} años y pesa {peso} kg'\n",
    "print(datos)"
   ]
  },
  {
   "cell_type": "markdown",
   "metadata": {},
   "source": [
    "### Cadenas usando el método `str.join()`\n",
    "\n",
    "Dada una cadena que funciona como separador, este método recibe un iterador y junta todos sus elementos separados por la cadena inicial:"
   ]
  },
  {
   "cell_type": "code",
   "execution_count": 78,
   "metadata": {},
   "outputs": [
    {
     "name": "stdout",
     "output_type": "stream",
     "text": [
      "Pedro Páramo tiene 15 años y pesa 70.5 kg\n"
     ]
    }
   ],
   "source": [
    "datos = \" \".join([nombre, apellido, 'tiene', str(15), 'años y pesa', str(70.5), 'kg'])\n",
    "print(datos)"
   ]
  },
  {
   "cell_type": "markdown",
   "metadata": {},
   "source": [
    "En el ejemplo anterior la cadena inicial es un espacio `\" \"` y junta todos los elementos que se dan entre corchetes `[]`. El uso de corchetes construye una lista, que es un tipo de dato que se describirá en la siguiente notebook."
   ]
  },
  {
   "cell_type": "markdown",
   "metadata": {},
   "source": [
    "## Inmutabilidad de las cadenas\n",
    "\n",
    "Los elementos de las cadenas no se pueden modificar:"
   ]
  },
  {
   "cell_type": "code",
   "execution_count": 36,
   "metadata": {},
   "outputs": [
    {
     "ename": "TypeError",
     "evalue": "'str' object does not support item assignment",
     "output_type": "error",
     "traceback": [
      "\u001b[0;31m---------------------------------------------------------------------------\u001b[0m",
      "\u001b[0;31mTypeError\u001b[0m                                 Traceback (most recent call last)",
      "Cell \u001b[0;32mIn[36], line 2\u001b[0m\n\u001b[1;32m      1\u001b[0m \u001b[38;5;66;03m# Intentamos modificar el elemento 5 de la cadena\u001b[39;00m\n\u001b[0;32m----> 2\u001b[0m \u001b[43mejemplo\u001b[49m\u001b[43m[\u001b[49m\u001b[38;5;241;43m5\u001b[39;49m\u001b[43m]\u001b[49m \u001b[38;5;241m=\u001b[39m \u001b[38;5;124m\"\u001b[39m\u001b[38;5;124me\u001b[39m\u001b[38;5;124m\"\u001b[39m\n",
      "\u001b[0;31mTypeError\u001b[0m: 'str' object does not support item assignment"
     ]
    }
   ],
   "source": [
    "# Intentamos modificar el elemento 5 de la cadena\n",
    "ejemplo[5] = \"e\""
   ]
  },
  {
   "cell_type": "code",
   "execution_count": 43,
   "metadata": {},
   "outputs": [],
   "source": [
    "cadena='''\n",
    "este es un \n",
    "texto muy\n",
    "largo\n",
    "'''"
   ]
  },
  {
   "cell_type": "code",
   "execution_count": 44,
   "metadata": {},
   "outputs": [
    {
     "name": "stdout",
     "output_type": "stream",
     "text": [
      "\n",
      "este es un \n",
      "texto muy\n",
      "largo\n",
      "\n"
     ]
    }
   ],
   "source": [
    "print(cadena)"
   ]
  },
  {
   "cell_type": "code",
   "execution_count": 45,
   "metadata": {},
   "outputs": [
    {
     "name": "stdout",
     "output_type": "stream",
     "text": [
      "<class 'str'>\n"
     ]
    }
   ],
   "source": [
    "print(type(cadena))"
   ]
  },
  {
   "cell_type": "code",
   "execution_count": 46,
   "metadata": {},
   "outputs": [
    {
     "data": {
      "text/plain": [
       "29"
      ]
     },
     "execution_count": 46,
     "metadata": {},
     "output_type": "execute_result"
    }
   ],
   "source": [
    "len(cadena)"
   ]
  },
  {
   "cell_type": "code",
   "execution_count": 47,
   "metadata": {},
   "outputs": [
    {
     "data": {
      "text/plain": [
       "'\\n'"
      ]
     },
     "execution_count": 47,
     "metadata": {},
     "output_type": "execute_result"
    }
   ],
   "source": [
    "cadena[0] # El primer elemento es un cambio de línea"
   ]
  },
  {
   "cell_type": "code",
   "execution_count": 48,
   "metadata": {},
   "outputs": [
    {
     "data": {
      "text/plain": [
       "'\\n'"
      ]
     },
     "execution_count": 48,
     "metadata": {},
     "output_type": "execute_result"
    }
   ],
   "source": [
    "cadena[-1] # El último elemento es un cambio de línea"
   ]
  },
  {
   "cell_type": "code",
   "execution_count": 49,
   "metadata": {},
   "outputs": [
    {
     "name": "stdout",
     "output_type": "stream",
     "text": [
      "e\n"
     ]
    }
   ],
   "source": [
    "print(cadena[6])"
   ]
  },
  {
   "cell_type": "code",
   "execution_count": 50,
   "metadata": {},
   "outputs": [
    {
     "ename": "TypeError",
     "evalue": "'str' object does not support item assignment",
     "output_type": "error",
     "traceback": [
      "\u001b[0;31m---------------------------------------------------------------------------\u001b[0m",
      "\u001b[0;31mTypeError\u001b[0m                                 Traceback (most recent call last)",
      "Cell \u001b[0;32mIn[50], line 1\u001b[0m\n\u001b[0;32m----> 1\u001b[0m \u001b[43mcadena\u001b[49m\u001b[43m[\u001b[49m\u001b[38;5;241;43m6\u001b[39;49m\u001b[43m]\u001b[49m \u001b[38;5;241m=\u001b[39m \u001b[38;5;124m'\u001b[39m\u001b[38;5;124mh\u001b[39m\u001b[38;5;124m'\u001b[39m\n",
      "\u001b[0;31mTypeError\u001b[0m: 'str' object does not support item assignment"
     ]
    }
   ],
   "source": [
    "cadena[6] = 'h'"
   ]
  },
  {
   "cell_type": "markdown",
   "metadata": {},
   "source": [
    "## Ejercicios."
   ]
  },
  {
   "cell_type": "markdown",
   "metadata": {},
   "source": [
    "<div class=\"alert alert-block alert-success\">\n",
    "\n",
    "### Ejercicio 1.\n",
    "\n",
    "<font color=\"Black\">\n",
    "\n",
    "Define la siguiente cadena: `frase = \"es lindo saber que python existe\"`.\n",
    "</font>\n",
    "</div>"
   ]
  },
  {
   "cell_type": "code",
   "execution_count": 58,
   "metadata": {},
   "outputs": [
    {
     "name": "stdout",
     "output_type": "stream",
     "text": [
      "es lindo saber que python existe\n"
     ]
    }
   ],
   "source": [
    "### BEGIN SOLUTION\n",
    "frase = \"es lindo saber que python existe\"\n",
    "### END SOLUTION\n",
    "print(frase)"
   ]
  },
  {
   "cell_type": "markdown",
   "metadata": {},
   "source": [
    "<div class=\"alert alert-block alert-success\">\n",
    "\n",
    "### Ejercicio 2.\n",
    "\n",
    "<font color=\"Black\">\n",
    "\n",
    "Usando el método `str.count()` determina el número de apariciones de cada vocal en la cadena `frase`, definida en el ejemplo anterior, y almacena cada número en una variable con el nombre de la vocal, por ejemplo: `a = frase.count('a')` lo mismo para las otras vocales.\n",
    "\n",
    "</font>\n",
    "</div>"
   ]
  },
  {
   "cell_type": "code",
   "execution_count": 59,
   "metadata": {},
   "outputs": [
    {
     "name": "stdout",
     "output_type": "stream",
     "text": [
      "1 5 2 2 1\n"
     ]
    }
   ],
   "source": [
    "### BEGIN SOLUTION\n",
    "a = frase.count('a')\n",
    "e = frase.count('e')\n",
    "i = frase.count('i')\n",
    "o = frase.count('o')\n",
    "u = frase.count('u')\n",
    "### END SOLUTION\n",
    "\n",
    "print(a,e,i,o,u)"
   ]
  },
  {
   "cell_type": "markdown",
   "metadata": {},
   "source": [
    "<div class=\"alert alert-block alert-success\">\n",
    "\n",
    "### Ejercicio 3.\n",
    "\n",
    "<font color=\"Black\">\n",
    "\n",
    "Construye la cadena `vocales` con el método de cadenas formateadas (*f-string*) que contenga el nombre de cada vocal y su número de apariciones en la cadena `frase`. La cadena resultante debería tener la siguiente forma: `a = 1, e =  ...` .\n",
    "\n",
    "**Hint**. Utiliza las variables antes definidas: `volcales = f\"a = {a}, ...`\n",
    "</font>\n",
    "</div>"
   ]
  },
  {
   "cell_type": "code",
   "execution_count": 60,
   "metadata": {},
   "outputs": [
    {
     "name": "stdout",
     "output_type": "stream",
     "text": [
      "a = 1, e = 5, i = 2, o = 2, u = 1\n"
     ]
    }
   ],
   "source": [
    "### BEGIN SOLUTION\n",
    "vocales = f\"a = {a}, e = {e}, i = {i}, o = {o}, u = {u}\"\n",
    "### END SOLUTION\n",
    "\n",
    "print(vocales)"
   ]
  },
  {
   "cell_type": "markdown",
   "metadata": {},
   "source": [
    "<div class=\"alert alert-block alert-success\">\n",
    "\n",
    "### Ejercicio 4.\n",
    "\n",
    "<font color=\"Black\">\n",
    "\n",
    "Usando el método `str.split()` separa la cadena `frase` en palabras y almacena el resultado en la variable `lista`.\n",
    "</font>\n",
    "</div>"
   ]
  },
  {
   "cell_type": "markdown",
   "metadata": {},
   "source": [
    "<div class=\"alert alert-block alert-info\">\n",
    "    \n",
    "**Nota**. \n",
    "\n",
    "<font color=\"Black\">\n",
    "\n",
    "El método `str.split()` regresa como resultado una lista de cadenas, donde cada elemento de la lista es una palabra de la cadena original (separa por omisión por los espacios). Entonces el siguiente código:\n",
    "\n",
    "```pyton\n",
    "lista = frase.split()\n",
    "```\n",
    "<br>\n",
    "\n",
    "genera la lista de palabras: `[\"es\", \"lindo\", \"saber\", \"que\", \"python\", \"existe\"]`. Observa que se usan corchetes para representar una lista en Python. El concepto de listas se revisará en la siguiente notebook.\n",
    "</font>\n",
    "</div>"
   ]
  },
  {
   "cell_type": "code",
   "execution_count": 61,
   "metadata": {},
   "outputs": [
    {
     "name": "stdout",
     "output_type": "stream",
     "text": [
      "['es', 'lindo', 'saber', 'que', 'python', 'existe']\n"
     ]
    }
   ],
   "source": [
    "### BEGIN SOLUTION\n",
    "lista = frase.split()\n",
    "### END SOLUTION\n",
    "\n",
    "print(lista)"
   ]
  },
  {
   "cell_type": "markdown",
   "metadata": {},
   "source": [
    "<div class=\"alert alert-block alert-success\">\n",
    "\n",
    "### Ejercicio 5.\n",
    "\n",
    "<font color=\"Black\">\n",
    "\n",
    "Construye la cadena `nueva_frase` usando el método `str.format()` y los elementos de `lista`, de tal manera que el resultado sea el siguiente: `Es lindo saber que  PYTHON  existe`\n",
    "\n",
    "**Hint**. Utiliza los elementos de la variable `lista`; para acceder a cada uno de los elementos utiliza indexación como se hace para las cadenas: `lista[0]`, `lista[1]`, ..., `lista[5]`. Cada uno de estos elementos es una cadena a la cual le puedes aplicar los métodos definidos para cadenas.\n",
    "</font>\n",
    "</div>"
   ]
  },
  {
   "cell_type": "code",
   "execution_count": 62,
   "metadata": {},
   "outputs": [
    {
     "name": "stdout",
     "output_type": "stream",
     "text": [
      "Es lindo saber que PYTHON existe\n"
     ]
    }
   ],
   "source": [
    "### BEGIN SOLUTION\n",
    "nueva_frase = '{} {} {} {} {} {}'.format(lista[0].capitalize(), lista[1], lista[2], lista[3], lista[4].upper(), lista[5])\n",
    "### END SOLUTION\n",
    "\n",
    "print(nueva_frase)"
   ]
  },
  {
   "cell_type": "markdown",
   "metadata": {},
   "source": [
    "<div class=\"alert alert-block alert-success\">\n",
    "\n",
    "### Ejercicio 6.\n",
    "\n",
    "<font color=\"Black\">\n",
    "\n",
    "Construye la cadena `otra_frase` usando el método `str.join()` y los elementos de `lista`, de tal manera que el resultado sea el siguiente: `Es_lindo_saber_que_PYTHON_existe`\n",
    "</font>\n",
    "</div>"
   ]
  },
  {
   "cell_type": "code",
   "execution_count": 63,
   "metadata": {},
   "outputs": [
    {
     "name": "stdout",
     "output_type": "stream",
     "text": [
      "Es_lindo_saber_que_PYTHON_existe\n"
     ]
    }
   ],
   "source": [
    "### BEGIN SOLUTION\n",
    "otra_frase = \"_\".join([lista[0].capitalize(),  lista[1], lista[2], lista[3], lista[4].upper(), lista[5]])\n",
    "### END SOLUTION\n",
    "\n",
    "print(otra_frase)"
   ]
  },
  {
   "cell_type": "code",
   "execution_count": null,
   "metadata": {},
   "outputs": [],
   "source": []
  }
 ],
 "metadata": {
  "kernelspec": {
   "display_name": "Python 3 (ipykernel)",
   "language": "python",
   "name": "python3"
  },
  "language_info": {
   "codemirror_mode": {
    "name": "ipython",
    "version": 3
   },
   "file_extension": ".py",
   "mimetype": "text/x-python",
   "name": "python",
   "nbconvert_exporter": "python",
   "pygments_lexer": "ipython3",
   "version": "3.11.6"
  }
 },
 "nbformat": 4,
 "nbformat_minor": 4
}
