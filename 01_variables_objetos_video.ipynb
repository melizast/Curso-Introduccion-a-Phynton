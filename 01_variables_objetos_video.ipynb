{
 "cells": [
  {
   "cell_type": "code",
   "execution_count": 1,
   "id": "0d8aa98e-47e1-4e9d-80bb-5b399e15ce0c",
   "metadata": {},
   "outputs": [],
   "source": [
    "edad = 25\n",
    "estatura = 1.78\n",
    "peso = 80\n",
    "grado_de_estudios = \"preparatoria\"\n",
    "casado = False"
   ]
  },
  {
   "cell_type": "code",
   "execution_count": 2,
   "id": "4858457f-4fd5-4d25-9022-2f1f4c4e4fd5",
   "metadata": {},
   "outputs": [
    {
     "name": "stdout",
     "output_type": "stream",
     "text": [
      "25\n"
     ]
    }
   ],
   "source": [
    "print(edad)"
   ]
  },
  {
   "cell_type": "code",
   "execution_count": 3,
   "id": "e4ec5df3-467a-4d75-bee0-c66562982e15",
   "metadata": {},
   "outputs": [
    {
     "data": {
      "text/plain": [
       "int"
      ]
     },
     "execution_count": 3,
     "metadata": {},
     "output_type": "execute_result"
    }
   ],
   "source": [
    "type(edad)"
   ]
  },
  {
   "cell_type": "code",
   "execution_count": 4,
   "id": "7e3bdbd1-36c3-4157-b8ff-5976c349a6e1",
   "metadata": {},
   "outputs": [
    {
     "name": "stdout",
     "output_type": "stream",
     "text": [
      "<class 'int'>\n"
     ]
    }
   ],
   "source": [
    "print(type(edad))"
   ]
  },
  {
   "cell_type": "markdown",
   "id": "7ab846df-c673-4abc-b5a4-2022a1fbbec5",
   "metadata": {},
   "source": [
    "# Índice de masa corporal\n",
    "\n",
    "$$\n",
    "\\text{imc} = \\dfrac{\\text{peso}}{\\text{estatura}^2}\n",
    "$$"
   ]
  },
  {
   "cell_type": "code",
   "execution_count": 5,
   "id": "2e8dbe6a-4ed9-4735-9227-dc83d6d7319d",
   "metadata": {},
   "outputs": [],
   "source": [
    "imc = peso / estatura ** 2"
   ]
  },
  {
   "cell_type": "code",
   "execution_count": 6,
   "id": "48fe4e4f-7a99-495e-9225-919334eb5a16",
   "metadata": {},
   "outputs": [
    {
     "name": "stdout",
     "output_type": "stream",
     "text": [
      "25.24933720489837\n"
     ]
    }
   ],
   "source": [
    "print(imc)"
   ]
  },
  {
   "cell_type": "code",
   "execution_count": 7,
   "id": "a9d103bf-6d24-4df5-9a88-21bde3dd48ed",
   "metadata": {},
   "outputs": [
    {
     "data": {
      "text/plain": [
       "float"
      ]
     },
     "execution_count": 7,
     "metadata": {},
     "output_type": "execute_result"
    }
   ],
   "source": [
    "type(imc)"
   ]
  },
  {
   "cell_type": "code",
   "execution_count": 8,
   "id": "d3286467-b0f4-42b2-8f51-99a96ddf2906",
   "metadata": {},
   "outputs": [],
   "source": [
    "a = 1"
   ]
  },
  {
   "cell_type": "code",
   "execution_count": 9,
   "id": "144bf8bf-1398-47d2-a9c9-c26c7df93f5b",
   "metadata": {},
   "outputs": [
    {
     "name": "stdout",
     "output_type": "stream",
     "text": [
      "1\n"
     ]
    }
   ],
   "source": [
    "print(a)"
   ]
  },
  {
   "cell_type": "code",
   "execution_count": 10,
   "id": "740a35ba-596b-463e-8986-fc0371a45a1e",
   "metadata": {},
   "outputs": [
    {
     "data": {
      "text/plain": [
       "int"
      ]
     },
     "execution_count": 10,
     "metadata": {},
     "output_type": "execute_result"
    }
   ],
   "source": [
    "type(a)"
   ]
  },
  {
   "cell_type": "code",
   "execution_count": 11,
   "id": "5fbed3be-9038-4cf7-9e23-729464deb997",
   "metadata": {},
   "outputs": [
    {
     "data": {
      "text/plain": [
       "94643419605928"
      ]
     },
     "execution_count": 11,
     "metadata": {},
     "output_type": "execute_result"
    }
   ],
   "source": [
    "id(a)"
   ]
  },
  {
   "cell_type": "code",
   "execution_count": 12,
   "id": "c965254e-a60c-4099-b14d-334e637f8702",
   "metadata": {},
   "outputs": [],
   "source": [
    "b = a "
   ]
  },
  {
   "cell_type": "code",
   "execution_count": 13,
   "id": "efcb3781-ee19-48f3-8389-425b171e9f57",
   "metadata": {},
   "outputs": [
    {
     "name": "stdout",
     "output_type": "stream",
     "text": [
      "1 <class 'int'> 94643419605928\n",
      "1 <class 'int'> 94643419605928\n"
     ]
    }
   ],
   "source": [
    "print(a, type(a), id(a))\n",
    "print(b, type(b), id(b))"
   ]
  },
  {
   "cell_type": "code",
   "execution_count": 14,
   "id": "a65185b3-5925-4922-887a-0ddcaf62955a",
   "metadata": {},
   "outputs": [],
   "source": [
    "b = 5.0"
   ]
  },
  {
   "cell_type": "code",
   "execution_count": 15,
   "id": "e2b63a63-bad4-42f0-b130-62f2e3e11e5a",
   "metadata": {},
   "outputs": [
    {
     "name": "stdout",
     "output_type": "stream",
     "text": [
      "1 <class 'int'> 94643419605928\n",
      "5.0 <class 'float'> 140410362361936\n"
     ]
    }
   ],
   "source": [
    "print(a, type(a), id(a))\n",
    "print(b, type(b), id(b))"
   ]
  },
  {
   "cell_type": "code",
   "execution_count": null,
   "id": "058ea098-a3ae-4a16-bd80-2eb392fe3b91",
   "metadata": {},
   "outputs": [],
   "source": []
  }
 ],
 "metadata": {
  "kernelspec": {
   "display_name": "Python 3 (ipykernel)",
   "language": "python",
   "name": "python3"
  },
  "language_info": {
   "codemirror_mode": {
    "name": "ipython",
    "version": 3
   },
   "file_extension": ".py",
   "mimetype": "text/x-python",
   "name": "python",
   "nbconvert_exporter": "python",
   "pygments_lexer": "ipython3",
   "version": "3.11.6"
  }
 },
 "nbformat": 4,
 "nbformat_minor": 5
}
