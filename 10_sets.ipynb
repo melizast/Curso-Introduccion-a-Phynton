{
 "cells": [
  {
   "cell_type": "markdown",
   "metadata": {},
   "source": [
    "# Estructura de datos: conjuntos\n",
    "\n",
    "**Objetivo.**\n",
    "Describir la estructura de datos `set `.\n",
    "\n",
    " <p xmlns:cc=\"http://creativecommons.org/ns#\" xmlns:dct=\"http://purl.org/dc/terms/\"><a property=\"dct:title\" rel=\"cc:attributionURL\" href=\"https://github.com/repomacti/introduccion_python\">Introducción a Python</a> by <a rel=\"cc:attributionURL dct:creator\" property=\"cc:attributionName\" href=\"https://gmc.geofisica.unam.mx/luiggi\">Luis Miguel de la Cruz Salas</a> is licensed under <a href=\"https://creativecommons.org/licenses/by-sa/4.0/?ref=chooser-v1\" target=\"_blank\" rel=\"license noopener noreferrer\" style=\"display:inline-block;\">CC BY-SA 4.0<img style=\"height:22px!important;margin-left:3px;vertical-align:text-bottom;\" src=\"https://mirrors.creativecommons.org/presskit/icons/cc.svg?ref=chooser-v1\" alt=\"\"><img style=\"height:22px!important;margin-left:3px;vertical-align:text-bottom;\" src=\"https://mirrors.creativecommons.org/presskit/icons/by.svg?ref=chooser-v1\" alt=\"\"><img style=\"height:22px!important;margin-left:3px;vertical-align:text-bottom;\" src=\"https://mirrors.creativecommons.org/presskit/icons/sa.svg?ref=chooser-v1\" alt=\"\"></a></p> "
   ]
  },
  {
   "cell_type": "markdown",
   "metadata": {},
   "source": [
    "# Introducción\n",
    "\n",
    "La siguiente tabla resume los cuatro tipos de *colecciones* que se tienen en Python:\n",
    "\n",
    "|Tipo|Ordenada|Inmutable|Indexable|Duplicidad|\n",
    "|-:|:-:|:-:|:-:|:-:|\n",
    "|List |SI|NO|SI|SI|\n",
    "|Tuple|SI|SI|SI|SI|\n",
    "|Sets |NO|NO|NO|NO|\n",
    "|Dict |NO|NO|SI|NO|\n"
   ]
  },
  {
   "cell_type": "markdown",
   "metadata": {},
   "source": [
    "# Conjuntos\n",
    "\n",
    "* Consisten en una secuencia **NO ordenada** y **mutable**.\n",
    "* **NO** permite miembros duplicados.\n",
    "* Los elementos de los conjuntos **NO** se pueden indexar.\n",
    "* Los conjuntos se definen usando llaves `{}` y `,` para separar sus elementos."
   ]
  },
  {
   "cell_type": "markdown",
   "metadata": {},
   "source": [
    "<div class=\"alert alert-info\">\n",
    "\n",
    "## Ejemplo 1.\n",
    "\n",
    "<font color=\"Black\">\n",
    "    \n",
    "Construiremos los siguientes conjuntos:\n",
    "\n",
    "```python\n",
    "c1 = {4,1,8,0,4,20}\n",
    "c2 = {'z', 'x', 'g', 'a', 'k', 'x'}\n",
    "c3 = {'a', 1.5, 3, 5+4j, (1,2,3)}\n",
    "```\n",
    "</font>\n",
    "</div>"
   ]
  },
  {
   "cell_type": "code",
   "execution_count": 49,
   "metadata": {
    "tags": []
   },
   "outputs": [],
   "source": [
    "c1 = {4, 1, 8, 0, 4, 20}\n",
    "c2 = {'z', 'x', 'g', 'a', 'k', 'x'}\n",
    "c3 = {'a', 1.5, 3, 5+4j, (1,2,3)}"
   ]
  },
  {
   "cell_type": "code",
   "execution_count": 50,
   "metadata": {
    "tags": []
   },
   "outputs": [
    {
     "name": "stdout",
     "output_type": "stream",
     "text": [
      "{0, 1, 4, 20, 8} <class 'set'>\n",
      "{'x', 'z', 'g', 'k', 'a'} <class 'set'>\n",
      "{1.5, (5+4j), 3, 'a', (1, 2, 3)} <class 'set'>\n"
     ]
    }
   ],
   "source": [
    "print(c1, type(c1))\n",
    "print(c2, type(c2))\n",
    "print(c3, type(c3))"
   ]
  },
  {
   "cell_type": "markdown",
   "metadata": {},
   "source": [
    "Observa que los conjuntos `c1` y `c2` contienen en su definición elementos repetidos, pero posteriormente cuando se usa o se imprime el conjunto, ya no presenta elementos repetidos."
   ]
  },
  {
   "cell_type": "markdown",
   "metadata": {},
   "source": [
    "## Funciones incorporadas que operan sobre conjuntos."
   ]
  },
  {
   "cell_type": "code",
   "execution_count": 51,
   "metadata": {
    "tags": []
   },
   "outputs": [
    {
     "name": "stdout",
     "output_type": "stream",
     "text": [
      "{0, 1, 4, 20, 8}\n",
      "{0, 1, 4, 20, 8, -8}\n"
     ]
    }
   ],
   "source": [
    "print(c1)  # Conjunto original\n",
    "c1.add(-8) # Adiccionar un elemento\n",
    "print(c1)  # Revisamo el estado del conjunto"
   ]
  },
  {
   "cell_type": "code",
   "execution_count": 52,
   "metadata": {
    "tags": []
   },
   "outputs": [
    {
     "name": "stdout",
     "output_type": "stream",
     "text": [
      "{0, 1, 4, 20, 8, -8}\n",
      "{0, 1, 20, 8, -8}\n"
     ]
    }
   ],
   "source": [
    "print(c1)    # Conjunto original\n",
    "c1.remove(4) # Eliminar un elemento del conjunto\n",
    "print(c1)    # Revisamo el estado del conjunto"
   ]
  },
  {
   "cell_type": "markdown",
   "metadata": {},
   "source": [
    "Si el elemento que se desea eliminar del conjunto no existe dentro del mismo, entonces se obtiene un error al tratar de eliminar dicho elemento:"
   ]
  },
  {
   "cell_type": "code",
   "execution_count": 53,
   "metadata": {},
   "outputs": [
    {
     "ename": "KeyError",
     "evalue": "4",
     "output_type": "error",
     "traceback": [
      "\u001b[0;31m---------------------------------------------------------------------------\u001b[0m",
      "\u001b[0;31mKeyError\u001b[0m                                  Traceback (most recent call last)",
      "Cell \u001b[0;32mIn[53], line 1\u001b[0m\n\u001b[0;32m----> 1\u001b[0m \u001b[43mc1\u001b[49m\u001b[38;5;241;43m.\u001b[39;49m\u001b[43mremove\u001b[49m\u001b[43m(\u001b[49m\u001b[38;5;241;43m4\u001b[39;49m\u001b[43m)\u001b[49m\n",
      "\u001b[0;31mKeyError\u001b[0m: 4"
     ]
    }
   ],
   "source": [
    "c1.remove(4)"
   ]
  },
  {
   "cell_type": "markdown",
   "metadata": {},
   "source": [
    "Para saber si un elemento está en el conjunto podemos usar `in`:"
   ]
  },
  {
   "cell_type": "code",
   "execution_count": 54,
   "metadata": {
    "tags": []
   },
   "outputs": [
    {
     "data": {
      "text/plain": [
       "False"
      ]
     },
     "execution_count": 54,
     "metadata": {},
     "output_type": "execute_result"
    }
   ],
   "source": [
    "# ¿El elemento 4 está en el conjunto?\n",
    "4 in c1"
   ]
  },
  {
   "cell_type": "markdown",
   "metadata": {},
   "source": [
    "Podemos usar `in` en conjunción con `if ... else`:"
   ]
  },
  {
   "cell_type": "code",
   "execution_count": 55,
   "metadata": {
    "tags": []
   },
   "outputs": [
    {
     "name": "stdout",
     "output_type": "stream",
     "text": [
      "El -8 ha sido removido del conjunto\n"
     ]
    }
   ],
   "source": [
    "elemento = -8\n",
    "if elemento in c1:\n",
    "    c1.remove(elemento)\n",
    "    print(f\"El {elemento} ha sido removido del conjunto\")\n",
    "else:\n",
    "    print(f\"El {elemento} no está en el conjunto\")"
   ]
  },
  {
   "cell_type": "markdown",
   "metadata": {},
   "source": [
    "A un conjunto que ya existe se le pueden eliminar todos sus elementos:"
   ]
  },
  {
   "cell_type": "code",
   "execution_count": 56,
   "metadata": {
    "tags": []
   },
   "outputs": [
    {
     "name": "stdout",
     "output_type": "stream",
     "text": [
      "{0, 1, 20, 8} <class 'set'> 140130689411872\n",
      "set() <class 'set'> 140130689411872\n"
     ]
    }
   ],
   "source": [
    "# Estado inicial del conjunto\n",
    "print(c1, type(c1), id(c1))\n",
    "c1.clear() # Limpiar todos los elementos del conjunto\n",
    "print(c1, type(c1), id(c1))"
   ]
  },
  {
   "cell_type": "markdown",
   "metadata": {},
   "source": [
    "Observa que el identificador no ha cambiado, solo se eliminaron todos los elementos."
   ]
  },
  {
   "cell_type": "markdown",
   "metadata": {},
   "source": [
    "## Operadores sobre conjuntos\n",
    "\n",
    "Se pueden realizar las operaciones de conjuntos definidas en matemáticas en los objetos de tipo `set`."
   ]
  },
  {
   "cell_type": "code",
   "execution_count": 57,
   "metadata": {
    "tags": []
   },
   "outputs": [],
   "source": [
    "# Definimos dos conjuntos\n",
    "A = {'Taza', 'Vaso', 'Mesa'}\n",
    "B = {'Casa', 'Mesa', 'Silla'}"
   ]
  },
  {
   "cell_type": "code",
   "execution_count": 58,
   "metadata": {
    "tags": []
   },
   "outputs": [
    {
     "name": "stdout",
     "output_type": "stream",
     "text": [
      "{'Taza', 'Vaso', 'Mesa'}\n",
      "{'Casa', 'Mesa', 'Silla'}\n"
     ]
    }
   ],
   "source": [
    "print(A)\n",
    "print(B)"
   ]
  },
  {
   "cell_type": "code",
   "execution_count": 59,
   "metadata": {
    "tags": []
   },
   "outputs": [
    {
     "data": {
      "text/plain": [
       "{'Taza', 'Vaso'}"
      ]
     },
     "execution_count": 59,
     "metadata": {},
     "output_type": "execute_result"
    }
   ],
   "source": [
    "A - B # elementos en A, pero no en B"
   ]
  },
  {
   "cell_type": "code",
   "execution_count": 60,
   "metadata": {
    "tags": []
   },
   "outputs": [
    {
     "data": {
      "text/plain": [
       "{'Casa', 'Mesa', 'Silla', 'Taza', 'Vaso'}"
      ]
     },
     "execution_count": 60,
     "metadata": {},
     "output_type": "execute_result"
    }
   ],
   "source": [
    "A | B # elementos en A o en B o en ambos"
   ]
  },
  {
   "cell_type": "code",
   "execution_count": 61,
   "metadata": {
    "tags": []
   },
   "outputs": [
    {
     "data": {
      "text/plain": [
       "{'Mesa'}"
      ]
     },
     "execution_count": 61,
     "metadata": {},
     "output_type": "execute_result"
    }
   ],
   "source": [
    "A & B # elementos en ambos conjuntos"
   ]
  },
  {
   "cell_type": "code",
   "execution_count": 62,
   "metadata": {
    "tags": []
   },
   "outputs": [
    {
     "data": {
      "text/plain": [
       "{'Casa', 'Silla', 'Taza', 'Vaso'}"
      ]
     },
     "execution_count": 62,
     "metadata": {},
     "output_type": "execute_result"
    }
   ],
   "source": [
    "A ^ B # elementos en A o en B, pero no en ambos"
   ]
  },
  {
   "cell_type": "markdown",
   "metadata": {},
   "source": [
    "## Copiando conjuntos\n",
    "\n",
    "Para crear un nuevo conjunto a partir de otro, usamos operaciones similares que para las listas:"
   ]
  },
  {
   "cell_type": "markdown",
   "metadata": {},
   "source": [
    "### Copiando con el método `copy()`"
   ]
  },
  {
   "cell_type": "code",
   "execution_count": 64,
   "metadata": {
    "tags": []
   },
   "outputs": [
    {
     "name": "stdout",
     "output_type": "stream",
     "text": [
      "{'x', 'z', 'g', 'k', 'a'} <class 'set'> 140131032983456\n",
      "{'x', 'z', 'g', 'k', 'a'} <class 'set'> 140131027578080\n"
     ]
    }
   ],
   "source": [
    "c4 = c2.copy()\n",
    "\n",
    "print(c2, type(c2), id(c2))\n",
    "print(c4, type(c4), id(c4))"
   ]
  },
  {
   "cell_type": "markdown",
   "metadata": {},
   "source": [
    "### Copiando con la biblioteca `copy()`"
   ]
  },
  {
   "cell_type": "code",
   "execution_count": 68,
   "metadata": {
    "tags": []
   },
   "outputs": [
    {
     "name": "stdout",
     "output_type": "stream",
     "text": [
      "{'x', 'z', 'g', 'k', 'a'} <class 'set'> 140131032983456\n",
      "{'x', 'z', 'g', 'k', 'a'} <class 'set'> 140130685206592\n"
     ]
    }
   ],
   "source": [
    "import copy\n",
    "c5 = copy.copy(c2)\n",
    "\n",
    "print(c2, type(c2), id(c2))\n",
    "print(c5, type(c5), id(c5))"
   ]
  },
  {
   "cell_type": "code",
   "execution_count": null,
   "metadata": {},
   "outputs": [],
   "source": []
  }
 ],
 "metadata": {
  "kernelspec": {
   "display_name": "Python 3 (ipykernel)",
   "language": "python",
   "name": "python3"
  },
  "language_info": {
   "codemirror_mode": {
    "name": "ipython",
    "version": 3
   },
   "file_extension": ".py",
   "mimetype": "text/x-python",
   "name": "python",
   "nbconvert_exporter": "python",
   "pygments_lexer": "ipython3",
   "version": "3.11.6"
  }
 },
 "nbformat": 4,
 "nbformat_minor": 4
}
