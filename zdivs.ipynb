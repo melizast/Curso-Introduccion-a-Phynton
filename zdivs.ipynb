{
 "cells": [
  {
   "cell_type": "markdown",
   "id": "8410daeb-9093-4590-8fbd-e3b912d01993",
   "metadata": {},
   "source": [
    "<div class=\"alert alert-block alert-info\"><b>Tip: </b> Use blue boxes for Tips and notes. If it's a note, you don't have to include the word \"Note\". \n",
    "</div> \n",
    "\n",
    "<div class=\"alert alert-block alert-warning\"><b>Example: </b> Use yellow boxes for examples that are not inside code cells, or use for mathematical formulas if needed. \n",
    "</div>\n",
    "\n",
    "<div class=\"alert alert-block alert-success\"><b>Up to you: </b>Use green boxes sparingly, and only for some specific purpose that the other boxes can't cover. For example, if you have a lot of related content to link to, maybe you decide to use green boxes for related links from each section of a notebook. \n",
    "</div>\n",
    "\n",
    "<div class=\"alert alert-block alert-danger\"><b>Just don't: </b>In general, just avoid the red boxes. \n",
    "</div>"
   ]
  },
  {
   "cell_type": "code",
   "execution_count": null,
   "id": "d5693016-8512-4c9b-9ecd-bfbc3e89bc90",
   "metadata": {},
   "outputs": [],
   "source": []
  }
 ],
 "metadata": {
  "kernelspec": {
   "display_name": "Python 3 (ipykernel)",
   "language": "python",
   "name": "python3"
  },
  "language_info": {
   "codemirror_mode": {
    "name": "ipython",
    "version": 3
   },
   "file_extension": ".py",
   "mimetype": "text/x-python",
   "name": "python",
   "nbconvert_exporter": "python",
   "pygments_lexer": "ipython3",
   "version": "3.11.6"
  }
 },
 "nbformat": 4,
 "nbformat_minor": 5
}
