{
 "cells": [
  {
   "cell_type": "markdown",
   "id": "8873a296-1353-4ba9-8d70-7b8c1f9a189f",
   "metadata": {},
   "source": [
    "<div class=\"alert alert-block alert-success\">\n",
    "\n",
    "# Proyecto.\n",
    "\n",
    "Usando la información del archivo `personal_data.csv` crear una aplicación que pregunte el ID del paciente y genere la siguiente salida:\n",
    "\n",
    "<img src=\"../figuras/proyecto.png\" width=350px>\n",
    "\n",
    "</div>"
   ]
  },
  {
   "cell_type": "code",
   "execution_count": 37,
   "id": "8f3ef88a-9269-4fc3-bfcd-089e6620361e",
   "metadata": {},
   "outputs": [
    {
     "name": "stdout",
     "output_type": "stream",
     "text": [
      "――――――――――――――――――――――――――――――――――――――――――――――――――\n",
      "                   Sistema XYZ                    \n",
      "――――――――――――――――――――――――――――――――――――――――――――――――――\n"
     ]
    },
    {
     "name": "stdin",
     "output_type": "stream",
     "text": [
      "ID. pacientes (separados por coma):  89,56,4,99\n"
     ]
    },
    {
     "name": "stdout",
     "output_type": "stream",
     "text": [
      "――――――――――――――――――――――――――――――――――――――――――――――――――\n",
      "                      Paciente :   4  \n",
      "                          Sexo :   h  \n",
      "                          Edad :  46  \n",
      "                          Peso :  73  \n",
      "                      Estatura : 1.66 \n",
      "                           IMC : 26.49\n",
      "                      Diabetes :  No  \n",
      "                  Hipertensión :  No  \n",
      "                     Depresión :  No  \n",
      "\u001b[31m\u001b[1m           Trastorno del sueño :  Si  \u001b[0m\n",
      "\u001b[31m\u001b[1m  Trastorno de la alimentación :  Si  \u001b[0m\n",
      "――――――――――――――――――――――――――――――――――――――――――――――――――\n",
      "                      Paciente :  56  \n",
      "                          Sexo :   h  \n",
      "                          Edad :  55  \n",
      "                          Peso :  93  \n",
      "                      Estatura : 1.73 \n",
      "\u001b[31m\u001b[1m                           IMC : 31.07\u001b[0m\n",
      "                      Diabetes :  No  \n",
      "\u001b[31m\u001b[1m                  Hipertensión :  Si  \u001b[0m\n",
      "                     Depresión :  No  \n",
      "           Trastorno del sueño :  No  \n",
      "  Trastorno de la alimentación :  No  \n",
      "――――――――――――――――――――――――――――――――――――――――――――――――――\n",
      "                      Paciente :  89  \n",
      "                          Sexo :   h  \n",
      "                          Edad :  39  \n",
      "                          Peso :  83  \n",
      "                      Estatura : 1.82 \n",
      "                           IMC : 25.06\n",
      "                      Diabetes :  No  \n",
      "\u001b[31m\u001b[1m                  Hipertensión :  Si  \u001b[0m\n",
      "                     Depresión :  No  \n",
      "           Trastorno del sueño :  No  \n",
      "  Trastorno de la alimentación :  No  \n",
      "――――――――――――――――――――――――――――――――――――――――――――――――――\n",
      "                      Paciente :  99  \n",
      "                          Sexo :   h  \n",
      "                          Edad :  45  \n",
      "                          Peso :  88  \n",
      "                      Estatura :  1.6 \n",
      "\u001b[31m\u001b[1m                           IMC : 34.38\u001b[0m\n",
      "                      Diabetes :  No  \n",
      "                  Hipertensión :  No  \n",
      "                     Depresión :  No  \n",
      "\u001b[31m\u001b[1m           Trastorno del sueño :  Si  \u001b[0m\n",
      "\u001b[31m\u001b[1m  Trastorno de la alimentación :  Si  \u001b[0m\n",
      "――――――――――――――――――――――――――――――――――――――――――――――――――\n"
     ]
    }
   ],
   "source": [
    "import proyecto\n",
    "proyecto.ejecutar()"
   ]
  },
  {
   "cell_type": "markdown",
   "id": "4b3dfa15-921c-4e81-b89e-47e053e4037d",
   "metadata": {},
   "source": [
    "# Colorama\n",
    "\n",
    "Biblioteca para colorear la salida (https://pypi.org/project/colorama/)"
   ]
  },
  {
   "cell_type": "code",
   "execution_count": 1,
   "id": "db8c4517-8404-4dbd-8efa-a47815de162e",
   "metadata": {},
   "outputs": [],
   "source": [
    "from colorama import Fore, Style"
   ]
  },
  {
   "cell_type": "markdown",
   "id": "22645cba-7523-4697-ba87-77a3cd3611ad",
   "metadata": {},
   "source": [
    "## Función para la lectura de datos."
   ]
  },
  {
   "cell_type": "code",
   "execution_count": 21,
   "id": "7c60927a-e756-4d54-8281-103bf9f54972",
   "metadata": {},
   "outputs": [],
   "source": [
    "def obtener_datos_entrada():\n",
    "    pass"
   ]
  },
  {
   "cell_type": "code",
   "execution_count": 22,
   "id": "6dd8c121-5875-44a7-b3d4-e3bb866eca83",
   "metadata": {},
   "outputs": [],
   "source": [
    "# Probar la función 'lectura_datos()'\n",
    "obtener_datos_entrada()"
   ]
  },
  {
   "cell_type": "markdown",
   "id": "d3bcc766-2446-4800-a8fe-615c76514407",
   "metadata": {},
   "source": [
    "## Función para desplegar la pantalla inicial."
   ]
  },
  {
   "cell_type": "code",
   "execution_count": 23,
   "id": "00984ef8-60cd-4ce6-bd06-17bcc18cce3f",
   "metadata": {},
   "outputs": [],
   "source": [
    "def desplegar_pantalla_inicio():\n",
    "    pass"
   ]
  },
  {
   "cell_type": "code",
   "execution_count": 24,
   "id": "d342df74-526a-4168-97d6-e745b9cbc3a0",
   "metadata": {},
   "outputs": [],
   "source": [
    "# Probar la función 'pantalla_inicio()'\n",
    "desplegar_pantalla_inicio()"
   ]
  },
  {
   "cell_type": "markdown",
   "id": "f965e999-5d52-4ea5-bbcb-1e222a4216e6",
   "metadata": {},
   "source": [
    "## Funciones para abrir y cerrar el archivo de datos"
   ]
  },
  {
   "cell_type": "code",
   "execution_count": 25,
   "id": "5e1b3914-5ead-401a-a6ae-55ef8f4cf4fb",
   "metadata": {},
   "outputs": [],
   "source": [
    "def abrir_archivo(nombre = \"../archivos/personal_data.csv\"):\n",
    "    pass\n",
    "\n",
    "def cerrar_archivo(file_descriptor):\n",
    "    pass"
   ]
  },
  {
   "cell_type": "code",
   "execution_count": null,
   "id": "3ee96c36-8a90-4e67-8173-37f2494089b9",
   "metadata": {},
   "outputs": [],
   "source": [
    "# Probar las funciones 'abrir_archivo()' y 'cerrar_archivo()'"
   ]
  },
  {
   "cell_type": "markdown",
   "id": "6620baa9-384a-43b5-a424-f8c3d4b4bbea",
   "metadata": {},
   "source": [
    "## Función para leer la información del archivo"
   ]
  },
  {
   "cell_type": "code",
   "execution_count": 27,
   "id": "a201ddd5-4ee4-4e92-8142-1ab0b952af9c",
   "metadata": {},
   "outputs": [],
   "source": [
    "def leer_archivo(IDs):\n",
    "    pass"
   ]
  },
  {
   "cell_type": "markdown",
   "id": "bfc67de6-cebb-4acf-a07a-64c78df4d499",
   "metadata": {},
   "source": [
    "## Función para transformar la info a diccionario"
   ]
  },
  {
   "cell_type": "code",
   "execution_count": 28,
   "id": "f0ab8f24-3a04-4158-9ee0-8adaf0dd4ccb",
   "metadata": {},
   "outputs": [],
   "source": [
    "def transformar_datos(r, e):\n",
    "    pass"
   ]
  },
  {
   "cell_type": "markdown",
   "id": "0d517a29-35c4-4446-abac-a230df93d2e1",
   "metadata": {},
   "source": [
    "## Función para desplegar la información"
   ]
  },
  {
   "cell_type": "code",
   "execution_count": 29,
   "id": "3b5b5fd1-7b60-4c87-9ee2-48cf9e85d3ef",
   "metadata": {},
   "outputs": [],
   "source": [
    "def desplegar_datos(d):\n",
    "    pass"
   ]
  },
  {
   "cell_type": "markdown",
   "id": "b4069916-f08f-477e-89ea-48c3e05c6f45",
   "metadata": {},
   "source": [
    "## Función para determinar el nivel de IMC"
   ]
  },
  {
   "cell_type": "code",
   "execution_count": 30,
   "id": "6555691f-5d48-44eb-a3a5-5710b8cd7cf3",
   "metadata": {},
   "outputs": [],
   "source": [
    "def calcular_nivel_IMC(imc):\n",
    "    pass"
   ]
  },
  {
   "cell_type": "markdown",
   "id": "fa318a9c-cffe-4bb9-812b-6252cc6af4bc",
   "metadata": {},
   "source": [
    "## Ejecución"
   ]
  },
  {
   "cell_type": "code",
   "execution_count": 31,
   "id": "c0f0510e-b75b-40a1-bea6-8bcdd1e1fd89",
   "metadata": {},
   "outputs": [],
   "source": []
  },
  {
   "cell_type": "code",
   "execution_count": null,
   "id": "f0b0af9a-0005-4519-87ec-adc7502f56b7",
   "metadata": {},
   "outputs": [],
   "source": []
  }
 ],
 "metadata": {
  "kernelspec": {
   "display_name": "Python 3 (ipykernel)",
   "language": "python",
   "name": "python3"
  },
  "language_info": {
   "codemirror_mode": {
    "name": "ipython",
    "version": 3
   },
   "file_extension": ".py",
   "mimetype": "text/x-python",
   "name": "python",
   "nbconvert_exporter": "python",
   "pygments_lexer": "ipython3",
   "version": "3.11.6"
  }
 },
 "nbformat": 4,
 "nbformat_minor": 5
}
