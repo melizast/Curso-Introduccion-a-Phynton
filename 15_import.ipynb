{
 "cells": [
  {
   "cell_type": "markdown",
   "metadata": {},
   "source": [
    "# Importando bibliotecas.\n",
    "\n",
    "**Objetivo.**\n",
    "Mostrar como importar módulos de la biblioteca estándar y algunos ejemplos de su uso.\n",
    "\n",
    " <p xmlns:cc=\"http://creativecommons.org/ns#\" xmlns:dct=\"http://purl.org/dc/terms/\"><a property=\"dct:title\" rel=\"cc:attributionURL\" href=\"https://github.com/repomacti/introduccion_python\">Introducción a Python</a> by <a rel=\"cc:attributionURL dct:creator\" property=\"cc:attributionName\" href=\"https://gmc.geofisica.unam.mx/luiggi\">Luis Miguel de la Cruz Salas</a> is licensed under <a href=\"https://creativecommons.org/licenses/by-sa/4.0/?ref=chooser-v1\" target=\"_blank\" rel=\"license noopener noreferrer\" style=\"display:inline-block;\">CC BY-SA 4.0<img style=\"height:22px!important;margin-left:3px;vertical-align:text-bottom;\" src=\"https://mirrors.creativecommons.org/presskit/icons/cc.svg?ref=chooser-v1\" alt=\"\"><img style=\"height:22px!important;margin-left:3px;vertical-align:text-bottom;\" src=\"https://mirrors.creativecommons.org/presskit/icons/by.svg?ref=chooser-v1\" alt=\"\"><img style=\"height:22px!important;margin-left:3px;vertical-align:text-bottom;\" src=\"https://mirrors.creativecommons.org/presskit/icons/sa.svg?ref=chooser-v1\" alt=\"\"></a></p>"
   ]
  },
  {
   "cell_type": "markdown",
   "metadata": {},
   "source": [
    "# La biblioteca estándar de Python\n",
    "\n",
    "La **biblioteca estándar** de Python está compuesta por módulos con funcionalidades adicionales y que se distribuyen con la instalación de básica del lenguaje, por lo que no es necesaria una instalación adicional. El conjunto de funciones y herramientas de esta biblioteca es muy extensa y ofrece una amplia gama de aplicaciones.\n",
    "\n",
    "Estos módulos o bibliotecas permiten, entre otras cosas, tener una interfaz con el sistema operativo, manejo de archivos, medición de tiempos, fechas, matemáticas y pruebas unitarias.\n",
    "\n",
    "La forma de incorporar y usar de estas herramientas es simple y estándar. En esta notebook veremos algunos ejemplos."
   ]
  },
  {
   "cell_type": "markdown",
   "metadata": {},
   "source": [
    "# Importando las bibliotecas.\n",
    "\n",
    "Las bibliotecas se pueden importar varias formas:\n",
    "\n",
    "**1. Importando usando el nombre:**\n",
    "```python\n",
    "import nombre_de_la_biblioteca\n",
    "```\n",
    "En este caso, para usar una función se debe anteponer el nombre completo de la biblioteca:\n",
    "\n",
    "```python\n",
    "nombre_de_la_biblioteca.funcion_x()\n",
    "```\n",
    "\n",
    "**2. Importando usando el nombre y un alias:**\n",
    "\n",
    "```python\n",
    "import nombre_de_la_biblioteca as nb\n",
    "```\n",
    "\n",
    "En este caso, para usar una función se debe anteponer el alias de la biblioteca:\n",
    "\n",
    "```python\n",
    "nb.funcion_x()\n",
    "```\n",
    "\n",
    "**3. Importando todas las funciones de la biblioteca con `*`:**\n",
    "\n",
    "```python\n",
    "from nombre_de_la_biblioteca import *\n",
    "```\n",
    "\n",
    "En este caso, para usar una función se puede usar el nombre de la misma sin anteponer nada:\n",
    "\n",
    "```python\n",
    "funcion_x()\n",
    "```\n",
    "\n",
    "**4. Importando solo una función de la biblioteca :**\n",
    "\n",
    "```python\n",
    "from nombre_de_la_biblioteca import funcion_x\n",
    "```\n",
    "En este caso, para usar la función solo es necesario el nombre de la misma:\n",
    "\n",
    "```python\n",
    "funcion_x()\n",
    "```\n",
    "\n",
    "Por cada función que se requiera, se debe agregar el nombre en la importación separada por coma:\n",
    "\n",
    "```python\n",
    "from nombre_de_la_biblioteca import funcion_x, funcion_y\n",
    "```\n",
    "\n",
    "**5. Importando solo una función de la biblioteca y un alias:**\n",
    "\n",
    "```python\n",
    "from nombre_de_la_biblioteca import funcion_x as fx\n",
    "```\n",
    "\n",
    "En este caso, para usar la función se usa el alias:\n",
    "\n",
    "```python\n",
    "fx()\n",
    "```"
   ]
  },
  {
   "cell_type": "markdown",
   "metadata": {},
   "source": [
    "# Funciones matemáticas\n",
    "\n",
    "## `math` y `cmath` \n",
    "\n",
    "- El módulo `math` provee de las funciones matemáticas definida en la biblioteca estándar de C para números **reales**. Más información: https://docs.python.org/3.0/library/math.html.\n",
    "\n",
    "- El módulo `cmath` provee de las funciones matemáticas para números **complejos**. Más información: https://docs.python.org/3.0/library/cmath.html <br>"
   ]
  },
  {
   "cell_type": "code",
   "execution_count": 8,
   "metadata": {},
   "outputs": [
    {
     "name": "stdout",
     "output_type": "stream",
     "text": [
      "2.0\n",
      "3.141592653589793\n",
      "1.0\n",
      "1.0\n"
     ]
    }
   ],
   "source": [
    "import math\n",
    "print(math.sqrt(4))\n",
    "print(math.pi)\n",
    "print(math.sin(math.pi / 2))\n",
    "print(math.cos(0))"
   ]
  },
  {
   "cell_type": "code",
   "execution_count": 6,
   "metadata": {},
   "outputs": [
    {
     "name": "stdout",
     "output_type": "stream",
     "text": [
      "(1+4j)\n",
      "(22.979085577886128+14.744805188558725j)\n"
     ]
    }
   ],
   "source": [
    "import cmath\n",
    "\n",
    "complejo = 1 + 4j\n",
    "print(complejo)\n",
    "print(cmath.sin(complejo))"
   ]
  },
  {
   "cell_type": "markdown",
   "metadata": {},
   "source": [
    "## `random`\n",
    "\n",
    "Este módulo implementa generadores de números pseudoaleatorios para varias distribuciones. Más información: https://docs.python.org/3/library/random.html"
   ]
  },
  {
   "cell_type": "code",
   "execution_count": 12,
   "metadata": {},
   "outputs": [
    {
     "name": "stdout",
     "output_type": "stream",
     "text": [
      "4\n",
      "0.11213297172312064\n",
      "109\n",
      "[[4], [6], [5], [1], [3], [8], [2], [7], [9], [0]]\n",
      "55\n",
      "75\n",
      "70\n"
     ]
    }
   ],
   "source": [
    "import random\n",
    "\n",
    "# randint(): Elige un número entre 0 y 5\n",
    "print(random.randint(0, 5))\n",
    "\n",
    "# random(): Genera un número entre 0 y 1\n",
    "print(random.random())\n",
    "\n",
    "# choice(): Selecciona entre varios elementos de una secuencia\n",
    "myList = [2, 109, False, 10, \"Lorem\", 482, \"Ipsum\"]\n",
    "print(random.choice(myList))\n",
    "\n",
    "# suffle(): Ordena una lista de manera pseudoaleatoria\n",
    "x = [[i] for i in range(10)]\n",
    "random.shuffle(x)\n",
    "print(x)\n",
    "\n",
    "# randrange(): Elige un valor en un rango\n",
    "for i in range(3):\n",
    "    print(random.randrange(0, 101, 5))"
   ]
  },
  {
   "cell_type": "markdown",
   "metadata": {},
   "source": [
    "## `statistics`\n",
    "\n",
    "Este módulo proporciona funciones para calcular estadísticas matemáticas de datos numéricos (valores reales). Más información: https://docs.python.org/3/library/statistics.html"
   ]
  },
  {
   "cell_type": "code",
   "execution_count": 13,
   "metadata": {},
   "outputs": [
    {
     "name": "stdout",
     "output_type": "stream",
     "text": [
      "4.230769230769231\n",
      "5\n",
      "5\n",
      "1.9644272343292228\n",
      "3.858974358974359\n"
     ]
    }
   ],
   "source": [
    "import statistics\n",
    "\n",
    "example_list = [5,2,5,6,1,2,6,7,2,6,3,5,5]\n",
    "\n",
    "x = statistics.mean(example_list)\n",
    "print(x)\n",
    "\n",
    "y = statistics.median(example_list)\n",
    "print(y)\n",
    "\n",
    "z = statistics.mode(example_list)\n",
    "print(z)\n",
    "\n",
    "a = statistics.stdev(example_list)\n",
    "print(a)\n",
    "\n",
    "b = statistics.variance(example_list)\n",
    "print(b)"
   ]
  },
  {
   "cell_type": "markdown",
   "metadata": {},
   "source": [
    "# Sistema operativo.\n",
    "\n",
    "## `os`\n",
    "\n",
    "Este módulo provee una manera portable de interactuar con el sistema operativo. Más información: https://docs.python.org/3/library/os.html.\n",
    " \n",
    "Se puede por ejemplo, crear, eliminar y mover carpetas/archivos, cambiarse de directorio, acceder a los nombres de archivos dentro de una ruta, etc. "
   ]
  },
  {
   "cell_type": "code",
   "execution_count": 14,
   "metadata": {},
   "outputs": [
    {
     "name": "stdout",
     "output_type": "stream",
     "text": [
      "/home/jovyan/introduccion_python\n"
     ]
    }
   ],
   "source": [
    "import os\n",
    "\n",
    "directorio_actual = os.getcwd()\n",
    "print(directorio_actual)"
   ]
  },
  {
   "cell_type": "code",
   "execution_count": 15,
   "metadata": {},
   "outputs": [],
   "source": [
    "os.mkdir('nueva_carpeta')"
   ]
  },
  {
   "cell_type": "code",
   "execution_count": 16,
   "metadata": {},
   "outputs": [],
   "source": [
    "os.chdir('nueva_carpeta')"
   ]
  },
  {
   "cell_type": "code",
   "execution_count": 17,
   "metadata": {},
   "outputs": [
    {
     "name": "stdout",
     "output_type": "stream",
     "text": [
      "/home/jovyan/introduccion_python/nueva_carpeta\n"
     ]
    }
   ],
   "source": [
    "print(os.getcwd())"
   ]
  },
  {
   "cell_type": "code",
   "execution_count": 18,
   "metadata": {},
   "outputs": [],
   "source": [
    "os.chdir('../')"
   ]
  },
  {
   "cell_type": "code",
   "execution_count": 19,
   "metadata": {},
   "outputs": [
    {
     "name": "stdout",
     "output_type": "stream",
     "text": [
      "/home/jovyan/introduccion_python\n"
     ]
    }
   ],
   "source": [
    "print(os.getcwd())"
   ]
  },
  {
   "cell_type": "code",
   "execution_count": 20,
   "metadata": {},
   "outputs": [],
   "source": [
    "os.rename('nueva_carpeta','nueva')"
   ]
  },
  {
   "cell_type": "code",
   "execution_count": 21,
   "metadata": {},
   "outputs": [
    {
     "data": {
      "text/plain": [
       "['.ipynb_checkpoints',\n",
       " 'video_notebooks',\n",
       " '03_operadores.ipynb',\n",
       " '02_tipos_basicos.ipynb',\n",
       " '04_expresiones_declaraciones.ipynb',\n",
       " 'README.md',\n",
       " '12_ds_casting.ipynb',\n",
       " '13_ds_traversing.ipynb',\n",
       " '14_funciones.ipynb',\n",
       " 'evaluacion',\n",
       " 'figuras',\n",
       " '08_listas.ipynb',\n",
       " '11_diccionarios.ipynb',\n",
       " '07_control_de_flujo.ipynb',\n",
       " 'mi_archivo.txt',\n",
       " '01_variables_objetos.ipynb',\n",
       " '05_cadenas.ipynb',\n",
       " '06_input_print.ipynb',\n",
       " '09_tuplas.ipynb',\n",
       " '10_conjuntos.ipynb',\n",
       " '15_import.ipynb',\n",
       " 'nueva',\n",
       " '.git',\n",
       " '.gitignore']"
      ]
     },
     "execution_count": 21,
     "metadata": {},
     "output_type": "execute_result"
    }
   ],
   "source": [
    "os.listdir()"
   ]
  },
  {
   "cell_type": "code",
   "execution_count": 22,
   "metadata": {},
   "outputs": [],
   "source": [
    "os.rmdir('nueva')"
   ]
  },
  {
   "cell_type": "code",
   "execution_count": 23,
   "metadata": {},
   "outputs": [
    {
     "data": {
      "text/plain": [
       "['.ipynb_checkpoints',\n",
       " 'video_notebooks',\n",
       " '03_operadores.ipynb',\n",
       " '02_tipos_basicos.ipynb',\n",
       " '04_expresiones_declaraciones.ipynb',\n",
       " 'README.md',\n",
       " '12_ds_casting.ipynb',\n",
       " '13_ds_traversing.ipynb',\n",
       " '14_funciones.ipynb',\n",
       " 'evaluacion',\n",
       " 'figuras',\n",
       " '08_listas.ipynb',\n",
       " '11_diccionarios.ipynb',\n",
       " '07_control_de_flujo.ipynb',\n",
       " 'mi_archivo.txt',\n",
       " '01_variables_objetos.ipynb',\n",
       " '05_cadenas.ipynb',\n",
       " '06_input_print.ipynb',\n",
       " '09_tuplas.ipynb',\n",
       " '10_conjuntos.ipynb',\n",
       " '15_import.ipynb',\n",
       " '.git',\n",
       " '.gitignore']"
      ]
     },
     "execution_count": 23,
     "metadata": {},
     "output_type": "execute_result"
    }
   ],
   "source": [
    "os.listdir()"
   ]
  },
  {
   "cell_type": "code",
   "execution_count": 24,
   "metadata": {},
   "outputs": [
    {
     "name": "stdout",
     "output_type": "stream",
     "text": [
      "parent: 2320, child: 2756\n",
      "\n",
      "\n",
      "A new child  2756\n"
     ]
    },
    {
     "name": "stdin",
     "output_type": "stream",
     "text": [
      "q for quit / c for new fork c\n"
     ]
    },
    {
     "name": "stdout",
     "output_type": "stream",
     "text": [
      "parent: 2320, child: 2766\n",
      "\n",
      "\n",
      "A new child  2766\n"
     ]
    },
    {
     "name": "stdin",
     "output_type": "stream",
     "text": [
      "q for quit / c for new fork c\n"
     ]
    },
    {
     "name": "stdout",
     "output_type": "stream",
     "text": [
      "parent: 2320, child: 2775\n",
      "\n",
      "\n",
      "A new child  2775\n"
     ]
    },
    {
     "name": "stdin",
     "output_type": "stream",
     "text": [
      "q for quit / c for new fork q\n"
     ]
    }
   ],
   "source": [
    "import os\n",
    "\n",
    "def child():\n",
    "    print('\\nA new child ',  os.getpid())\n",
    "    os._exit(0)  \n",
    "\n",
    "def parent():\n",
    "    while True:\n",
    "        newpid = os.fork()\n",
    "        if newpid == 0:\n",
    "            child()\n",
    "        else:\n",
    "            pids = (os.getpid(), newpid)\n",
    "            print(\"parent: %d, child: %d\\n\" % pids)\n",
    "        reply = input(\"q for quit / c for new fork\")\n",
    "        if reply == 'c': \n",
    "            continue\n",
    "        else:\n",
    "            break\n",
    "\n",
    "parent()"
   ]
  },
  {
   "cell_type": "markdown",
   "metadata": {},
   "source": [
    "## `platform` \n",
    "\n",
    "Para acceso a los datos identificativos de la plataforma subyacente. Más información: https://docs.python.org/3/library/platform.html."
   ]
  },
  {
   "cell_type": "code",
   "execution_count": 29,
   "metadata": {},
   "outputs": [
    {
     "name": "stdout",
     "output_type": "stream",
     "text": [
      "Sistema operativo : Linux 11\n"
     ]
    }
   ],
   "source": [
    "import platform\n",
    "\n",
    "SO = platform.system()\n",
    "\n",
    "if SO == \"Windows\":\n",
    "    print(\"Sistema operativo : Windows 11\")\n",
    "elif SO == \"Linux\":\n",
    "    print(\"Sistema operativo : Linux 11\")\n",
    "elif SO == \"Darwin\":\n",
    "    print(\"Sistema operativo : MacOS\")"
   ]
  },
  {
   "cell_type": "markdown",
   "metadata": {},
   "source": [
    "## `shutil`\n",
    "\n",
    "El módulo `shutil` ofrece una serie de operaciones de alto nivel en archivos y colecciones de archivos. En particular, se proporcionan funciones que admiten la copia y eliminación de archivos. Más información: https://docs.python.org/3/library/shutil.html."
   ]
  },
  {
   "cell_type": "code",
   "execution_count": 41,
   "metadata": {},
   "outputs": [
    {
     "name": "stdout",
     "output_type": "stream",
     "text": [
      "/home/jovyan/introduccion_python/BORRAME\n"
     ]
    },
    {
     "data": {
      "text/plain": [
       "['mi_archivo.txt', 'test_salida_estandar.txt']"
      ]
     },
     "execution_count": 41,
     "metadata": {},
     "output_type": "execute_result"
    }
   ],
   "source": [
    "import os, shutil\n",
    "\n",
    "# Obtenemos el directorio original\n",
    "dir_original = os.getcwd()\n",
    "\n",
    "# Obtenemos la lista de archivos\n",
    "lista_archivos = os.listdir(dir_original)\n",
    "\n",
    "# Creamos una carpeta\n",
    "os.mkdir('BORRAME')\n",
    "\n",
    "# Creamos una cadena con la ruta a la nueva carpeta\n",
    "dir_destino = dir_original + '/BORRAME'\n",
    "print(dir_destino)\n",
    "\n",
    "# Recorremos la lista de archivos\n",
    "for files in lista_archivos:\n",
    "    # Si el nombre termina con \".txt\" lo copiamos a la carpeta\n",
    "    if files.endswith(\".txt\"):\n",
    "        shutil.copy(files, dir_destino)\n",
    "        \n",
    "# Listamos los archivos en la carpeta\n",
    "os.listdir('./BORRAME/')"
   ]
  },
  {
   "cell_type": "code",
   "execution_count": 42,
   "metadata": {},
   "outputs": [],
   "source": [
    "# Eliminamos la carpeta\n",
    "shutil.rmtree(\"./BORRAME/\")"
   ]
  },
  {
   "cell_type": "markdown",
   "metadata": {},
   "source": [
    "## `sys`\n",
    "\n",
    "Provee información acerca de las constantes, funciones y métodos del interprete de Python. Más información: https://docs.python.org/3/library/sys.html."
   ]
  },
  {
   "cell_type": "code",
   "execution_count": 35,
   "metadata": {},
   "outputs": [],
   "source": [
    "import sys"
   ]
  },
  {
   "cell_type": "code",
   "execution_count": 36,
   "metadata": {},
   "outputs": [
    {
     "data": {
      "text/plain": [
       "'3.11.6 | packaged by conda-forge | (main, Oct  3 2023, 10:40:35) [GCC 12.3.0]'"
      ]
     },
     "execution_count": 36,
     "metadata": {},
     "output_type": "execute_result"
    }
   ],
   "source": [
    "sys.version"
   ]
  },
  {
   "cell_type": "code",
   "execution_count": 37,
   "metadata": {},
   "outputs": [
    {
     "data": {
      "text/plain": [
       "sys.float_info(max=1.7976931348623157e+308, max_exp=1024, max_10_exp=308, min=2.2250738585072014e-308, min_exp=-1021, min_10_exp=-307, dig=15, mant_dig=53, epsilon=2.220446049250313e-16, radix=2, rounds=1)"
      ]
     },
     "execution_count": 37,
     "metadata": {},
     "output_type": "execute_result"
    }
   ],
   "source": [
    "sys.float_info"
   ]
  },
  {
   "cell_type": "code",
   "execution_count": 38,
   "metadata": {},
   "outputs": [
    {
     "data": {
      "text/plain": [
       "['/home/jovyan/introduccion_python',\n",
       " '/opt/conda/lib/python311.zip',\n",
       " '/opt/conda/lib/python3.11',\n",
       " '/opt/conda/lib/python3.11/lib-dynload',\n",
       " '',\n",
       " '/opt/conda/lib/python3.11/site-packages']"
      ]
     },
     "execution_count": 38,
     "metadata": {},
     "output_type": "execute_result"
    }
   ],
   "source": [
    "sys.path"
   ]
  },
  {
   "cell_type": "code",
   "execution_count": 39,
   "metadata": {},
   "outputs": [
    {
     "name": "stdout",
     "output_type": "stream",
     "text": [
      "Impresión a la salida estándar\n"
     ]
    }
   ],
   "source": [
    "print(\"Impresión a la salida estándar\")\n",
    "\n",
    "# Salvamos la salida estándar \n",
    "save_stdout = sys.stdout\n",
    "\n",
    "fh = open(\"test_salida_estandar.txt\",\"w\")\n",
    "\n",
    "# Cambiamos la salida estándar\n",
    "sys.stdout = fh\n",
    "print(\"Esta línea va hacia el archivo test_salida_estandar.txt\")\n",
    "\n",
    "# Regresamos la salida estandar a la normalidad\n",
    "sys.stdout = save_stdout\n",
    "\n",
    "# Cerramos el archivo\n",
    "fh.close()"
   ]
  },
  {
   "cell_type": "code",
   "execution_count": 43,
   "metadata": {},
   "outputs": [],
   "source": [
    "# Eliminamos el archivo\n",
    "os.remove(\"test_salida_estandar.txt\")"
   ]
  },
  {
   "cell_type": "code",
   "execution_count": 44,
   "metadata": {},
   "outputs": [
    {
     "data": {
      "text/plain": [
       "<ipykernel.iostream.OutStream at 0x7f598aa6b250>"
      ]
     },
     "execution_count": 44,
     "metadata": {},
     "output_type": "execute_result"
    }
   ],
   "source": [
    "sys.stderr"
   ]
  },
  {
   "cell_type": "markdown",
   "metadata": {},
   "source": [
    "## `time` y `datetime`\n",
    "\n",
    "- `time` : Acceso al tiempo del sistema y conversiones. Más información: https://docs.python.org/3/library/time.html.\n",
    "\n",
    "- `datetime` Tipos básicos para el tiempo y la fecha. Más información: https://docs.python.org/3/library/datetime.html."
   ]
  },
  {
   "cell_type": "code",
   "execution_count": 45,
   "metadata": {},
   "outputs": [
    {
     "name": "stdout",
     "output_type": "stream",
     "text": [
      "Time in seconds since the epoch: 1720133607.7240462\n",
      "Current date and time:  2024-07-04 22:53:27.724201\n",
      "Or like this:  24-07-04-22-53\n",
      "Current year:  2024\n",
      "Month of year:  July\n",
      "Week number of the year:  27\n",
      "Weekday of the week:  4\n",
      "Day of year:  186\n",
      "Day of the month :  04\n",
      "Day of week:  Thursday\n"
     ]
    }
   ],
   "source": [
    "import time\n",
    "import datetime\n",
    "\n",
    "print(\"Time in seconds since the epoch: %s\" %time.time())\n",
    "print(\"Current date and time: \" , datetime.datetime.now())\n",
    "print(\"Or like this: \" ,datetime.datetime.now().strftime(\"%y-%m-%d-%H-%M\"))\n",
    "\n",
    "\n",
    "print(\"Current year: \", datetime.date.today().strftime(\"%Y\"))\n",
    "print(\"Month of year: \", datetime.date.today().strftime(\"%B\"))\n",
    "print(\"Week number of the year: \", datetime.date.today().strftime(\"%W\"))\n",
    "print(\"Weekday of the week: \", datetime.date.today().strftime(\"%w\"))\n",
    "print(\"Day of year: \", datetime.date.today().strftime(\"%j\"))\n",
    "print(\"Day of the month : \", datetime.date.today().strftime(\"%d\"))\n",
    "print(\"Day of week: \", datetime.date.today().strftime(\"%A\"))"
   ]
  },
  {
   "cell_type": "code",
   "execution_count": 46,
   "metadata": {},
   "outputs": [
    {
     "data": {
      "text/plain": [
       "19684"
      ]
     },
     "execution_count": 46,
     "metadata": {},
     "output_type": "execute_result"
    }
   ],
   "source": [
    "hoy = datetime.date.today()\n",
    "nacimiento = datetime.date(1970, 8, 13)\n",
    "edad = hoy - nacimiento\n",
    "edad.days"
   ]
  },
  {
   "cell_type": "code",
   "execution_count": 47,
   "metadata": {},
   "outputs": [
    {
     "name": "stdout",
     "output_type": "stream",
     "text": [
      "0.04298611730337143\n",
      "0.03315260633826256\n"
     ]
    }
   ],
   "source": [
    "from timeit import Timer\n",
    "print(Timer('t=a; a=b; b=t', 'a=1; b=2').timeit())\n",
    "print(Timer('a,b = b,a', 'a=1; b=2').timeit())"
   ]
  },
  {
   "cell_type": "markdown",
   "metadata": {},
   "source": [
    "## `glob`\n",
    "\n",
    "El módulo `glob` encuentra todos los nombres de ruta que coinciden con un patrón específico de acuerdo con las reglas utilizadas por el shell de Unix, aunque los resultados se devuelven en orden arbitrario. Más información: https://docs.python.org/3/library/glob.html."
   ]
  },
  {
   "cell_type": "code",
   "execution_count": 52,
   "metadata": {},
   "outputs": [
    {
     "data": {
      "text/plain": [
       "['03_operadores.ipynb',\n",
       " '02_tipos_basicos.ipynb',\n",
       " '04_expresiones_declaraciones.ipynb',\n",
       " '12_ds_casting.ipynb',\n",
       " '13_ds_traversing.ipynb',\n",
       " '14_funciones.ipynb',\n",
       " '08_listas.ipynb',\n",
       " '11_diccionarios.ipynb',\n",
       " '07_control_de_flujo.ipynb',\n",
       " '01_variables_objetos.ipynb',\n",
       " '05_cadenas.ipynb',\n",
       " '06_input_print.ipynb',\n",
       " '09_tuplas.ipynb',\n",
       " '10_conjuntos.ipynb',\n",
       " '15_import.ipynb']"
      ]
     },
     "execution_count": 52,
     "metadata": {},
     "output_type": "execute_result"
    }
   ],
   "source": [
    "import os, glob\n",
    "metadata = [(f) for f in glob.glob('*.ipynb')]\n",
    "\n",
    "metadata"
   ]
  },
  {
   "cell_type": "code",
   "execution_count": 53,
   "metadata": {},
   "outputs": [],
   "source": [
    "metadata_dict = {f:os.stat(f) for f in glob.glob('*.ipynb')}"
   ]
  },
  {
   "cell_type": "code",
   "execution_count": 54,
   "metadata": {},
   "outputs": [
    {
     "data": {
      "text/plain": [
       "dict_keys(['03_operadores.ipynb', '02_tipos_basicos.ipynb', '04_expresiones_declaraciones.ipynb', '12_ds_casting.ipynb', '13_ds_traversing.ipynb', '14_funciones.ipynb', '08_listas.ipynb', '11_diccionarios.ipynb', '07_control_de_flujo.ipynb', '01_variables_objetos.ipynb', '05_cadenas.ipynb', '06_input_print.ipynb', '09_tuplas.ipynb', '10_conjuntos.ipynb', '15_import.ipynb'])"
      ]
     },
     "execution_count": 54,
     "metadata": {},
     "output_type": "execute_result"
    }
   ],
   "source": [
    "metadata_dict.keys()"
   ]
  },
  {
   "cell_type": "code",
   "execution_count": 55,
   "metadata": {},
   "outputs": [
    {
     "data": {
      "text/plain": [
       "dict_values([os.stat_result(st_mode=33188, st_ino=17207348864, st_dev=1048787, st_nlink=1, st_uid=1000, st_gid=100, st_size=29361, st_atime=1720040658, st_mtime=1720040658, st_ctime=1720040658), os.stat_result(st_mode=33188, st_ino=17204147642, st_dev=1048787, st_nlink=1, st_uid=1000, st_gid=100, st_size=25207, st_atime=1720040601, st_mtime=1720040601, st_ctime=1720040601), os.stat_result(st_mode=33188, st_ino=17204147641, st_dev=1048787, st_nlink=1, st_uid=1000, st_gid=100, st_size=9118, st_atime=1719955078, st_mtime=1719955078, st_ctime=1719955078), os.stat_result(st_mode=33188, st_ino=17216773808, st_dev=1048787, st_nlink=1, st_uid=1000, st_gid=100, st_size=11345, st_atime=1720126102, st_mtime=1720126102, st_ctime=1720126102), os.stat_result(st_mode=33188, st_ino=17216773800, st_dev=1048787, st_nlink=1, st_uid=1000, st_gid=100, st_size=16396, st_atime=1720127500, st_mtime=1720127500, st_ctime=1720127500), os.stat_result(st_mode=33188, st_ino=17216875873, st_dev=1048787, st_nlink=1, st_uid=1000, st_gid=100, st_size=16732, st_atime=1720130570, st_mtime=1720130570, st_ctime=1720130570), os.stat_result(st_mode=33188, st_ino=17224679662, st_dev=1048787, st_nlink=1, st_uid=1000, st_gid=100, st_size=44655, st_atime=1720121327, st_mtime=1720121327, st_ctime=1720121327), os.stat_result(st_mode=33188, st_ino=17216773811, st_dev=1048787, st_nlink=1, st_uid=1000, st_gid=100, st_size=17871, st_atime=1720126060, st_mtime=1720126060, st_ctime=1720126060), os.stat_result(st_mode=33188, st_ino=17224679669, st_dev=1048787, st_nlink=1, st_uid=1000, st_gid=100, st_size=50804, st_atime=1720053759, st_mtime=1720053759, st_ctime=1720053759), os.stat_result(st_mode=33188, st_ino=17226570229, st_dev=1048787, st_nlink=1, st_uid=1000, st_gid=100, st_size=25967, st_atime=1720039658, st_mtime=1720039658, st_ctime=1720039658), os.stat_result(st_mode=33188, st_ino=17200483883, st_dev=1048787, st_nlink=1, st_uid=1000, st_gid=100, st_size=34452, st_atime=1720047992, st_mtime=1720047991, st_ctime=1720047991), os.stat_result(st_mode=33188, st_ino=17224679663, st_dev=1048787, st_nlink=1, st_uid=1000, st_gid=100, st_size=27021, st_atime=1720055555, st_mtime=1720055555, st_ctime=1720055555), os.stat_result(st_mode=33188, st_ino=17216884597, st_dev=1048787, st_nlink=1, st_uid=1000, st_gid=100, st_size=17591, st_atime=1720130469, st_mtime=1720121678, st_ctime=1720121678), os.stat_result(st_mode=33188, st_ino=17216884607, st_dev=1048787, st_nlink=1, st_uid=1000, st_gid=100, st_size=14796, st_atime=1720123267, st_mtime=1720123267, st_ctime=1720123267), os.stat_result(st_mode=33188, st_ino=17216875874, st_dev=1048787, st_nlink=1, st_uid=1000, st_gid=100, st_size=16692, st_atime=1720058085, st_mtime=1719452710, st_ctime=1720048231)])"
      ]
     },
     "execution_count": 55,
     "metadata": {},
     "output_type": "execute_result"
    }
   ],
   "source": [
    "metadata_dict.values()"
   ]
  },
  {
   "cell_type": "code",
   "execution_count": 56,
   "metadata": {},
   "outputs": [
    {
     "data": {
      "text/plain": [
       "16692"
      ]
     },
     "execution_count": 56,
     "metadata": {},
     "output_type": "execute_result"
    }
   ],
   "source": [
    "metadata_dict['15_import.ipynb'].st_size"
   ]
  },
  {
   "cell_type": "markdown",
   "metadata": {},
   "source": [
    "## `urllib`\n",
    "\n",
    "Recopila varios módulos para trabajar con URL. Más información: https://docs.python.org/3/library/urllib.html."
   ]
  },
  {
   "cell_type": "code",
   "execution_count": 62,
   "metadata": {},
   "outputs": [
    {
     "name": "stdout",
     "output_type": "stream",
     "text": [
      "b'<!DOCTYPE html>\\r\\n<html>\\r\\n<head>\\r\\n\\t<meta name=\"robots\" content=\"noindex\" />\\r\\n\\t<!--\\r\\n\\t<script async src=\"https://www.googletagmanager.com/gtag/js?id=G-Q0CXW0Q6R4\"></script>\\r\\n\\t<script>window.dataLayer = window.dataLayer || []; function gtag(){dataLayer.push(arguments);} gtag(\\'js\\', new Date()); gtag(\\'config\\', \\'G-Q0CXW0Q6R4\\');</script>\\r\\n\\t-->\\r\\n\\t<meta lang=\"es-MX\">\\r\\n\\t<meta charset=\"utf-8\">\\r\\n\\t<meta name=\"viewport\" content=\"width=device-width, initial-scale=1\">\\r\\n\\t<title>MACTI | UNAM</title>\\r\\n\\t<meta name=\"description\" content=\"Conoce la plataforma MACTI de la UNAM\"/>\\r\\n\\t<!--<meta name=\"description\" content=\"Conoce la plataforma MACTI en la Segunda Escuela de C\\xc3\\xb3mputo Cu\\xc3\\xa1ntico 2023 de la UNAM\"/>-->\\r\\n\\t<link href=\"https://cdn.jsdelivr.net/npm/bootstrap@5.1.3/dist/css/bootstrap.min.css\" rel=\"stylesheet\" integrity=\"sha384-1BmE4kWBq78iYhFldvKuhfTAU6auU8tT94WrHftjDbrCEXSU1oBoqyl2QvZ6jIW3\" crossorigin=\"anonymous\">\\r\\n\\t<link rel=\"preconnect\" href=\"https://fonts.googleapis.com\">\\r\\n\\t<link rel=\"preconnect\" href=\"https://fonts.gstatic.com\" crossorigin>\\r\\n\\t<link href=\"https://fonts.googleapis.com/css2?family=Bai+Jamjuree:ital,wght@0,200;0,300;0,400;0,500;0,600;0,700;1,200;1,300;1,400;1,500;1,600;1,700&display=swap\" rel=\"stylesheet\">\\r\\n\\t<link href=\"https://unpkg.com/aos@2.3.1/dist/aos.css\" rel=\"stylesheet\">\\r\\n\\t<link href=\"recursos/css/23i01a.css\" rel=\"stylesheet\">\\r\\n\\t<!--www.macti.unam.mx v2.1.1.20230901 -->\\r\\n</head>\\r\\n\\r\\n<body>\\r\\n\\t<header>\\r\\n\\t\\t<nav class=\"navbar navbar-expand-lg navbar-dark bg-dark fixed-top\">\\r\\n\\t\\t\\t<div class=\"container-fluid fw-bold\">\\r\\n\\t\\t\\t    <div>\\r\\n\\t\\t\\t\\t    <a class=\"navbar-brand\" href=\"./\">\\r\\n\\t\\t\\t      \\t\\t<img src=\"recursos/img/macti_logo_web.png\" alt=\"macti\">\\r\\n\\t\\t\\t    \\t</a>\\r\\n\\t\\t\\t    </div>\\r\\n\\t\\t\\t    <div class=\"offcanvas offcanvas-start\" tabindex=\"-1\" id=\"offcanvasNavbar\" aria-labelledby=\"offcanvasNavbarLabel\">\\r\\n\\t\\t\\t     \\t<div class=\"offcanvas-header d-flex justify-content-end d-lg-none\">\\r\\n\\t\\t\\t        \\t<button type=\"button\" class=\"btn-close btn-close-white\" data-bs-dismiss=\"offcanvas\" aria-label=\"Close\"></button>\\r\\n\\t\\t\\t    \\t</div>\\r\\n\\t\\t\\t    \\t<div class=\"offcanvas-body\">\\r\\n\\t        \\t\\t<div class=\"access text-center me-4\">\\r\\n\\t        \\t\\t\\t<select id=\"mactiLinkSelect\" class=\"macti-select form-select form-select-lg mb-5 mb-lg-0\">\\r\\n\\t\\t\\t\\t\\t\\t\\t\\t\\t<option value=\"0\" selected>Elige tu MACTI</option>\\r\\n\\t\\t\\t\\t\\t\\t\\t\\t\\t<!--\\r\\n\\t        \\t\\t\\t\\t<option value=\"principal\">MACTI (principal)</option>\\r\\n\\t        \\t\\t\\t\\t<option value=\"cuantico\">Escuela de C\\xc3\\xb3mputo Cu\\xc3\\xa1ntico</option>\\r\\n\\t        \\t\\t\\t\\t<option value=\"ciencias\">Facultad de Ciencias</option>\\r\\n\\t        \\t\\t\\t\\t<option value=\"ingenieria\">Facultad de Ingenieria</option>\\r\\n\\t        \\t\\t\\t\\t<option value=\"encit\">ENCiT</option>\\r\\n\\t        \\t\\t\\t\\t<option value=\"ier\">IER</option>\\r\\n\\t        \\t\\t\\t\\t<option value=\"morelia\">ENES Morelia</option>\\r\\n\\t        \\t\\t\\t\\t<option value=\"hpc\">Cursos HPC</option>\\r\\n\\t        \\t\\t\\t\\t-->\\r\\n\\t        \\t\\t\\t</select>\\r\\n\\t        \\t\\t\\t<a id=\"mactiLinkMoodle\" href=\"https://www.macti.unam.mx/lms/\" class=\"btn btn-outline-primary btn-lg btn-macti btn-macti-login d-none\" target=\"_blank\" data-aos=\"fade-left\" onclick=\"regEvent(\\'Clicks\\', \\'Buttons\\', \\'Moodle (navbar)\\')\">Moodle</a>\\r\\n\\t        \\t\\t\\t<a id=\"mactiLinkJupyter\" href=\"https://www.macti.unam.mx/hub/\" class=\"btn btn-outline-primary btn-lg btn-macti btn-macti-login d-none\" target=\"blank\" data-aos=\"fade-left\" onclick=\"regEvent(\\'Clicks\\', \\'Buttons\\', \\'JupyterHub (navbar)\\')\">JupyterHub</a>\\r\\n\\t        \\t\\t</div>\\r\\n\\t        \\t\\t<div class=\"position-absolute bottom-0 start-50 translate-middle-x mb-4 d-lg-none\">\\r\\n\\t        \\t\\t\\t<img src=\"recursos/img/macti_logo_web.png\" class=\"macti-offcanvas-logo\" alt=\"macti\">\\r\\n\\t        \\t\\t</div>\\r\\n\\t\\t\\t    \\t</div>\\r\\n\\t\\t\\t    </div>\\r\\n\\t\\t\\t    <button class=\"navbar-toggler\" type=\"button\" data-bs-toggle=\"offcanvas\" data-bs-target=\"#offcanvasNavbar\" aria-controls=\"offcanvasNavbar\">\\r\\n\\t\\t\\t    \\t<span class=\"navbar-toggler-icon\"></span>\\r\\n\\t\\t\\t    </button>\\r\\n\\t\\t\\t</div>\\r\\n\\t\\t</nav>\\r\\n\\t</header>\\r\\n\\r\\n\\t<main>\\r\\n\\t\\t<section id=\"intro\">\\r\\n\\t\\t\\t<div class=\"container position-absolute text-center\">\\r\\n\\t\\t\\t\\t<div class=\"d-flex d-flex-inline justify-content-center logo-intro-container\">\\r\\n\\t\\t\\t\\t\\t\\t<a href=\"https://unam.mx\" target=\"_blank\" class=\"macti-logo-intro logo-animation\" onclick=\"regEvent(\\'Clicks\\', \\'Image Links\\', \\'UNAM (portada)\\')\"><img src=\"recursos/img/unam.png\" class=\"macti-logo-intro-unam\"></a>\\r\\n\\t\\t\\t\\t\\t\\t<a href=\"https://www.fciencias.unam.mx\" target=\"_blank\" class=\"macti-logo-intro logo-animation\" onclick=\"regEvent(\\'Clicks\\', \\'Image Links\\', \\'Ciencias (portada)\\')\"><img src=\"recursos/img/ciencias.png\" class=\"macti-logo-intro-ciencias\"></a>\\r\\n\\t\\t\\t\\t\\t\\t<a href=\"https://www.nucleares.unam.mx\" target=\"_blank\" class=\"macti-logo-intro logo-animation\" onclick=\"regEvent(\\'Clicks\\', \\'Image Links\\', \\'Nucleares (portada)\\')\"><img src=\"recursos/img/nucleares.png\" class=\"macti-logo-intro-nucleares\"></a>\\r\\n\\t\\t\\t\\t\\t\\t<a href=\"https://www.geofisica.unam.mx\" target=\"_blank\" class=\"macti-logo-intro logo-animation\" onclick=\"regEvent(\\'Clicks\\', \\'Image Links\\', \\'Geofisica (portada)\\')\"><img src=\"recursos/img/geofisica.png\" class=\"macti-logo-intro-geofisica\"></a>\\r\\n\\t\\t\\t\\t</div>\\r\\n\\t\\t\\t\\t<img class=\"mb-2\" src=\"recursos/img/macti_logo_verde_web.png\" data-aos=\"zoom-in\" data-aos-duration=\"800\">\\r\\n\\t\\t\\t\\t<p class=\"content-subtitle mb-4\" data-aos=\"zoom-in\" data-aos-duration=\"600\">Aprendizaje de un mundo nuevo</p>\\r\\n\\t\\t\\t\\t<a id=\"cta\" class=\"btn btn-outline-secondary btn-lg btn-macti d-none\" href=\"https://www.macti.unam.mx/lms/\" target=\"_blank\" data-aos=\"fade-up\" data-aos-delay=\"400\" data-aos-duration=\"600\" onclick=\"regEvent(\\'Clicks\\', \\'Buttons\\', \\'Comienza a aprender\\')\">Comienza a aprender</a>\\r\\n\\t\\t\\t</div>\\r\\n\\t\\t  <div class=\"logos-autotoggle-container position-absolute bottom-0 end-0 p-2 p-md-3 p-lg-4 d-none d-md-inline-block d-macti-none\">\\r\\n\\t\\t  \\t<div class=\"logos-autotoggle d-flex flex-column justify-content-center align-items-center\">\\r\\n\\t\\t  \\t\\t<a href=\"https://unam.mx/\" target=\"_blank\" class=\"logo-autotoggle-unam logo-animation\" onclick=\"regEvent(\\'Clicks\\', \\'Image Links\\', \\'UNAM (Banner Segunda Escuela de C\\xc3\\xb3mputo)\\')\"><img src=\"recursos/img/unam_macro.png\"></a>\\r\\n\\t  \\t\\t\\t<a href=\"https://cecav.unam.mx/\" target=\"_blank\" class=\"logo-autotoggle-cecav logo-animation\" onclick=\"regEvent(\\'Clicks\\', \\'Image Links\\', \\'CECAV (Banner Segunda Escuela de C\\xc3\\xb3mputo)\\')\"><img src=\"recursos/img/cecav.png\"></a>\\r\\n\\t  \\t\\t\\t<a href=\"https://www.nucleares.unam.mx\" target=\"_blank\" class=\"logo-autotoggle-nucleares logo-animation\" onclick=\"regEvent(\\'Clicks\\', \\'Image Links\\', \\'Nucleares (Banner Segunda Escuela de C\\xc3\\xb3mputo)\\')\"><img src=\"recursos/img/nucleares.png\"></a>\\r\\n\\t  \\t\\t\\t<a href=\"https://www.ingenieria.unam.mx/\" target=\"_blank\" class=\"logo-autotoggle-ingenieria logo-animation\" onclick=\"regEvent(\\'Clicks\\', \\'Image Links\\', \\'Ingenieria (Banner Segunda Escuela de C\\xc3\\xb3mputo)\\')\"><img src=\"recursos/img/ingenieria.png\"></a>\\r\\n\\t  \\t\\t\\t<a href=\"https://www.iimas.unam.mx/\" target=\"_blank\" class=\"logo-autotoggle-iimas logo-animation\" onclick=\"regEvent(\\'Clicks\\', \\'Image Links\\', \\'IIMAS (Banner Segunda Escuela de C\\xc3\\xb3mputo)\\')\"><img src=\"recursos/img/iimas.png\"></a>\\r\\n\\t  \\t\\t\\t<a href=\"https://www.cic.ipn.mx/\" target=\"_blank\" class=\"logo-autotoggle-ipn logo-animation\" onclick=\"regEvent(\\'Clicks\\', \\'Image Links\\', \\'IPN - CIC (Banner Segunda Escuela de C\\xc3\\xb3mputo)\\')\"><img src=\"recursos/img/ipn.png\"></a>\\r\\n\\t  \\t\\t\\t<a href=\"https://www.uv.mx/\" target=\"_blank\" class=\"logo-autotoggle-uv logo-animation\" onclick=\"regEvent(\\'Clicks\\', \\'Image Links\\', \\'UV (Banner Segunda Escuela de C\\xc3\\xb3mputo)\\')\"><img src=\"recursos/img/uv.png\"></a>\\r\\n\\t  \\t\\t\\t<a href=\"https://www.udem.edu.mx/\" target=\"_blank\" class=\"logo-autotoggle-monterrey logo-animation\" onclick=\"regEvent(\\'Clicks\\', \\'Image Links\\', \\'UDEM (Banner Segunda Escuela de C\\xc3\\xb3mputo)\\')\"><img src=\"recursos/img/monterrey.png\"></a>\\r\\n\\t  \\t\\t\\t<a href=\"https://www.uchicago.edu/\" target=\"_blank\" class=\"logo-autotoggle-chicago logo-animation\" onclick=\"regEvent(\\'Clicks\\', \\'Image Links\\', \\'Chicago (Banner Segunda Escuela de C\\xc3\\xb3mputo)\\')\"><img src=\"recursos/img/chicago.png\"></a>\\r\\n\\t  \\t\\t\\t<a href=\"https://perimeterinstitute.ca/\" target=\"_blank\" class=\"logo-autotoggle-perimeter logo-animation\" onclick=\"regEvent(\\'Clicks\\', \\'Image Links\\', \\'Perimeter (Banner Segunda Escuela de C\\xc3\\xb3mputo)\\')\"><img src=\"recursos/img/perimeter.png\"></a>\\r\\n\\t\\t  \\t</div>\\r\\n      </div>\\r\\n\\t\\t</section>\\r\\n\\t\\t<div class=\"wave-intro\">\\r\\n\\t\\t\\t<svg width=\"100%\" height=\"100%\" id=\"svg\" viewBox=\"0 0 1440 700\" xmlns=\"http://www.w3.org/2000/svg\" class=\"transition duration-300 ease-in-out delay-150\">\\r\\n\\t\\t\\t\\t<path d=\"M 0,700 C 0,700 0,350 0,350 C 171.33333333333331,384.26666666666665 342.66666666666663,418.5333333333333 521,390 C 699.3333333333334,361.4666666666667 884.6666666666667,270.1333333333333 1039,253 C 1193.3333333333333,235.86666666666665 1316.6666666666665,292.93333333333334 1440,350 C 1440,350 1440,700 1440,700 Z\" stroke=\"none\" stroke-width=\"0\" fill=\"#5edadaff\"></path>\\r\\n\\t\\t\\t</svg>\\r\\n\\t\\t</div>\\r\\n\\t\\t<section id=\"info\">\\r\\n\\t\\t\\t<div class=\"container\">\\r\\n\\t\\t\\t\\t<h2 class=\"content-title\">\\xc2\\xbfQu\\xc3\\xa9 es MACTI?</h2>\\r\\n\\t\\t\\t\\t<div class=\"row row-cols-1 row-cols-sm-2 row-cols-xl-4\">\\r\\n\\t\\t\\t\\t\\t<div class=\"col col-bubble-left\">\\r\\n\\t\\t\\t\\t\\t\\t<img src=\"recursos/img/macti_burbuja.png\" class=\"macti-img-bubble\" alt=\"...\" data-aos=\"fade-left\">\\r\\n\\t\\t\\t\\t\\t</div>\\r\\n\\t\\t\\t\\t\\t<div class=\"col mt-4\">\\r\\n\\t\\t\\t\\t\\t\\t<p class=\"content-text first\">MACTI es una plataforma que alberga materiales did\\xc3\\xa1cticos haciendo \\xc3\\xa9nfasis en ejemplos pr\\xc3\\xa1cticos y aplicaciones de conceptos abstractos para los cursos semestrales de an\\xc3\\xa1lisis Num\\xc3\\xa9rico y Ecuaciones Diferenciales.</p>\\r\\n\\t\\t\\t\\t\\t</div>\\r\\n\\t\\t\\t\\t\\t<div class=\"col\">\\r\\n\\t\\t\\t\\t\\t\\t<p class=\"content-text second\">Su nombre viene de la palabra n\\xc3\\xa1huatl \"temachtiani\" que refiere a \"aquel que hace que los otros sepan algo, conozcan lo que est\\xc3\\xa1 sobre la tierra\".</p>\\r\\n\\t\\t\\t\\t\\t</div>\\r\\n\\t\\t\\t\\t\\t<div class=\"col col-bubble-right text-end\">\\r\\n\\t\\t\\t\\t\\t\\t<img src=\"recursos/img/macti_burbuja_nahuatl.png\" class=\"macti-img-bubble\" alt=\"...\" data-aos=\"fade-right\">\\r\\n\\t\\t\\t\\t\\t</div>\\r\\n\\t\\t\\t\\t</div>\\r\\n\\t\\t\\t</div>\\r\\n\\t\\t</section>\\r\\n\\t\\t<div class=\"wave-intro-end\">\\r\\n\\t\\t\\t<svg width=\"100%\" height=\"100%\" id=\"svg\" viewBox=\"0 0 1440 400\" xmlns=\"http://www.w3.org/2000/svg\" class=\"transition duration-300 ease-in-out delay-150\">\\r\\n\\t\\t\\t\\t<path d=\"M 0,400 C 0,400 0,200 0,200 C 118.80000000000001,172.66666666666666 237.60000000000002,145.33333333333331 407,148 C 576.4,150.66666666666669 796.3999999999999,183.33333333333334 977,197 C 1157.6000000000001,210.66666666666666 1298.8000000000002,205.33333333333331 1440,200 C 1440,200 1440,400 1440,400 Z\" stroke=\"none\" stroke-width=\"0\" fill=\"#5edadaff\" transform=\"rotate(-180 720 200)\"></path>\\r\\n\\t\\t\\t</svg>\\r\\n\\t\\t</div>\\r\\n\\t\\t<section id=\"cursos\">\\r\\n\\t\\t\\t<div class=\"container\">\\r\\n\\t\\t\\t\\t<h2 class=\"content-title\">Cursos disponibles</h2>\\r\\n\\t\\t\\t\\t<div class=\"row row-cols-2 row-cols-sm-2 row-cols-sm-2 row-cols-lg-4 g-4\">\\r\\n\\t\\t\\t\\t\\t<div class=\"col\" data-aos=\"fade-down\">\\r\\n\\t\\t\\t\\t\\t\\t<div class=\"card\">\\r\\n\\t\\t\\t\\t\\t\\t\\t<a href=\"https://www.macti.unam.mx/lms/course/view.php?id=9\" target=\"_blank\" onclick=\"regEvent(\\'Clicks\\', \\'Cursos\\', \\'An\\xc3\\xa1lisis N\\xc3\\xbamerico\\')\">\\r\\n\\t\\t\\t\\t\\t\\t\\t\\t<img src=\"recursos/img/macti_cursos_analisis_numerico.jpg\" class=\"card-img\">\\r\\n\\t\\t\\t\\t\\t\\t\\t\\t<div class=\"card-img-overlay\">\\r\\n\\t\\t\\t\\t\\t\\t\\t    \\t<h5 class=\"card-title\">An\\xc3\\xa1lisis<br>num\\xc3\\xa9rico</h5>\\r\\n\\t\\t\\t\\t\\t\\t\\t  \\t</div>\\r\\n\\t\\t\\t\\t\\t\\t\\t  </a>\\r\\n\\t\\t\\t\\t\\t\\t</div>\\r\\n\\t\\t\\t\\t\\t</div>\\r\\n\\t\\t\\t\\t\\t<div class=\"col\" data-aos=\"fade-down\">\\r\\n\\t\\t\\t\\t\\t\\t<div class=\"card\">\\r\\n\\t\\t\\t\\t\\t\\t\\t<a href=\"https://www.macti.unam.mx/lms/course/view.php?id=2\" target=\"_blank\" onclick=\"regEvent(\\'Clicks\\', \\'Cursos\\', \\'Ecuaciones diferenciales\\')\">\\r\\n\\t\\t\\t\\t\\t\\t\\t\\t<img src=\"recursos/img/macti_cursos_ecuaciones_diferenciales.jpg\" class=\"card-img\">\\r\\n\\t\\t\\t\\t\\t\\t\\t\\t<div class=\"card-img-overlay\">\\r\\n\\t\\t\\t    \\t\\t\\t\\t\\t<h5 class=\"card-title\">Ecuaciones<br>diferenciales</h5>\\r\\n\\t\\t    \\t\\t\\t\\t\\t</div>\\r\\n\\t\\t    \\t\\t\\t\\t</a>\\r\\n\\t    \\t\\t\\t\\t</div>\\r\\n\\t\\t\\t\\t\\t</div>\\r\\n\\t\\t\\t\\t\\t<div class=\"col\" data-aos=\"fade-up\">\\r\\n\\t\\t\\t\\t\\t\\t<div class=\"card\">\\r\\n\\t\\t\\t\\t\\t\\t\\t<a href=\"#libre\">\\r\\n\\t\\t\\t\\t\\t\\t\\t\\t<img src=\"recursos/img/macti_cursos_libre_acceso.jpg\" class=\"card-img\" onclick=\"regEvent(\\'Clicks\\', \\'Cursos\\', \\'Cursos de libre acceso\\')\">\\r\\n\\t\\t\\t\\t\\t\\t\\t\\t<div class=\"card-img-overlay\">\\r\\n\\t\\t\\t\\t\\t\\t\\t\\t\\t<h5 class=\"card-title\">Cursos de<br>libre acceso</h5>\\r\\n\\t\\t\\t\\t\\t\\t\\t\\t</div>\\r\\n\\t\\t\\t\\t\\t\\t\\t</a>\\r\\n\\t\\t\\t\\t\\t\\t</div>\\r\\n\\t\\t\\t\\t\\t</div>\\r\\n\\t\\t\\t\\t\\t<div class=\"col\" data-aos=\"fade-up\">\\r\\n\\t\\t\\t\\t\\t\\t<div class=\"card\">\\r\\n\\t\\t\\t\\t\\t\\t\\t<a href=\"https://www.macti.unam.mx/lms/course/\" target=\"_blank\" onclick=\"regEvent(\\'Clicks\\', \\'Cursos\\', \\'Encuentra m\\xc3\\xa1s cursos\\')\">\\r\\n\\t\\t\\t\\t\\t\\t\\t\\t<img src=\"recursos/img/macti_cursos_mas.jpg\" class=\"card-img\">\\r\\n\\t\\t\\t\\t\\t\\t\\t\\t<div class=\"card-img-overlay\">\\r\\n\\t\\t\\t\\t\\t\\t\\t\\t\\t<h5 class=\"card-title\">Encuentra<br>m\\xc3\\xa1s cursos</h5>\\r\\n\\t\\t\\t\\t\\t\\t\\t\\t</div>\\r\\n\\t\\t\\t\\t\\t\\t\\t</a>\\t\\t\\t\\t\\t\\t\\r\\n\\t\\t\\t\\t\\t\\t</div>\\r\\n\\t\\t\\t\\t\\t</div>\\r\\n\\t\\t\\t\\t</div>\\r\\n\\t\\t\\t</div>\\r\\n\\t\\t</section>\\r\\n\\t\\t<section id=\"libre\">\\r\\n\\t\\t\\t<div class=\"container\">\\r\\n\\t\\t\\t\\t<h2 class=\"content-title\">Cursos de libre acceso</h2>\\r\\n\\t\\t\\t\\t<div class=\"row row-buttons\">\\r\\n\\t\\t\\t\\t\\t<div class=\"col d-flex justify-content-center\" data-aos=\"flip-left\">\\r\\n\\t\\t\\t\\t\\t\\t<a href=\"https://www.macti.unam.mx/lms/course/view.php?id=3\" target=\"_blank\" class=\"btn btn-primary btn-lg macti-btn-session d-flex align-items-center\" onclick=\"regEvent(\\'Clicks\\', \\'Cursos\\', \\'Introducci\\xc3\\xb3n a Python\\')\">\\r\\n\\t\\t\\t\\t\\t\\t\\t<span>Introducci\\xc3\\xb3n <br>a Python</span>\\r\\n\\t\\t\\t\\t\\t\\t</a>\\r\\n\\t\\t\\t\\t\\t</div>\\r\\n\\t\\t\\t\\t\\t<div class=\"col d-flex justify-content-center\" data-aos=\"flip-right\">\\r\\n\\t\\t\\t\\t\\t\\t<a href=\"https://www.macti.unam.mx/lms/course/view.php?id=4\" target=\"_blank\" class=\"btn btn-primary btn-lg macti-btn-session d-flex align-items-center\" onclick=\"regEvent(\\'Clicks\\', \\'Cursos\\', \\'Computaci\\xc3\\xb3n Cient\\xc3\\xadfica con Python\\')\">\\r\\n\\t\\t\\t\\t\\t\\t\\t<span>Computaci\\xc3\\xb3n <br>cient\\xc3\\xadfica con <br>Python</span>\\r\\n\\t\\t\\t\\t\\t\\t</a>\\r\\n\\t\\t\\t\\t\\t</div>\\r\\n\\t\\t\\t\\t</div>\\r\\n\\t\\t\\t</div>\\r\\n\\t\\t</section>\\r\\n\\t\\t<div class=\"wave-libre-end\">\\r\\n\\t\\t\\t<svg width=\"100%\" height=\"100%\" id=\"svg\" viewBox=\"0 0 1440 400\" xmlns=\"http://www.w3.org/2000/svg\" class=\"transition duration-300 ease-in-out delay-150\">\\r\\n\\t\\t\\t\\t<path d=\"M 0,400 C 0,400 0,200 0,200 C 120.53333333333336,224.13333333333333 241.06666666666672,248.26666666666668 403,234 C 564.9333333333333,219.73333333333332 768.2666666666667,167.06666666666666 948,155 C 1127.7333333333333,142.93333333333334 1283.8666666666668,171.46666666666667 1440,200 C 1440,200 1440,400 1440,400 Z\" stroke=\"none\" stroke-width=\"0\" fill=\"#5edadaff\" transform=\"rotate(-180 720 200)\"></path>\\r\\n\\t\\t\\t</svg>\\r\\n\\t\\t</div>\\r\\n\\t\\t<section id=\"explora\">\\r\\n\\t\\t\\t<div class=\"text-center\">\\r\\n\\t\\t\\t\\t<div class=\"explore-overlay\">\\r\\n\\t\\t\\t\\t\\t<h2 class=\"content-title\">Explora en MACTI 1.0</h2>\\r\\n\\t\\t\\t\\t\\t<p class=\"content-subtitle\">Visita la primera versi\\xc3\\xb3n de MACTI y<br> descubre m\\xc3\\xa1s materiales did\\xc3\\xa1cticos</p>\\r\\n\\t\\t\\t\\t\\t<a href=\"http://gmc.geofisica.unam.mx/\" target=\"_blank\" class=\"btn btn-outline-primary btn-lg btn-macti\" data-aos=\"fade-up\" onclick=\"regEvent(\\'Clicks\\', \\'Links\\', \\'Ir a MACTI 1.0\\')\">Ir a MACTI 1.0</a>\\r\\n\\t\\t\\t\\t</div>\\r\\n\\t\\t\\t</div>\\r\\n\\t\\t</section>\\r\\n\\t\\t<div class=\"wave-footer\">\\r\\n\\t\\t\\t<svg width=\"100%\" height=\"100%\" id=\"svg\" viewBox=\"0 0 1440 500\" xmlns=\"http://www.w3.org/2000/svg\" class=\"transition duration-300 ease-in-out delay-150\">\\r\\n\\t\\t\\t\\t<style>\\r\\n          .path-0{\\r\\n            animation:pathAnim-0 4s;\\r\\n            animation-timing-function: linear;\\r\\n            animation-iteration-count: infinite;\\r\\n          }\\r\\n          @keyframes pathAnim-0{\\r\\n            0%{\\r\\n              d: path(\"M 0,500 C 0,500 0,250 0,250 C 151.7333333333333,210.39999999999998 303.4666666666666,170.79999999999998 466,172 C 628.5333333333334,173.20000000000002 801.8666666666668,215.20000000000002 966,235 C 1130.1333333333332,254.79999999999998 1285.0666666666666,252.39999999999998 1440,250 C 1440,250 1440,500 1440,500 Z\");\\r\\n            }\\r\\n            25%{\\r\\n              d: path(\"M 0,500 C 0,500 0,250 0,250 C 188.53333333333336,308 377.0666666666667,366 545,337 C 712.9333333333333,308 860.2666666666667,192 1006,163 C 1151.7333333333333,134 1295.8666666666668,192 1440,250 C 1440,250 1440,500 1440,500 Z\");\\r\\n            }\\r\\n            50%{\\r\\n              d: path(\"M 0,500 C 0,500 0,250 0,250 C 199.19999999999993,267.4666666666667 398.39999999999986,284.93333333333334 532,267 C 665.6000000000001,249.06666666666666 733.6000000000001,195.73333333333335 874,187 C 1014.3999999999999,178.26666666666665 1227.1999999999998,214.13333333333333 1440,250 C 1440,250 1440,500 1440,500 Z\");\\r\\n            }\\r\\n            75%{\\r\\n              d: path(\"M 0,500 C 0,500 0,250 0,250 C 152.8,230.13333333333333 305.6,210.26666666666668 448,219 C 590.4,227.73333333333332 722.4000000000001,265.06666666666666 886,275 C 1049.6,284.93333333333334 1244.8,267.4666666666667 1440,250 C 1440,250 1440,500 1440,500 Z\");\\r\\n            }\\r\\n            100%{\\r\\n              d: path(\"M 0,500 C 0,500 0,250 0,250 C 151.7333333333333,210.39999999999998 303.4666666666666,170.79999999999998 466,172 C 628.5333333333334,173.20000000000002 801.8666666666668,215.20000000000002 966,235 C 1130.1333333333332,254.79999999999998 1285.0666666666666,252.39999999999998 1440,250 C 1440,250 1440,500 1440,500 Z\");\\r\\n            }\\r\\n          }\\r\\n        </style>\\r\\n        <path d=\"M 0,500 C 0,500 0,250 0,250 C 151.7333333333333,210.39999999999998 303.4666666666666,170.79999999999998 466,172 C 628.5333333333334,173.20000000000002 801.8666666666668,215.20000000000002 966,235 C 1130.1333333333332,254.79999999999998 1285.0666666666666,252.39999999999998 1440,250 C 1440,250 1440,500 1440,500 Z\" stroke=\"none\" stroke-width=\"0\" fill=\"#1a353eff\" class=\"transition-all duration-300 ease-in-out delay-150 path-0\"></path>\\r\\n      </svg>\\r\\n    </div>\\r\\n  </main>\\r\\n\\r\\n\\t<footer>\\r\\n\\t\\t<div class=\"container\">\\r\\n\\t\\t\\t<div class=\"row\">\\r\\n  \\t\\t\\t\\t<div class=\"col col-6 col-xl-3\">\\r\\n  \\t\\t\\t\\t\\t<h5 class=\"footer-title\">Cursos</h5>\\r\\n  \\t\\t\\t\\t\\t<ul>\\r\\n  \\t\\t\\t\\t\\t\\t<li><a href=\"https://www.macti.unam.mx/lms/course/view.php?id=2\" target=\"blank\" class=\"footer-link\" onclick=\"regEvent(\\'Clicks\\', \\'Links\\', \\'Ecuaciones diferenciales (Footer)\\')\">Ecuaciones Diferenciales</a></li>\\r\\n  \\t\\t\\t\\t\\t\\t<li><a href=\"https://www.macti.unam.mx/lms/course/view.php?id=9\" target=\"blank\" class=\"footer-link\" onclick=\"regEvent(\\'Clicks\\', \\'Links\\', \\'An\\xc3\\xa1lisis N\\xc3\\xbamerico (footer)\\')\">An\\xc3\\xa1lisis N\\xc3\\xbam\\xc3\\xa9rico</a></li>\\r\\n  \\t\\t\\t\\t\\t\\t<li><a href=\"https://www.macti.unam.mx/lms/course/\"target=\"blank\" class=\"footer-link\" onclick=\"regEvent(\\'Clicks\\', \\'Link\\', \\'Todos los cursos (footer)\\')\">Todos los cursos</a></li>\\r\\n  \\t\\t\\t\\t\\t</ul>\\r\\n  \\t\\t\\t\\t</div>\\r\\n  \\t\\t\\t\\t<div class=\"col col-6 col-xl-3\">\\r\\n  \\t\\t\\t\\t\\t<h5 class=\"footer-title\">Cursos de libre acceso</h5>\\r\\n  \\t\\t\\t\\t\\t<ul>\\r\\n  \\t\\t\\t\\t\\t\\t<li><a href=\"#libre\" class=\"footer-link\" onclick=\"regEvent(\\'Clicks\\', \\'Links\\', \\'Introducci\\xc3\\xb3n a Python (footer)\\')\">Introducci\\xc3\\xb3n a Python</a></li>\\r\\n  \\t\\t\\t\\t\\t\\t<li><a href=\"#libre\" class=\"footer-link\" onclick=\"regEvent(\\'Clicks\\', \\'Links\\', \\'Computaci\\xc3\\xb3n Cient\\xc3\\xadfica con Python (footer)\\')\">Computaci\\xc3\\xb3n Cient\\xc3\\xadfica con Python</a></li>\\r\\n  \\t\\t\\t\\t\\t\\t<li><a href=\"#libre\" class=\"footer-link\" onclick=\"regEvent(\\'Clicks\\', \\'Links\\', \\'M\\xc3\\xa1s cursos (footer)\\')\">M\\xc3\\xa1s cursos</a></li>\\r\\n  \\t\\t\\t\\t\\t</ul>\\r\\n  \\t\\t\\t\\t</div>\\r\\n\\t\\t\\t\\t<div class=\"col col-12 col-md-6 col-xl-3 footer-logos text-center\">\\r\\n\\t\\t\\t\\t\\t<a href=\"https://unam.mx\" target=\"_blank\" class=\"logo-animation\" onclick=\"regEvent(\\'Clicks\\', \\'Image Links\\', \\'UNAM (footer)\\')\"><img src=\"recursos/img/unam.png\"></a>\\r\\n\\t\\t\\t\\t\\t<a href=\"https://www.fciencias.unam.mx\" target=\"_blank\" class=\"logo-animation\" onclick=\"regEvent(\\'Clicks\\', \\'Image Links\\', \\'Ciencias (footer)\\')\"><img src=\"recursos/img/ciencias.png\"></a>\\r\\n\\t\\t\\t\\t\\t<a href=\"https://www.nucleares.unam.mx\" target=\"_blank\" class=\"logo-animation\" onclick=\"regEvent(\\'Clicks\\', \\'Image Links\\', \\'Nucleares (footer)\\')\"><img src=\"recursos/img/nucleares.png\"></a>\\r\\n\\t\\t\\t\\t\\t<a href=\"https://www.geofisica.unam.mx\" target=\"_blank\" class=\"logo-animation\" onclick=\"regEvent(\\'Clicks\\', \\'Image Links\\', \\'Geofisica(footer)\\')\"><img src=\"recursos/img/geofisica.png\"></a>\\r\\n\\t\\t\\t\\t</div>\\r\\n\\t\\t\\t\\t<div class=\"col col-12 col-md-6 col-xl-3 footer-copyright text-center\">\\r\\n\\t\\t\\t\\t\\t<img src=\"recursos/img/macti_logo_web.png\" alt=\"macti\">\\r\\n\\t\\t\\t\\t\\t<p>\\xc2\\xa9 Proyecto MACTI 2023<br>Hecho en la UNAM</p>\\r\\n\\t\\t\\t\\t</div>\\r\\n\\t\\t\\t</div>\\r\\n\\t\\t\\t<div class=\"text-center\">\\r\\n\\t\\t\\t\\t\\t<p><a class=\"footer-link\" href=\"https://www.geofisica.unam.mx/recursos/docs/IGEF_aviso_privacidad_20190802.pdf\" target=\"_blank\" onclick=\"regEvent(\\'Clicks\\', \\'Links\\', \\'Aviso de Privacidad\\')\">Aviso de Privacidad</a></p>\\r\\n\\t\\t\\t\\t\\t<p class=\"footer-disclaimer\">Esta p\\xc3\\xa1gina puede ser reproducida con fines no lucrativos, siempre y cuando no se mutile, se cite la fuente completa y su direcci\\xc3\\xb3n electr\\xc3\\xb3nica.</p>\\r\\n\\t\\t\\t</div>\\r\\n\\t\\t</div>\\r\\n\\t</footer>\\r\\n\\r\\n\\t<script src=\"https://cdn.jsdelivr.net/npm/bootstrap@5.1.3/dist/js/bootstrap.bundle.min.js\" integrity=\"sha384-ka7Sk0Gln4gmtz2MlQnikT1wXgYsOg+OMhuP+IlRH9sENBO0LRn5q+8nbTov4+1p\" crossorigin=\"anonymous\"></script>\\r\\n\\t<script src=\"https://unpkg.com/aos@2.3.1/dist/aos.js\"></script>\\r\\n\\t<script src=\"https://cdn.jsdelivr.net/npm/js-cookie@3.0.5/dist/js.cookie.min.js\" integrity=\"sha256-WCzAhd2P6gRJF9Hv3oOOd+hFJi/QJbv+Azn4CGB8gfY=\" crossorigin=\"anonymous\"></script>\\r\\n\\t<script src=\"recursos/js/23i01a.js\"></script>\\r\\n</body>\\r\\n</html>'\n"
     ]
    }
   ],
   "source": [
    "import urllib.request\n",
    "\n",
    "x = urllib.request.urlopen('https://www.macti.unam.mx/')\n",
    "\n",
    "print(x.read())"
   ]
  },
  {
   "cell_type": "markdown",
   "metadata": {},
   "source": [
    "# Misceláneos.\n",
    "\n",
    "## `doctest`\n",
    "\n",
    "El módulo `doctest` busca fragmentos de texto que parecen sesiones interactivas de Python y luego ejecuta esas sesiones para verificar que funcionan exactamente como se muestra. Hay varias formas comunes de utilizar doctest:\n",
    "\n",
    "Más información: https://docs.python.org/3/library/doctest.html."
   ]
  },
  {
   "cell_type": "code",
   "execution_count": 64,
   "metadata": {},
   "outputs": [
    {
     "name": "stdout",
     "output_type": "stream",
     "text": [
      "**********************************************************************\n",
      "File \"__main__\", line 7, in __main__.promedio\n",
      "Failed example:\n",
      "    print(promedio([1.0, 3.0, 2.0]))\n",
      "Expected:\n",
      "    10.0    \n",
      "Got:\n",
      "    2.0\n",
      "**********************************************************************\n",
      "1 items had failures:\n",
      "   1 of   2 in __main__.promedio\n",
      "***Test Failed*** 1 failures.\n"
     ]
    },
    {
     "data": {
      "text/plain": [
       "TestResults(failed=1, attempted=2)"
      ]
     },
     "execution_count": 64,
     "metadata": {},
     "output_type": "execute_result"
    }
   ],
   "source": [
    "def promedio(valores):\n",
    "    \"\"\"Calcula la media aritmética de una lista de números.\n",
    "\n",
    "    >>> print(promedio([20, 30, 70]))\n",
    "    40.0\n",
    "\n",
    "    >>> print(promedio([1.0, 3.0, 2.0]))\n",
    "    10.0    \n",
    "    \"\"\"\n",
    "    return sum(valores) / len(valores)\n",
    "\n",
    "import doctest\n",
    "doctest.testmod()   # valida automáticamente las pruebas integradas"
   ]
  },
  {
   "cell_type": "code",
   "execution_count": 65,
   "metadata": {},
   "outputs": [],
   "source": [
    "def fib(n):\n",
    "    \"\"\" \n",
    "    Calculates the n-th Fibonacci number iteratively  \n",
    "\n",
    "    >>> fib(0)\n",
    "    0\n",
    "    >>> fib(1)\n",
    "    1\n",
    "    >>> fib(10) \n",
    "    55\n",
    "    >>> fib(15)\n",
    "    610\n",
    "    \"\"\"\n",
    "    a, b = 0, 1\n",
    "    for i in range(n):\n",
    "        a, b = b, a + b\n",
    "    return a"
   ]
  },
  {
   "cell_type": "code",
   "execution_count": 66,
   "metadata": {},
   "outputs": [
    {
     "name": "stdout",
     "output_type": "stream",
     "text": [
      "**********************************************************************\n",
      "File \"__main__\", line 7, in __main__.promedio\n",
      "Failed example:\n",
      "    print(promedio([1.0, 3.0, 2.0]))\n",
      "Expected:\n",
      "    10.0    \n",
      "Got:\n",
      "    2.0\n",
      "**********************************************************************\n",
      "1 items had failures:\n",
      "   1 of   2 in __main__.promedio\n",
      "***Test Failed*** 1 failures.\n"
     ]
    },
    {
     "data": {
      "text/plain": [
       "TestResults(failed=1, attempted=6)"
      ]
     },
     "execution_count": 66,
     "metadata": {},
     "output_type": "execute_result"
    }
   ],
   "source": [
    "doctest.testmod()"
   ]
  },
  {
   "cell_type": "markdown",
   "metadata": {},
   "source": [
    "## `zlib`\n",
    "\n",
    "Las funciones de este módulo permiten la compresión y descompresión utilizando la biblioteca `zlib`. Más información: https://docs.python.org/3/library/zlib.html."
   ]
  },
  {
   "cell_type": "code",
   "execution_count": 67,
   "metadata": {},
   "outputs": [
    {
     "data": {
      "text/plain": [
       "41"
      ]
     },
     "execution_count": 67,
     "metadata": {},
     "output_type": "execute_result"
    }
   ],
   "source": [
    "import zlib\n",
    "s = b'witch which has which witches wrist watch'\n",
    "len(s)"
   ]
  },
  {
   "cell_type": "code",
   "execution_count": 68,
   "metadata": {},
   "outputs": [
    {
     "data": {
      "text/plain": [
       "37"
      ]
     },
     "execution_count": 68,
     "metadata": {},
     "output_type": "execute_result"
    }
   ],
   "source": [
    "t = zlib.compress(s)\n",
    "len(t)"
   ]
  },
  {
   "cell_type": "code",
   "execution_count": 69,
   "metadata": {},
   "outputs": [
    {
     "data": {
      "text/plain": [
       "b'witch which has which witches wrist watch'"
      ]
     },
     "execution_count": 69,
     "metadata": {},
     "output_type": "execute_result"
    }
   ],
   "source": [
    "zlib.decompress(t)"
   ]
  },
  {
   "cell_type": "code",
   "execution_count": 78,
   "metadata": {},
   "outputs": [
    {
     "name": "stdout",
     "output_type": "stream",
     "text": [
      "b'Poema 20, Pablo Neruda.\\n\\nPuedo escribir los versos m\\xc3\\xa1s tristes esta noche.\\n\\nEscribir, por ejemplo: \\xc2\\xabLa noche est\\xc3\\xa1 estrellada,\\ny tiritan, azules, los astros, a lo lejos\\xc2\\xbb.\\n\\nEl viento de la noche gira en el cielo y canta.\\n\\nPuedo escribir los versos m\\xc3\\xa1s tristes esta noche.\\nYo la quise, y a veces ella tambi\\xc3\\xa9n me quiso.\\n\\nEn las noches como \\xc3\\xa9sta la tuve entre mis brazos.\\nLa bes\\xc3\\xa9 tantas veces bajo el cielo infinito.\\n\\nElla me quiso, a veces yo tambi\\xc3\\xa9n la quer\\xc3\\xada.\\nC\\xc3\\xb3mo no haber amado sus grandes ojos fijos.\\n\\nPuedo escribir los versos m\\xc3\\xa1s tristes esta noche.\\nPensar que no la tengo. Sentir que la he perdido.\\n\\nO\\xc3\\xadr la noche inmensa, m\\xc3\\xa1s inmensa sin ella.\\nY el verso cae al alma como al pasto el roc\\xc3\\xado.\\n\\nQu\\xc3\\xa9 importa que mi amor no pudiera guardarla.\\nLa noche est\\xc3\\xa1 estrellada y ella no est\\xc3\\xa1 conmigo.\\n\\nEso es todo. A lo lejos alguien canta. A lo lejos\\nMi alma no se contenta con haberla perdido.\\n\\nComo para acercarla mi mirada la busca.\\nMi coraz\\xc3\\xb3n la busca, y ella no est\\xc3\\xa1 conmigo.\\n\\nLa misma noche que hace blanquear los mismos \\xc3\\xa1rboles.\\n\\nNosotros, los de entonces, ya no somos los mismos.\\n\\nYa no la quiero, es cierto, pero cu\\xc3\\xa1nto la quise.\\nMi voz buscaba el viento para tocar su o\\xc3\\xaddo.\\n\\nDe otro. Ser\\xc3\\xa1 de otro. Como antes de mis besos.\\nSu voz, su cuerpo claro. Sus ojos infinitos.\\n\\nYa no la quiero, es cierto, pero tal vez la quiero.\\nEs tan corto el amor, y es tan largo el olvido.\\n\\nPorque en noches como \\xc3\\xa9sta la tuve entre mis brazos,\\nmi alma no se contenta con haberla perdido.\\n\\nAunque \\xc3\\xa9ste sea el \\xc3\\xbaltimo dolor que ella me causa,\\ny estos sean los \\xc3\\xbaltimos versos que yo le escribo.\\n'\n",
      "\n",
      "Compressed: 54.7%\n"
     ]
    }
   ],
   "source": [
    "# Abrimos el archivo \n",
    "f = open('./poema20.txt', 'rb')\n",
    "\n",
    "# Leemos el archivo\n",
    "original_data = f.read()\n",
    "\n",
    "# Cerramos el archivo\n",
    "f.close()\n",
    "\n",
    "# Imprimimos el contenido del archivo\n",
    "print(original_data)\n",
    "\n",
    "# Comprimimos el contenido\n",
    "compressed_data = zlib.compress(original_data, zlib.Z_BEST_COMPRESSION)\n",
    "\n",
    "# Calculamos la razón de compresión\n",
    "compress_ratio = (float(len(original_data)) - float(len(compressed_data))) / float(len(original_data))\n",
    "\n",
    "# Imprimimos los resultados\n",
    "print('\\nCompressed: {:3.1f}%'.format(100.0 * compress_ratio))\n",
    "\n",
    "# Guardamos el contenido comprimido en un archivo\n",
    "f = open('poema20.zip','wb')\n",
    "f.write(compressed_data)\n",
    "f.close()"
   ]
  },
  {
   "cell_type": "code",
   "execution_count": 79,
   "metadata": {},
   "outputs": [
    {
     "name": "stdout",
     "output_type": "stream",
     "text": [
      "b'Poema 20, Pablo Neruda.\\n\\nPuedo escribir los versos m\\xc3\\xa1s tristes esta noche.\\n\\nEscribir, por ejemplo: \\xc2\\xabLa noche est\\xc3\\xa1 estrellada,\\ny tiritan, azules, los astros, a lo lejos\\xc2\\xbb.\\n\\nEl viento de la noche gira en el cielo y canta.\\n\\nPuedo escribir los versos m\\xc3\\xa1s tristes esta noche.\\nYo la quise, y a veces ella tambi\\xc3\\xa9n me quiso.\\n\\nEn las noches como \\xc3\\xa9sta la tuve entre mis brazos.\\nLa bes\\xc3\\xa9 tantas veces bajo el cielo infinito.\\n\\nElla me quiso, a veces yo tambi\\xc3\\xa9n la quer\\xc3\\xada.\\nC\\xc3\\xb3mo no haber amado sus grandes ojos fijos.\\n\\nPuedo escribir los versos m\\xc3\\xa1s tristes esta noche.\\nPensar que no la tengo. Sentir que la he perdido.\\n\\nO\\xc3\\xadr la noche inmensa, m\\xc3\\xa1s inmensa sin ella.\\nY el verso cae al alma como al pasto el roc\\xc3\\xado.\\n\\nQu\\xc3\\xa9 importa que mi amor no pudiera guardarla.\\nLa noche est\\xc3\\xa1 estrellada y ella no est\\xc3\\xa1 conmigo.\\n\\nEso es todo. A lo lejos alguien canta. A lo lejos\\nMi alma no se contenta con haberla perdido.\\n\\nComo para acercarla mi mirada la busca.\\nMi coraz\\xc3\\xb3n la busca, y ella no est\\xc3\\xa1 conmigo.\\n\\nLa misma noche que hace blanquear los mismos \\xc3\\xa1rboles.\\n\\nNosotros, los de entonces, ya no somos los mismos.\\n\\nYa no la quiero, es cierto, pero cu\\xc3\\xa1nto la quise.\\nMi voz buscaba el viento para tocar su o\\xc3\\xaddo.\\n\\nDe otro. Ser\\xc3\\xa1 de otro. Como antes de mis besos.\\nSu voz, su cuerpo claro. Sus ojos infinitos.\\n\\nYa no la quiero, es cierto, pero tal vez la quiero.\\nEs tan corto el amor, y es tan largo el olvido.\\n\\nPorque en noches como \\xc3\\xa9sta la tuve entre mis brazos,\\nmi alma no se contenta con haberla perdido.\\n\\nAunque \\xc3\\xa9ste sea el \\xc3\\xbaltimo dolor que ella me causa,\\ny estos sean los \\xc3\\xbaltimos versos que yo le escribo.\\n'\n"
     ]
    }
   ],
   "source": [
    "# Abrimos el archivo comprimido\n",
    "f = open('./poema20.zip', 'rb')\n",
    "\n",
    "# Leemos el contenido\n",
    "original_data = f.read()\n",
    "\n",
    "# Cerramos y eliminamos el archivo comprimido\n",
    "f.close()\n",
    "os.remove(\"poema20.zip\")\n",
    "\n",
    "# Descomprimimos el contenido\n",
    "decompressed_data = zlib.decompress(original_data)\n",
    "\n",
    "# Imprimimos el contenido\n",
    "print(decompressed_data)"
   ]
  },
  {
   "cell_type": "code",
   "execution_count": null,
   "metadata": {},
   "outputs": [],
   "source": []
  }
 ],
 "metadata": {
  "kernelspec": {
   "display_name": "Python 3 (ipykernel)",
   "language": "python",
   "name": "python3"
  },
  "language_info": {
   "codemirror_mode": {
    "name": "ipython",
    "version": 3
   },
   "file_extension": ".py",
   "mimetype": "text/x-python",
   "name": "python",
   "nbconvert_exporter": "python",
   "pygments_lexer": "ipython3",
   "version": "3.11.6"
  }
 },
 "nbformat": 4,
 "nbformat_minor": 4
}
