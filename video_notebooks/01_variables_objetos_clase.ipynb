{
 "cells": [
  {
   "cell_type": "markdown",
   "id": "db762d7b-6f0b-4079-b87e-610a5fab73c1",
   "metadata": {},
   "source": [
    "# Introducción a Python"
   ]
  },
  {
   "cell_type": "markdown",
   "id": "7ab846df-c673-4abc-b5a4-2022a1fbbec5",
   "metadata": {},
   "source": [
    "## Índice de masa corporal\n",
    "\n",
    "El índice de masa corporal (IMC) asocia la masa (peso) y la talla de una persona. \n",
    "\n",
    "### Sistema métrico:\n",
    "$$\n",
    "\\text{IMC} = \\dfrac{\\text{peso [kg]}}{(\\text{estatura [m])}^2}\n",
    "$$"
   ]
  },
  {
   "cell_type": "code",
   "execution_count": 1,
   "id": "851130ed-79f7-4e0c-b6be-3360d0093e6b",
   "metadata": {},
   "outputs": [],
   "source": [
    "peso = 87.7\n",
    "estatura = 1.78"
   ]
  },
  {
   "cell_type": "code",
   "execution_count": 2,
   "id": "2d459383-2494-4963-be1f-ae6df24cbd8d",
   "metadata": {},
   "outputs": [
    {
     "name": "stdout",
     "output_type": "stream",
     "text": [
      "87.7\n"
     ]
    }
   ],
   "source": [
    "print(peso)"
   ]
  },
  {
   "cell_type": "code",
   "execution_count": 3,
   "id": "2e8dbe6a-4ed9-4735-9227-dc83d6d7319d",
   "metadata": {},
   "outputs": [
    {
     "name": "stdout",
     "output_type": "stream",
     "text": [
      "1.78\n"
     ]
    }
   ],
   "source": [
    "print(estatura)"
   ]
  },
  {
   "cell_type": "code",
   "execution_count": 4,
   "id": "85a12f5e-f891-4053-ab4d-9ee61949c1c8",
   "metadata": {},
   "outputs": [
    {
     "data": {
      "text/plain": [
       "float"
      ]
     },
     "execution_count": 4,
     "metadata": {},
     "output_type": "execute_result"
    }
   ],
   "source": [
    "type(peso)"
   ]
  },
  {
   "cell_type": "code",
   "execution_count": 5,
   "id": "23923de6-8b26-4c9a-aa65-af345f43afd2",
   "metadata": {},
   "outputs": [
    {
     "data": {
      "text/plain": [
       "float"
      ]
     },
     "execution_count": 5,
     "metadata": {},
     "output_type": "execute_result"
    }
   ],
   "source": [
    "type(estatura)"
   ]
  },
  {
   "cell_type": "code",
   "execution_count": 6,
   "id": "363217c8-4049-4a5f-9b33-1fc18494b0eb",
   "metadata": {},
   "outputs": [
    {
     "name": "stdout",
     "output_type": "stream",
     "text": [
      "<class 'float'>\n"
     ]
    }
   ],
   "source": [
    "print(type(peso))"
   ]
  },
  {
   "cell_type": "code",
   "execution_count": 7,
   "id": "3c5db472-ab1f-421b-9581-3d48a5789d63",
   "metadata": {},
   "outputs": [
    {
     "name": "stdout",
     "output_type": "stream",
     "text": [
      "<class 'float'> <class 'float'>\n"
     ]
    }
   ],
   "source": [
    "print(type(peso), type(estatura))"
   ]
  },
  {
   "cell_type": "code",
   "execution_count": 16,
   "id": "11e180a3-4f66-4cb4-8780-31a407c7863d",
   "metadata": {},
   "outputs": [
    {
     "name": "stdout",
     "output_type": "stream",
     "text": [
      "Peso = 87.7\n",
      "Estatura = 1.78\n"
     ]
    }
   ],
   "source": [
    "print(\"Peso =\", peso)\n",
    "print(\"Estatura =\", estatura)"
   ]
  },
  {
   "cell_type": "code",
   "execution_count": 17,
   "id": "f5d01f05",
   "metadata": {},
   "outputs": [
    {
     "name": "stdout",
     "output_type": "stream",
     "text": [
      "Peso = 87.7 kg\n",
      "Estatura = 1.78 m\n"
     ]
    }
   ],
   "source": [
    "print(\"Peso =\", peso, \"kg\")\n",
    "print(\"Estatura =\", estatura, \"m\")"
   ]
  },
  {
   "cell_type": "code",
   "execution_count": 10,
   "id": "a29124e2-307a-4e61-a196-74c5ad361f07",
   "metadata": {},
   "outputs": [],
   "source": [
    "# Calcular el IMC\n",
    "\n",
    "IMC = peso / estatura**2"
   ]
  },
  {
   "cell_type": "code",
   "execution_count": 18,
   "id": "88168f22-9581-4989-a2bb-350e26676427",
   "metadata": {},
   "outputs": [
    {
     "name": "stdout",
     "output_type": "stream",
     "text": [
      "IMC = 27.67958591086984\n"
     ]
    }
   ],
   "source": [
    "print(\"IMC =\", IMC)"
   ]
  },
  {
   "cell_type": "code",
   "execution_count": 26,
   "id": "50777fac-21c2-42a6-bee2-2fba309c2fcf",
   "metadata": {},
   "outputs": [
    {
     "name": "stdout",
     "output_type": "stream",
     "text": [
      "<class 'float'>\n"
     ]
    }
   ],
   "source": [
    "print(type(IMC))"
   ]
  },
  {
   "cell_type": "code",
   "execution_count": 12,
   "id": "1a58437a-0df0-444b-840b-1a3d8bfbe63a",
   "metadata": {},
   "outputs": [],
   "source": [
    "edad = 50"
   ]
  },
  {
   "cell_type": "code",
   "execution_count": 19,
   "id": "44ac9128-2aa4-4eca-b014-2d9c83c2daa2",
   "metadata": {},
   "outputs": [
    {
     "name": "stdout",
     "output_type": "stream",
     "text": [
      "Edad = 50\n"
     ]
    }
   ],
   "source": [
    "print(\"Edad =\", edad)"
   ]
  },
  {
   "cell_type": "code",
   "execution_count": 14,
   "id": "baab563d-8ea6-4a09-bbb9-6ed6c501a5b6",
   "metadata": {},
   "outputs": [
    {
     "name": "stdout",
     "output_type": "stream",
     "text": [
      "<class 'int'>\n"
     ]
    }
   ],
   "source": [
    "print(type(edad))"
   ]
  },
  {
   "cell_type": "code",
   "execution_count": 20,
   "id": "2cbf09bc-298b-46c8-b9e2-ca12df22af0d",
   "metadata": {},
   "outputs": [
    {
     "name": "stdout",
     "output_type": "stream",
     "text": [
      "Nombre = Luis Miguel\n"
     ]
    }
   ],
   "source": [
    "nombre = \"Luis Miguel\"\n",
    "print(\"Nombre =\", nombre)"
   ]
  },
  {
   "cell_type": "code",
   "execution_count": 22,
   "id": "82b6dc24-4857-417f-b9cc-b62ae5a4e2b9",
   "metadata": {},
   "outputs": [
    {
     "name": "stdout",
     "output_type": "stream",
     "text": [
      "<class 'str'>\n"
     ]
    }
   ],
   "source": [
    "print(type(nombre))"
   ]
  },
  {
   "cell_type": "code",
   "execution_count": 23,
   "id": "3c277f2c-5206-4498-8580-103940ec3b12",
   "metadata": {},
   "outputs": [
    {
     "name": "stdout",
     "output_type": "stream",
     "text": [
      "Casado = True\n",
      "<class 'bool'>\n"
     ]
    }
   ],
   "source": [
    "casado = True \n",
    "print(\"Casado =\", casado)\n",
    "print(type(casado))"
   ]
  },
  {
   "cell_type": "code",
   "execution_count": 24,
   "id": "c940b07e-b355-4b09-a615-dea07c9fea5e",
   "metadata": {},
   "outputs": [
    {
     "name": "stdout",
     "output_type": "stream",
     "text": [
      "Peso = 87.7 kg\n",
      "Estatura = 1.78 m\n",
      "Edad = 50\n",
      "Nombre = Luis Miguel\n",
      "Casado = True\n",
      "IMC = 27.67958591086984\n"
     ]
    }
   ],
   "source": [
    "print(\"Peso =\", peso, \"kg\")\n",
    "print(\"Estatura =\", estatura, \"m\")\n",
    "print(\"Edad =\", edad)\n",
    "print(\"Nombre =\", nombre)\n",
    "print(\"Casado =\", casado)\n",
    "print(\"IMC =\", IMC)"
   ]
  },
  {
   "cell_type": "code",
   "execution_count": 25,
   "id": "e98ca7f2-4f09-494c-88ca-a39925a7b21e",
   "metadata": {},
   "outputs": [
    {
     "name": "stdout",
     "output_type": "stream",
     "text": [
      "Peso : <class 'float'>\n",
      "Estatura : <class 'float'>\n",
      "Edad : <class 'int'>\n",
      "Nombre : <class 'str'>\n",
      "Casado : <class 'bool'>\n",
      "IMC : <class 'float'>\n"
     ]
    }
   ],
   "source": [
    "print(\"Peso :\", type(peso))\n",
    "print(\"Estatura :\", type(estatura))\n",
    "print(\"Edad :\", type(edad))\n",
    "print(\"Nombre :\", type(nombre))\n",
    "print(\"Casado :\", type(casado))\n",
    "print(\"IMC :\", type(IMC))"
   ]
  },
  {
   "cell_type": "markdown",
   "id": "ce334710-38b9-4634-8cd6-58dff81aafc5",
   "metadata": {},
   "source": [
    "## Conjunto de Mandelbrot\n",
    "\n",
    "Tomemos un punto de partida $z_0$ en el plano complejo. Luego usamos la ecuación de recurrencia cuadrática\n",
    "\n",
    "$$\n",
    "z_{n+1} = z_{n}^2 + z_0\n",
    "$$\n",
    "\n",
    "para obtener una secuencia de números complejos $z_n$ con $n=0, 1, 2,\\dots$.\n",
    "\n",
    "**Ejemplo:**\n",
    "\n",
    "$$\n",
    "\\begin{eqnarray}\n",
    "z_0 & = & i \\\\\n",
    "z_1 & = & i^2+i=−1+i \\\\\n",
    "z_2 & = & (−1+i)^2+i=−2i+i=−i \\\\\n",
    "z_3 & = & (−i)^2+i=−1+i \\\\\n",
    "z_4 & = & (−1+i)^2+i=−i\n",
    "\\end{eqnarray}\n",
    "$$"
   ]
  },
  {
   "cell_type": "code",
   "execution_count": 37,
   "id": "4053d4ca-dfa6-406e-8dbd-b69851712287",
   "metadata": {},
   "outputs": [
    {
     "name": "stdout",
     "output_type": "stream",
     "text": [
      "1j\n",
      "(-1+1j)\n",
      "-1j\n",
      "(-1+1j)\n",
      "-1j\n",
      "<class 'complex'>\n"
     ]
    }
   ],
   "source": [
    "z0 = 1.0j\n",
    "z1 = z0**2 + z0\n",
    "z2 = z1**2 + z0\n",
    "z3 = z2**2 + z0\n",
    "z4 = z3**2 + z0\n",
    "\n",
    "print(z0)\n",
    "print(z1)\n",
    "print(z2)\n",
    "print(z3)\n",
    "print(z4)\n",
    "\n",
    "print(type(z0))"
   ]
  },
  {
   "cell_type": "markdown",
   "id": "c258ce22-4ac9-4234-b72a-f52b084b5190",
   "metadata": {},
   "source": [
    "## Objetos, tipado dinámico y otras cosas."
   ]
  },
  {
   "cell_type": "code",
   "execution_count": 45,
   "id": "11687571-b1cc-4f40-906f-f48e516ca7d1",
   "metadata": {},
   "outputs": [
    {
     "name": "stdout",
     "output_type": "stream",
     "text": [
      "1 <class 'int'>\n"
     ]
    }
   ],
   "source": [
    "a = 1\n",
    "print(a, type(a))"
   ]
  },
  {
   "cell_type": "code",
   "execution_count": 46,
   "id": "daa1f573-af6e-41ba-ab00-d8887e51b5a1",
   "metadata": {},
   "outputs": [
    {
     "data": {
      "text/plain": [
       "93829655210920"
      ]
     },
     "execution_count": 46,
     "metadata": {},
     "output_type": "execute_result"
    }
   ],
   "source": [
    "id(a)"
   ]
  },
  {
   "cell_type": "code",
   "execution_count": 49,
   "id": "2f1c49b0-1bae-42a2-b749-42bc0ca862ba",
   "metadata": {},
   "outputs": [
    {
     "name": "stdout",
     "output_type": "stream",
     "text": [
      "1 <class 'int'>\n",
      "1 <class 'int'>\n"
     ]
    }
   ],
   "source": [
    "b = a\n",
    "print(a, type(a))\n",
    "print(b, type(b))"
   ]
  },
  {
   "cell_type": "code",
   "execution_count": 50,
   "id": "eca0026f-22ca-4ffa-9e43-3d0aa3c8b5ce",
   "metadata": {},
   "outputs": [
    {
     "name": "stdout",
     "output_type": "stream",
     "text": [
      "1 <class 'int'> 93829655210920\n",
      "1 <class 'int'> 93829655210920\n"
     ]
    }
   ],
   "source": [
    "print(a, type(a), id(a))\n",
    "print(b, type(b), id(b))"
   ]
  },
  {
   "cell_type": "code",
   "execution_count": 51,
   "id": "b9e93bce-bfd8-4f68-8e0d-2487ab08e832",
   "metadata": {},
   "outputs": [
    {
     "name": "stdout",
     "output_type": "stream",
     "text": [
      "1 <class 'int'> 93829655210920\n",
      "1 <class 'int'> 93829655210920\n",
      "1 <class 'int'> 93829655210920\n"
     ]
    }
   ],
   "source": [
    "c = b = a\n",
    "print(a, type(a), id(a))\n",
    "print(b, type(b), id(b))\n",
    "print(c, type(c), id(c))"
   ]
  },
  {
   "cell_type": "code",
   "execution_count": 52,
   "id": "8b1b1d8c-92a1-4825-9951-a20cde803907",
   "metadata": {},
   "outputs": [],
   "source": [
    "del(b)"
   ]
  },
  {
   "cell_type": "code",
   "execution_count": 53,
   "id": "ee9629d4-7be9-4f41-a2f6-55f180293cbd",
   "metadata": {},
   "outputs": [
    {
     "ename": "NameError",
     "evalue": "name 'b' is not defined",
     "output_type": "error",
     "traceback": [
      "\u001b[0;31m---------------------------------------------------------------------------\u001b[0m",
      "\u001b[0;31mNameError\u001b[0m                                 Traceback (most recent call last)",
      "Cell \u001b[0;32mIn[53], line 1\u001b[0m\n\u001b[0;32m----> 1\u001b[0m \u001b[38;5;28mprint\u001b[39m(\u001b[43mb\u001b[49m, \u001b[38;5;28mtype\u001b[39m(b), \u001b[38;5;28mid\u001b[39m(b))\n",
      "\u001b[0;31mNameError\u001b[0m: name 'b' is not defined"
     ]
    }
   ],
   "source": [
    "print(b, type(b), id(b))"
   ]
  },
  {
   "cell_type": "code",
   "execution_count": 54,
   "id": "75b6c17d-15ec-472f-82ca-89befdda92e8",
   "metadata": {},
   "outputs": [
    {
     "name": "stdout",
     "output_type": "stream",
     "text": [
      "1 <class 'int'> 93829655210920\n",
      "1 <class 'int'> 93829655210920\n"
     ]
    }
   ],
   "source": [
    "print(a, type(a), id(a))\n",
    "print(c, type(c), id(c))"
   ]
  },
  {
   "cell_type": "code",
   "execution_count": 55,
   "id": "18fdc8e8-f05b-4ecb-9377-b88be2389424",
   "metadata": {},
   "outputs": [],
   "source": [
    "x, y, z = \"la x\", 3.1416, 5"
   ]
  },
  {
   "cell_type": "code",
   "execution_count": 56,
   "id": "e668c99f-2dcc-42e9-a79b-4a368a14011b",
   "metadata": {},
   "outputs": [
    {
     "name": "stdout",
     "output_type": "stream",
     "text": [
      "la x <class 'str'> 140628377002416\n",
      "3.1416 <class 'float'> 140628377675824\n",
      "5 <class 'int'> 93829655211048\n"
     ]
    }
   ],
   "source": [
    "print(x, type(x), id(x))\n",
    "print(y, type(y), id(y))\n",
    "print(z, type(z), id(z))"
   ]
  },
  {
   "cell_type": "code",
   "execution_count": 60,
   "id": "04aefdc3-98f0-49d4-a49c-4d4a91f1acac",
   "metadata": {},
   "outputs": [
    {
     "name": "stdout",
     "output_type": "stream",
     "text": [
      "25.3j <class 'str'> 140628303079152\n"
     ]
    }
   ],
   "source": [
    "dinámico = \"25.3j\"\n",
    "print(dinámico, type(dinámico), id(dinámico))"
   ]
  },
  {
   "cell_type": "code",
   "execution_count": null,
   "id": "bebe0bd1-c5c5-4300-9365-5eff2d8aad29",
   "metadata": {},
   "outputs": [],
   "source": []
  }
 ],
 "metadata": {
  "kernelspec": {
   "display_name": "Python 3 (ipykernel)",
   "language": "python",
   "name": "python3"
  },
  "language_info": {
   "codemirror_mode": {
    "name": "ipython",
    "version": 3
   },
   "file_extension": ".py",
   "mimetype": "text/x-python",
   "name": "python",
   "nbconvert_exporter": "python",
   "pygments_lexer": "ipython3",
   "version": "3.11.6"
  }
 },
 "nbformat": 4,
 "nbformat_minor": 5
}
