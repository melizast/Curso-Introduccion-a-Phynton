{
 "cells": [
  {
   "cell_type": "markdown",
   "metadata": {},
   "source": [
    "# Cadenas.\n"
   ]
  },
  {
   "cell_type": "code",
   "execution_count": 1,
   "metadata": {},
   "outputs": [
    {
     "name": "stdout",
     "output_type": "stream",
     "text": [
      "Esta también es una cadena\n"
     ]
    }
   ],
   "source": [
    "cadena = 'Esta también es una cadena'\n",
    "\n",
    "print(cadena)"
   ]
  },
  {
   "cell_type": "code",
   "execution_count": 2,
   "metadata": {},
   "outputs": [
    {
     "name": "stdout",
     "output_type": "stream",
     "text": [
      "Esta es una cadena\n"
     ]
    }
   ],
   "source": [
    "cadena = \"Esta es una cadena\"\n",
    "\n",
    "print(cadena)"
   ]
  },
  {
   "cell_type": "code",
   "execution_count": 3,
   "metadata": {},
   "outputs": [
    {
     "name": "stdout",
     "output_type": "stream",
     "text": [
      "Esta es otra \"cadena'\n",
      "que puedo escribir \n",
      "en varios renglones\n",
      "\n"
     ]
    }
   ],
   "source": [
    "cadena = \"\"\"Esta es otra \"cadena'\n",
    "que puedo escribir \n",
    "en varios renglones\n",
    "\"\"\"\n",
    "\n",
    "print(cadena)"
   ]
  },
  {
   "cell_type": "code",
   "execution_count": 4,
   "metadata": {},
   "outputs": [
    {
     "name": "stdout",
     "output_type": "stream",
     "text": [
      "Esta es otra \"cadena'\n",
      "que puedo escribir \n",
      "en varios renglones\n",
      "\n"
     ]
    }
   ],
   "source": [
    "cadena = '''Esta es otra \"cadena'\n",
    "que puedo escribir \n",
    "en varios renglones\n",
    "'''\n",
    "\n",
    "print(cadena)"
   ]
  },
  {
   "cell_type": "code",
   "execution_count": 5,
   "metadata": {},
   "outputs": [
    {
     "name": "stdout",
     "output_type": "stream",
     "text": [
      "Usamos comillas simples ',\n",
      "comillas dobles \" o \n",
      "comillas triples \"\"\"\n"
     ]
    }
   ],
   "source": [
    "cadena = 'Usamos comillas simples \\',\\ncomillas dobles \\\" o \\ncomillas triples \\\"\"\"'\n",
    "\n",
    "print(cadena)"
   ]
  },
  {
   "cell_type": "markdown",
   "metadata": {},
   "source": [
    "# Caracteres de escape\n",
    "\n",
    "|  Secuencia de escape | Significado |\n",
    "|---|---|\n",
    "| `\\<newline>` | Diagonal invertida y línea nueva ignoradas |\n",
    "| `\\\\` | Diagonal invertida (`\\`) |\n",
    "| `\\'` | Comilla simple (`'`) |\n",
    "| `\\\"` | Comilla doble (`\"`) |\n",
    "| `\\n` | Cambio de línea (ASCII Linefeed LF) | \n",
    "| `\\t` | Tabulador (ASCII Sangría horizontal TAB) |"
   ]
  },
  {
   "cell_type": "code",
   "execution_count": 6,
   "metadata": {},
   "outputs": [
    {
     "name": "stdout",
     "output_type": "stream",
     "text": [
      "Esta es una línea de texto escrita en varias líneas\n"
     ]
    }
   ],
   "source": [
    "cadena = \"Esta es una \\\n",
    "línea de texto \\\n",
    "escrita en varias líneas\"\n",
    "\n",
    "print(cadena)"
   ]
  },
  {
   "cell_type": "code",
   "execution_count": 7,
   "metadata": {},
   "outputs": [
    {
     "name": "stdout",
     "output_type": "stream",
     "text": [
      "La ruta del archivo es: c:\\windows\\users\\documents\n"
     ]
    }
   ],
   "source": [
    "ruta = \"La ruta del archivo es: c:\\\\windows\\\\users\\\\documents\"\n",
    "\n",
    "print(ruta)"
   ]
  },
  {
   "cell_type": "code",
   "execution_count": 8,
   "metadata": {},
   "outputs": [
    {
     "name": "stdout",
     "output_type": "stream",
     "text": [
      "\t\"Si nadie te garantiza el mañana\n",
      "\tel hoy se vuelve inmenso.\" \n",
      "\n",
      "\t\tCarlos Mosivais\n"
     ]
    }
   ],
   "source": [
    "cita = \"\\t\\\"Si nadie te garantiza el mañana\\n\\tel hoy se vuelve inmenso.\\\"\"\n",
    "autor = \"\\n\\n\\t\\tCarlos Mosivais\"\n",
    "\n",
    "print(cita, autor)"
   ]
  },
  {
   "cell_type": "code",
   "execution_count": 10,
   "metadata": {},
   "outputs": [
    {
     "name": "stdout",
     "output_type": "stream",
     "text": [
      "\n",
      "\t\"Si nadie te garantiza el mañana\n",
      "\tel hoy se vuelve inmenso.\" \n",
      "\n",
      "\t\tCarlos Mosivais\n",
      "\n"
     ]
    }
   ],
   "source": [
    "cita_dos = \"\"\"\n",
    "\t\"Si nadie te garantiza el mañana\n",
    "\tel hoy se vuelve inmenso.\" \n",
    "\n",
    "\t\tCarlos Mosivais\n",
    "\"\"\"\n",
    "print(cita_dos)"
   ]
  },
  {
   "cell_type": "markdown",
   "metadata": {},
   "source": [
    "<a href=\"indexado_cadenas\"></a>\n",
    "## Indexación de las cadenas."
   ]
  },
  {
   "cell_type": "markdown",
   "metadata": {},
   "source": [
    "|   |||||||||||\n",
    "|:-:|:-:|:-:|:-:|:-:|:-:|:-:|:-:|:-:|:-:|:-:|\n",
    "|ejemplo : | M | u | r | c | i | é | l | a | g |o|\n",
    "|índice +:|`0`|`1`|`2`|`3`|`4`|`5`|`6`|`7`|`8`|`9`|\n",
    "|índice -:|`-10`|`-9`|`-8`|`-7`|`-6`|`-5`|`-4`|`-3`|`-2`|`-1`|"
   ]
  },
  {
   "cell_type": "code",
   "execution_count": 12,
   "metadata": {},
   "outputs": [],
   "source": [
    "# Definimos la cadena\n",
    "ejemplo = 'Murciélago'"
   ]
  },
  {
   "cell_type": "code",
   "execution_count": null,
   "metadata": {},
   "outputs": [],
   "source": [
    "# Vemos la longitud de la cadena"
   ]
  },
  {
   "cell_type": "code",
   "execution_count": null,
   "metadata": {},
   "outputs": [],
   "source": [
    "# Primer elemento de la cadena"
   ]
  },
  {
   "cell_type": "code",
   "execution_count": null,
   "metadata": {},
   "outputs": [],
   "source": [
    "# Elemento en la posición 5"
   ]
  },
  {
   "cell_type": "code",
   "execution_count": null,
   "metadata": {},
   "outputs": [],
   "source": [
    "# Elemento en la posición 9 (en este caso es el último)"
   ]
  },
  {
   "cell_type": "code",
   "execution_count": null,
   "metadata": {},
   "outputs": [],
   "source": [
    "# Último elemento de la cadena"
   ]
  },
  {
   "cell_type": "code",
   "execution_count": null,
   "metadata": {},
   "outputs": [],
   "source": [
    "# Elemento en la posición -6 o equivalentemente en la posición 4"
   ]
  },
  {
   "cell_type": "code",
   "execution_count": null,
   "metadata": {},
   "outputs": [],
   "source": [
    "# Elemento en la posición -10, el primero en este caso"
   ]
  },
  {
   "cell_type": "markdown",
   "metadata": {},
   "source": [
    "## Acceso a porciones de las cadenas (*slicing*)"
   ]
  },
  {
   "cell_type": "markdown",
   "metadata": {},
   "source": [
    "`str[Start:End:Stride]`\n",
    "\n",
    "**Start** :Índice del primer caracter para formar la subcadena.\n",
    "\n",
    "**End** : Índice (menos uno) que indica el caracter final de la subcadena.\n",
    "\n",
    "**Stride**: Salto entre elementos."
   ]
  },
  {
   "cell_type": "code",
   "execution_count": 13,
   "metadata": {},
   "outputs": [
    {
     "name": "stdout",
     "output_type": "stream",
     "text": [
      "Murciélago\n"
     ]
    }
   ],
   "source": [
    "print(ejemplo[:]) # Cadena completa"
   ]
  },
  {
   "cell_type": "code",
   "execution_count": 14,
   "metadata": {},
   "outputs": [
    {
     "name": "stdout",
     "output_type": "stream",
     "text": [
      "Murci\n"
     ]
    }
   ],
   "source": [
    "print(ejemplo[0:5]) # Elementos del 0 al 4 "
   ]
  },
  {
   "cell_type": "code",
   "execution_count": 15,
   "metadata": {},
   "outputs": [
    {
     "name": "stdout",
     "output_type": "stream",
     "text": [
      "Mrilg\n"
     ]
    }
   ],
   "source": [
    "print(ejemplo[::2]) # Todos los elementos, con saltos de 2"
   ]
  },
  {
   "cell_type": "code",
   "execution_count": 17,
   "metadata": {},
   "outputs": [
    {
     "name": "stdout",
     "output_type": "stream",
     "text": [
      "uia\n"
     ]
    }
   ],
   "source": [
    "print(ejemplo[1:8:3]) # Los elementos de 1 a 7, con saltos de 3"
   ]
  },
  {
   "cell_type": "code",
   "execution_count": 22,
   "metadata": {},
   "outputs": [
    {
     "name": "stdout",
     "output_type": "stream",
     "text": [
      "ogaléicruM\n"
     ]
    }
   ],
   "source": [
    "print(ejemplo[::-1]) # La cadena en reversa"
   ]
  },
  {
   "cell_type": "markdown",
   "metadata": {},
   "source": [
    "## Métodos aplicables sobre las cadenas"
   ]
  },
  {
   "cell_type": "code",
   "execution_count": 23,
   "metadata": {},
   "outputs": [
    {
     "name": "stdout",
     "output_type": "stream",
     "text": [
      "Murciélago\n"
     ]
    }
   ],
   "source": [
    "# Imprimimos la cadena\n",
    "print(ejemplo)"
   ]
  },
  {
   "cell_type": "code",
   "execution_count": 24,
   "metadata": {},
   "outputs": [
    {
     "data": {
      "text/plain": [
       "'MURCIÉLAGO'"
      ]
     },
     "execution_count": 24,
     "metadata": {},
     "output_type": "execute_result"
    }
   ],
   "source": [
    "ejemplo."
   ]
  },
  {
   "cell_type": "code",
   "execution_count": 25,
   "metadata": {},
   "outputs": [
    {
     "data": {
      "text/plain": [
       "'-----Murciélago-----'"
      ]
     },
     "execution_count": 25,
     "metadata": {},
     "output_type": "execute_result"
    }
   ],
   "source": [
    "ejemplo.center(20,'-')"
   ]
  },
  {
   "cell_type": "code",
   "execution_count": 26,
   "metadata": {},
   "outputs": [
    {
     "data": {
      "text/plain": [
       "-1"
      ]
     },
     "execution_count": 26,
     "metadata": {},
     "output_type": "execute_result"
    }
   ],
   "source": [
    "ejemplo.find('e')"
   ]
  },
  {
   "cell_type": "code",
   "execution_count": 27,
   "metadata": {},
   "outputs": [
    {
     "data": {
      "text/plain": [
       "5"
      ]
     },
     "execution_count": 27,
     "metadata": {},
     "output_type": "execute_result"
    }
   ],
   "source": [
    "ejemplo.find('é')"
   ]
  },
  {
   "cell_type": "code",
   "execution_count": 28,
   "metadata": {},
   "outputs": [
    {
     "data": {
      "text/plain": [
       "1"
      ]
     },
     "execution_count": 28,
     "metadata": {},
     "output_type": "execute_result"
    }
   ],
   "source": [
    "ejemplo.count('g')"
   ]
  },
  {
   "cell_type": "code",
   "execution_count": 29,
   "metadata": {},
   "outputs": [
    {
     "data": {
      "text/plain": [
       "True"
      ]
     },
     "execution_count": 29,
     "metadata": {},
     "output_type": "execute_result"
    }
   ],
   "source": [
    "ejemplo.isprintable()"
   ]
  },
  {
   "cell_type": "markdown",
   "metadata": {},
   "source": [
    "## Construcción de cadenas"
   ]
  },
  {
   "cell_type": "markdown",
   "metadata": {},
   "source": [
    "### Operaciones básicas: `+` y `*` ."
   ]
  },
  {
   "cell_type": "code",
   "execution_count": 30,
   "metadata": {},
   "outputs": [
    {
     "name": "stdout",
     "output_type": "stream",
     "text": [
      "Pienso, luego existo\n"
     ]
    }
   ],
   "source": [
    "cadena1 = \"Pienso\"\n",
    "cadena2 = \"luego\"\n",
    "cadena3 = \"existo\"\n",
    "\n",
    "frase_total = cadena1 + ', ' + cadena2 + ' ' +  cadena3\n",
    "print(frase_total)"
   ]
  },
  {
   "cell_type": "code",
   "execution_count": 32,
   "metadata": {},
   "outputs": [
    {
     "data": {
      "text/plain": [
       "'ABCABCABC'"
      ]
     },
     "execution_count": 32,
     "metadata": {},
     "output_type": "execute_result"
    }
   ],
   "source": [
    "'ABC' * 3"
   ]
  },
  {
   "cell_type": "code",
   "execution_count": 33,
   "metadata": {},
   "outputs": [
    {
     "name": "stdout",
     "output_type": "stream",
     "text": [
      "------------------------------------------------------------\n",
      "                    Pienso, luego existo                    \n",
      "------------------------------------------------------------\n"
     ]
    }
   ],
   "source": [
    "print('-' * 60)\n",
    "print(frase_total.center(60))\n",
    "print('-' * 60)"
   ]
  },
  {
   "cell_type": "markdown",
   "metadata": {},
   "source": [
    "### Concatenación y casting\n",
    "\n",
    "Se usa el operador `+` y se convierten otros tipos de datos en cadenas:"
   ]
  },
  {
   "cell_type": "code",
   "execution_count": 34,
   "metadata": {},
   "outputs": [
    {
     "name": "stdout",
     "output_type": "stream",
     "text": [
      "El área de un círculo de radio 3.0 es 28.2744\n"
     ]
    }
   ],
   "source": [
    "# Definimos las siguientes variables\n",
    "radio = 3.0\n",
    "area = 3.1416 * radio ** 2\n",
    "\n",
    "# Construimos la cadena usando el operador '+' y la función 'str()' \n",
    "resultado = \"El área de un círculo de radio \" + str(radio) + \" es \" + str(area)\n",
    "\n",
    "print(resultado)"
   ]
  },
  {
   "cell_type": "markdown",
   "metadata": {},
   "source": [
    "### Método `str.format()`"
   ]
  },
  {
   "cell_type": "code",
   "execution_count": 35,
   "metadata": {},
   "outputs": [
    {
     "name": "stdout",
     "output_type": "stream",
     "text": [
      "El área de un círculo de radio 3.0 es 28.2744\n"
     ]
    }
   ],
   "source": [
    "resultado = \"El área de un círculo de radio {} es {}\".format(radio, area)\n",
    "\n",
    "print(resultado)"
   ]
  },
  {
   "cell_type": "markdown",
   "metadata": {},
   "source": [
    "### Cadenas formateadas (*f-string*, *formatted string literals*)"
   ]
  },
  {
   "cell_type": "code",
   "execution_count": 40,
   "metadata": {},
   "outputs": [
    {
     "name": "stdout",
     "output_type": "stream",
     "text": [
      "El área de un círculo de radio 3.0 es 28.2744\n"
     ]
    }
   ],
   "source": [
    "resultado = f\"El área de un círculo de radio {radio} es {area}\"\n",
    "\n",
    "print(resultado)"
   ]
  },
  {
   "cell_type": "markdown",
   "metadata": {},
   "source": [
    "### Cadenas usando el método `str.join()`"
   ]
  },
  {
   "cell_type": "code",
   "execution_count": 46,
   "metadata": {},
   "outputs": [
    {
     "name": "stdout",
     "output_type": "stream",
     "text": [
      "El área de un círculo de radio 3.0 es 28.2744\n"
     ]
    }
   ],
   "source": [
    "resultado = \" \".join([\"El área de un círculo de radio\", str(radio), \"es\", str(area)])\n",
    "print(resultado)"
   ]
  },
  {
   "cell_type": "markdown",
   "metadata": {},
   "source": [
    "## Inmutabilidad de las cadenas\n",
    "\n",
    "Los elementos de las cadenas no se pueden modificar:"
   ]
  },
  {
   "cell_type": "code",
   "execution_count": 47,
   "metadata": {},
   "outputs": [
    {
     "name": "stdout",
     "output_type": "stream",
     "text": [
      "inmutable\n",
      "9\n"
     ]
    }
   ],
   "source": [
    "cadena = \"inmutable\"\n",
    "print(cadena)\n",
    "print(len(cadena))"
   ]
  },
  {
   "cell_type": "code",
   "execution_count": 48,
   "metadata": {},
   "outputs": [
    {
     "ename": "TypeError",
     "evalue": "'str' object does not support item assignment",
     "output_type": "error",
     "traceback": [
      "\u001b[0;31m---------------------------------------------------------------------------\u001b[0m",
      "\u001b[0;31mTypeError\u001b[0m                                 Traceback (most recent call last)",
      "Cell \u001b[0;32mIn[48], line 2\u001b[0m\n\u001b[1;32m      1\u001b[0m \u001b[38;5;66;03m# Intentamos modificar el elemento 5 de la cadena\u001b[39;00m\n\u001b[0;32m----> 2\u001b[0m \u001b[43mcadena\u001b[49m\u001b[43m[\u001b[49m\u001b[38;5;241;43m5\u001b[39;49m\u001b[43m]\u001b[49m \u001b[38;5;241m=\u001b[39m \u001b[38;5;124m\"\u001b[39m\u001b[38;5;124me\u001b[39m\u001b[38;5;124m\"\u001b[39m\n",
      "\u001b[0;31mTypeError\u001b[0m: 'str' object does not support item assignment"
     ]
    }
   ],
   "source": [
    "# Intentamos modificar el elemento 5 de la cadena\n",
    "cadena[5] = \"e\""
   ]
  },
  {
   "cell_type": "code",
   "execution_count": null,
   "metadata": {},
   "outputs": [],
   "source": []
  }
 ],
 "metadata": {
  "kernelspec": {
   "display_name": "Python 3 (ipykernel)",
   "language": "python",
   "name": "python3"
  },
  "language_info": {
   "codemirror_mode": {
    "name": "ipython",
    "version": 3
   },
   "file_extension": ".py",
   "mimetype": "text/x-python",
   "name": "python",
   "nbconvert_exporter": "python",
   "pygments_lexer": "ipython3",
   "version": "3.11.6"
  }
 },
 "nbformat": 4,
 "nbformat_minor": 4
}
