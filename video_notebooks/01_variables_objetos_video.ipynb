{
 "cells": [
  {
   "cell_type": "code",
   "execution_count": null,
   "id": "0d8aa98e-47e1-4e9d-80bb-5b399e15ce0c",
   "metadata": {},
   "outputs": [],
   "source": []
  },
  {
   "cell_type": "markdown",
   "id": "7ab846df-c673-4abc-b5a4-2022a1fbbec5",
   "metadata": {
    "jupyter": {
     "source_hidden": true
    }
   },
   "source": [
    "$$\n",
    "\\text{imc} = \\dfrac{\\text{peso}}{\\text{estatura}^2}\n",
    "$$"
   ]
  },
  {
   "cell_type": "code",
   "execution_count": 3,
   "id": "2e8dbe6a-4ed9-4735-9227-dc83d6d7319d",
   "metadata": {},
   "outputs": [],
   "source": [
    "# Acentos y caracteres de idiomas en el nombre de variables\n"
   ]
  },
  {
   "cell_type": "code",
   "execution_count": 4,
   "id": "4b5182b6-0b5c-4cb1-b574-39a18db22a09",
   "metadata": {},
   "outputs": [
    {
     "name": "stdout",
     "output_type": "stream",
     "text": [
      "Área del círculo de radio 5.0 es igual a 78.53999999999999\n"
     ]
    }
   ],
   "source": [
    "# Símbolos matemáticos\n",
    "𝜋 = 3.1416\n",
    "\n",
    "# Calcular el área de un círculo\n",
    "r = 5.0\n",
    "área = 𝜋 * r**2\n",
    "\n",
    "print(f\"Área del círculo de radio {r} es igual a {área}\")"
   ]
  },
  {
   "cell_type": "markdown",
   "id": "dfed14d4-0f8c-4f0b-9444-5780e9cca542",
   "metadata": {},
   "source": [
    "https://www.compart.com/en/unicode/html"
   ]
  },
  {
   "cell_type": "code",
   "execution_count": 19,
   "id": "f545e45f-5d4e-4097-992f-bfba7a365427",
   "metadata": {},
   "outputs": [
    {
     "name": "stdout",
     "output_type": "stream",
     "text": [
      "5.6\n"
     ]
    }
   ],
   "source": [
    "𝛽 = 5.6\n",
    "print(𝛽)"
   ]
  },
  {
   "cell_type": "code",
   "execution_count": 21,
   "id": "6263d8a8-df4a-4487-b48a-9cc1e5a6e24b",
   "metadata": {},
   "outputs": [
    {
     "data": {
      "text/plain": [
       "120573"
      ]
     },
     "execution_count": 21,
     "metadata": {},
     "output_type": "execute_result"
    }
   ],
   "source": [
    "ord(\"𝛽\")"
   ]
  },
  {
   "cell_type": "code",
   "execution_count": 22,
   "id": "3d5d54f4-6112-44f6-9f46-be24cb2b8daa",
   "metadata": {},
   "outputs": [
    {
     "data": {
      "text/plain": [
       "'𝛽'"
      ]
     },
     "execution_count": 22,
     "metadata": {},
     "output_type": "execute_result"
    }
   ],
   "source": [
    "chr(120573)"
   ]
  }
 ],
 "metadata": {
  "kernelspec": {
   "display_name": "Python 3 (ipykernel)",
   "language": "python",
   "name": "python3"
  },
  "language_info": {
   "codemirror_mode": {
    "name": "ipython",
    "version": 3
   },
   "file_extension": ".py",
   "mimetype": "text/x-python",
   "name": "python",
   "nbconvert_exporter": "python",
   "pygments_lexer": "ipython3",
   "version": "3.11.6"
  }
 },
 "nbformat": 4,
 "nbformat_minor": 5
}
