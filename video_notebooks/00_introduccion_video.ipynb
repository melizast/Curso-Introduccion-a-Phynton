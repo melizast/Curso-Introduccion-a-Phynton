{
 "cells": [
  {
   "cell_type": "markdown",
   "id": "d9ddbdbf-7bfd-4a4c-a260-ac0af46f48ab",
   "metadata": {},
   "source": [
    "<div class=\"alert alert-block alert-success\">\n",
    "\n",
    "## Ejercicio\n",
    "\n",
    "<font color=\"Black\">\n",
    "\n",
    "**Índice de Masa Corporal**\n",
    "\n",
    "$$\n",
    "\\text{IMC} = \\frac{\\text{peso (kg)}}{\\text{[estatura (m)]}^2}\n",
    "$$\n",
    "\n",
    "Dados los datos del peso y de la estatura, calcula el Índice de Masa Corporal.\n",
    "\n",
    "</font>\n",
    "</div>\n",
    "\n",
    "\n",
    "\n"
   ]
  },
  {
   "cell_type": "code",
   "execution_count": 42,
   "id": "a7b980e8-73fc-4c67-8aa8-b294ca886d44",
   "metadata": {},
   "outputs": [
    {
     "name": "stdout",
     "output_type": "stream",
     "text": [
      "----------------------------------------\n",
      "               Resultado                \n",
      "----------------------------------------\n",
      "Total palabras = 919\n",
      "Total letras = 4239\n",
      "a = 524, (12.361%)\n",
      "e = 531, (12.527%)\n",
      "i = 180, (4.246%)\n",
      "o = 361, (8.516%)\n",
      "u = 184, (4.341%)\n",
      "----------------------------------------\n",
      "                 Texto                  \n",
      "----------------------------------------\n",
      "Capítulo primero\n",
      "\n",
      "Que trata de la condición y ejercicio del famoso y valiente hidalgo don Quijote de la Mancha\n",
      "\n",
      "En un lugar de la Mancha, de cuyo nombre no quiero acordarme, no ha mucho tiempo que vivía un hidalgo de \n",
      "los de lanza en astillero, adarga antigua, rocín flaco y galgo corredor. Una olla de algo más vaca que \n",
      "carnero, salpicón las más noches, duelos y quebrantos los sábados, lantejas los viernes, algún palomino \n",
      "de añadidura los domingos, consumían las tres partes de su hacienda. El resto della concluían sayo de \n",
      "velarte, calzas de velludo para las fiestas, con sus pantuflos de lo mesmo, y los días de entresemana se \n",
      "honraba con su vellorí de lo más fino. Tenía en su casa una ama que pasaba de los cuarenta y una sobrina \n",
      "que no llegaba a los veinte, y un mozo de campo y plaza que así ensillaba el rocín como tomaba la \n",
      "podadera. Frisaba la edad de nuestro hidalgo con los cincuenta años. Era de complexión recia, seco de \n",
      "carnes, enjuto de rostro, gran madrugador y amigo de la caza. Quieren decir que tenía el sobrenombre de \n",
      "«Quijada», o «Quesada», que en esto hay alguna diferencia en los autores que deste caso escriben, aunque i\n",
      "por conjeturas verisímiles se deja entender que se llamaba «Quijana». Pero esto importa poco a nuestro \n",
      "cuento: basta que en la narración dél no se salga un punto de la verdad.\n",
      "\n",
      "Es, pues, de saber que este sobredicho hidalgo, los ratos que estaba ocioso —que eran los más del año—, \n",
      "se daba a leer libros de caballerías, con tanta afición y gusto, que olvidó casi de todo punto el \n",
      "ejercicio de la caza y aun la administración de su hacienda; y llegó a tanto su curiosidad y desatino en \n",
      "esto, que vendió muchas hanegas de tierra de sembradura para comprar libros de caballerías en que leer, \n",
      "y, así, llevó a su casa todos cuantos pudo haber dellos; y, de todos, ningunos le parecían tan bien \n",
      "como los que compuso el famoso Feliciano de Silva, porque la claridad de su prosa y aquellas entricadas \n",
      "razones suyas le parecían de perlas, y más cuando llegaba a leer aquellos requiebros y cartas de desafíos,\n",
      " donde en muchas partes hallaba escrito: «La razón de la sinrazón que a mi razón se hace, de tal manera \n",
      "mi razón enflaquece, que con razón me quejo de la vuestra fermosura». Y también cuando leía: «Los altos \n",
      "cielos que de vuestra divinidad divinamente con las estrellas os fortifican y os hacen merecedora del \n",
      "merecimiento que merece la vuestra grandeza...»\n",
      "\n",
      "Con estas razones perdía el pobre caballero el juicio, y desvelábase por entenderlas y desentrañarles el \n",
      "sentido, que no se lo sacara ni las entendiera el mesmo Aristóteles, si resucitara para solo ello. \n",
      "No estaba muy bien con las heridas que don Belianís daba y recebía, porque se imaginaba que, por grandes \n",
      "maestros que le hubiesen curado, no dejaría de tener el rostro y todo el cuerpo lleno de cicatrices y \n",
      "señales. Pero, con todo, alababa en su autor aquel acabar su libro con la promesa de aquella inacabable \n",
      "aventura, y muchas veces le vino deseo de tomar la pluma y dalle fin al pie de la letra como allí se \n",
      "promete; y sin duda alguna lo hiciera, y aun saliera con ello, si otros mayores y continuos pensamientos \n",
      "no se lo estorbaran. Tuvo muchas veces competencia con el cura de su lugar —que era hombre docto, \n",
      "graduado en Cigüenza— sobre cuál había sido mejor caballero: Palmerín de Ingalaterra o Amadís de Gaula; \n",
      "mas maese Nicolás, barbero del mesmo pueblo, decía que ninguno llegaba al Caballero del Febo, y que si \n",
      "alguno se le podía comparar era don Galaor, hermano de Amadís de Gaula, porque tenía muy acomodada \n",
      "condición para todo, que no era caballero melindroso, ni tan llorón como su hermano, y que en lo de la \n",
      "valentía no le iba en zaga.\n",
      "\n",
      "En resolución, él se enfrascó tanto en su letura, que se le pasaban las noches leyendo de claro en claro, \n",
      "y los días de turbio en turbio; y así, del poco dormir y del mucho leer, se le secó el celebro de manera \n",
      "que vino a perder el juicio. Llenósele la fantasía de todo aquello que leía en los libros, así de \n",
      "encantamentos como de pendencias, batallas, desafíos, heridas, requiebros, amores, tormentas y disparates \n",
      "imposibles; y asentósele de tal modo en la imaginación que era verdad toda aquella máquina de aquellas \n",
      "soñadas invenciones que leía, que para él no había otra historia más cierta en el mundo. Decía él que el \n",
      "Cid Ruy Díaz había sido muy buen caballero, pero que no tenía que ver con el Caballero de la Ardiente \n",
      "Espada, que de solo un revés había partido por medio dos fieros y descomunales gigantes. Mejor estaba \n",
      "con Bernardo del Carpio, porque en Roncesvalles había muerto a Roldán, el encantado, valiéndose de la \n",
      "industria de Hércules, cuando ahogó a Anteo, el hijo de la Tierra, entre los brazos. Decía mucho bien \n",
      "del gigante Morgante, porque, con ser de aquella generación gigantea, que todos son soberbios y \n",
      "descomedidos, él solo era afable y bien criado. Pero, sobre todos, estaba bien con Reinaldos de \n",
      "Montalbán, y más cuando le veía salir de su castillo y robar cuantos topaba, y cuando en allende robó \n",
      "aquel ídolo de Mahoma que era todo de oro, según dice su historia. Diera él, por dar una mano de coces \n",
      "al traidor de Galalón, al ama que tenía, y aun a su sobrina de añadidura.\n"
     ]
    }
   ],
   "source": [
    "archivo = open(\"Don_Quijote.txt\")           # Archivo\n",
    "total_palabras = 0                          # Número entero\n",
    "total_letras = 0                            # Número entero\n",
    "vocal = {'a':0, 'e':0, 'i':0, 'o':0, 'u':0} # Diccionario\n",
    "texto = []                                  # Lista vacía\n",
    "\n",
    "# Lee línea por línea\n",
    "for línea in archivo:\n",
    "    # Cuenta las palabras\n",
    "    for palabra in línea.split():\n",
    "        total_palabras += 1\n",
    "        # Cuenta las letras\n",
    "        for letra in palabra:\n",
    "            total_letras += 1\n",
    "            # Cuenta vocales\n",
    "            vocal['a'] += 1 if letra == 'a' else 0\n",
    "            vocal['e'] += 1 if letra == 'e' else 0\n",
    "            vocal['i'] += 1 if letra == 'i' else 0\n",
    "            vocal['o'] += 1 if letra == 'o' else 0\n",
    "            vocal['u'] += 1 if letra == 'u' else 0\n",
    "    texto.append(línea)\n",
    "\n",
    "print(\"-\"*40 + \"\\n{:^40s}\\n\".format(\"Resultado\") + \"-\"*40)\n",
    "print(f'Total palabras = {total_palabras}')\n",
    "print(f'Total letras = {total_letras}')\n",
    "\n",
    "# Imprime el total de vocales y calcula el porcentaje\n",
    "[print(f'{k} = {vocal[k]}, ({vocal[k] / total_letras:5.3%})') for k in vocal]\n",
    "print(\"-\"*40 + \"\\n{:^40s}\\n\".format(\"Texto\") + \"-\"*40)\n",
    "# Imprime el texto\n",
    "[print(línea, end=\"\") for línea in texto]\n",
    " \n",
    "archivo.close()"
   ]
  },
  {
   "cell_type": "code",
   "execution_count": null,
   "id": "d0488f2a-b61d-4c3a-943a-f06c913bc65b",
   "metadata": {},
   "outputs": [],
   "source": []
  },
  {
   "cell_type": "code",
   "execution_count": null,
   "id": "c207f1a7-1795-4022-a777-583fb0363db1",
   "metadata": {},
   "outputs": [],
   "source": []
  },
  {
   "cell_type": "code",
   "execution_count": null,
   "id": "64713df7-b296-44ec-b582-75b60d5f31a9",
   "metadata": {},
   "outputs": [],
   "source": []
  },
  {
   "cell_type": "code",
   "execution_count": null,
   "id": "04eb6351-988a-49e2-8c2f-c5eaf403c123",
   "metadata": {},
   "outputs": [],
   "source": []
  },
  {
   "cell_type": "code",
   "execution_count": null,
   "id": "0b13ad18-ea5b-4974-8acd-dd4ade807e64",
   "metadata": {},
   "outputs": [],
   "source": [
    "close(archivo)"
   ]
  },
  {
   "cell_type": "code",
   "execution_count": null,
   "id": "6b3523a1-e647-4299-9623-bc4db70adf38",
   "metadata": {},
   "outputs": [],
   "source": [
    "peso = 80       # (kg) \n",
    "estatura = 1.78 # (m)\n",
    "\n",
    "IMC = peso / estatura ** 2\n",
    "\n",
    "print(\"Peso = \", peso)\n",
    "print(\"Estatura = \", estatura)\n",
    "print(\"Índice de masa corporal = \", IMC)"
   ]
  },
  {
   "cell_type": "code",
   "execution_count": null,
   "id": "88974e73-19cd-4eb3-ae1a-54e36bbec300",
   "metadata": {},
   "outputs": [],
   "source": []
  },
  {
   "cell_type": "code",
   "execution_count": null,
   "id": "a9989c0c-162a-463c-b27e-1cf2100a252a",
   "metadata": {},
   "outputs": [],
   "source": []
  },
  {
   "cell_type": "code",
   "execution_count": null,
   "id": "40b42bba-51e6-4fee-8298-5252acbd094c",
   "metadata": {},
   "outputs": [],
   "source": []
  },
  {
   "cell_type": "code",
   "execution_count": null,
   "id": "1be56293-ae1d-400a-9177-d161934ddd42",
   "metadata": {},
   "outputs": [],
   "source": []
  },
  {
   "cell_type": "code",
   "execution_count": null,
   "id": "dbb0ccf4-6dfe-42af-b5d7-ba174a228e35",
   "metadata": {},
   "outputs": [],
   "source": [
    "entero = 1\n",
    "𝜋 = 3.141592\n",
    "saludo = \"¡Hola mundo Pythónico!\""
   ]
  },
  {
   "cell_type": "code",
   "execution_count": null,
   "id": "a837cc93-15df-431a-afcb-bb022bea67b4",
   "metadata": {},
   "outputs": [],
   "source": [
    "print(\"Número entero:\", entero)\n",
    "print(f\"𝜋 = {𝜋}\")\n",
    "print(saludo)"
   ]
  },
  {
   "cell_type": "code",
   "execution_count": null,
   "id": "4829f2e0-8d3b-4467-ba12-4a2b71f1154c",
   "metadata": {},
   "outputs": [],
   "source": [
    "diccionario = {\"Nombre\" : \"José\", \n",
    "               \"Apellido\" : \"Saramago\",\n",
    "               \"Ocupación\" : [\"Escritor\", \"Periodista\", \"Dramaturgo\"],\n",
    "               \"Premios\" : [\"Nobel de literatura\", 1998],\n",
    "               \"Nacimiento\" : {\"Día\":16, \"Mes\": 12, \"Año\": 1992},\n",
    "               \"Fallecimiento\": {\"Día\":18, \"Mes\": 6, \"Año\": 2010},\n",
    "              }\n",
    "\n",
    "for k, v in diccionario.items():\n",
    "    print(\"{:>15s} : {}\".format(k, v))"
   ]
  },
  {
   "cell_type": "code",
   "execution_count": null,
   "id": "b0e3753e-e19d-4fe2-b49b-af3e314780fd",
   "metadata": {},
   "outputs": [],
   "source": []
  },
  {
   "cell_type": "code",
   "execution_count": null,
   "id": "fc58df2a-4c5a-4b8e-9606-c5b857c4af13",
   "metadata": {},
   "outputs": [],
   "source": []
  },
  {
   "cell_type": "code",
   "execution_count": null,
   "id": "1b2fcca5-20f6-4318-9731-430453adf29a",
   "metadata": {},
   "outputs": [],
   "source": []
  },
  {
   "cell_type": "code",
   "execution_count": null,
   "id": "1d16ca20-3cec-4379-86a4-fc39259f394f",
   "metadata": {},
   "outputs": [],
   "source": []
  },
  {
   "cell_type": "code",
   "execution_count": null,
   "id": "1292b2d8-29c8-43f7-8a40-7c2442929f31",
   "metadata": {},
   "outputs": [],
   "source": []
  },
  {
   "cell_type": "code",
   "execution_count": null,
   "id": "ff046a51-f7c6-4177-9eda-40f7c31011cf",
   "metadata": {},
   "outputs": [],
   "source": []
  },
  {
   "cell_type": "code",
   "execution_count": null,
   "id": "21a906c0-4b1f-4100-9018-5ee9f611c9fe",
   "metadata": {},
   "outputs": [],
   "source": [
    "import this"
   ]
  }
 ],
 "metadata": {
  "kernelspec": {
   "display_name": "Python 3 (ipykernel)",
   "language": "python",
   "name": "python3"
  },
  "language_info": {
   "codemirror_mode": {
    "name": "ipython",
    "version": 3
   },
   "file_extension": ".py",
   "mimetype": "text/x-python",
   "name": "python",
   "nbconvert_exporter": "python",
   "pygments_lexer": "ipython3",
   "version": "3.11.6"
  }
 },
 "nbformat": 4,
 "nbformat_minor": 5
}
