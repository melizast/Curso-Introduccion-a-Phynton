{
 "cells": [
  {
   "cell_type": "markdown",
   "id": "8f9a601c-f5b6-41f2-b447-e683a6815a7d",
   "metadata": {
    "nbgrader": {
     "grade": false,
     "grade_id": "cell-580bfa9e401480a2",
     "locked": true,
     "schema_version": 3,
     "solution": false,
     "task": false
    }
   },
   "source": [
    "# Introducción a Python\n",
    "\n",
    " <p xmlns:cc=\"http://creativecommons.org/ns#\" xmlns:dct=\"http://purl.org/dc/terms/\"><a property=\"dct:title\" rel=\"cc:attributionURL\" href=\"https://github.com/repomacti/introduccion_python\">Introducción a Python</a> by <a rel=\"cc:attributionURL dct:creator\" property=\"cc:attributionName\" href=\"https://gmc.geofisica.unam.mx/luiggi\">Luis Miguel de la Cruz Salas</a> is licensed under <a href=\"https://creativecommons.org/licenses/by-sa/4.0/?ref=chooser-v1\" target=\"_blank\" rel=\"license noopener noreferrer\" style=\"display:inline-block;\">CC BY-SA 4.0<img style=\"height:22px!important;margin-left:3px;vertical-align:text-bottom;\" src=\"https://mirrors.creativecommons.org/presskit/icons/cc.svg?ref=chooser-v1\" alt=\"\"><img style=\"height:22px!important;margin-left:3px;vertical-align:text-bottom;\" src=\"https://mirrors.creativecommons.org/presskit/icons/by.svg?ref=chooser-v1\" alt=\"\"><img style=\"height:22px!important;margin-left:3px;vertical-align:text-bottom;\" src=\"https://mirrors.creativecommons.org/presskit/icons/sa.svg?ref=chooser-v1\" alt=\"\"></a></p> "
   ]
  },
  {
   "cell_type": "markdown",
   "id": "1c2356f9-c9a9-4d90-b436-6ad4dccaf4b5",
   "metadata": {},
   "source": [
    "# Control de flujo.\n",
    "\n",
    "En esta lección revisaremos las siguientes declaraciones que sirven para controlar el flujo de un programa:\n",
    "\n",
    "* `while`\n",
    "* `for`\n",
    "* `if`\n",
    "* `match`\n",
    "\n",
    "Esta declaraciones se usan junto con las operaciones lógicas de la siguiente tabla:\n",
    "\n",
    "| Python | Significado |\n",
    "|---|---|\n",
    "| `a == b` | ¿son iguales `a` y `b`? | \n",
    "| `a != b` | ¿son diferentes `a` y `b`? |\n",
    "| `a < b` |  ¿`a` es menor que `b`?:\n",
    "| `a <= b` | ¿`a` es menor o igual que `b`? |\n",
    "| `a > b` | ¿`a` es mayor que `b`? | \n",
    "| `a >= b` | ¿`a` es mayor o igual que `b`? |\n",
    "| **`not`** `A` | El inverso de la expresión `A` |\n",
    "| `A` **`and`** `B` | ¿La expresión `A` y la expresión `B` son verdaderas? |\n",
    "| `A` **`or`** `B`| ¿La expresión `A` o la expresión `B` es verdadera?:\n",
    "\n",
    "## While\n",
    "\n",
    "```python\n",
    "while expresión:\n",
    "    código ...\n",
    "```"
   ]
  },
  {
   "cell_type": "markdown",
   "id": "2e85c4a2-bc09-4d7f-90aa-cb2776373df7",
   "metadata": {},
   "source": [
    "<div class=\"alert alert-block alert-success\">\n",
    "\n",
    "### Ejemplo 1. \n",
    "\n",
    "Imprimir los números del $1$ al $N$ usando un `while`, donde $N$ es proporcionado por el usuario:\n",
    "\n",
    "</div>"
   ]
  },
  {
   "cell_type": "code",
   "execution_count": null,
   "id": "6a2f7a1b-75f4-42e5-8096-be920c4a0db0",
   "metadata": {},
   "outputs": [],
   "source": [
    "# Solicitamos N y lo transformamos a int\n",
    "N = int(input(\"¿Hasta qué valor deseas imprimir? N = \"))\n",
    "\n",
    "# Inicializamos 'n'\n",
    "n = 1\n",
    "\n",
    "# Realizamos la impresión de n dentro de un while\n",
    "# mientras se cumpla que 'n' sea menor o igual que 'N'\n",
    "while n <= N:\n",
    "    print(n, end = ' ') # Usamos end=' '  para separar cada número por un espacio\n",
    "    n += 1"
   ]
  },
  {
   "cell_type": "markdown",
   "id": "e5717cbe-97c7-4d31-8ecc-47fc2cbba59e",
   "metadata": {},
   "source": [
    "<div class=\"alert alert-block alert-success\">\n",
    "\n",
    "### Ejemplo 2. \n",
    "\n",
    "Sumar los números del $1$ al $N$ usando un `while`, donde $N$ es proporcionado por el usuario, luego comparar el resultado con lo que se obtiene con la fórmula: \n",
    "$$\n",
    "\\sum_{i=1}^{N}i = 1 + 2 + \\dots + N = \\dfrac{N(N+1)}{2}\n",
    "$$\n",
    "\n",
    "</div>"
   ]
  },
  {
   "cell_type": "code",
   "execution_count": null,
   "id": "85bc659e-69a4-4d1f-b7e0-69419be85efb",
   "metadata": {},
   "outputs": [],
   "source": [
    "# Solicitamos N y lo transformamos a int\n",
    "N = int(input(\"N = \"))\n",
    "\n",
    "# Inicializamos las variables\n",
    "n = 1\n",
    "suma = 0\n",
    "\n",
    "# Realizamos la suma\n",
    "while n <= N:\n",
    "    suma += n\n",
    "    n += 1\n",
    "\n",
    "# Imprimimos el resultado de la suma\n",
    "print(\"{:8s} = {:5d}\".format(\"Suma\", suma))\n",
    "\n",
    "# Imprimimos el resultado de la fórmula (usamos división entera)\n",
    "print(\"N(N+1)/2 = {:5d}\".format(N * (N + 1) // 2))"
   ]
  },
  {
   "cell_type": "markdown",
   "id": "5c54f333-4b0e-4242-83ae-841e513cf99d",
   "metadata": {},
   "source": [
    "## For\n",
    "\n",
    "```python\n",
    "for i in secuencia:\n",
    "    codigo ...\n",
    "```\n",
    "Una secuencia muy usada:\n",
    "\n",
    "```python\n",
    "range(start, stop, step)\n",
    "```"
   ]
  },
  {
   "cell_type": "markdown",
   "id": "b7aa258b-a7a5-442d-9ad1-c783e0d39b21",
   "metadata": {},
   "source": [
    "<div class=\"alert alert-block alert-success\">\n",
    "\n",
    "### Ejemplo 3. \n",
    "\n",
    "Imprime los números del 1 al 10 separados por un espacio.\n",
    "</div>"
   ]
  },
  {
   "cell_type": "code",
   "execution_count": null,
   "id": "a498f77c-b6b7-44d8-8dbe-5a188ee175ed",
   "metadata": {},
   "outputs": [],
   "source": [
    "for i in range(1, 11):\n",
    "    print(i, end= ' ')"
   ]
  },
  {
   "cell_type": "markdown",
   "id": "640f10b9-bd30-43ae-9f76-24c46931e9ba",
   "metadata": {},
   "source": [
    "<div class=\"alert alert-block alert-success\">\n",
    "\n",
    "### Ejemplo 4. \n",
    "\n",
    "Imprime los números **impares** del 1 al 10 separados por un guion `-`.\n",
    "</div>"
   ]
  },
  {
   "cell_type": "code",
   "execution_count": null,
   "id": "d6bf9cf3-daea-434c-8f3c-63279baa910b",
   "metadata": {},
   "outputs": [],
   "source": [
    "for i in range(1, 11, 2):\n",
    "    print(i, end= '-')"
   ]
  },
  {
   "cell_type": "markdown",
   "id": "5cd681f0-d7e3-4a8a-9164-7d6fcb935180",
   "metadata": {},
   "source": [
    "<div class=\"alert alert-block alert-success\">\n",
    "\n",
    "### Ejemplo 5. \n",
    "\n",
    "Imprime los números **pares** del 1 al 10 separados por un tabulador.\n",
    "</div>"
   ]
  },
  {
   "cell_type": "code",
   "execution_count": null,
   "id": "16d34b69-3d5c-43b2-b61a-47688331f0f6",
   "metadata": {},
   "outputs": [],
   "source": [
    "for i in range(2, 11, 2):\n",
    "    print(i, end= '\\t')"
   ]
  },
  {
   "cell_type": "markdown",
   "id": "4a3d3123-c307-4941-a3cb-cc4818c2a269",
   "metadata": {},
   "source": [
    "<div class=\"alert alert-block alert-success\">\n",
    "\n",
    "### Ejemplo 6. \n",
    "\n",
    "Imprime la secuencia de números: `5 4 3 2 1` separados por un espacio.\n",
    "</div>"
   ]
  },
  {
   "cell_type": "code",
   "execution_count": null,
   "id": "1d0c9683-1860-4760-9341-426904a99ed8",
   "metadata": {},
   "outputs": [],
   "source": [
    "for i in range(5, 0, -1):\n",
    "    print(i, end= ' ')"
   ]
  },
  {
   "cell_type": "markdown",
   "id": "2c677369-002a-48dc-89ba-f465077d7cb7",
   "metadata": {},
   "source": [
    "<div class=\"alert alert-block alert-success\">\n",
    "\n",
    "### Ejemplo 7. \n",
    "\n",
    "Imprime la secuencia de números: `-5, -3, -1, 1, 3,` separados por la cadena `, `.\n",
    "</div>"
   ]
  },
  {
   "cell_type": "code",
   "execution_count": null,
   "id": "d926e141-975c-4ca1-bd72-4ab405f5e788",
   "metadata": {},
   "outputs": [],
   "source": [
    "for i in range(-5, 5, 2):\n",
    "    print(i, end= ', ')"
   ]
  },
  {
   "cell_type": "markdown",
   "id": "39edfbd8-dc85-4f61-ab43-851ab85d4842",
   "metadata": {},
   "source": [
    "<div class=\"alert alert-block alert-success\">\n",
    "\n",
    "### Ejemplo 8. \n",
    "\n",
    "Imprimir los números del $1$ al $N$ usando un `for`, donde $N$ es proporcionado por el usuario:\n",
    "\n",
    "</div>"
   ]
  },
  {
   "cell_type": "code",
   "execution_count": null,
   "id": "36841a58-8d0a-4491-9cdd-17f5cfda0488",
   "metadata": {
    "nbgrader": {
     "grade": false,
     "grade_id": "cell-4436c7b5d2d5e52b",
     "locked": false,
     "schema_version": 3,
     "solution": true,
     "task": false
    }
   },
   "outputs": [],
   "source": [
    "N = int(input(\"¿Hasta qué valor deseas imprimir? N = \"))\n",
    "\n",
    "### BEGIN SOLUTION\n",
    "for n in range(1, N+1):\n",
    "    print(n, end = ' ')\n",
    "### END SOLUTION\n"
   ]
  },
  {
   "cell_type": "markdown",
   "id": "c109991e-1cd7-42bc-808c-57b8977dabb8",
   "metadata": {},
   "source": [
    "Observa que en el `range()` se usa `N+1`  para que el ciclo abarque hasta `N`."
   ]
  },
  {
   "cell_type": "markdown",
   "id": "103ef357-e356-4d5f-8e14-53741ef05c6a",
   "metadata": {},
   "source": [
    "<div class=\"alert alert-block alert-success\">\n",
    "\n",
    "### Ejemplo 9. \n",
    "\n",
    "Sumar los números del $1$ al $N$, usando un `for`, donde $N$ es proporcionado por el usuario, luego comparar el resultado con lo que se obtiene con la fórmula: \n",
    "$$\n",
    "\\sum_{i=1}^{N}i = 1 + 2 + \\dots + N = \\dfrac{N(N+1)}{2}\n",
    "$$\n",
    "</div>"
   ]
  },
  {
   "cell_type": "code",
   "execution_count": null,
   "id": "a6e62fb4-7795-43d8-9b0f-4e263406cd95",
   "metadata": {
    "nbgrader": {
     "grade": false,
     "grade_id": "cell-5fbbbf09893bf089",
     "locked": false,
     "schema_version": 3,
     "solution": true,
     "task": false
    }
   },
   "outputs": [],
   "source": [
    "# Solicitamos N y lo transformamos a int\n",
    "N = int(input(\"N = \"))\n",
    "\n",
    "# Inicializamos las variables\n",
    "suma = 0\n",
    "\n",
    "# Realizamos la suma\n",
    "### BEGIN SOLUTION\n",
    "for n in range(1, N+1):\n",
    "    suma += n\n",
    "### END SOLUTION\n",
    "\n",
    "# Imprimimos el resultado de la suma\n",
    "print(\"{:8s} = {:5d}\".format(\"Suma\", suma))\n",
    "\n",
    "# Imprimimos el resultado de la fórmula (usamos división entera)\n",
    "print(\"N(N+1)/2 = {:5d}\".format(N * (N + 1) // 2))"
   ]
  },
  {
   "cell_type": "markdown",
   "id": "299ba7f9-5c7c-445c-b8b8-c767f9856e58",
   "metadata": {},
   "source": [
    "## `if`, `elif`, `else`\n",
    "\n",
    "```python\n",
    "if expresion1:\n",
    "    codigo1 \n",
    "    ...\n",
    "elif expresion2:\n",
    "    codigo2 \n",
    "    ...\n",
    "elif expresion3:\n",
    "    codigo3 \n",
    "    ...\n",
    "else:\n",
    "    codigo4\n",
    "    ...\n",
    "```"
   ]
  },
  {
   "cell_type": "markdown",
   "id": "bf07cfda-9f5b-4822-8360-848590aa065a",
   "metadata": {},
   "source": [
    "<div class=\"alert alert-block alert-success\">\n",
    "\n",
    "### Ejemplo 10. \n",
    "\n",
    "<font color=\"Black\">\n",
    "\n",
    "Implementa un código que imprima los número **pares** en el rango `(-N, N)`, donde `N` es un valor entero positivo que es ingresado por el usuario.\n",
    "\n",
    "**Hint**. Revisa el ejemplo 5 en la Notebook [07_control_de_flujo.ipynb](../notebooks/07_control_de_flujo.ipynb)\n",
    "</font></div>"
   ]
  },
  {
   "cell_type": "code",
   "execution_count": null,
   "id": "b37955db-6454-4f93-abd3-3c156666b826",
   "metadata": {
    "nbgrader": {
     "grade": false,
     "grade_id": "cell-777ab4230f130555",
     "locked": false,
     "schema_version": 3,
     "solution": true,
     "task": false
    }
   },
   "outputs": [],
   "source": [
    "# N = ...\n",
    "# for ...\n",
    "# ...\n",
    "### BEGIN SOLUTION\n",
    "N = int(input(\"N =\"))\n",
    "for n in range(-N, N+1, 1):\n",
    "    if not (n % 2): # Observa que se usa not() para invertir el resultado de la operación módulo.\n",
    "        print(n, end = \", \")\n",
    "### END SOLUTION"
   ]
  },
  {
   "cell_type": "markdown",
   "id": "27cee9a8-9c7c-4ce3-9b50-ad3737f6221a",
   "metadata": {},
   "source": [
    "<div class=\"alert alert-block alert-success\">\n",
    "\n",
    "### Ejemplo 11. \n",
    "\n",
    "Recorre el rango de números enteros $[0, 10]$ y determina los número impares y pares. \n",
    "</div>\n",
    "\n",
    "**Primera versión**.\n",
    "\n",
    "Usaremos una combinación del operador ternario y la declaración `if ... else`. El código consiste de 6 líneas (sin contar los comentarios ni líneas en blanco)."
   ]
  },
  {
   "cell_type": "code",
   "execution_count": null,
   "id": "0b38c580-957c-4e17-bba8-c5c2374fb5c4",
   "metadata": {},
   "outputs": [],
   "source": [
    "for n in range(0, 11):\n",
    "    # Se checa si el número es par o impar. La variable 'impar' es \n",
    "    # de tipo Booleana y determina cuándo un número es par o impar.\n",
    "    impar = True if n % 2 else False\n",
    "\n",
    "    # Con el resultado almacenado en 'impar' se imprime el tipo del número.\n",
    "    if impar:\n",
    "        print(f\"{n} es impar\")\n",
    "    else:\n",
    "        print(f\"{n} es par\")"
   ]
  },
  {
   "cell_type": "markdown",
   "id": "ae247d7d-33cf-4fc6-8ba9-bde6861b19b0",
   "metadata": {},
   "source": [
    "**Segunda versión**.\n",
    "\n",
    "Usaremos solamente la declaración `if ... else`. El código consiste de 5 líneas (sin contar los comentarios ni líneas en blanco)."
   ]
  },
  {
   "cell_type": "code",
   "execution_count": null,
   "id": "f1b12fc9-912b-474e-bb90-6282eb13263c",
   "metadata": {},
   "outputs": [],
   "source": [
    "for n in range(0, 11):\n",
    "    # Vemos si el número es divisible entre 2 usando el módulo. \n",
    "    # Cuando el resultado es diferente de cero (True), entonces el número es impar\n",
    "    if n % 2 :\n",
    "        print(f\"{n} es impar\")\n",
    "    # El número es par cuando el módulo entre 2 es cero (False).\n",
    "    else:\n",
    "        print(f\"{n} es par\")"
   ]
  },
  {
   "cell_type": "markdown",
   "id": "b4e06d3b-8258-4215-8448-774aad3c855a",
   "metadata": {},
   "source": [
    "**Tercera versión**.\n",
    "\n",
    "Usaremos solo el operador ternario. El código consiste de 3 líneas (sin contar los comentarios ni líneas en blanco)."
   ]
  },
  {
   "cell_type": "code",
   "execution_count": null,
   "id": "6049e17b-0c42-4a00-8f49-61b83a41dc4a",
   "metadata": {},
   "outputs": [],
   "source": [
    "for n in range(0, 11):\n",
    "    # La variable 'resultado' almacena el tipo de número dependiendo\n",
    "    # del resultado de la evaluación n % 2.\n",
    "    resultado = \"impar\" if n % 2 else \"par\"\n",
    "\n",
    "    # Se imprime el resultado\n",
    "    print(f\"{n} es {resultado}\")"
   ]
  },
  {
   "cell_type": "markdown",
   "id": "d389a32b-d356-4e07-8ac1-a1adbd2e9c8f",
   "metadata": {},
   "source": [
    "**Observaciones.**\n",
    "* Como acabas de observar, esta tercera versión es más compacta y es bastante clara. \n",
    "* Las características de Python que se resaltan en este ejemplo son:\n",
    "    * se puede obtener el mismo resultado de distintas formas,\n",
    "    * se dice que la opción más corta es más ***pythonica*** y en muchos casos la más eficiente.\n",
    "    * casi siempre existe una versión pythonica de cada código; para lograr implementar estas versiones cortas, es importante que aprendas a usar muchas de las herramientas que ofrece Python."
   ]
  },
  {
   "cell_type": "markdown",
   "id": "a9356006-4ae9-4b70-a065-01d902c4cb57",
   "metadata": {},
   "source": [
    "<div class=\"alert alert-block alert-success\">\n",
    "\n",
    "## Ejemplo 12. Ciclos anidados.\n",
    "\n",
    "Escribir un código con dos ciclos `for` anidados que generen una salida como la que se muestra más a continuación:\n",
    "\n",
    "```\n",
    "NI =  3\n",
    "NJ =  6\n",
    "(1,1) (1,2) (1,3) (1,4) (1,5) (1,6) \n",
    "(2,1) (2,2) (2,3) (2,4) (2,5) (2,6) \n",
    "(3,1) (3,2) (3,3) (3,4) (3,5) (3,6) \n",
    "```\n",
    "\n",
    "El usuario debe ingresar los valores de `NI` y de `NJ`.\n",
    "\n",
    "</div>"
   ]
  },
  {
   "cell_type": "code",
   "execution_count": null,
   "id": "fdac3a4f-1d93-46de-ae56-934412235f86",
   "metadata": {},
   "outputs": [],
   "source": [
    "NI = int(input(\"NI = \"))\n",
    "NJ = int(input(\"NJ = \"))    \n",
    "\n",
    "for i in range(1, NI+1):\n",
    "    for j in range(1, NJ+1):\n",
    "        print(\"({:1d},{:1d})\".format(i, j), end = ' ')\n",
    "    print()"
   ]
  },
  {
   "cell_type": "markdown",
   "id": "2ad5375c-1a10-430e-a269-11e181191c24",
   "metadata": {},
   "source": [
    "<div class=\"alert alert-block alert-success\">\n",
    "\n",
    "## Ejemplo 13. Clave de usuario.\n",
    "\n",
    "Implementar un código que solicite una clave y revise que es correcta. El algoritmo debe ser como sigue:\n",
    "* Solicitar que se ingrese la clave.\n",
    "* Si la clave es igual a la cadena `qwerty` se imprime `¡Clave correcta!` y termina el proceso exitósamente.\n",
    "* En otro caso, se le da otra oportunidad al usuario y se indica cuántos intentos lleva.\n",
    "* El proceso termina cuando el usuario realizó tres intentos fallidos.\n",
    "</div>"
   ]
  },
  {
   "cell_type": "code",
   "execution_count": null,
   "id": "d0e4acd3-ab63-4a1f-970b-474b58eb3842",
   "metadata": {},
   "outputs": [],
   "source": [
    "intentos = 0\n",
    "\n",
    "while intentos < 3:\n",
    "    clave = input(\"Clave:\")\n",
    "    \n",
    "    if clave == \"qwerty\": # Esta es la clave correcta\n",
    "        print(\"¡Clave correcta!\")\n",
    "        break\n",
    "        \n",
    "    intentos += 1\n",
    "    print(\"Intento número: {:2} \\n \".format(intentos))\n",
    "    \n",
    "else:\n",
    "    print(\"Tuviste {:2} intentos fallidos.\".format(intentos))"
   ]
  },
  {
   "cell_type": "markdown",
   "id": "c937b1ee-9936-4904-822e-d91d35231f34",
   "metadata": {},
   "source": [
    "<div class=\"alert alert-block alert-success\">\n",
    "\n",
    "## Ejemplo 14. Los números de Fibonacci.\n",
    "\n",
    "Los números de Fibonacci, denotados con $F_n$ forman una secuencia tal que cada número es la suma de dos números precedentes e inicia con el 0 y el 1. Matemáticamente se escribe como: \n",
    "\n",
    "$$\n",
    "\\begin{eqnarray}\n",
    "F_0 & = & 0 \\\\\n",
    "F_1 & = & 1 \\\\\n",
    "F_n & = & F_{n − 1} + F_{n − 2} \\;\\;\\; \\text{para} \\; n > 1.\n",
    "\\end{eqnarray}\n",
    "$$\n",
    "La secuencia es entonces: 0 , 1 , 1 , 2 , 3 , 5 , 8 , 13 , 21 , 34 , 55 , 89 , 144 , $\\ldots$\n",
    "\n",
    "Vamos a calcular esta secuencia usando la instrucción `while`.\n",
    "\n",
    "</div>"
   ]
  },
  {
   "cell_type": "markdown",
   "id": "b9f5120d-18db-424a-8a57-3d263330fd21",
   "metadata": {},
   "source": [
    "**Versión 1.**"
   ]
  },
  {
   "cell_type": "code",
   "execution_count": null,
   "id": "5da2d9db-8cdd-45de-b03f-58ceac981d01",
   "metadata": {},
   "outputs": [],
   "source": [
    "# Definimos los dos primeros números de la serie\n",
    "a = 0 \n",
    "b = 1\n",
    "\n",
    "while a < 1000:   # Mientras 'a' sea menor que 1000:\n",
    "    print(a, end=', ') # Imprimimos 'a' \n",
    "    c = a         # Salvamos el valor de 'a' en la variable 'c' para usuarlo posteriormente\n",
    "    a = b         # Actualizamos la variable 'a'\n",
    "    b = c + b     # Calculamos el siguiente número de la serie"
   ]
  },
  {
   "cell_type": "markdown",
   "id": "81ccb0cb-ddbf-4fdb-8011-54767367c069",
   "metadata": {},
   "source": [
    "**Versión 2.** (*pythonica*)"
   ]
  },
  {
   "cell_type": "code",
   "execution_count": null,
   "id": "e96958fe-581c-4260-9d60-c1aab9aebd91",
   "metadata": {},
   "outputs": [],
   "source": [
    "# Definimos los primeros dos elementos de la serie en solo paso\n",
    "a, b = 0, 1 \n",
    "\n",
    "while a < 1000:          # Mientras 'a' sea menor que 1000:\n",
    "    print(a, end=', ')   # Imprimimos 'a', usamos la opción \"end=', '\" \n",
    "    a, b = b, a+b        # Actualizamos 'a', calculamos el siguiente elemento y lo almacenamos en 'b'"
   ]
  },
  {
   "cell_type": "markdown",
   "id": "eb2ff32c-96fb-467d-af72-b78d4a2de3d4",
   "metadata": {},
   "source": [
    "<div class=\"alert alert-block alert-success\">\n",
    "\n",
    "## Ejemplo 15. Números primos.\n",
    "\n",
    "Determinar los número primos en el rango $[2, N]$ usando el siguiente algoritmo:\n",
    "\n",
    "1. Dado que $n = 2$ es primo, lo marcamos como tal.\n",
    "2. Incrementamos $n$ en $1$. Si $n < N$ continuamos, en otro caso terminanos.\n",
    "3. Si $n$ es múltiplo de algún número menor a él entonces se marca como NO primo. En otro caso se marca como primo.\n",
    "4. Regresamos al paso 2.\n",
    "\n",
    "El código se implementa como sigue:\n",
    "</div>"
   ]
  },
  {
   "cell_type": "code",
   "execution_count": null,
   "id": "bca1f30d-9720-412b-89f7-68cccb603f43",
   "metadata": {},
   "outputs": [],
   "source": [
    "N = 20\n",
    "\n",
    "# Primer ciclo for para recorrer el rango (2,N)\n",
    "for n in range(2, N):\n",
    "    \n",
    "    # Segundo ciclo para revisar los números menores a 'n'\n",
    "    for p in range(2, n):\n",
    "        \n",
    "        if not(n % p): # Checamos si 'n' es múltiplo de 'p'\n",
    "            print(f\"{n} NO es primo, es múltiplo de {p}, \")\n",
    "            break      # Se rompe el ciclo cuando 'n' es múltiplo de 'p' \n",
    "            \n",
    "        print(f\"{n} no es múltiplo de {p}\") # Se imprime que aún no hay múltiplos\n",
    "        \n",
    "    else:\n",
    "        print(n, 'SI es un número primo') # Se determinó que 'n' es primo"
   ]
  },
  {
   "cell_type": "code",
   "execution_count": null,
   "id": "539e3658-2232-4ee0-ac2a-b404eefd5cf1",
   "metadata": {},
   "outputs": [],
   "source": []
  }
 ],
 "metadata": {
  "kernelspec": {
   "display_name": "Python 3 (ipykernel)",
   "language": "python",
   "name": "python3"
  },
  "language_info": {
   "codemirror_mode": {
    "name": "ipython",
    "version": 3
   },
   "file_extension": ".py",
   "mimetype": "text/x-python",
   "name": "python",
   "nbconvert_exporter": "python",
   "pygments_lexer": "ipython3",
   "version": "3.11.6"
  }
 },
 "nbformat": 4,
 "nbformat_minor": 5
}
