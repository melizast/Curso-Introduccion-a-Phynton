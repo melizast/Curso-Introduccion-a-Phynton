{
 "cells": [
  {
   "cell_type": "markdown",
   "id": "ddefe640-05d3-4963-8734-c5245ddd4106",
   "metadata": {
    "nbgrader": {
     "grade": false,
     "grade_id": "cell-3abaf91cbfb9feb7",
     "locked": true,
     "schema_version": 3,
     "solution": false,
     "task": false
    }
   },
   "source": [
    "# Introducción a Python\n",
    "\n",
    " <p xmlns:cc=\"http://creativecommons.org/ns#\" xmlns:dct=\"http://purl.org/dc/terms/\"><a property=\"dct:title\" rel=\"cc:attributionURL\" href=\"https://github.com/repomacti/introduccion_python\">Introducción a Python</a> by <a rel=\"cc:attributionURL dct:creator\" property=\"cc:attributionName\" href=\"https://gmc.geofisica.unam.mx/luiggi\">Luis Miguel de la Cruz Salas</a> is licensed under <a href=\"https://creativecommons.org/licenses/by-sa/4.0/?ref=chooser-v1\" target=\"_blank\" rel=\"license noopener noreferrer\" style=\"display:inline-block;\">CC BY-SA 4.0<img style=\"height:22px!important;margin-left:3px;vertical-align:text-bottom;\" src=\"https://mirrors.creativecommons.org/presskit/icons/cc.svg?ref=chooser-v1\" alt=\"\"><img style=\"height:22px!important;margin-left:3px;vertical-align:text-bottom;\" src=\"https://mirrors.creativecommons.org/presskit/icons/by.svg?ref=chooser-v1\" alt=\"\"><img style=\"height:22px!important;margin-left:3px;vertical-align:text-bottom;\" src=\"https://mirrors.creativecommons.org/presskit/icons/sa.svg?ref=chooser-v1\" alt=\"\"></a></p> "
   ]
  },
  {
   "cell_type": "markdown",
   "id": "db762d7b-6f0b-4079-b87e-610a5fab73c1",
   "metadata": {
    "nbgrader": {
     "grade": false,
     "grade_id": "cell-4c0f091c1c2fa284",
     "locked": true,
     "schema_version": 3,
     "solution": false,
     "task": false
    }
   },
   "source": [
    "## Breve introducción.\n",
    "\n",
    "La programación es el arte de escribir instrucciones precisas para decirle a una computadora lo que deseas que haga por ti.\n",
    "\n",
    "Cuando escribes buenas instrucciones, puedes lograr mucho en poco tiempo, por ejemplo:\n",
    "* Automatizar tareas repetitivas.\n",
    "*  Analizar cantidades grandes de datos.\n",
    "* Construir, evaluar y mejorar modelos matemáticos para representar procesos cotidianos y/o fenómenos naturales.\n",
    "* Generar aplicaciones de utilidad.\n",
    "\n",
    "\n",
    "<div class=\"alert alert-block alert-info\">\n",
    "\n",
    "**Recomendaciones para aprender un nuevo lenguaje.**\n",
    "\n",
    "* Escribe los códigos y ejecútalos sin miedo al éxito.\n",
    "* Los errores son inevitables, tómate tu tiempo para entenderlos y corregirlos.\n",
    "* Practica mucho, realiza todos los ejercicios que te vamos a proporcionar y busca algunos otros en la Internet.\n",
    "* Utiliza eficazmente herramientas de IA (chatbots, ChatGPT, GitHub copilot, etc.)\n",
    "\n",
    "</div>"
   ]
  },
  {
   "cell_type": "markdown",
   "id": "f606d3dc-88f0-42ad-ab85-83225a283bc0",
   "metadata": {
    "nbgrader": {
     "grade": false,
     "grade_id": "cell-615e55db5b37fbd2",
     "locked": true,
     "schema_version": 3,
     "solution": false,
     "task": false
    }
   },
   "source": [
    "## Manipulación de información.\n",
    "\n",
    "La información que vemos cotidianamente está organizada en diferentes tipos y formatos:\n",
    "\n",
    "* Texto.\n",
    "* Números.\n",
    "* Hojas de cálculo.\n",
    "* Imágenes.\n",
    "* Audio.\n",
    "* etc.\n",
    "\n",
    "Pero casi toda esta información está compuesta de texto y números (ASCII o binario).\n",
    "\n",
    "En los ejemplos siguientes veremos como definir, manipular y almacenar números y textos."
   ]
  },
  {
   "cell_type": "markdown",
   "id": "7ab846df-c673-4abc-b5a4-2022a1fbbec5",
   "metadata": {
    "nbgrader": {
     "grade": false,
     "grade_id": "cell-86bbc9ed0a498753",
     "locked": true,
     "schema_version": 3,
     "solution": false,
     "task": false
    }
   },
   "source": [
    "<div class=\"alert alert-block alert-success\">\n",
    "\n",
    "## Ejemplo 1. Índice de masa corporal.\n",
    "\n",
    "El índice de masa corporal (IMC) asocia la masa (peso) con la talla de una persona. La fórmula para medir el IMC nació gracias al matemático, astrónomo y estadístico belga [Lambert Adolphe Quetelet](https://en.wikipedia.org/wiki/Adolphe_Quetelet) en 1832 y se define como sigue:\n",
    "\n",
    "$$\n",
    "\\text{IMC} = \\dfrac{\\text{peso [kg]}}{(\\text{estatura [m])}^2}\n",
    "$$\n",
    "\n",
    "</div>"
   ]
  },
  {
   "cell_type": "markdown",
   "id": "e021527e-cf06-4cf4-96a2-3e45f4e4fa15",
   "metadata": {
    "nbgrader": {
     "grade": false,
     "grade_id": "cell-be53e45aea804b4d",
     "locked": true,
     "schema_version": 3,
     "solution": false,
     "task": false
    }
   },
   "source": [
    "Definamos una variable para almacenar el peso de una persona:"
   ]
  },
  {
   "cell_type": "code",
   "execution_count": null,
   "id": "851130ed-79f7-4e0c-b6be-3360d0093e6b",
   "metadata": {},
   "outputs": [],
   "source": [
    "peso = 87.7"
   ]
  },
  {
   "cell_type": "markdown",
   "id": "6807a36b-a019-44ac-b9d2-721dbe573fa4",
   "metadata": {
    "nbgrader": {
     "grade": false,
     "grade_id": "cell-01cc648650919289",
     "locked": true,
     "schema_version": 3,
     "solution": false,
     "task": false
    }
   },
   "source": [
    "Usemos la **función incorporada** [(*Built-in functions*)](https://docs.python.org/3/library/functions.html) `print()` para conocer el **contenido** de la variable:"
   ]
  },
  {
   "cell_type": "code",
   "execution_count": null,
   "id": "2d459383-2494-4963-be1f-ae6df24cbd8d",
   "metadata": {},
   "outputs": [],
   "source": [
    "print(peso)"
   ]
  },
  {
   "cell_type": "code",
   "execution_count": null,
   "id": "592bf7a8-407f-4e4f-9e52-383d9f9e2b31",
   "metadata": {},
   "outputs": [],
   "source": [
    "help(print)"
   ]
  },
  {
   "cell_type": "markdown",
   "id": "ac9fcc17-2583-4f30-a0c7-fc5017813f6d",
   "metadata": {
    "nbgrader": {
     "grade": false,
     "grade_id": "cell-81a32458d1b0e6df",
     "locked": true,
     "schema_version": 3,
     "solution": false,
     "task": false
    }
   },
   "source": [
    "Usemos la función incorporada `type()` para conocer el **tipo** de la variable:"
   ]
  },
  {
   "cell_type": "code",
   "execution_count": null,
   "id": "85a12f5e-f891-4053-ab4d-9ee61949c1c8",
   "metadata": {},
   "outputs": [],
   "source": [
    "type(peso)"
   ]
  },
  {
   "cell_type": "markdown",
   "id": "508d05b3-c77e-49ce-9515-c7962e2c6178",
   "metadata": {},
   "source": [
    "Usemos la función incorporada `id()` para conocer la \"**dirección en memoria**\" de la variable: "
   ]
  },
  {
   "cell_type": "code",
   "execution_count": null,
   "id": "6a98d50b-2dc1-4320-b48f-76621bd4fffb",
   "metadata": {},
   "outputs": [],
   "source": [
    "id(peso)"
   ]
  },
  {
   "cell_type": "markdown",
   "id": "b7ab468e-e1a0-402b-80d7-9da9eb541b50",
   "metadata": {},
   "source": [
    "Hagamos lo mismo para almacenar la información de la estatura de una persona:"
   ]
  },
  {
   "cell_type": "code",
   "execution_count": null,
   "id": "23923de6-8b26-4c9a-aa65-af345f43afd2",
   "metadata": {},
   "outputs": [],
   "source": [
    "estatura = 1.78"
   ]
  },
  {
   "cell_type": "code",
   "execution_count": null,
   "id": "e0aafb03-cf91-4022-a1cb-83d2426cc444",
   "metadata": {},
   "outputs": [],
   "source": [
    "print(estatura)\n",
    "type(estatura)\n",
    "id(estatura)"
   ]
  },
  {
   "cell_type": "code",
   "execution_count": null,
   "id": "363217c8-4049-4a5f-9b33-1fc18494b0eb",
   "metadata": {},
   "outputs": [],
   "source": [
    "print(estatura)\n",
    "print(type(estatura))\n",
    "print(id(estatura))"
   ]
  },
  {
   "cell_type": "markdown",
   "id": "d6bfe368-0dce-4638-a5ff-5951927bb3f7",
   "metadata": {},
   "source": [
    "\n",
    "Este tipo de funciones anidadas o composición de funciones es muy común en Python. Observa la siguiente figura:\n",
    "\n",
    "<img src=\"../figuras/funciones_objetos_python.png\" width=600px>\n"
   ]
  },
  {
   "cell_type": "markdown",
   "id": "fed5a989-27d1-4699-a220-b2614c39c6b2",
   "metadata": {},
   "source": [
    "Cada función incorporada puede recibir diferentes tipos de argumentos, por ejemplo:"
   ]
  },
  {
   "cell_type": "code",
   "execution_count": null,
   "id": "11e180a3-4f66-4cb4-8780-31a407c7863d",
   "metadata": {},
   "outputs": [],
   "source": [
    "print(\"Peso =\", peso)\n",
    "print(\"Estatura =\", estatura)"
   ]
  },
  {
   "cell_type": "code",
   "execution_count": null,
   "id": "38c842ca-5d38-4c33-8cc3-cb28d978de34",
   "metadata": {},
   "outputs": [],
   "source": [
    "# Agregamos las unidades\n",
    "print(\"Peso =\", peso, \"[kg]\")\n",
    "print(\"Estatura =\", estatura, \"[m]\")"
   ]
  },
  {
   "cell_type": "markdown",
   "id": "b151c0d9-ed15-46ec-9bcb-d550263de1a9",
   "metadata": {},
   "source": [
    "$$\n",
    "\\text{IMC} = \\dfrac{\\text{peso [kg]}}{(\\text{estatura [m])}^2}\n",
    "$$"
   ]
  },
  {
   "cell_type": "code",
   "execution_count": null,
   "id": "a29124e2-307a-4e61-a196-74c5ad361f07",
   "metadata": {},
   "outputs": [],
   "source": [
    "# Calcular el IMC\n",
    "IMC = peso / estatura**2"
   ]
  },
  {
   "cell_type": "code",
   "execution_count": null,
   "id": "88168f22-9581-4989-a2bb-350e26676427",
   "metadata": {},
   "outputs": [],
   "source": [
    "print(\"IMC =\", IMC)\n",
    "print(type(IMC))\n",
    "print(id(IMC))"
   ]
  },
  {
   "cell_type": "markdown",
   "id": "62c3c3a8-17a1-4754-b071-4a56b2b85db4",
   "metadata": {},
   "source": [
    "Definamos ahora variables para la edad, el nombre y el estado civil:"
   ]
  },
  {
   "cell_type": "code",
   "execution_count": null,
   "id": "1a58437a-0df0-444b-840b-1a3d8bfbe63a",
   "metadata": {},
   "outputs": [],
   "source": [
    "edad = 30\n",
    "nombre = \"Gabriel García Márquez\"\n",
    "casado = True"
   ]
  },
  {
   "cell_type": "code",
   "execution_count": null,
   "id": "44ac9128-2aa4-4eca-b014-2d9c83c2daa2",
   "metadata": {},
   "outputs": [],
   "source": [
    "print(\"Edad =\", edad)\n",
    "print(\"Nombre =\", nombre)\n",
    "print(\"Casado =\", casado)"
   ]
  },
  {
   "cell_type": "code",
   "execution_count": null,
   "id": "baab563d-8ea6-4a09-bbb9-6ed6c501a5b6",
   "metadata": {},
   "outputs": [],
   "source": [
    "print(type(edad))\n",
    "print(type(nombre))\n",
    "print(type(casado))"
   ]
  },
  {
   "cell_type": "markdown",
   "id": "21148eeb-d3c7-4ba6-a066-4150c2231231",
   "metadata": {},
   "source": [
    "En la siguiente celda escribimos el **contenido** de todas las variables definidas hasta el momento:"
   ]
  },
  {
   "cell_type": "code",
   "execution_count": null,
   "id": "c940b07e-b355-4b09-a615-dea07c9fea5e",
   "metadata": {},
   "outputs": [],
   "source": [
    "print(\"Nombre =\", nombre)\n",
    "print(\"Edad =\", edad)\n",
    "print(\"Casado =\", casado)\n",
    "print(\"Peso =\", peso, \"[kg]\")\n",
    "print(\"Estatura =\", estatura, \"[m]\")\n",
    "print(\"IMC =\", IMC)"
   ]
  },
  {
   "cell_type": "markdown",
   "id": "f8419892-bd30-4520-8e9b-1b14b4d43423",
   "metadata": {},
   "source": [
    "En la siguiente celda escribimos el **tipo** de todas las variables definidas hasta el momento:"
   ]
  },
  {
   "cell_type": "code",
   "execution_count": null,
   "id": "e98ca7f2-4f09-494c-88ca-a39925a7b21e",
   "metadata": {},
   "outputs": [],
   "source": [
    "print(\"Nombre :\", type(nombre))\n",
    "print(\"Edad :\", type(edad))\n",
    "print(\"Casado :\", type(casado))\n",
    "print(\"Peso :\", type(peso))\n",
    "print(\"Estatura :\", type(estatura))\n",
    "print(\"IMC :\", type(IMC))"
   ]
  },
  {
   "cell_type": "markdown",
   "id": "4bb22fe7-af29-4ba9-9e5c-1efdf1f2149f",
   "metadata": {},
   "source": [
    "En la siguiente celda escribimos la **dirección en memoria** de todas las variables definidas hasta el momento:"
   ]
  },
  {
   "cell_type": "code",
   "execution_count": null,
   "id": "bc0a7b5e-4228-4d26-a2ab-abdf070619ce",
   "metadata": {},
   "outputs": [],
   "source": [
    "print(\"Nombre :\", id(nombre))\n",
    "print(\"Edad :\", id(edad))\n",
    "print(\"Casado :\", id(casado))\n",
    "print(\"Peso :\", id(peso))\n",
    "print(\"Estatura :\", id(estatura))\n",
    "print(\"IMC :\", id(IMC))"
   ]
  },
  {
   "cell_type": "markdown",
   "id": "00dc52aa-a351-4f1e-ae46-0cdbf923ce51",
   "metadata": {},
   "source": [
    "Esquema que muestra el nombre, el valor, el tipo y el id de las variables.\n",
    "\n",
    "|Nombre| | Valor o Contenido | Tipo | id en memoria |\n",
    "|--:|--|:--|:-:|:-:|\n",
    "|`nombre` |$\\rightarrow$| `Gabriel García Márquez` | `str`| 140025532357120|\n",
    "|`edad` |$\\rightarrow$| `30` | `int` | 94056345448264|\n",
    "|`casado` |$\\rightarrow$| `True` | `bool` | 94056345445600|\n",
    "|`peso` |$\\rightarrow$| `87.7` | `float`| 140025566841296|\n",
    "|`estatura` |$\\rightarrow$| `1.78` | `float` | 140025566854608|\n",
    "|`IMC` |$\\rightarrow$| `27.67958591086984` | `float` | 140025567541328|\n"
   ]
  },
  {
   "cell_type": "markdown",
   "id": "ce334710-38b9-4634-8cd6-58dff81aafc5",
   "metadata": {},
   "source": [
    "<div class=\"alert alert-block alert-success\">\n",
    "\n",
    "## Ejemplo 2. Conjunto de Mandelbrot.\n",
    "\n",
    "<img src=\"https://upload.wikimedia.org/wikipedia/commons/2/24/Mandelbrot0.jpg\" width=\"200\"/>\n",
    "\n",
    "<a href=\"https://commons.wikimedia.org/wiki/File:Mandelbrot0.jpg\">Romero Schmidtke</a>, <a href=\"http://creativecommons.org/licenses/by-sa/3.0/\">CC BY-SA 3.0</a>, via Wikimedia Commons\n",
    "\n",
    "Tomemos un punto de partida $c$ en el plano complejo. Luego usamos la ecuación de recurrencia cuadrática\n",
    "\n",
    "$$\n",
    "\\begin{cases}\n",
    "z_0 & = 0 \\in \\mathbb{C} \\\\\n",
    "z_{n+1} & = z_{n}^2 + c\n",
    "\\end{cases}\n",
    "$$\n",
    "\n",
    "para obtener una secuencia de números complejos $z_n$ con $n=0, 1, 2,\\dots$. Si esta sucesión queda acotada, entonces se dice que c pertenece al conjunto de Mandelbrot, y si no, queda excluido.\n",
    "\n",
    "**Ejemplo:**\n",
    "\n",
    "$$\n",
    "\\begin{eqnarray}\n",
    "c & = & i \\\\\n",
    "z_0 & = & 0 \\\\\n",
    "z_1 & = & z_0^2 + c = i \\\\\n",
    "z_2 & = & z_1^2 + c = i^2+i=−1+i \\\\\n",
    "z_3 & = & z_2^2 + c = (−1+i)^2+i=−2i+i=−i \\\\\n",
    "z_4 & = & z_3^2 + c = (−i)^2+i=−1+i \\\\\n",
    "z_5 & = & z_4^2 + c = (−1+i)^2+i=−i\n",
    "\\end{eqnarray}\n",
    "$$\n",
    "\n",
    "**Nota**: Para definir un número complejo en Python hacemos lo siguiente:\n",
    "\n",
    "```python\n",
    "complejo = 12 + 5j # La parte imaginaria lleva una j al final\n",
    "```\n",
    "\n",
    "</div>"
   ]
  },
  {
   "cell_type": "code",
   "execution_count": null,
   "id": "42ea2e42-8737-465a-bcc9-17057013fecb",
   "metadata": {},
   "outputs": [],
   "source": [
    "complejo = 12 + 5j\n",
    "print(complejo, type(complejo))"
   ]
  },
  {
   "cell_type": "code",
   "execution_count": null,
   "id": "4053d4ca-dfa6-406e-8dbd-b69851712287",
   "metadata": {},
   "outputs": [],
   "source": [
    "# Implementamos la ecuación de recurrencia cuadrática\n",
    "c = 1.0j\n",
    "z0 = 0\n",
    "z1 = z0**2 + c\n",
    "z2 = z1**2 + c\n",
    "z3 = z2**2 + c\n",
    "z4 = z3**2 + c\n",
    "z5 = z4**2 + c\n",
    "\n",
    "print(z0, z1, z2, z3, z4, z5)"
   ]
  },
  {
   "cell_type": "markdown",
   "id": "dc90401e-ff6c-47c9-9021-5e7cf68cf527",
   "metadata": {},
   "source": [
    "¿Cuál es el tipo de las variables $z_n$ para $n = 0, \\dots 5$ ?"
   ]
  },
  {
   "cell_type": "code",
   "execution_count": null,
   "id": "1f9dce52-f4a5-4787-874e-dbad3492b597",
   "metadata": {},
   "outputs": [],
   "source": [
    "print(type(z0), type(z1), type(z2), type(z3), type(z4), type(z5), sep=\"\\n\")"
   ]
  },
  {
   "cell_type": "markdown",
   "id": "f5c43354-3022-4642-b235-0ed4a88bf02c",
   "metadata": {},
   "source": [
    "¿Cuál es el `id` de las variables $z_n$ para $n = 0, \\dots 5$ ?"
   ]
  },
  {
   "cell_type": "code",
   "execution_count": null,
   "id": "72fdb3a8-4583-4237-959c-334f8f681d0c",
   "metadata": {},
   "outputs": [],
   "source": [
    "print(id(z0), id(z1), id(z2), id(z3), id(z4), id(z5), sep=\"\\n\")"
   ]
  },
  {
   "cell_type": "markdown",
   "id": "e4a16877-ee65-4af1-9de3-df01dcd058bf",
   "metadata": {},
   "source": [
    "<div class=\"alert alert-block alert-success\">\n",
    "\n",
    "## Ejemplo 3. Cálculo del interés compuesto.\n",
    "\n",
    "Es aquel que se va sumando al capital inicial y sobre el que se van generando nuevos intereses. El dinero, en este caso, tiene un efecto multiplicador porque los intereses producen nuevos intereses. La fórmula para calcular el interés compuesto es la siguiente:\n",
    "\n",
    "$$\n",
    "A = P (1 + \\dfrac{r}{n})^{nt}\n",
    "$$\n",
    "\n",
    "donde:\n",
    "\n",
    "* $A$ = cantidad final\n",
    "* $P$ = capital inicial\n",
    "* $r$ = tasa de interés\n",
    "* $n$ = número de veces que se ha aplicado el interés por periodo\n",
    "* $t$ = número de periodos transcurridos\n",
    "\n",
    "</div>\n",
    "\n",
    "Vamos a calcular el interés compuesto con los siguientes datos:\n",
    "\n",
    "* $t = 2$,\n",
    "* $n = 12$,\n",
    "* $P = 250,000$ y\n",
    "* $r = 0.18$.\n"
   ]
  },
  {
   "cell_type": "code",
   "execution_count": null,
   "id": "49d82496-9a7e-4425-bbb2-ea78ce5a93de",
   "metadata": {},
   "outputs": [],
   "source": [
    "t = 2\n",
    "n = 12\n",
    "P = 250_000\n",
    "r = 0.18"
   ]
  },
  {
   "cell_type": "code",
   "execution_count": null,
   "id": "b852c4eb-c32c-428f-8433-a5297a00b81f",
   "metadata": {},
   "outputs": [],
   "source": [
    "print(t, type(t), id(t))\n",
    "print(n, type(n), id(n))\n",
    "print(P, type(P), id(P))\n",
    "print(r, type(r), id(r))"
   ]
  },
  {
   "cell_type": "markdown",
   "id": "a4b25a9d-12de-4916-9b7d-d4d542eed615",
   "metadata": {},
   "source": [
    "Ahora implementamos la fórmula del interés compuesto: $A = P (1 + \\dfrac{r}{n})^{nt}$"
   ]
  },
  {
   "cell_type": "code",
   "execution_count": null,
   "id": "5d12d333-0bbc-40c5-b0fb-0c8c4a99f512",
   "metadata": {},
   "outputs": [],
   "source": [
    "A = P *( 1 + r / n) ** (n * t)"
   ]
  },
  {
   "cell_type": "code",
   "execution_count": null,
   "id": "15153780-553e-498e-9763-03e63d492f6d",
   "metadata": {},
   "outputs": [],
   "source": [
    "print(\"Cantidad final A = \", A)"
   ]
  },
  {
   "cell_type": "markdown",
   "id": "c258ce22-4ac9-4234-b72a-f52b084b5190",
   "metadata": {},
   "source": [
    "<div class=\"alert alert-block alert-info\">\n",
    "\n",
    "## Objetos y tipado dinámico.\n",
    "\n",
    "Python es un lenguaje Orientado a Objetos.\n",
    "\n",
    "* Todo lo que definimos será un objeto de una clase determinada.\n",
    "* Python tiene definidas clases de las cuales es posible construir objetos.\n",
    "* Una clase define atributos y métodos para los objetos.\n",
    "\n",
    "</div>\n",
    "\n",
    "Veamos algunos ejemplos:"
   ]
  },
  {
   "cell_type": "code",
   "execution_count": null,
   "id": "11687571-b1cc-4f40-906f-f48e516ca7d1",
   "metadata": {},
   "outputs": [],
   "source": [
    "# Definimos el objeto '1' y le damos el nombre 'a'\n",
    "a = 1\n",
    "print(a, type(a), id(a))"
   ]
  },
  {
   "cell_type": "markdown",
   "id": "33123380-61cb-4b37-92a4-5ba89ec88953",
   "metadata": {},
   "source": [
    "Observa que el contenido del objeto `a` es `1` y el tipo es `int`."
   ]
  },
  {
   "cell_type": "code",
   "execution_count": null,
   "id": "2f1c49b0-1bae-42a2-b749-42bc0ca862ba",
   "metadata": {},
   "outputs": [],
   "source": [
    "# Ahora hagamos lo siguiente\n",
    "b = a\n",
    "print(a, type(a), id(a))\n",
    "print(b, type(b), id(b))"
   ]
  },
  {
   "cell_type": "markdown",
   "id": "04a49d9d-d6a7-4284-b559-603015fa51f2",
   "metadata": {},
   "source": [
    "Los objetos `a` y `b` son en realidad el mismo objeto!\n",
    "\n",
    "Los operadores `is` y `not` también pueden ayudar a saber cuando dos objetos son el mismo:"
   ]
  },
  {
   "cell_type": "code",
   "execution_count": null,
   "id": "879112a0-a289-4bf3-b846-ad25b96619f6",
   "metadata": {},
   "outputs": [],
   "source": [
    "b is a"
   ]
  },
  {
   "cell_type": "code",
   "execution_count": null,
   "id": "668ede28-97e8-40f1-ac7c-ca608538f664",
   "metadata": {},
   "outputs": [],
   "source": [
    "b is not a"
   ]
  },
  {
   "cell_type": "code",
   "execution_count": null,
   "id": "326c312e-9a0e-481d-9bb6-8c4a89e5f2e5",
   "metadata": {},
   "outputs": [],
   "source": [
    "# ¿Qué sucederá ahora?\n",
    "b = 5.0"
   ]
  },
  {
   "cell_type": "code",
   "execution_count": null,
   "id": "09b6332c-2b6e-4bf3-8b3c-ad5c6dfe086a",
   "metadata": {},
   "outputs": [],
   "source": [
    "print(a, type(a), id(a))\n",
    "print(b, type(b), id(b))"
   ]
  },
  {
   "cell_type": "markdown",
   "id": "1205b47f-97da-4e6f-aea0-2f152bad556a",
   "metadata": {},
   "source": [
    "Los objetos `a` y `b` son diferentes!\n",
    "\n",
    "También los tipos de `a` y `b` son diferentes. También podemos usar la función incorporada `isinstance()` para comprobar de qué tipo son las variables:"
   ]
  },
  {
   "cell_type": "code",
   "execution_count": null,
   "id": "9ea268ba-8e9e-41ef-9ab4-f909fdca3f18",
   "metadata": {},
   "outputs": [],
   "source": [
    "isinstance(b, int)"
   ]
  },
  {
   "cell_type": "code",
   "execution_count": null,
   "id": "643dd0a7-8a40-4025-937c-0a072a5f0f38",
   "metadata": {},
   "outputs": [],
   "source": [
    "isinstance(b, float)"
   ]
  },
  {
   "cell_type": "code",
   "execution_count": null,
   "id": "0b000f6f-21f4-4749-b663-fcb25759d18e",
   "metadata": {},
   "outputs": [],
   "source": [
    "# ¿y ahora?\n",
    "b = 3 + 5j"
   ]
  },
  {
   "cell_type": "code",
   "execution_count": null,
   "id": "601f32d9-6e6d-4062-80ef-603a8a46727f",
   "metadata": {},
   "outputs": [],
   "source": [
    "print(a, type(a), id(a))\n",
    "print(b, type(b), id(b))"
   ]
  },
  {
   "cell_type": "code",
   "execution_count": null,
   "id": "04c9128a-d5d9-4ec5-a48b-9793698e9d0a",
   "metadata": {},
   "outputs": [],
   "source": [
    "b = \"nuevo objeto\""
   ]
  },
  {
   "cell_type": "code",
   "execution_count": null,
   "id": "53b6666f-da05-44ee-8b32-c65e71454fc4",
   "metadata": {},
   "outputs": [],
   "source": [
    "print(a, type(a), id(a))\n",
    "print(b, type(b), id(b))"
   ]
  },
  {
   "cell_type": "markdown",
   "id": "dd97e255-1c38-4741-acb7-c3c3bb793235",
   "metadata": {},
   "source": [
    "Como puedes observar, el tipo de `b` cambia dependiendo de su contenido, esto es lo que se conoce como **tipado dinámico**."
   ]
  },
  {
   "cell_type": "markdown",
   "id": "12d824e1-a58b-4070-9292-a1d8a0dff63d",
   "metadata": {},
   "source": [
    "Tres nombres para un mismo objeto: "
   ]
  },
  {
   "cell_type": "code",
   "execution_count": null,
   "id": "b9e93bce-bfd8-4f68-8e0d-2487ab08e832",
   "metadata": {},
   "outputs": [],
   "source": [
    "c = b = a = 3.1416\n",
    "print(a, type(a), id(a))\n",
    "print(b, type(b), id(b))\n",
    "print(c, type(c), id(c))"
   ]
  },
  {
   "cell_type": "code",
   "execution_count": null,
   "id": "8b1b1d8c-92a1-4825-9951-a20cde803907",
   "metadata": {},
   "outputs": [],
   "source": [
    "del(b)"
   ]
  },
  {
   "cell_type": "code",
   "execution_count": null,
   "id": "ee9629d4-7be9-4f41-a2f6-55f180293cbd",
   "metadata": {},
   "outputs": [],
   "source": [
    "print(b, type(b), id(b))"
   ]
  },
  {
   "cell_type": "code",
   "execution_count": null,
   "id": "75b6c17d-15ec-472f-82ca-89befdda92e8",
   "metadata": {},
   "outputs": [],
   "source": [
    "print(a, type(a), id(a))\n",
    "print(c, type(c), id(c))"
   ]
  },
  {
   "cell_type": "markdown",
   "id": "3169f26a-3675-4e56-87c5-3d7835dae1ba",
   "metadata": {},
   "source": [
    "Definición de tres objetos distintos:"
   ]
  },
  {
   "cell_type": "code",
   "execution_count": null,
   "id": "18fdc8e8-f05b-4ecb-9377-b88be2389424",
   "metadata": {},
   "outputs": [],
   "source": [
    "x, y, z = \"la x\", 3.1416, 5"
   ]
  },
  {
   "cell_type": "code",
   "execution_count": null,
   "id": "e668c99f-2dcc-42e9-a79b-4a368a14011b",
   "metadata": {},
   "outputs": [],
   "source": [
    "print(x, type(x), id(x))\n",
    "print(y, type(y), id(y))\n",
    "print(z, type(z), id(z))"
   ]
  },
  {
   "cell_type": "markdown",
   "id": "0c42a7a9-4115-4a96-9ff9-b6cf767e4ef6",
   "metadata": {},
   "source": [
    "Intercambio de valores entre objetos (swap):"
   ]
  },
  {
   "cell_type": "code",
   "execution_count": null,
   "id": "04aefdc3-98f0-49d4-a49c-4d4a91f1acac",
   "metadata": {},
   "outputs": [],
   "source": [
    "a = 1\n",
    "b = 2\n",
    "print(\"a = \", a, \", id = \", id(a))\n",
    "print(\"b = \", b, \", id = \", id(b))"
   ]
  },
  {
   "cell_type": "code",
   "execution_count": null,
   "id": "bebe0bd1-c5c5-4300-9365-5eff2d8aad29",
   "metadata": {},
   "outputs": [],
   "source": [
    "temp = a\n",
    "a = b\n",
    "b = temp\n",
    "print(\"a = \", a, \", id = \", id(a))\n",
    "print(\"b = \", b, \", id = \", id(b))"
   ]
  },
  {
   "cell_type": "code",
   "execution_count": null,
   "id": "2308aef7-4ddc-40ef-9b81-27dc4aa54e08",
   "metadata": {},
   "outputs": [],
   "source": [
    "a, b = b, a\n",
    "print(\"a = \", a, \", id = \", id(a))\n",
    "print(\"b = \", b, \", id = \", id(b))"
   ]
  },
  {
   "cell_type": "markdown",
   "id": "6e3c34d5-4dfd-4ac8-9b43-c364f09dc686",
   "metadata": {},
   "source": [
    "### Atributos y métodos."
   ]
  },
  {
   "cell_type": "code",
   "execution_count": null,
   "id": "397c7ad4-1c61-4206-8cff-4c9538af49e4",
   "metadata": {},
   "outputs": [],
   "source": [
    "entero = 1\n",
    "real = 1.1\n",
    "complejo = 1 + 2j"
   ]
  },
  {
   "cell_type": "code",
   "execution_count": null,
   "id": "db3cb4dd-77d4-4443-90da-10c6dfd108bd",
   "metadata": {},
   "outputs": [],
   "source": [
    "entero.as_integer_ratio()"
   ]
  },
  {
   "cell_type": "code",
   "execution_count": null,
   "id": "01b0e234-1661-4a8c-87e8-605ff9d1d7c4",
   "metadata": {},
   "outputs": [],
   "source": [
    "real.as_integer_ratio()"
   ]
  },
  {
   "cell_type": "code",
   "execution_count": null,
   "id": "3596b1a8-039d-4a1a-9b98-0f1d18484c3d",
   "metadata": {},
   "outputs": [],
   "source": [
    "complejo.real"
   ]
  },
  {
   "cell_type": "markdown",
   "id": "f142d2e2-9769-425e-a3e0-42fade8fa3b6",
   "metadata": {},
   "source": [
    "### Interacción entre objetos."
   ]
  },
  {
   "cell_type": "markdown",
   "id": "0baa5837-f5f1-4fb5-928a-bf4cb55a226a",
   "metadata": {},
   "source": [
    "<img src=\"../figuras/objetos_python.png\" width=600px>\n"
   ]
  },
  {
   "cell_type": "code",
   "execution_count": null,
   "id": "9af510bb-46d7-4c9c-9d99-370f8ce86df8",
   "metadata": {},
   "outputs": [],
   "source": [
    "ratio = entero.as_integer_ratio()\n",
    "print(ratio, type(ratio))"
   ]
  },
  {
   "cell_type": "code",
   "execution_count": null,
   "id": "45a398d1-1004-4f15-a08b-fcc9aac5aaee",
   "metadata": {},
   "outputs": [],
   "source": [
    "ratio.count(1)"
   ]
  },
  {
   "cell_type": "code",
   "execution_count": null,
   "id": "89e54a03-4726-44fa-8a2b-86bc250a0f34",
   "metadata": {},
   "outputs": [],
   "source": [
    "entero.as_integer_ratio().count(1)"
   ]
  },
  {
   "cell_type": "code",
   "execution_count": null,
   "id": "1809b4d7-8376-4b14-841d-b9bb4467d7e6",
   "metadata": {},
   "outputs": [],
   "source": []
  }
 ],
 "metadata": {
  "kernelspec": {
   "display_name": "Python 3 (ipykernel)",
   "language": "python",
   "name": "python3"
  },
  "language_info": {
   "codemirror_mode": {
    "name": "ipython",
    "version": 3
   },
   "file_extension": ".py",
   "mimetype": "text/x-python",
   "name": "python",
   "nbconvert_exporter": "python",
   "pygments_lexer": "ipython3",
   "version": "3.11.6"
  }
 },
 "nbformat": 4,
 "nbformat_minor": 5
}
