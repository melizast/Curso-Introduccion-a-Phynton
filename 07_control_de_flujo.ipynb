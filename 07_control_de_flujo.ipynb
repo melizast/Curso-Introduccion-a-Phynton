{
 "cells": [
  {
   "cell_type": "markdown",
   "metadata": {},
   "source": [
    "# Control de flujo.\n",
    "\n",
    "**Objetivo.**\n",
    "Revisar las declaraciones para control de flujo de un código y mostrar ejemplos de su uso.\n",
    "\n",
    " <p xmlns:cc=\"http://creativecommons.org/ns#\" xmlns:dct=\"http://purl.org/dc/terms/\"><a property=\"dct:title\" rel=\"cc:attributionURL\" href=\"https://github.com/repomacti/introduccion_python\">Introducción a Python</a> by <a rel=\"cc:attributionURL dct:creator\" property=\"cc:attributionName\" href=\"https://gmc.geofisica.unam.mx/luiggi\">Luis Miguel de la Cruz Salas</a> is licensed under <a href=\"https://creativecommons.org/licenses/by-sa/4.0/?ref=chooser-v1\" target=\"_blank\" rel=\"license noopener noreferrer\" style=\"display:inline-block;\">CC BY-SA 4.0<img style=\"height:22px!important;margin-left:3px;vertical-align:text-bottom;\" src=\"https://mirrors.creativecommons.org/presskit/icons/cc.svg?ref=chooser-v1\" alt=\"\"><img style=\"height:22px!important;margin-left:3px;vertical-align:text-bottom;\" src=\"https://mirrors.creativecommons.org/presskit/icons/by.svg?ref=chooser-v1\" alt=\"\"><img style=\"height:22px!important;margin-left:3px;vertical-align:text-bottom;\" src=\"https://mirrors.creativecommons.org/presskit/icons/sa.svg?ref=chooser-v1\" alt=\"\"></a></p> "
   ]
  },
  {
   "cell_type": "markdown",
   "metadata": {},
   "source": [
    "En Python existen declaraciones que permiten controlar el flujo de un programa para realizar acciones complejas. Entre estas declaraciones tenemos las siguientes:\n",
    "\n",
    "* `while`\n",
    "* `for`\n",
    "* `if`\n",
    "* `match`\n",
    "\n",
    "Junto con estas declaraciones generalmente se utilizan las siguientes operaciones lógicas cuyo resultado puede ser `True` o `False`:\n",
    "\n",
    "| Python | Significado |\n",
    "|---|---|\n",
    "| `a == b` | ¿son iguales `a` y `b`? | \n",
    "| `a != b` | ¿son diferentes `a` y `b`? |\n",
    "| `a < b` |  ¿`a` es menor que `b`?:\n",
    "| `a <= b` | ¿`a` es menor o igual que `b`? |\n",
    "| `a > b` | ¿`a` es mayor que `b`? | \n",
    "| `a >= b` | ¿`a` es mayor o igual que `b`? |\n",
    "| **`not`** `A` | El inverso de la expresión `A` |\n",
    "| `A` **`and`** `B` | ¿La expresión `A` y la expresión `B` son verdaderas? |\n",
    "| `A` **`or`** `B`| ¿La expresión `A` o la expresión `B` es verdadera?:\n"
   ]
  },
  {
   "cell_type": "markdown",
   "metadata": {},
   "source": [
    "# `while`\n",
    "\n",
    "Se utiliza para repetir un conjunto de instrucciones mientras una expresión sea verdadera:\n",
    "\n",
    "```python\n",
    "while expresión:\n",
    "    código ...\n",
    "```\n",
    "\n",
    "<div class=\"alert alert-block alert-success\">\n",
    "\n",
    "## Ejemplo 1. \n",
    "\n",
    "Imprimir el valor de una variable `a` que inicia en `0` y que se va incrementando en `1` hasta que se cumple que `a < 5`.\n",
    "\n",
    "</div>"
   ]
  },
  {
   "cell_type": "code",
   "execution_count": 1,
   "metadata": {},
   "outputs": [
    {
     "name": "stdout",
     "output_type": "stream",
     "text": [
      "Antes del while: a = 0, ¿a < 5? = True\n",
      "a = 1, ¿a < 5? = True\n",
      "a = 2, ¿a < 5? = True\n",
      "a = 3, ¿a < 5? = True\n",
      "a = 4, ¿a < 5? = True\n",
      "a = 5, ¿a < 5? = False\n",
      "Finaliza while\n"
     ]
    }
   ],
   "source": [
    "# Inicializamos a en 0\n",
    "a = 0 \n",
    "\n",
    "# Vemos las condiciones antes del ciclo while\n",
    "print(\"Antes del while: a = {}, ¿a < 5? = {}\".format(a, a < 5)) \n",
    "\n",
    "while a < 5: # Mientras 'a' sea menor que 5 realiza lo siguiente:\n",
    "    a += 1   # Incrementamos el valor de 'a' en 1\n",
    "    print(\"a = {}, ¿a < 5? = {}\".format(a, a < 5)) # Revisamos las condiciones\n",
    "    \n",
    "print('Finaliza while')  # Instrucción fuera del bloque while"
   ]
  },
  {
   "cell_type": "markdown",
   "metadata": {},
   "source": [
    "\n",
    "**Observaciones**.\n",
    "\n",
    "* En el código anterior, las dos líneas de código que están abajo del `while` se repiten 5 veces.\n",
    "* Esta repetición se termina cuando la expresión `a < 5` ya no es verdadera.\n",
    "* Observa que dentro del ciclo se encuentra la instrucción `a += 1` que va incrementando el valor de `a` en cada iteración.\n",
    "* También hay una instrucción para imprimir el resultado de cada iteración.\n",
    "\n",
    "# Reglas de la sangría\n",
    "* Como puedes observar en el ejemplo 1, el código debajo de la instrucción `while` tiene una sangría (*indentation*): las líneas de código están recorridas hacia la derecha. Este espacio en blanco debe ser al menos de uno, pero pueden ser más.\n",
    "* Por omisión, en JupyterLab (y algunos otros editores), se usan 4 espacios en blanco para cada línea de código dentro del bloque.\n",
    "* El número de espacios en blanco se debe mantener durante todo el bloque de código.\n",
    "* Cuando termina la sangría, es decir cuando las líneas de código ya no tienen ningún espacio en blanco al inicio, se cierra el bloque de código, en este caso el `while`.\n",
    "* Las reglas de la sangría son iguales en otras declaraciones como `for`, `if ... elif ... else`, `match`, entre otras.\n",
    "* El uso de una sangría para organizar los bloques de código hace que los programas en Python sean más claros."
   ]
  },
  {
   "cell_type": "markdown",
   "metadata": {},
   "source": [
    "<div class=\"alert alert-block alert-success\">\n",
    "\n",
    "## Ejemplo 2. \n",
    "\n",
    "En los siguientes ejemplos de `while` el código dentro del bloque está alineado correctamente.\n",
    "</div>"
   ]
  },
  {
   "cell_type": "code",
   "execution_count": 1,
   "metadata": {},
   "outputs": [
    {
     "name": "stdout",
     "output_type": "stream",
     "text": [
      "a = 0\n",
      "a = 1\n",
      "a = 2\n",
      "a = 3\n",
      "a = 4\n"
     ]
    }
   ],
   "source": [
    "a = 0\n",
    "while a < 5: \n",
    " print(\"a =\",a)\n",
    " a += 1"
   ]
  },
  {
   "cell_type": "code",
   "execution_count": 2,
   "metadata": {},
   "outputs": [
    {
     "name": "stdout",
     "output_type": "stream",
     "text": [
      "a = 0\n",
      "a = 1\n",
      "a = 2\n",
      "a = 3\n",
      "a = 4\n"
     ]
    }
   ],
   "source": [
    "a = 0\n",
    "while a < 5: \n",
    "        print(\"a =\",a)\n",
    "        a += 1"
   ]
  },
  {
   "cell_type": "markdown",
   "metadata": {},
   "source": [
    "<div class=\"alert alert-block alert-success\">\n",
    "\n",
    "## Ejemplo 3. \n",
    "\n",
    "En los siguientes ejemplos de `while` la líneas de código del bloque están incorrectamente alineadas, de tal manera que al ejecutarlos obtendrás un error como el siguiente: \n",
    "\n",
    "`IndentationError: unexpected indent` \n",
    "\n",
    "y te indicará el lugar donde la alineación no es correcta.\n",
    "\n",
    "</div>"
   ]
  },
  {
   "cell_type": "code",
   "execution_count": 3,
   "metadata": {},
   "outputs": [
    {
     "ename": "IndentationError",
     "evalue": "unexpected indent (471769080.py, line 4)",
     "output_type": "error",
     "traceback": [
      "\u001b[0;36m  Cell \u001b[0;32mIn[3], line 4\u001b[0;36m\u001b[0m\n\u001b[0;31m    a += 1\u001b[0m\n\u001b[0m    ^\u001b[0m\n\u001b[0;31mIndentationError\u001b[0m\u001b[0;31m:\u001b[0m unexpected indent\n"
     ]
    }
   ],
   "source": [
    "a = 0\n",
    "while a < 5: \n",
    " print(\"a =\",a)\n",
    "   a += 1"
   ]
  },
  {
   "cell_type": "code",
   "execution_count": 4,
   "metadata": {},
   "outputs": [
    {
     "ename": "IndentationError",
     "evalue": "expected an indented block after 'while' statement on line 2 (978787136.py, line 3)",
     "output_type": "error",
     "traceback": [
      "\u001b[0;36m  Cell \u001b[0;32mIn[4], line 3\u001b[0;36m\u001b[0m\n\u001b[0;31m    print(a)\u001b[0m\n\u001b[0m    ^\u001b[0m\n\u001b[0;31mIndentationError\u001b[0m\u001b[0;31m:\u001b[0m expected an indented block after 'while' statement on line 2\n"
     ]
    }
   ],
   "source": [
    "a = 0\n",
    "while a < 5: \n",
    "print(a)\n",
    "a += 1"
   ]
  },
  {
   "cell_type": "markdown",
   "metadata": {},
   "source": [
    "# `for`\n",
    "\n",
    "* Esta declaración permite iterar sobre el contenido de cualquier secuencia.\n",
    "* Las secuencias son objetos que contienen varios elementos, un ejemplo es una cadena que contiene caracteres.\n",
    "* En Python se tienen varios tipos de secencias como listas, tuplas, conjuntos, diccionarios, archivos, entre otros. Más adelante describiremos estas secuencias. \n",
    "\n",
    "El `for` se declara como sigue:\n",
    "\n",
    "```python\n",
    "for i in secuencia:\n",
    "    codigo ...\n",
    "```\n",
    "\n",
    "Las reglas de la sangría que se deben seguir son las mismas que las descrita para la instrucción `while`.\n",
    "\n",
    "Veamos un ejemplo simple:"
   ]
  },
  {
   "cell_type": "code",
   "execution_count": 7,
   "metadata": {},
   "outputs": [
    {
     "name": "stdout",
     "output_type": "stream",
     "text": [
      "E-l- -o-b-j-e-t-i-v-o- -d-e- -u-n- -v-i-a-j-e- -e-s- -s-ó-l-o- -e-l- -i-n-i-c-i-o- -d-e- -o-t-r-o- -v-i-a-j-e-"
     ]
    }
   ],
   "source": [
    "# Definimos una cadena\n",
    "cadena = \"El objetivo de un viaje es sólo el inicio de otro viaje\"\n",
    "\n",
    "# Recorremos cada elemento de la 'cadena' y los imprimimos separados \n",
    "# por un guion usando un ciclo 'for':\n",
    "for c in cadena:\n",
    "    print(c, end=\"-\")"
   ]
  },
  {
   "cell_type": "markdown",
   "metadata": {},
   "source": [
    "* El ciclo `for` recorre la secuencia, que en este caso es un `str` almacenado en la variable `cadena`;\n",
    "* La variable `c` va tomando cada elemento de `cadena` (en este caso, cada caracter).\n",
    "* La única instrucción que se tiene en el bloque de código es imprimir cada caracter; se usa la opción `end=\"-\"` para separar cada caracter con un guion.\n",
    "* Observa que los espacios se consideran también elementos de la cadena. "
   ]
  },
  {
   "cell_type": "markdown",
   "metadata": {},
   "source": [
    "## Función range\n",
    "\n",
    "Una secuencia que es muy usada en conjunto con el ciclo `for` es la que se genera con la función `range()`. Esta función genera una secuencia iterable con un inicio, un final y un salto:\n",
    "\n",
    "```python\n",
    "range(start, stop, step)\n",
    "```\n",
    "\n",
    "La secuencia iniciará en `start` y terminará en `stop-1` en pasos de `step`. "
   ]
  },
  {
   "cell_type": "markdown",
   "metadata": {},
   "source": [
    "<div class=\"alert alert-block alert-success\">\n",
    "\n",
    "## Ejemplo 4. \n",
    "\n",
    "Usando un ciclo `for` y secuencias `range()`:\n",
    "\n",
    "1. Imprime los números del 1 al 20 .\n",
    "2. Imprime los número impares del 1 al 19.\n",
    "3. Imprime la secuencia de números: `20, 19, ..., 1`.\n",
    "4. Imprime la secuencia de números: `-5, -3, -1, 1, 3,`\n",
    "</div>"
   ]
  },
  {
   "cell_type": "code",
   "execution_count": 4,
   "metadata": {},
   "outputs": [
    {
     "name": "stdout",
     "output_type": "stream",
     "text": [
      "1, 2, 3, 4, 5, 6, 7, 8, 9, 10, 11, 12, 13, 14, 15, 16, 17, 18, 19, 20, "
     ]
    }
   ],
   "source": [
    "# 1.\n",
    "for i in range(1, 21): # Por omisión step = 1\n",
    "    print(i, end= ', ')"
   ]
  },
  {
   "cell_type": "markdown",
   "metadata": {},
   "source": [
    "Observa que en el ejemplo anterior no se imprime el `21`."
   ]
  },
  {
   "cell_type": "code",
   "execution_count": 5,
   "metadata": {},
   "outputs": [
    {
     "name": "stdout",
     "output_type": "stream",
     "text": [
      "1, 3, 5, 7, 9, 11, 13, 15, 17, 19, "
     ]
    }
   ],
   "source": [
    "# 2.\n",
    "for i in range(1, 21, 2): # saltos de dos en dos\n",
    "    print(i, end= ', ')"
   ]
  },
  {
   "cell_type": "code",
   "execution_count": 6,
   "metadata": {},
   "outputs": [
    {
     "name": "stdout",
     "output_type": "stream",
     "text": [
      "20, 19, 18, 17, 16, 15, 14, 13, 12, 11, 10, 9, 8, 7, 6, 5, 4, 3, 2, 1, "
     ]
    }
   ],
   "source": [
    "# 3.\n",
    "for i in range(20, 0, -1): # El paso puede ser negativo\n",
    "    print(i, end= ', ')"
   ]
  },
  {
   "cell_type": "markdown",
   "metadata": {},
   "source": [
    "Observa que en el ejemplo anterior no se imprime el `0`."
   ]
  },
  {
   "cell_type": "code",
   "execution_count": 7,
   "metadata": {},
   "outputs": [
    {
     "name": "stdout",
     "output_type": "stream",
     "text": [
      "-5, -3, -1, 1, 3, "
     ]
    }
   ],
   "source": [
    "# 4.\n",
    "for i in range(-5,5,2):  # El rango puede comenzar en valores negativos \n",
    "    print(i, end= ', ')"
   ]
  },
  {
   "cell_type": "markdown",
   "metadata": {},
   "source": [
    "Observa que en el ejemplo anterior no se imprime el `5`."
   ]
  },
  {
   "cell_type": "markdown",
   "metadata": {},
   "source": [
    "# `if`, `elif`, `else`\n",
    "\n",
    "Esta declaración permite ejecutar bloques de código dependiendo del resultado de una o varias expresiones lógicas. La estructura es como sigue:\n",
    "\n",
    "```python\n",
    "if expresion1:\n",
    "    codigo1 \n",
    "    ...\n",
    "elif expresion2:\n",
    "    codigo2 \n",
    "    ...\n",
    "elif expresion3:\n",
    "    codigo3 \n",
    "    ...\n",
    "else:\n",
    "    codigo4\n",
    "    ...\n",
    "```\n",
    "\n",
    "* Si la `expresion1` es verdadera, entonces se ejecuta el `codigo1`.\n",
    "* En otro caso se evalúan las siguientes expresiones y dependiendo de cuál es verdadera se ejecuta el código correspondiente.\n",
    "* Cuando ninguna de las expresiones es verdadera, entonces se ejecuta el código de la sección `else`, es decir el `codigo4`.\n",
    "\n",
    "Observa que se siguen las mismas reglas de sangría que en el `while`. \n",
    "\n",
    "Veamos un ejemplo:"
   ]
  },
  {
   "cell_type": "code",
   "execution_count": 7,
   "metadata": {},
   "outputs": [
    {
     "name": "stdout",
     "output_type": "stream",
     "text": [
      "a es mayor que b\n"
     ]
    }
   ],
   "source": [
    "a = 30\n",
    "b = 10\n",
    "if a < b:\n",
    "    print('a es menor que b')\n",
    "elif a > b:\n",
    "    print('a es mayor que b')\n",
    "else:\n",
    "    print('a es igual a b')"
   ]
  },
  {
   "cell_type": "markdown",
   "metadata": {},
   "source": [
    "* Usando los valores originales `a = 30` y `b = 10` obtenemos el resultado `a es mayor que b`.\n",
    "* Ahora modifica los valores a los siguientes `a = 10` y `b = 30` y verifica que el resultado es `a es menor que b`.\n",
    "* Finalmente usa los valores `a = 10` y `b = 10` y verifica que el resultado sea correcto.\n",
    "\n",
    "Las expresiones pueden ser más elaboradas:"
   ]
  },
  {
   "cell_type": "code",
   "execution_count": 13,
   "metadata": {},
   "outputs": [
    {
     "name": "stdout",
     "output_type": "stream",
     "text": [
      "a = 30, b = 10\n",
      "¿a < b? = False, ¿a > b? = True\n"
     ]
    }
   ],
   "source": [
    "a = 30\n",
    "b = 10\n",
    "print(f'a = {a}, b = {b}')\n",
    "\n",
    "if (a < b) or (a > b):\n",
    "    print(f'¿a < b? = {a < b}, ¿a > b? = {a > b}')\n",
    "else:\n",
    "    print(\"a y b son iguales\")"
   ]
  },
  {
   "cell_type": "markdown",
   "metadata": {},
   "source": [
    "Cambia los valores de `a` y `b` de manera similar que en la celda anterior y observa el resultado."
   ]
  },
  {
   "cell_type": "markdown",
   "metadata": {},
   "source": [
    "<div class=\"alert alert-block alert-success\">\n",
    "\n",
    "## Ejemplo 5. \n",
    "\n",
    "Implementa un código que imprima los número **impares** en el rango `(-N, N)`, donde `N` es un valor entero positivo que es ingresado por el usuario.\n",
    "</div>"
   ]
  },
  {
   "cell_type": "code",
   "execution_count": 1,
   "metadata": {},
   "outputs": [
    {
     "name": "stdin",
     "output_type": "stream",
     "text": [
      "N = 6\n"
     ]
    },
    {
     "name": "stdout",
     "output_type": "stream",
     "text": [
      "-5, -3, -1, 1, 3, 5, "
     ]
    }
   ],
   "source": [
    "# Se obtiene el valor de N\n",
    "N = int(input(\"N =\"))\n",
    "\n",
    "# Se recorre el rango de números\n",
    "for n in range(-N, N+1, 1):\n",
    "    if n % 2: # Se cumple cuando la operación módulo genera un residuo diferente de cero (n = impar)\n",
    "        print(n, end = \", \")"
   ]
  },
  {
   "cell_type": "markdown",
   "metadata": {},
   "source": [
    "# Sangría en varios bloques de código\n",
    "En el ejemplo anterior, observa que se están *anidando* dos bloques de código:\n",
    "* El ciclo `for n in range(-N, N+1, 1):` contiene la instrucción `if n % 2:` dentro de su bloque de código y tiene 4 espacios a la izquierda para indicar que es parte del ciclo `for`.\n",
    "* El condicional `if n % 2:` contiene una llamada a la función `print()` dentro de su bloque de código que tiene 8 espacios a la izquierda para indicar que es parte del `if`.\n",
    "* Es necesario mantener alineadas las instrucciones que pertenecen a un bloque de código, de otra manera obtendrás resultados inesperados o incluso errores.\n",
    "* Se pueden anidar tantos bloques de código como se requieran, solo se debe de ser muy consistente para definir la terminación de cada bloque de código. Veamos el siguiente ejemplo:"
   ]
  },
  {
   "cell_type": "markdown",
   "metadata": {},
   "source": [
    "<div class=\"alert alert-block alert-success\">\n",
    "\n",
    "## Ejemplo 6. \n",
    "\n",
    "<font color=\"Black\">\n",
    "\n",
    "Considera el siguiente código:\n",
    "```python\n",
    "N = 5\n",
    "for n in range(-N, N+1, 1):\n",
    "    print(f\"\\nChecando el número {n} ...\")\n",
    "    np = abs(n)\n",
    "    if n % 2:\n",
    "        print(f\"{n} es impar\")\n",
    "        for i in range(-np, np+1):\n",
    "            print(f\"{i}\", end=\",\")\n",
    "    else:\n",
    "        print(f\"{n} es par\")\n",
    "        for i in range(-np, np+1):\n",
    "            print(f\"{i}\", end=\",\")\n",
    "    print(\"\\nTerminando el chequeo\")\n",
    "```\n",
    "<br>\n",
    "En el código anterior se tienen los siguientes bloques de código:\n",
    "\n",
    "1. Nivel cero sangría:\n",
    "\n",
    "```python\n",
    "N = 5\n",
    "for n in range(-N, N+1, 1): \n",
    "```\n",
    "2. Nivel uno: **4 espacios**, bloque del ciclo `for`\n",
    "```python\n",
    "    print(f\"\\nChecando el número {n} ...\")\n",
    "    np = abs(n)\n",
    "    if n % 2:\n",
    "        ...\n",
    "    else:\n",
    "        ...\n",
    "    print(\"\\nTerminando el chequeo\")\n",
    "```\n",
    "\n",
    "3. Nivel dos: **8 espacios**, bloque del condicional `if ... else ...`\n",
    "```python\n",
    "        print(f\"{n} es impar\")\n",
    "        for i in range(-np, np+1):\n",
    "        ...\n",
    "        print(f\"{n} es par\")\n",
    "        for i in range(-np, np+1):\n",
    "        ...\n",
    "```\n",
    "\n",
    "4. Nivel tres: **12 espacios**, bloques de dos ciclos `for`\n",
    "```python\n",
    "            print(f\"{i}\", end=\",\")\n",
    "            ...\n",
    "            print(f\"{i}\", end=\",\")\n",
    "```\n",
    "<br>\n",
    "En la siguiente celda escribimos el código anterior respetando todos los espacios y sangrías. Observa el resultado y trata de explicar lo que hace.\n",
    "\n",
    "</font>\n",
    "</div>"
   ]
  },
  {
   "cell_type": "code",
   "execution_count": 9,
   "metadata": {},
   "outputs": [
    {
     "name": "stdout",
     "output_type": "stream",
     "text": [
      "\n",
      "Checando el número -5 ...\n",
      "-5 es impar. En el rango (-5,5) tenemos:\n",
      "-5,-3,-1,1,3,5,\n",
      "Terminando el chequeo\n",
      "\n",
      "Checando el número -4 ...\n",
      "-4 es par. En el rango (-4,4) tenemos:\n",
      "-4,-2,0,2,4,\n",
      "Terminando el chequeo\n",
      "\n",
      "Checando el número -3 ...\n",
      "-3 es impar. En el rango (-3,3) tenemos:\n",
      "-3,-1,1,3,\n",
      "Terminando el chequeo\n",
      "\n",
      "Checando el número -2 ...\n",
      "-2 es par. En el rango (-2,2) tenemos:\n",
      "-2,0,2,\n",
      "Terminando el chequeo\n",
      "\n",
      "Checando el número -1 ...\n",
      "-1 es impar. En el rango (-1,1) tenemos:\n",
      "-1,1,\n",
      "Terminando el chequeo\n",
      "\n",
      "Checando el número 0 ...\n",
      "0 es par. En el rango (0,0) tenemos:\n",
      "0,\n",
      "Terminando el chequeo\n",
      "\n",
      "Checando el número 1 ...\n",
      "1 es impar. En el rango (-1,1) tenemos:\n",
      "-1,1,\n",
      "Terminando el chequeo\n",
      "\n",
      "Checando el número 2 ...\n",
      "2 es par. En el rango (-2,2) tenemos:\n",
      "-2,0,2,\n",
      "Terminando el chequeo\n",
      "\n",
      "Checando el número 3 ...\n",
      "3 es impar. En el rango (-3,3) tenemos:\n",
      "-3,-1,1,3,\n",
      "Terminando el chequeo\n",
      "\n",
      "Checando el número 4 ...\n",
      "4 es par. En el rango (-4,4) tenemos:\n",
      "-4,-2,0,2,4,\n",
      "Terminando el chequeo\n",
      "\n",
      "Checando el número 5 ...\n",
      "5 es impar. En el rango (-5,5) tenemos:\n",
      "-5,-3,-1,1,3,5,\n",
      "Terminando el chequeo\n"
     ]
    }
   ],
   "source": [
    "N = 5\n",
    "for n in range(-N, N+1, 1):\n",
    "    print(f\"\\nChecando el número {n} ...\")\n",
    "    np = abs(n)\n",
    "    if n % 2:\n",
    "        print(f\"{n} es impar. En el rango ({-np},{np}) tenemos:\")\n",
    "        for i in range(-np, np+1, 2):\n",
    "            print(f\"{i}\", end=\",\")\n",
    "    else:\n",
    "        print(f\"{n} es par. En el rango ({-np},{np}) tenemos:\")\n",
    "        for i in range(-np, np+1, 2):\n",
    "            print(f\"{i}\", end=\",\")\n",
    "    print(\"\\nTerminando el chequeo\")"
   ]
  },
  {
   "cell_type": "markdown",
   "metadata": {},
   "source": [
    "# Operador ternario\n",
    "\n",
    "Este operador permite evaluar una expresión lógica y generar un valor para un resultado `True` y otro diferente para un resultado `False`; todo esto se logra en una sola línea de código como sigue:\n",
    "\n",
    "```python\n",
    "resultado = valor1 if expresion else valor2\n",
    "```\n",
    "\n",
    "En est ejemplo la variable `resultado` tendrá el valor `valor1` si la `expresion` es verdadera o el `valor2` si la expresión es falsa."
   ]
  },
  {
   "cell_type": "code",
   "execution_count": 11,
   "metadata": {},
   "outputs": [
    {
     "name": "stdout",
     "output_type": "stream",
     "text": [
      "c = 1\n",
      "¿c > 5? False\n",
      "r = 0\n"
     ]
    }
   ],
   "source": [
    "# Inicializamos c\n",
    "c = 1\n",
    "\n",
    "# Evaluamos ¿c > 5? y determinamos el valor de r\n",
    "r = c if c > 5 else 0\n",
    "\n",
    "# Se imprime el valor de c\n",
    "print(f\"c = {c}\") \n",
    "\n",
    "# Se imprime el resultado de la prueba: c < 5 (puede ser False o True)\n",
    "print(f\"¿c > 5? {c > 5}\")  \n",
    "\n",
    "# Se imprime el valor r (que depende del resultado de: c < 5)\n",
    "print(f\"r = {r}\") "
   ]
  },
  {
   "cell_type": "markdown",
   "metadata": {},
   "source": [
    "En la celda anterior modifica el valor de `c` a `6` y ve lo que sucede.\n",
    "\n",
    "Podemos probar para varios valores de `c` usando un ciclo `for` como se muestra a continuación:"
   ]
  },
  {
   "cell_type": "code",
   "execution_count": 12,
   "metadata": {},
   "outputs": [
    {
     "name": "stdout",
     "output_type": "stream",
     "text": [
      "c = 1, ¿c > 5? = False, r = 0\n",
      "c = 2, ¿c > 5? = False, r = 0\n",
      "c = 3, ¿c > 5? = False, r = 0\n",
      "c = 4, ¿c > 5? = False, r = 0\n",
      "c = 5, ¿c > 5? = False, r = 0\n",
      "c = 6, ¿c > 5? = True, r = 6\n",
      "c = 7, ¿c > 5? = True, r = 7\n",
      "c = 8, ¿c > 5? = True, r = 8\n",
      "c = 9, ¿c > 5? = True, r = 9\n"
     ]
    }
   ],
   "source": [
    "for c in range(1,10):\n",
    "    r = c if c > 5 else 0\n",
    "    print(f\"c = {c},\", f\"¿c > 5? = {c > 5},\", f\"r = {r}\")"
   ]
  },
  {
   "cell_type": "markdown",
   "metadata": {},
   "source": [
    "# break, continue, else, pass\n",
    "\n",
    "Estas son palabras clave que se pueden usar en ciclos `while` o `for`:\n",
    "* `break`: terminar el ciclo más interno.\n",
    "* `continue`: saltarse a la siguiente iteración sin terminar de ejecutar el código que sigue.\n",
    "* `else`: **NO** se ejecuta el código de esta cláusula si el ciclo es finalizado por el `break`. Si el ciclo no llega a la instrucción `break` entonces se ejecuta el código implementado dentro del `else`.\n",
    "* `pass`: no hacer nada y continuar.\n",
    "\n",
    "Veamos algunos ejemplos.\n",
    "\n",
    "## `break`"
   ]
  },
  {
   "cell_type": "code",
   "execution_count": 18,
   "metadata": {},
   "outputs": [
    {
     "name": "stdout",
     "output_type": "stream",
     "text": [
      "letra: H\n",
      "letra: o\n",
      "letra: l\n",
      "letra: a\n",
      "letra:  \n",
      "letra: m\n",
      "letra: u\n"
     ]
    }
   ],
   "source": [
    "# Recorremos una cadena\n",
    "for letra in \"Hola mundo Pythonico\":\n",
    "    print(f\"letra: {letra}\")\n",
    "    if letra == \"u\":   # Si la letra es la 'u'\n",
    "        break          # entonces se termina el ciclo"
   ]
  },
  {
   "cell_type": "markdown",
   "metadata": {},
   "source": [
    "Se puede agregar un `else` alineado con el `for`. El código dentro del `else` será ejecutado cuando no se alcanzó a ejecutar la condición `break`. \n",
    "\n",
    "En el ejemplo que sigue, prueba primero con la letra `u` y luego con `r`."
   ]
  },
  {
   "cell_type": "code",
   "execution_count": 20,
   "metadata": {},
   "outputs": [
    {
     "name": "stdin",
     "output_type": "stream",
     "text": [
      "Caracter a buscar:  r\n"
     ]
    },
    {
     "name": "stdout",
     "output_type": "stream",
     "text": [
      "letra: H\n",
      "letra: o\n",
      "letra: l\n",
      "letra: a\n",
      "letra:  \n",
      "letra: m\n",
      "letra: u\n",
      "letra: n\n",
      "letra: d\n",
      "letra: o\n",
      "letra:  \n",
      "letra: P\n",
      "letra: y\n",
      "letra: t\n",
      "letra: h\n",
      "letra: o\n",
      "letra: n\n",
      "letra: i\n",
      "letra: c\n",
      "letra: o\n",
      "No encontré la letra: 'r'\n"
     ]
    }
   ],
   "source": [
    "c = input(\"Caracter a buscar: \")\n",
    "\n",
    "for letra in \"Hola mundo Pythonico\":\n",
    "    print(f\"letra: {letra}\")\n",
    "    if letra == c:\n",
    "        print(f\"Letra '{c}' encontrada\")\n",
    "        break\n",
    "else: # Se ejecuta cuando el ciclo termina sin llegar al break\n",
    "    print(f\"No encontré la letra: '{c}'\")"
   ]
  },
  {
   "cell_type": "markdown",
   "metadata": {},
   "source": [
    "## `continue`\n",
    "\n",
    "Esta declaración indica al código que no termine las instrucciones que siguen en el ciclo y que se salte a la siguiente iteración.\n",
    "\n",
    "Por ejemplo, podemos imprimir cuándo un número es par como sigue:"
   ]
  },
  {
   "cell_type": "code",
   "execution_count": 22,
   "metadata": {},
   "outputs": [
    {
     "name": "stdout",
     "output_type": "stream",
     "text": [
      "Número par 0\n",
      "Número par 2\n",
      "Número par 4\n",
      "Número par 6\n",
      "Número par 8\n",
      "Número par 10\n"
     ]
    }
   ],
   "source": [
    "for n in range(0, 11):\n",
    "    if n % 2:  # Cuando n % 2 es diferente de cero, el número es impar\n",
    "        continue # no se hace nada, termina esta iteración y se pasa al siguiente número\n",
    "    print(f\"Número par {n}\") # Se ejecuta solo cuando el número es par"
   ]
  },
  {
   "cell_type": "markdown",
   "metadata": {},
   "source": [
    "## `pass`\n",
    "\n",
    "Esta declaración no hace nada. Se usa principalmente para cuestiones de desarrollo de código a un nivel abstracto. Por ejemplo si aún no tenemos claro que se va a realizar dentro de un ciclo o de una función, podemos simplemente poner esta declaración y dejar la implemetación para más adelante:"
   ]
  },
  {
   "cell_type": "code",
   "execution_count": 23,
   "metadata": {},
   "outputs": [
    {
     "name": "stdout",
     "output_type": "stream",
     "text": [
      "Aquí va el código del while\n"
     ]
    }
   ],
   "source": [
    "i = 0\n",
    "\n",
    "# Aún no sabemos el código que debemos implementar\n",
    "while i < 10:\n",
    "    print(\"Aquí va el código del while\")\n",
    "    i = 11 # Para que solo se haga una vez el ciclo\n",
    "    pass"
   ]
  },
  {
   "cell_type": "code",
   "execution_count": 24,
   "metadata": {},
   "outputs": [
    {
     "name": "stdout",
     "output_type": "stream",
     "text": [
      "Aquí va el código de la función: n = 100000\n"
     ]
    }
   ],
   "source": [
    "# La siguiente función debe calcular la secuencia de Fibonacci\n",
    "def fib(n):\n",
    "    print(\"Aquí va el código de la función: n = {}\".format(n))\n",
    "    pass\n",
    "\n",
    "# En este punto del programa requiero el uso de la función fib(n):\n",
    "fib(100000) # "
   ]
  },
  {
   "cell_type": "markdown",
   "metadata": {},
   "source": [
    "# `match` (desde la versión 3.10)\n",
    "\n",
    "Esta declaración es parte de Python a partir de la versión 3.10. Permite buscar coincidencias de patrones de una manera similar a la instrucción switch-case de otros lenguajes de programación (C/C++, Java).\n",
    "\n",
    "Veamos algunos ejemplos:"
   ]
  },
  {
   "cell_type": "code",
   "execution_count": 30,
   "metadata": {},
   "outputs": [
    {
     "name": "stdin",
     "output_type": "stream",
     "text": [
      "Teclea 1 o 0 por favor 1\n"
     ]
    },
    {
     "name": "stdout",
     "output_type": "stream",
     "text": [
      "Tecleaste el número entero uno\n"
     ]
    }
   ],
   "source": [
    "x = int(input(\"Teclea 1 o 0 por favor\"))\n",
    "\n",
    "match x:\n",
    "    case 0:\n",
    "        print(\"Tecleaste el número entero cero\")\n",
    "    case 1:\n",
    "        print(\"Tecleaste el número entero uno\")\n",
    "    case _:\n",
    "        print(\"Tecleaste algo diferente\")\n",
    "        "
   ]
  },
  {
   "cell_type": "code",
   "execution_count": 31,
   "metadata": {},
   "outputs": [
    {
     "name": "stdout",
     "output_type": "stream",
     "text": [
      "Origen (0, 0)\n"
     ]
    }
   ],
   "source": [
    "# Modifica los valores de la siguiente tupla y observa el resultado\n",
    "point = (0, 0)\n",
    "\n",
    "match point:\n",
    "    case (0, 0): # Cuando ambas coordenadas son 0\n",
    "        print(\"Origen {}\".format(point))\n",
    "    case (0, y): # Cuando x = 0\n",
    "        print(f\"Y={y}\")\n",
    "    case (x, 0): # Cuando y = 0\n",
    "        print(f\"X={x}\")\n",
    "    case (x, y): # Cuando ambas son distintas de cero\n",
    "        print(f\"X={x}, Y={y}\")\n",
    "    case _: # Cuando no es una tupla con dos elementos\n",
    "        raise ValueError(\"No es un punto en el plano XY\")"
   ]
  },
  {
   "cell_type": "code",
   "execution_count": 34,
   "metadata": {},
   "outputs": [
    {
     "name": "stdout",
     "output_type": "stream",
     "text": [
      "Número negativo\n"
     ]
    }
   ],
   "source": [
    "x = -1\n",
    "match x:\n",
    "    case x if x < 0:\n",
    "        print(\"Número negativo\")\n",
    "    case x if x == 0:\n",
    "        print(\"Cero\")\n",
    "    case x if x > 0:\n",
    "        print(\"Número positivo\")\n",
    "    case _:\n",
    "        print(\"Cero\")"
   ]
  },
  {
   "cell_type": "code",
   "execution_count": 35,
   "metadata": {},
   "outputs": [
    {
     "name": "stdout",
     "output_type": "stream",
     "text": [
      "400 Bad request\n"
     ]
    }
   ],
   "source": [
    "status = 400\n",
    "match status:\n",
    "    case 400:\n",
    "        print(f\"{status} Bad request\")\n",
    "    case 404:\n",
    "        print(f\"{status} Not found\")\n",
    "    case 418:\n",
    "        print(f\"{status} Soy una tetera\")\n",
    "    case _:\n",
    "        print(f\"{status} Algo anda mal con el internet\")"
   ]
  },
  {
   "cell_type": "markdown",
   "metadata": {},
   "source": [
    "Para más detalles véase [match Statements](https://docs.python.org/3/tutorial/controlflow.html#match-statements)."
   ]
  },
  {
   "cell_type": "code",
   "execution_count": null,
   "metadata": {},
   "outputs": [],
   "source": []
  }
 ],
 "metadata": {
  "kernelspec": {
   "display_name": "Python 3 (ipykernel)",
   "language": "python",
   "name": "python3"
  },
  "language_info": {
   "codemirror_mode": {
    "name": "ipython",
    "version": 3
   },
   "file_extension": ".py",
   "mimetype": "text/x-python",
   "name": "python",
   "nbconvert_exporter": "python",
   "pygments_lexer": "ipython3",
   "version": "3.11.6"
  }
 },
 "nbformat": 4,
 "nbformat_minor": 4
}
